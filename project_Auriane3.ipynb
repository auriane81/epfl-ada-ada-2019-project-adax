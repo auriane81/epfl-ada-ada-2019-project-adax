{
 "cells": [
  {
   "cell_type": "code",
   "execution_count": 1,
   "metadata": {},
   "outputs": [],
   "source": [
    "import pandas as pd\n",
    "import numpy as np\n",
    "import matplotlib.pyplot as plt\n",
    "import copy\n",
    "import pickle\n",
    "from sklearn.cluster import KMeans\n",
    "from sklearn.metrics import silhouette_score\n",
    "import networkx as nx\n",
    "import numpy as np\n",
    "import time\n",
    "from sklearn.decomposition import PCA\n",
    "from sklearn.datasets import load_digits\n",
    "from sklearn.feature_selection import SelectKBest, chi2"
   ]
  },
  {
   "cell_type": "markdown",
   "metadata": {},
   "source": [
    "## Creation of the matrix (just load, last line)"
   ]
  },
  {
   "cell_type": "code",
   "execution_count": 17,
   "metadata": {},
   "outputs": [],
   "source": [
    "# Load the user matrix\n",
    "f=open(\"user_matrix\",\"rb\")\n",
    "user_matrix = pickle.load(f)\n",
    "f.close()"
   ]
  },
  {
   "cell_type": "code",
   "execution_count": 2,
   "metadata": {},
   "outputs": [],
   "source": [
    "user_matrix = pd.read_pickle('matrix.p') #Load directly the matrix\n",
    "user_matrix = user_matrix[1:] #first row is empty"
   ]
  },
  {
   "cell_type": "code",
   "execution_count": 3,
   "metadata": {},
   "outputs": [],
   "source": [
    "user_matrix = np.array(user_matrix)"
   ]
  },
  {
   "cell_type": "markdown",
   "metadata": {},
   "source": [
    "## Clusters on healthiness scale"
   ]
  },
  {
   "cell_type": "markdown",
   "metadata": {},
   "source": [
    "**Select some aisles**"
   ]
  },
  {
   "cell_type": "code",
   "execution_count": 4,
   "metadata": {},
   "outputs": [
    {
     "name": "stdout",
     "output_type": "stream",
     "text": [
      "     aisle_id                          aisle\n",
      "0           1          prepared soups salads\n",
      "1           2              specialty cheeses\n",
      "2           3            energy granola bars\n",
      "3           4                  instant foods\n",
      "4           5     marinades meat preparation\n",
      "5           6                          other\n",
      "6           7                  packaged meat\n",
      "7           8                bakery desserts\n",
      "8           9                    pasta sauce\n",
      "9          10               kitchen supplies\n",
      "10         11               cold flu allergy\n",
      "11         12                    fresh pasta\n",
      "12         13                 prepared meals\n",
      "13         14         tofu meat alternatives\n",
      "14         15               packaged seafood\n",
      "15         16                    fresh herbs\n",
      "16         17             baking ingredients\n",
      "17         18   bulk dried fruits vegetables\n",
      "18         19                  oils vinegars\n",
      "19         20                   oral hygiene\n",
      "20         21                packaged cheese\n",
      "21         22                      hair care\n",
      "22         23                  popcorn jerky\n",
      "23         24                   fresh fruits\n",
      "24         25                           soap\n",
      "25         26                         coffee\n",
      "26         27                  beers coolers\n",
      "27         28                      red wines\n",
      "28         29          honeys syrups nectars\n",
      "29         30                   latino foods\n",
      "30         31                   refrigerated\n",
      "31         32               packaged produce\n",
      "32         33                   kosher foods\n",
      "33         34            frozen meat seafood\n",
      "34         35                poultry counter\n",
      "35         36                         butter\n",
      "36         37                  ice cream ice\n",
      "37         38                   frozen meals\n",
      "38         39                seafood counter\n",
      "39         40                  dog food care\n",
      "40         41                  cat food care\n",
      "41         42        frozen vegan vegetarian\n",
      "42         43                     buns rolls\n",
      "43         44                   eye ear care\n",
      "44         45                candy chocolate\n",
      "45         46                       mint gum\n",
      "46         47           vitamins supplements\n",
      "47         48        breakfast bars pastries\n",
      "48         49               packaged poultry\n",
      "49         50         fruit vegetable snacks\n",
      "50         51         preserved dips spreads\n",
      "51         52               frozen breakfast\n",
      "52         53                          cream\n",
      "53         54                    paper goods\n",
      "54         55                    shave needs\n",
      "55         56                  diapers wipes\n",
      "56         57                        granola\n",
      "57         58           frozen breads doughs\n",
      "58         59             canned meals beans\n",
      "59         60              trash bags liners\n",
      "60         61                  cookies cakes\n",
      "61         62                    white wines\n",
      "62         63        grains rice dried goods\n",
      "63         64           energy sports drinks\n",
      "64         65      protein meal replacements\n",
      "65         66                    asian foods\n",
      "66         67           fresh dips tapenades\n",
      "67         68   bulk grains rice dried goods\n",
      "68         69            soup broth bouillon\n",
      "69         70                      digestion\n",
      "70         71  refrigerated pudding desserts\n",
      "71         72                     condiments\n",
      "72         73                    facial care\n",
      "73         74                dish detergents\n",
      "74         75                        laundry\n",
      "75         76                   indian foods\n",
      "76         77                    soft drinks\n",
      "77         78                       crackers\n",
      "78         79                   frozen pizza\n",
      "79         80                     deodorants\n",
      "80         81       canned jarred vegetables\n",
      "81         82               baby accessories\n",
      "82         83               fresh vegetables\n",
      "83         84                           milk\n",
      "84         85                   food storage\n",
      "85         86                           eggs\n",
      "86         87                 more household\n",
      "87         88                        spreads\n",
      "88         89        salad dressing toppings\n",
      "89         90              cocoa drink mixes\n",
      "90         91                soy lactosefree\n",
      "91         92              baby food formula\n",
      "92         93               breakfast bakery\n",
      "93         94                            tea\n",
      "94         95            canned meat seafood\n",
      "95         96                     lunch meat\n",
      "96         97          baking supplies decor\n",
      "97         98                  juice nectars\n",
      "98         99        canned fruit applesauce\n",
      "99        100                        missing\n",
      "100       101         air fresheners candles\n",
      "101       102            baby bath body care\n",
      "102       103             ice cream toppings\n",
      "103       104              spices seasonings\n",
      "104       105     doughs gelatins bake mixes\n",
      "105       106         hot dogs bacon sausage\n",
      "106       107                 chips pretzels\n",
      "107       108           other creams cheeses\n",
      "108       109                      skin care\n",
      "109       110           pickled goods olives\n",
      "110       111     plates bowls cups flatware\n",
      "111       112                          bread\n",
      "112       113                   frozen juice\n",
      "113       114              cleaning products\n",
      "114       115  water seltzer sparkling water\n",
      "115       116                 frozen produce\n",
      "116       117         nuts seeds dried fruit\n",
      "117       118                      first aid\n",
      "118       119                 frozen dessert\n",
      "119       120                         yogurt\n",
      "120       121                         cereal\n",
      "121       122                   meat counter\n",
      "122       123     packaged vegetables fruits\n",
      "123       124                        spirits\n",
      "124       125            trail mix snack mix\n",
      "125       126                  feminine care\n",
      "126       127              body lotions soap\n",
      "127       128           tortillas flat bread\n",
      "128       129        frozen appetizers sides\n",
      "129       130       hot cereal pancake mixes\n",
      "130       131                      dry pasta\n",
      "131       132                         beauty\n",
      "132       133     muscles joints pain relief\n",
      "133       134     specialty wines champagnes\n"
     ]
    }
   ],
   "source": [
    "aisles = pd.read_csv('data/aisles.csv', sep=',')\n",
    "pd.set_option('display.max_rows', None) #show all the rows\n",
    "print(aisles)\n",
    "pd.set_option('display.max_rows', 20)"
   ]
  },
  {
   "cell_type": "code",
   "execution_count": 5,
   "metadata": {},
   "outputs": [
    {
     "name": "stdout",
     "output_type": "stream",
     "text": [
      "     aisle_id                       aisle\n",
      "3           4               instant foods\n",
      "12         13              prepared meals\n",
      "15         16                 fresh herbs\n",
      "16         17          baking ingredients\n",
      "23         24                fresh fruits\n",
      "37         38                frozen meals\n",
      "44         45             candy chocolate\n",
      "49         50      fruit vegetable snacks\n",
      "60         61               cookies cakes\n",
      "68         69         soup broth bouillon\n",
      "76         77                 soft drinks\n",
      "78         79                frozen pizza\n",
      "82         83            fresh vegetables\n",
      "122       123  packaged vegetables fruits\n"
     ]
    }
   ],
   "source": [
    "aisles_health = aisles.loc[[3,12,15,16,23,37,44,49,60,68,76,78,82,122]] #select aisles discriminating on aisles\n",
    "pd.set_option('display.max_rows', None)\n",
    "print(aisles_health)\n",
    "pd.set_option('display.max_rows', 20)"
   ]
  },
  {
   "cell_type": "code",
   "execution_count": 6,
   "metadata": {},
   "outputs": [
    {
     "data": {
      "text/plain": [
       "(206209, 135)"
      ]
     },
     "execution_count": 6,
     "metadata": {},
     "output_type": "execute_result"
    }
   ],
   "source": [
    "np.shape(user_matrix) "
   ]
  },
  {
   "cell_type": "markdown",
   "metadata": {},
   "source": [
    "Warning : user_matrix has 135 columns for only 134 aisles (first column empty : shift)"
   ]
  },
  {
   "cell_type": "markdown",
   "metadata": {},
   "source": [
    "**Create matrix**"
   ]
  },
  {
   "cell_type": "code",
   "execution_count": 6,
   "metadata": {},
   "outputs": [],
   "source": [
    "matrix_health = user_matrix[:,aisles_health.aisle_id]"
   ]
  },
  {
   "cell_type": "code",
   "execution_count": 7,
   "metadata": {},
   "outputs": [
    {
     "name": "stderr",
     "output_type": "stream",
     "text": [
      "/usr/local/lib/python3.6/dist-packages/ipykernel_launcher.py:2: RuntimeWarning: invalid value encountered in true_divide\n",
      "  \n"
     ]
    }
   ],
   "source": [
    "row_sums = matrix_health.sum(axis=1) #Normalize on the rows (rows_sum -> 1)\n",
    "norm_matrix = matrix_health / row_sums[:, np.newaxis]\n",
    "for (i, l) in enumerate(norm_matrix) :\n",
    "    if str(l[0])==\"nan\":\n",
    "        for k in range(0, len(norm_matrix[0])):\n",
    "            norm_matrix[i][k]=0"
   ]
  },
  {
   "cell_type": "markdown",
   "metadata": {},
   "source": [
    "**Dimensionnality reduction**"
   ]
  },
  {
   "cell_type": "code",
   "execution_count": 9,
   "metadata": {},
   "outputs": [
    {
     "data": {
      "text/plain": [
       "PCA(copy=True, iterated_power='auto', n_components=None, random_state=0,\n",
       "    svd_solver='auto', tol=0.0, whiten=False)"
      ]
     },
     "execution_count": 9,
     "metadata": {},
     "output_type": "execute_result"
    }
   ],
   "source": [
    "pca = PCA(random_state=0) \n",
    "pca.fit(norm_matrix)"
   ]
  },
  {
   "cell_type": "code",
   "execution_count": 10,
   "metadata": {},
   "outputs": [],
   "source": [
    "reduc_matrix = pca.transform(norm_matrix)"
   ]
  },
  {
   "cell_type": "markdown",
   "metadata": {},
   "source": [
    "Determine the right number of dimensions as a trade-off between number of dimensions and loss of variance."
   ]
  },
  {
   "cell_type": "code",
   "execution_count": 11,
   "metadata": {},
   "outputs": [
    {
     "data": {
      "image/png": "[encoded data removed]",
      "text/plain": [
       "<Figure size 432x288 with 1 Axes>"
      ]
     },
     "metadata": {
      "needs_background": "light"
     },
     "output_type": "display_data"
    }
   ],
   "source": [
    "#Plotting the Cumulative Summation of the Explained Variance\n",
    "plt.figure()\n",
    "plt.plot(np.cumsum(pca.explained_variance_ratio_), marker='+')\n",
    "plt.xlabel('Number of Components')\n",
    "plt.ylabel('Variance (%)') #for each component\n",
    "plt.title('PCA Explained Variance')\n",
    "plt.show()"
   ]
  },
  {
   "cell_type": "markdown",
   "metadata": {},
   "source": [
    "dimension choosen at the elbow : dim=4"
   ]
  },
  {
   "cell_type": "code",
   "execution_count": 8,
   "metadata": {},
   "outputs": [],
   "source": [
    "pca = PCA(n_components=4, random_state=0)\n",
    "reduc_matrix = pca.fit_transform(norm_matrix)"
   ]
  },
  {
   "cell_type": "code",
   "execution_count": 13,
   "metadata": {},
   "outputs": [
    {
     "data": {
      "text/plain": [
       "(206209, 4)"
      ]
     },
     "execution_count": 13,
     "metadata": {},
     "output_type": "execute_result"
    }
   ],
   "source": [
    "reduc_matrix.shape"
   ]
  },
  {
   "cell_type": "markdown",
   "metadata": {},
   "source": [
    "Understand the new dimension vectors by looking at the features impacting them the most"
   ]
  },
  {
   "cell_type": "code",
   "execution_count": 14,
   "metadata": {},
   "outputs": [
    {
     "name": "stdout",
     "output_type": "stream",
     "text": [
      "dimension0 \n",
      "fresh fruits 0.8573869523803067\n",
      "fresh vegetables -0.5025990208326141\n",
      "dimension1 \n",
      "soft drinks 0.4171514150976483\n",
      "fresh vegetables -0.7682719352777929\n",
      "dimension2 \n",
      "packaged vegetables fruits 0.862313710156931\n",
      "soft drinks -0.4416805837797229\n",
      "dimension3 \n",
      "soft drinks 0.7219967107264166\n",
      "frozen meals -0.41472894490790635\n"
     ]
    }
   ],
   "source": [
    "aisle_list = list(aisles_health.aisle)\n",
    "i=0\n",
    "for d in pca.components_ :\n",
    "    print(\"dimension\" + str(i)+\" \") \n",
    "    i+=1\n",
    "    print(str(aisle_list[np.argmax(d)]) + \" \" + str(np.max(d)))\n",
    "    print(str(aisle_list[np.argmin(d)])+\" \"+str(np.min(d)))"
   ]
  },
  {
   "cell_type": "markdown",
   "metadata": {},
   "source": [
    "**CLustering**"
   ]
  },
  {
   "cell_type": "markdown",
   "metadata": {},
   "source": [
    "Determine the right number of clusters (k)"
   ]
  },
  {
   "cell_type": "code",
   "execution_count": 15,
   "metadata": {},
   "outputs": [
    {
     "data": {
      "image/png": "[encoded data removed]",
      "text/plain": [
       "<Figure size 432x288 with 1 Axes>"
      ]
     },
     "metadata": {
      "needs_background": "light"
     },
     "output_type": "display_data"
    }
   ],
   "source": [
    "#un peu long\n",
    "wcss=[]\n",
    "for i in range(1, 10):\n",
    "    kmeans = KMeans(n_clusters=i, random_state=0)\n",
    "    kmeans.fit(reduc_matrix)\n",
    "    wcss.append(kmeans.inertia_)\n",
    "plt.plot(range(1, 10), wcss, marker='+')\n",
    "plt.title('Elbow Method')\n",
    "plt.xlabel('Number of clusters')\n",
    "plt.ylabel('WCSS')\n",
    "plt.show()"
   ]
  },
  {
   "cell_type": "markdown",
   "metadata": {},
   "source": [
    "optimal k is 3 with this method"
   ]
  },
  {
   "cell_type": "code",
   "execution_count": 9,
   "metadata": {},
   "outputs": [],
   "source": [
    "kmeans = KMeans(n_clusters=3, random_state=0).fit(reduc_matrix)"
   ]
  },
  {
   "cell_type": "markdown",
   "metadata": {},
   "source": [
    "**Analyse of the clusters**"
   ]
  },
  {
   "cell_type": "code",
   "execution_count": 17,
   "metadata": {},
   "outputs": [],
   "source": [
    "def get_cluster_size(clustering, nb_clusters,matrix=user_matrix) :\n",
    "    for k in range(nb_clusters):\n",
    "        number_users_in_cluster = 0.\n",
    "        for user_index in range(1,len(matrix)) :\n",
    "            if kmeans.labels_[user_index]==k :\n",
    "                number_users_in_cluster+=1\n",
    "        print(number_users_in_cluster)"
   ]
  },
  {
   "cell_type": "code",
   "execution_count": 18,
   "metadata": {},
   "outputs": [
    {
     "name": "stdout",
     "output_type": "stream",
     "text": [
      "54121.0\n",
      "58289.0\n",
      "93798.0\n"
     ]
    }
   ],
   "source": [
    "get_cluster_size(kmeans, 3, reduc_matrix)"
   ]
  },
  {
   "cell_type": "markdown",
   "metadata": {},
   "source": [
    "3 big clusters (with one juste a little bigger)"
   ]
  },
  {
   "cell_type": "markdown",
   "metadata": {},
   "source": [
    "**Look at centroids distance**"
   ]
  },
  {
   "cell_type": "code",
   "execution_count": 19,
   "metadata": {},
   "outputs": [
    {
     "data": {
      "text/plain": [
       "array([[-0.07994422,  0.27849399, -0.00209435, -0.02952437],\n",
       "       [ 0.28303917, -0.0322645 ,  0.01024551,  0.00849   ],\n",
       "       [-0.12961092, -0.14095822, -0.00515388,  0.01179436]])"
      ]
     },
     "execution_count": 19,
     "metadata": {},
     "output_type": "execute_result"
    }
   ],
   "source": [
    "kmeans.cluster_centers_"
   ]
  },
  {
   "cell_type": "code",
   "execution_count": 20,
   "metadata": {},
   "outputs": [],
   "source": [
    "def dist_centroids(clustering):\n",
    "    k=len(clustering.cluster_centers_)\n",
    "    distances = np.zeros((k,k))\n",
    "    for x in range(k):\n",
    "        for y in range(x):\n",
    "            dist = np.linalg.norm(clustering.cluster_centers_[x]-clustering.cluster_centers_[y]) #calculate euclidian distance\n",
    "            distances[x,y]=dist\n",
    "    return distances"
   ]
  },
  {
   "cell_type": "code",
   "execution_count": 21,
   "metadata": {},
   "outputs": [
    {
     "data": {
      "text/plain": [
       "array([[0.        , 0.        , 0.        ],\n",
       "       [0.47950511, 0.        , 0.        ],\n",
       "       [0.42440963, 0.42701578, 0.        ]])"
      ]
     },
     "execution_count": 21,
     "metadata": {},
     "output_type": "execute_result"
    }
   ],
   "source": [
    "dist_centroids(kmeans)"
   ]
  },
  {
   "cell_type": "markdown",
   "metadata": {},
   "source": [
    "not really relevant, just cluster 0 look slightly closer to cluster 1 (the two with same size by the way)"
   ]
  },
  {
   "cell_type": "markdown",
   "metadata": {},
   "source": [
    "**prepare df**"
   ]
  },
  {
   "cell_type": "code",
   "execution_count": 10,
   "metadata": {},
   "outputs": [
    {
     "data": {
      "text/html": [
       "<div>\n",
       "<style scoped>\n",
       "    .dataframe tbody tr th:only-of-type {\n",
       "        vertical-align: middle;\n",
       "    }\n",
       "\n",
       "    .dataframe tbody tr th {\n",
       "        vertical-align: top;\n",
       "    }\n",
       "\n",
       "    .dataframe thead th {\n",
       "        text-align: right;\n",
       "    }\n",
       "</style>\n",
       "<table border=\"1\" class=\"dataframe\">\n",
       "  <thead>\n",
       "    <tr style=\"text-align: right;\">\n",
       "      <th></th>\n",
       "      <th>instant foods</th>\n",
       "      <th>prepared meals</th>\n",
       "      <th>fresh herbs</th>\n",
       "      <th>baking ingredients</th>\n",
       "      <th>fresh fruits</th>\n",
       "      <th>frozen meals</th>\n",
       "      <th>candy chocolate</th>\n",
       "      <th>fruit vegetable snacks</th>\n",
       "      <th>cookies cakes</th>\n",
       "      <th>soup broth bouillon</th>\n",
       "      <th>soft drinks</th>\n",
       "      <th>frozen pizza</th>\n",
       "      <th>fresh vegetables</th>\n",
       "      <th>packaged vegetables fruits</th>\n",
       "    </tr>\n",
       "  </thead>\n",
       "  <tbody>\n",
       "    <tr>\n",
       "      <th>0</th>\n",
       "      <td>0</td>\n",
       "      <td>0</td>\n",
       "      <td>0</td>\n",
       "      <td>0</td>\n",
       "      <td>5</td>\n",
       "      <td>0</td>\n",
       "      <td>1</td>\n",
       "      <td>0</td>\n",
       "      <td>0</td>\n",
       "      <td>0</td>\n",
       "      <td>13</td>\n",
       "      <td>0</td>\n",
       "      <td>0</td>\n",
       "      <td>0</td>\n",
       "    </tr>\n",
       "    <tr>\n",
       "      <th>1</th>\n",
       "      <td>0</td>\n",
       "      <td>0</td>\n",
       "      <td>0</td>\n",
       "      <td>2</td>\n",
       "      <td>33</td>\n",
       "      <td>12</td>\n",
       "      <td>0</td>\n",
       "      <td>0</td>\n",
       "      <td>0</td>\n",
       "      <td>0</td>\n",
       "      <td>0</td>\n",
       "      <td>0</td>\n",
       "      <td>0</td>\n",
       "      <td>3</td>\n",
       "    </tr>\n",
       "    <tr>\n",
       "      <th>2</th>\n",
       "      <td>4</td>\n",
       "      <td>2</td>\n",
       "      <td>0</td>\n",
       "      <td>0</td>\n",
       "      <td>19</td>\n",
       "      <td>0</td>\n",
       "      <td>0</td>\n",
       "      <td>0</td>\n",
       "      <td>0</td>\n",
       "      <td>0</td>\n",
       "      <td>0</td>\n",
       "      <td>0</td>\n",
       "      <td>5</td>\n",
       "      <td>14</td>\n",
       "    </tr>\n",
       "    <tr>\n",
       "      <th>3</th>\n",
       "      <td>0</td>\n",
       "      <td>0</td>\n",
       "      <td>0</td>\n",
       "      <td>0</td>\n",
       "      <td>2</td>\n",
       "      <td>3</td>\n",
       "      <td>0</td>\n",
       "      <td>0</td>\n",
       "      <td>0</td>\n",
       "      <td>1</td>\n",
       "      <td>1</td>\n",
       "      <td>0</td>\n",
       "      <td>0</td>\n",
       "      <td>0</td>\n",
       "    </tr>\n",
       "    <tr>\n",
       "      <th>4</th>\n",
       "      <td>0</td>\n",
       "      <td>0</td>\n",
       "      <td>1</td>\n",
       "      <td>0</td>\n",
       "      <td>4</td>\n",
       "      <td>0</td>\n",
       "      <td>0</td>\n",
       "      <td>0</td>\n",
       "      <td>0</td>\n",
       "      <td>0</td>\n",
       "      <td>0</td>\n",
       "      <td>0</td>\n",
       "      <td>6</td>\n",
       "      <td>8</td>\n",
       "    </tr>\n",
       "  </tbody>\n",
       "</table>\n",
       "</div>"
      ],
      "text/plain": [
       "   instant foods  prepared meals  fresh herbs  baking ingredients  \\\n",
       "0              0               0            0                   0   \n",
       "1              0               0            0                   2   \n",
       "2              4               2            0                   0   \n",
       "3              0               0            0                   0   \n",
       "4              0               0            1                   0   \n",
       "\n",
       "   fresh fruits  frozen meals  candy chocolate  fruit vegetable snacks  \\\n",
       "0             5             0                1                       0   \n",
       "1            33            12                0                       0   \n",
       "2            19             0                0                       0   \n",
       "3             2             3                0                       0   \n",
       "4             4             0                0                       0   \n",
       "\n",
       "   cookies cakes  soup broth bouillon  soft drinks  frozen pizza  \\\n",
       "0              0                    0           13             0   \n",
       "1              0                    0            0             0   \n",
       "2              0                    0            0             0   \n",
       "3              0                    1            1             0   \n",
       "4              0                    0            0             0   \n",
       "\n",
       "   fresh vegetables  packaged vegetables fruits  \n",
       "0                 0                           0  \n",
       "1                 0                           3  \n",
       "2                 5                          14  \n",
       "3                 0                           0  \n",
       "4                 6                           8  "
      ]
     },
     "execution_count": 10,
     "metadata": {},
     "output_type": "execute_result"
    }
   ],
   "source": [
    "#convert the matrix into df\n",
    "matrix_df = pd.DataFrame(matrix_health, index = range(len(matrix_health)), columns = list(aisles_health.aisle) )\n",
    "matrix_df.head()"
   ]
  },
  {
   "cell_type": "code",
   "execution_count": 11,
   "metadata": {},
   "outputs": [
    {
     "data": {
      "text/html": [
       "<div>\n",
       "<style scoped>\n",
       "    .dataframe tbody tr th:only-of-type {\n",
       "        vertical-align: middle;\n",
       "    }\n",
       "\n",
       "    .dataframe tbody tr th {\n",
       "        vertical-align: top;\n",
       "    }\n",
       "\n",
       "    .dataframe thead th {\n",
       "        text-align: right;\n",
       "    }\n",
       "</style>\n",
       "<table border=\"1\" class=\"dataframe\">\n",
       "  <thead>\n",
       "    <tr style=\"text-align: right;\">\n",
       "      <th></th>\n",
       "      <th>instant foods</th>\n",
       "      <th>prepared meals</th>\n",
       "      <th>fresh herbs</th>\n",
       "      <th>baking ingredients</th>\n",
       "      <th>fresh fruits</th>\n",
       "      <th>frozen meals</th>\n",
       "      <th>candy chocolate</th>\n",
       "      <th>fruit vegetable snacks</th>\n",
       "      <th>cookies cakes</th>\n",
       "      <th>soup broth bouillon</th>\n",
       "      <th>soft drinks</th>\n",
       "      <th>frozen pizza</th>\n",
       "      <th>fresh vegetables</th>\n",
       "      <th>packaged vegetables fruits</th>\n",
       "      <th>cluster</th>\n",
       "    </tr>\n",
       "  </thead>\n",
       "  <tbody>\n",
       "    <tr>\n",
       "      <th>0</th>\n",
       "      <td>0</td>\n",
       "      <td>0</td>\n",
       "      <td>0</td>\n",
       "      <td>0</td>\n",
       "      <td>5</td>\n",
       "      <td>0</td>\n",
       "      <td>1</td>\n",
       "      <td>0</td>\n",
       "      <td>0</td>\n",
       "      <td>0</td>\n",
       "      <td>13</td>\n",
       "      <td>0</td>\n",
       "      <td>0</td>\n",
       "      <td>0</td>\n",
       "      <td>0</td>\n",
       "    </tr>\n",
       "    <tr>\n",
       "      <th>1</th>\n",
       "      <td>0</td>\n",
       "      <td>0</td>\n",
       "      <td>0</td>\n",
       "      <td>2</td>\n",
       "      <td>33</td>\n",
       "      <td>12</td>\n",
       "      <td>0</td>\n",
       "      <td>0</td>\n",
       "      <td>0</td>\n",
       "      <td>0</td>\n",
       "      <td>0</td>\n",
       "      <td>0</td>\n",
       "      <td>0</td>\n",
       "      <td>3</td>\n",
       "      <td>1</td>\n",
       "    </tr>\n",
       "    <tr>\n",
       "      <th>2</th>\n",
       "      <td>4</td>\n",
       "      <td>2</td>\n",
       "      <td>0</td>\n",
       "      <td>0</td>\n",
       "      <td>19</td>\n",
       "      <td>0</td>\n",
       "      <td>0</td>\n",
       "      <td>0</td>\n",
       "      <td>0</td>\n",
       "      <td>0</td>\n",
       "      <td>0</td>\n",
       "      <td>0</td>\n",
       "      <td>5</td>\n",
       "      <td>14</td>\n",
       "      <td>1</td>\n",
       "    </tr>\n",
       "    <tr>\n",
       "      <th>3</th>\n",
       "      <td>0</td>\n",
       "      <td>0</td>\n",
       "      <td>0</td>\n",
       "      <td>0</td>\n",
       "      <td>2</td>\n",
       "      <td>3</td>\n",
       "      <td>0</td>\n",
       "      <td>0</td>\n",
       "      <td>0</td>\n",
       "      <td>1</td>\n",
       "      <td>1</td>\n",
       "      <td>0</td>\n",
       "      <td>0</td>\n",
       "      <td>0</td>\n",
       "      <td>0</td>\n",
       "    </tr>\n",
       "    <tr>\n",
       "      <th>4</th>\n",
       "      <td>0</td>\n",
       "      <td>0</td>\n",
       "      <td>1</td>\n",
       "      <td>0</td>\n",
       "      <td>4</td>\n",
       "      <td>0</td>\n",
       "      <td>0</td>\n",
       "      <td>0</td>\n",
       "      <td>0</td>\n",
       "      <td>0</td>\n",
       "      <td>0</td>\n",
       "      <td>0</td>\n",
       "      <td>6</td>\n",
       "      <td>8</td>\n",
       "      <td>2</td>\n",
       "    </tr>\n",
       "  </tbody>\n",
       "</table>\n",
       "</div>"
      ],
      "text/plain": [
       "   instant foods  prepared meals  fresh herbs  baking ingredients  \\\n",
       "0              0               0            0                   0   \n",
       "1              0               0            0                   2   \n",
       "2              4               2            0                   0   \n",
       "3              0               0            0                   0   \n",
       "4              0               0            1                   0   \n",
       "\n",
       "   fresh fruits  frozen meals  candy chocolate  fruit vegetable snacks  \\\n",
       "0             5             0                1                       0   \n",
       "1            33            12                0                       0   \n",
       "2            19             0                0                       0   \n",
       "3             2             3                0                       0   \n",
       "4             4             0                0                       0   \n",
       "\n",
       "   cookies cakes  soup broth bouillon  soft drinks  frozen pizza  \\\n",
       "0              0                    0           13             0   \n",
       "1              0                    0            0             0   \n",
       "2              0                    0            0             0   \n",
       "3              0                    1            1             0   \n",
       "4              0                    0            0             0   \n",
       "\n",
       "   fresh vegetables  packaged vegetables fruits  cluster  \n",
       "0                 0                           0        0  \n",
       "1                 0                           3        1  \n",
       "2                 5                          14        1  \n",
       "3                 0                           0        0  \n",
       "4                 6                           8        2  "
      ]
     },
     "execution_count": 11,
     "metadata": {},
     "output_type": "execute_result"
    }
   ],
   "source": [
    "#Add a column 'cluster'\n",
    "matrix_df['cluster']=kmeans.labels_\n",
    "matrix_df.head()"
   ]
  },
  {
   "cell_type": "code",
   "execution_count": 12,
   "metadata": {},
   "outputs": [
    {
     "data": {
      "text/html": [
       "<div>\n",
       "<style scoped>\n",
       "    .dataframe tbody tr th:only-of-type {\n",
       "        vertical-align: middle;\n",
       "    }\n",
       "\n",
       "    .dataframe tbody tr th {\n",
       "        vertical-align: top;\n",
       "    }\n",
       "\n",
       "    .dataframe thead th {\n",
       "        text-align: right;\n",
       "    }\n",
       "</style>\n",
       "<table border=\"1\" class=\"dataframe\">\n",
       "  <thead>\n",
       "    <tr style=\"text-align: right;\">\n",
       "      <th></th>\n",
       "      <th>instant foods</th>\n",
       "      <th>prepared meals</th>\n",
       "      <th>fresh herbs</th>\n",
       "      <th>baking ingredients</th>\n",
       "      <th>fresh fruits</th>\n",
       "      <th>frozen meals</th>\n",
       "      <th>candy chocolate</th>\n",
       "      <th>fruit vegetable snacks</th>\n",
       "      <th>cookies cakes</th>\n",
       "      <th>soup broth bouillon</th>\n",
       "      <th>soft drinks</th>\n",
       "      <th>frozen pizza</th>\n",
       "      <th>fresh vegetables</th>\n",
       "      <th>packaged vegetables fruits</th>\n",
       "    </tr>\n",
       "  </thead>\n",
       "  <tbody>\n",
       "    <tr>\n",
       "      <th>0</th>\n",
       "      <td>0.000000</td>\n",
       "      <td>0.000000</td>\n",
       "      <td>0.000000</td>\n",
       "      <td>0.00</td>\n",
       "      <td>0.263158</td>\n",
       "      <td>0.000000</td>\n",
       "      <td>0.052632</td>\n",
       "      <td>0.0</td>\n",
       "      <td>0.0</td>\n",
       "      <td>0.000000</td>\n",
       "      <td>0.684211</td>\n",
       "      <td>0.0</td>\n",
       "      <td>0.000000</td>\n",
       "      <td>0.000000</td>\n",
       "    </tr>\n",
       "    <tr>\n",
       "      <th>1</th>\n",
       "      <td>0.000000</td>\n",
       "      <td>0.000000</td>\n",
       "      <td>0.000000</td>\n",
       "      <td>0.04</td>\n",
       "      <td>0.660000</td>\n",
       "      <td>0.240000</td>\n",
       "      <td>0.000000</td>\n",
       "      <td>0.0</td>\n",
       "      <td>0.0</td>\n",
       "      <td>0.000000</td>\n",
       "      <td>0.000000</td>\n",
       "      <td>0.0</td>\n",
       "      <td>0.000000</td>\n",
       "      <td>0.060000</td>\n",
       "    </tr>\n",
       "    <tr>\n",
       "      <th>2</th>\n",
       "      <td>0.090909</td>\n",
       "      <td>0.045455</td>\n",
       "      <td>0.000000</td>\n",
       "      <td>0.00</td>\n",
       "      <td>0.431818</td>\n",
       "      <td>0.000000</td>\n",
       "      <td>0.000000</td>\n",
       "      <td>0.0</td>\n",
       "      <td>0.0</td>\n",
       "      <td>0.000000</td>\n",
       "      <td>0.000000</td>\n",
       "      <td>0.0</td>\n",
       "      <td>0.113636</td>\n",
       "      <td>0.318182</td>\n",
       "    </tr>\n",
       "    <tr>\n",
       "      <th>3</th>\n",
       "      <td>0.000000</td>\n",
       "      <td>0.000000</td>\n",
       "      <td>0.000000</td>\n",
       "      <td>0.00</td>\n",
       "      <td>0.285714</td>\n",
       "      <td>0.428571</td>\n",
       "      <td>0.000000</td>\n",
       "      <td>0.0</td>\n",
       "      <td>0.0</td>\n",
       "      <td>0.142857</td>\n",
       "      <td>0.142857</td>\n",
       "      <td>0.0</td>\n",
       "      <td>0.000000</td>\n",
       "      <td>0.000000</td>\n",
       "    </tr>\n",
       "    <tr>\n",
       "      <th>4</th>\n",
       "      <td>0.000000</td>\n",
       "      <td>0.000000</td>\n",
       "      <td>0.052632</td>\n",
       "      <td>0.00</td>\n",
       "      <td>0.210526</td>\n",
       "      <td>0.000000</td>\n",
       "      <td>0.000000</td>\n",
       "      <td>0.0</td>\n",
       "      <td>0.0</td>\n",
       "      <td>0.000000</td>\n",
       "      <td>0.000000</td>\n",
       "      <td>0.0</td>\n",
       "      <td>0.315789</td>\n",
       "      <td>0.421053</td>\n",
       "    </tr>\n",
       "  </tbody>\n",
       "</table>\n",
       "</div>"
      ],
      "text/plain": [
       "   instant foods  prepared meals  fresh herbs  baking ingredients  \\\n",
       "0       0.000000        0.000000     0.000000                0.00   \n",
       "1       0.000000        0.000000     0.000000                0.04   \n",
       "2       0.090909        0.045455     0.000000                0.00   \n",
       "3       0.000000        0.000000     0.000000                0.00   \n",
       "4       0.000000        0.000000     0.052632                0.00   \n",
       "\n",
       "   fresh fruits  frozen meals  candy chocolate  fruit vegetable snacks  \\\n",
       "0      0.263158      0.000000         0.052632                     0.0   \n",
       "1      0.660000      0.240000         0.000000                     0.0   \n",
       "2      0.431818      0.000000         0.000000                     0.0   \n",
       "3      0.285714      0.428571         0.000000                     0.0   \n",
       "4      0.210526      0.000000         0.000000                     0.0   \n",
       "\n",
       "   cookies cakes  soup broth bouillon  soft drinks  frozen pizza  \\\n",
       "0            0.0             0.000000     0.684211           0.0   \n",
       "1            0.0             0.000000     0.000000           0.0   \n",
       "2            0.0             0.000000     0.000000           0.0   \n",
       "3            0.0             0.142857     0.142857           0.0   \n",
       "4            0.0             0.000000     0.000000           0.0   \n",
       "\n",
       "   fresh vegetables  packaged vegetables fruits  \n",
       "0          0.000000                    0.000000  \n",
       "1          0.000000                    0.060000  \n",
       "2          0.113636                    0.318182  \n",
       "3          0.000000                    0.000000  \n",
       "4          0.315789                    0.421053  "
      ]
     },
     "execution_count": 12,
     "metadata": {},
     "output_type": "execute_result"
    }
   ],
   "source": [
    "#Convert Normalized matrix into a df\n",
    "norm_matrix_df = pd.DataFrame(norm_matrix, index = range(len(norm_matrix)), columns = list(aisles_health.aisle) )\n",
    "norm_matrix_df.head()"
   ]
  },
  {
   "cell_type": "code",
   "execution_count": 13,
   "metadata": {},
   "outputs": [
    {
     "data": {
      "text/html": [
       "<div>\n",
       "<style scoped>\n",
       "    .dataframe tbody tr th:only-of-type {\n",
       "        vertical-align: middle;\n",
       "    }\n",
       "\n",
       "    .dataframe tbody tr th {\n",
       "        vertical-align: top;\n",
       "    }\n",
       "\n",
       "    .dataframe thead th {\n",
       "        text-align: right;\n",
       "    }\n",
       "</style>\n",
       "<table border=\"1\" class=\"dataframe\">\n",
       "  <thead>\n",
       "    <tr style=\"text-align: right;\">\n",
       "      <th></th>\n",
       "      <th>instant foods</th>\n",
       "      <th>prepared meals</th>\n",
       "      <th>fresh herbs</th>\n",
       "      <th>baking ingredients</th>\n",
       "      <th>fresh fruits</th>\n",
       "      <th>frozen meals</th>\n",
       "      <th>candy chocolate</th>\n",
       "      <th>fruit vegetable snacks</th>\n",
       "      <th>cookies cakes</th>\n",
       "      <th>soup broth bouillon</th>\n",
       "      <th>soft drinks</th>\n",
       "      <th>frozen pizza</th>\n",
       "      <th>fresh vegetables</th>\n",
       "      <th>packaged vegetables fruits</th>\n",
       "      <th>cluster</th>\n",
       "    </tr>\n",
       "  </thead>\n",
       "  <tbody>\n",
       "    <tr>\n",
       "      <th>0</th>\n",
       "      <td>0.000000</td>\n",
       "      <td>0.000000</td>\n",
       "      <td>0.000000</td>\n",
       "      <td>0.00</td>\n",
       "      <td>0.263158</td>\n",
       "      <td>0.000000</td>\n",
       "      <td>0.052632</td>\n",
       "      <td>0.0</td>\n",
       "      <td>0.0</td>\n",
       "      <td>0.000000</td>\n",
       "      <td>0.684211</td>\n",
       "      <td>0.0</td>\n",
       "      <td>0.000000</td>\n",
       "      <td>0.000000</td>\n",
       "      <td>0</td>\n",
       "    </tr>\n",
       "    <tr>\n",
       "      <th>1</th>\n",
       "      <td>0.000000</td>\n",
       "      <td>0.000000</td>\n",
       "      <td>0.000000</td>\n",
       "      <td>0.04</td>\n",
       "      <td>0.660000</td>\n",
       "      <td>0.240000</td>\n",
       "      <td>0.000000</td>\n",
       "      <td>0.0</td>\n",
       "      <td>0.0</td>\n",
       "      <td>0.000000</td>\n",
       "      <td>0.000000</td>\n",
       "      <td>0.0</td>\n",
       "      <td>0.000000</td>\n",
       "      <td>0.060000</td>\n",
       "      <td>1</td>\n",
       "    </tr>\n",
       "    <tr>\n",
       "      <th>2</th>\n",
       "      <td>0.090909</td>\n",
       "      <td>0.045455</td>\n",
       "      <td>0.000000</td>\n",
       "      <td>0.00</td>\n",
       "      <td>0.431818</td>\n",
       "      <td>0.000000</td>\n",
       "      <td>0.000000</td>\n",
       "      <td>0.0</td>\n",
       "      <td>0.0</td>\n",
       "      <td>0.000000</td>\n",
       "      <td>0.000000</td>\n",
       "      <td>0.0</td>\n",
       "      <td>0.113636</td>\n",
       "      <td>0.318182</td>\n",
       "      <td>1</td>\n",
       "    </tr>\n",
       "    <tr>\n",
       "      <th>3</th>\n",
       "      <td>0.000000</td>\n",
       "      <td>0.000000</td>\n",
       "      <td>0.000000</td>\n",
       "      <td>0.00</td>\n",
       "      <td>0.285714</td>\n",
       "      <td>0.428571</td>\n",
       "      <td>0.000000</td>\n",
       "      <td>0.0</td>\n",
       "      <td>0.0</td>\n",
       "      <td>0.142857</td>\n",
       "      <td>0.142857</td>\n",
       "      <td>0.0</td>\n",
       "      <td>0.000000</td>\n",
       "      <td>0.000000</td>\n",
       "      <td>0</td>\n",
       "    </tr>\n",
       "    <tr>\n",
       "      <th>4</th>\n",
       "      <td>0.000000</td>\n",
       "      <td>0.000000</td>\n",
       "      <td>0.052632</td>\n",
       "      <td>0.00</td>\n",
       "      <td>0.210526</td>\n",
       "      <td>0.000000</td>\n",
       "      <td>0.000000</td>\n",
       "      <td>0.0</td>\n",
       "      <td>0.0</td>\n",
       "      <td>0.000000</td>\n",
       "      <td>0.000000</td>\n",
       "      <td>0.0</td>\n",
       "      <td>0.315789</td>\n",
       "      <td>0.421053</td>\n",
       "      <td>2</td>\n",
       "    </tr>\n",
       "  </tbody>\n",
       "</table>\n",
       "</div>"
      ],
      "text/plain": [
       "   instant foods  prepared meals  fresh herbs  baking ingredients  \\\n",
       "0       0.000000        0.000000     0.000000                0.00   \n",
       "1       0.000000        0.000000     0.000000                0.04   \n",
       "2       0.090909        0.045455     0.000000                0.00   \n",
       "3       0.000000        0.000000     0.000000                0.00   \n",
       "4       0.000000        0.000000     0.052632                0.00   \n",
       "\n",
       "   fresh fruits  frozen meals  candy chocolate  fruit vegetable snacks  \\\n",
       "0      0.263158      0.000000         0.052632                     0.0   \n",
       "1      0.660000      0.240000         0.000000                     0.0   \n",
       "2      0.431818      0.000000         0.000000                     0.0   \n",
       "3      0.285714      0.428571         0.000000                     0.0   \n",
       "4      0.210526      0.000000         0.000000                     0.0   \n",
       "\n",
       "   cookies cakes  soup broth bouillon  soft drinks  frozen pizza  \\\n",
       "0            0.0             0.000000     0.684211           0.0   \n",
       "1            0.0             0.000000     0.000000           0.0   \n",
       "2            0.0             0.000000     0.000000           0.0   \n",
       "3            0.0             0.142857     0.142857           0.0   \n",
       "4            0.0             0.000000     0.000000           0.0   \n",
       "\n",
       "   fresh vegetables  packaged vegetables fruits  cluster  \n",
       "0          0.000000                    0.000000        0  \n",
       "1          0.000000                    0.060000        1  \n",
       "2          0.113636                    0.318182        1  \n",
       "3          0.000000                    0.000000        0  \n",
       "4          0.315789                    0.421053        2  "
      ]
     },
     "execution_count": 13,
     "metadata": {},
     "output_type": "execute_result"
    }
   ],
   "source": [
    "#Add column 'cluster'\n",
    "norm_matrix_df['cluster']=kmeans.labels_\n",
    "norm_matrix_df.head()"
   ]
  },
  {
   "cell_type": "markdown",
   "metadata": {},
   "source": [
    "**Study the mean distribution of products per ailse in each clusters**"
   ]
  },
  {
   "cell_type": "code",
   "execution_count": 26,
   "metadata": {},
   "outputs": [
    {
     "data": {
      "text/html": [
       "<div>\n",
       "<style scoped>\n",
       "    .dataframe tbody tr th:only-of-type {\n",
       "        vertical-align: middle;\n",
       "    }\n",
       "\n",
       "    .dataframe tbody tr th {\n",
       "        vertical-align: top;\n",
       "    }\n",
       "\n",
       "    .dataframe thead th {\n",
       "        text-align: right;\n",
       "    }\n",
       "</style>\n",
       "<table border=\"1\" class=\"dataframe\">\n",
       "  <thead>\n",
       "    <tr style=\"text-align: right;\">\n",
       "      <th></th>\n",
       "      <th>instant foods</th>\n",
       "      <th>prepared meals</th>\n",
       "      <th>fresh herbs</th>\n",
       "      <th>baking ingredients</th>\n",
       "      <th>fresh fruits</th>\n",
       "      <th>frozen meals</th>\n",
       "      <th>candy chocolate</th>\n",
       "      <th>fruit vegetable snacks</th>\n",
       "      <th>cookies cakes</th>\n",
       "      <th>soup broth bouillon</th>\n",
       "      <th>soft drinks</th>\n",
       "      <th>frozen pizza</th>\n",
       "      <th>fresh vegetables</th>\n",
       "      <th>packaged vegetables fruits</th>\n",
       "    </tr>\n",
       "    <tr>\n",
       "      <th>cluster</th>\n",
       "      <th></th>\n",
       "      <th></th>\n",
       "      <th></th>\n",
       "      <th></th>\n",
       "      <th></th>\n",
       "      <th></th>\n",
       "      <th></th>\n",
       "      <th></th>\n",
       "      <th></th>\n",
       "      <th></th>\n",
       "      <th></th>\n",
       "      <th></th>\n",
       "      <th></th>\n",
       "      <th></th>\n",
       "    </tr>\n",
       "  </thead>\n",
       "  <tbody>\n",
       "    <tr>\n",
       "      <th>0</th>\n",
       "      <td>0.038621</td>\n",
       "      <td>0.014837</td>\n",
       "      <td>0.011336</td>\n",
       "      <td>0.061036</td>\n",
       "      <td>0.099702</td>\n",
       "      <td>0.094787</td>\n",
       "      <td>0.076497</td>\n",
       "      <td>0.030404</td>\n",
       "      <td>0.063330</td>\n",
       "      <td>0.050468</td>\n",
       "      <td>0.153495</td>\n",
       "      <td>0.034869</td>\n",
       "      <td>0.060554</td>\n",
       "      <td>0.123481</td>\n",
       "    </tr>\n",
       "    <tr>\n",
       "      <th>1</th>\n",
       "      <td>0.014288</td>\n",
       "      <td>0.007615</td>\n",
       "      <td>0.012898</td>\n",
       "      <td>0.022638</td>\n",
       "      <td>0.540408</td>\n",
       "      <td>0.020424</td>\n",
       "      <td>0.021125</td>\n",
       "      <td>0.015967</td>\n",
       "      <td>0.019044</td>\n",
       "      <td>0.019772</td>\n",
       "      <td>0.023017</td>\n",
       "      <td>0.011074</td>\n",
       "      <td>0.121723</td>\n",
       "      <td>0.150005</td>\n",
       "    </tr>\n",
       "    <tr>\n",
       "      <th>2</th>\n",
       "      <td>0.014650</td>\n",
       "      <td>0.006574</td>\n",
       "      <td>0.040861</td>\n",
       "      <td>0.029822</td>\n",
       "      <td>0.233271</td>\n",
       "      <td>0.018304</td>\n",
       "      <td>0.014037</td>\n",
       "      <td>0.008855</td>\n",
       "      <td>0.011307</td>\n",
       "      <td>0.032495</td>\n",
       "      <td>0.014885</td>\n",
       "      <td>0.010722</td>\n",
       "      <td>0.416134</td>\n",
       "      <td>0.148084</td>\n",
       "    </tr>\n",
       "  </tbody>\n",
       "</table>\n",
       "</div>"
      ],
      "text/plain": [
       "         instant foods  prepared meals  fresh herbs  baking ingredients  \\\n",
       "cluster                                                                   \n",
       "0             0.038621        0.014837     0.011336            0.061036   \n",
       "1             0.014288        0.007615     0.012898            0.022638   \n",
       "2             0.014650        0.006574     0.040861            0.029822   \n",
       "\n",
       "         fresh fruits  frozen meals  candy chocolate  fruit vegetable snacks  \\\n",
       "cluster                                                                        \n",
       "0            0.099702      0.094787         0.076497                0.030404   \n",
       "1            0.540408      0.020424         0.021125                0.015967   \n",
       "2            0.233271      0.018304         0.014037                0.008855   \n",
       "\n",
       "         cookies cakes  soup broth bouillon  soft drinks  frozen pizza  \\\n",
       "cluster                                                                  \n",
       "0             0.063330             0.050468     0.153495      0.034869   \n",
       "1             0.019044             0.019772     0.023017      0.011074   \n",
       "2             0.011307             0.032495     0.014885      0.010722   \n",
       "\n",
       "         fresh vegetables  packaged vegetables fruits  \n",
       "cluster                                                \n",
       "0                0.060554                    0.123481  \n",
       "1                0.121723                    0.150005  \n",
       "2                0.416134                    0.148084  "
      ]
     },
     "execution_count": 26,
     "metadata": {},
     "output_type": "execute_result"
    }
   ],
   "source": [
    "mean_clusters = norm_matrix_df.groupby(['cluster']).mean()\n",
    "mean_clusters"
   ]
  },
  {
   "cell_type": "markdown",
   "metadata": {},
   "source": [
    "**Evaluate the features discrimining the clusters**"
   ]
  },
  {
   "cell_type": "code",
   "execution_count": 27,
   "metadata": {},
   "outputs": [
    {
     "data": {
      "text/plain": [
       "soft drinks                  -0.203098\n",
       "frozen meals                 -0.127213\n",
       "cookies cakes                -0.103952\n",
       "candy chocolate              -0.080406\n",
       "frozen pizza                 -0.051405\n",
       "instant foods                -0.031246\n",
       "fruit vegetable snacks       -0.018286\n",
       "prepared meals               -0.005475\n",
       "soup broth bouillon           0.080042\n",
       "baking ingredients            0.087544\n",
       "fresh fruits                  0.176745\n",
       "packaged vegetables fruits    0.198623\n",
       "fresh herbs                   0.250135\n",
       "fresh vegetables              0.383619\n",
       "cluster                       1.000000\n",
       "Name: cluster, dtype: float64"
      ]
     },
     "execution_count": 27,
     "metadata": {},
     "output_type": "execute_result"
    }
   ],
   "source": [
    "matrix_df.corr()['cluster'].sort_values(ascending=True)"
   ]
  },
  {
   "cell_type": "markdown",
   "metadata": {},
   "source": [
    "features influencing the most the cluster affiliation seem to be the 9 ones listed above \n",
    "_not convinced by the method_"
   ]
  },
  {
   "cell_type": "code",
   "execution_count": 28,
   "metadata": {},
   "outputs": [],
   "source": [
    "array = norm_matrix_df.values\n",
    "X = array[:,0:-1]\n",
    "Y = array[:,-1]"
   ]
  },
  {
   "cell_type": "code",
   "execution_count": 29,
   "metadata": {},
   "outputs": [],
   "source": [
    "scores = SelectKBest(chi2, k='all').fit(X, Y)"
   ]
  },
  {
   "cell_type": "code",
   "execution_count": 30,
   "metadata": {},
   "outputs": [
    {
     "data": {
      "text/html": [
       "<div>\n",
       "<style scoped>\n",
       "    .dataframe tbody tr th:only-of-type {\n",
       "        vertical-align: middle;\n",
       "    }\n",
       "\n",
       "    .dataframe tbody tr th {\n",
       "        vertical-align: top;\n",
       "    }\n",
       "\n",
       "    .dataframe thead th {\n",
       "        text-align: right;\n",
       "    }\n",
       "</style>\n",
       "<table border=\"1\" class=\"dataframe\">\n",
       "  <thead>\n",
       "    <tr style=\"text-align: right;\">\n",
       "      <th></th>\n",
       "      <th>Score</th>\n",
       "    </tr>\n",
       "  </thead>\n",
       "  <tbody>\n",
       "    <tr>\n",
       "      <th>fresh vegetables</th>\n",
       "      <td>22822.964809</td>\n",
       "    </tr>\n",
       "    <tr>\n",
       "      <th>fresh fruits</th>\n",
       "      <td>20740.411468</td>\n",
       "    </tr>\n",
       "    <tr>\n",
       "      <th>soft drinks</th>\n",
       "      <td>13725.628252</td>\n",
       "    </tr>\n",
       "    <tr>\n",
       "      <th>frozen meals</th>\n",
       "      <td>5868.191920</td>\n",
       "    </tr>\n",
       "    <tr>\n",
       "      <th>candy chocolate</th>\n",
       "      <td>4448.448471</td>\n",
       "    </tr>\n",
       "    <tr>\n",
       "      <th>cookies cakes</th>\n",
       "      <td>3617.926500</td>\n",
       "    </tr>\n",
       "    <tr>\n",
       "      <th>fresh herbs</th>\n",
       "      <td>1675.277969</td>\n",
       "    </tr>\n",
       "    <tr>\n",
       "      <th>frozen pizza</th>\n",
       "      <td>1341.517587</td>\n",
       "    </tr>\n",
       "    <tr>\n",
       "      <th>baking ingredients</th>\n",
       "      <td>1331.518997</td>\n",
       "    </tr>\n",
       "    <tr>\n",
       "      <th>instant foods</th>\n",
       "      <td>1113.694097</td>\n",
       "    </tr>\n",
       "    <tr>\n",
       "      <th>fruit vegetable snacks</th>\n",
       "      <td>966.118856</td>\n",
       "    </tr>\n",
       "    <tr>\n",
       "      <th>soup broth bouillon</th>\n",
       "      <td>793.018738</td>\n",
       "    </tr>\n",
       "    <tr>\n",
       "      <th>prepared meals</th>\n",
       "      <td>277.474009</td>\n",
       "    </tr>\n",
       "    <tr>\n",
       "      <th>packaged vegetables fruits</th>\n",
       "      <td>181.203036</td>\n",
       "    </tr>\n",
       "  </tbody>\n",
       "</table>\n",
       "</div>"
      ],
      "text/plain": [
       "                                   Score\n",
       "fresh vegetables            22822.964809\n",
       "fresh fruits                20740.411468\n",
       "soft drinks                 13725.628252\n",
       "frozen meals                 5868.191920\n",
       "candy chocolate              4448.448471\n",
       "cookies cakes                3617.926500\n",
       "fresh herbs                  1675.277969\n",
       "frozen pizza                 1341.517587\n",
       "baking ingredients           1331.518997\n",
       "instant foods                1113.694097\n",
       "fruit vegetable snacks        966.118856\n",
       "soup broth bouillon           793.018738\n",
       "prepared meals                277.474009\n",
       "packaged vegetables fruits    181.203036"
      ]
     },
     "execution_count": 30,
     "metadata": {},
     "output_type": "execute_result"
    }
   ],
   "source": [
    "features = pd.DataFrame(index=norm_matrix_df.columns[:-1], data= scores.scores_, columns=[\"Score\"]).sort_values(\"Score\",ascending=False)\n",
    "features.head(14)"
   ]
  },
  {
   "cell_type": "markdown",
   "metadata": {},
   "source": [
    "_better method_ most important features. Note that first 3 are coherent with the features impacting the 2 first dimensions."
   ]
  },
  {
   "cell_type": "code",
   "execution_count": 31,
   "metadata": {},
   "outputs": [
    {
     "data": {
      "text/html": [
       "<div>\n",
       "<style scoped>\n",
       "    .dataframe tbody tr th:only-of-type {\n",
       "        vertical-align: middle;\n",
       "    }\n",
       "\n",
       "    .dataframe tbody tr th {\n",
       "        vertical-align: top;\n",
       "    }\n",
       "\n",
       "    .dataframe thead th {\n",
       "        text-align: right;\n",
       "    }\n",
       "</style>\n",
       "<table border=\"1\" class=\"dataframe\">\n",
       "  <thead>\n",
       "    <tr style=\"text-align: right;\">\n",
       "      <th></th>\n",
       "      <th>fresh vegetables</th>\n",
       "      <th>fresh fruits</th>\n",
       "      <th>soft drinks</th>\n",
       "      <th>frozen meals</th>\n",
       "      <th>candy chocolate</th>\n",
       "      <th>cookies cakes</th>\n",
       "      <th>fresh herbs</th>\n",
       "      <th>frozen pizza</th>\n",
       "      <th>baking ingredients</th>\n",
       "      <th>instant foods</th>\n",
       "      <th>fruit vegetable snacks</th>\n",
       "      <th>soup broth bouillon</th>\n",
       "      <th>prepared meals</th>\n",
       "      <th>packaged vegetables fruits</th>\n",
       "    </tr>\n",
       "    <tr>\n",
       "      <th>cluster</th>\n",
       "      <th></th>\n",
       "      <th></th>\n",
       "      <th></th>\n",
       "      <th></th>\n",
       "      <th></th>\n",
       "      <th></th>\n",
       "      <th></th>\n",
       "      <th></th>\n",
       "      <th></th>\n",
       "      <th></th>\n",
       "      <th></th>\n",
       "      <th></th>\n",
       "      <th></th>\n",
       "      <th></th>\n",
       "    </tr>\n",
       "  </thead>\n",
       "  <tbody>\n",
       "    <tr>\n",
       "      <th>0</th>\n",
       "      <td>0.060554</td>\n",
       "      <td>0.099702</td>\n",
       "      <td>0.153495</td>\n",
       "      <td>0.094787</td>\n",
       "      <td>0.076497</td>\n",
       "      <td>0.063330</td>\n",
       "      <td>0.011336</td>\n",
       "      <td>0.034869</td>\n",
       "      <td>0.061036</td>\n",
       "      <td>0.038621</td>\n",
       "      <td>0.030404</td>\n",
       "      <td>0.050468</td>\n",
       "      <td>0.014837</td>\n",
       "      <td>0.123481</td>\n",
       "    </tr>\n",
       "    <tr>\n",
       "      <th>1</th>\n",
       "      <td>0.121723</td>\n",
       "      <td>0.540408</td>\n",
       "      <td>0.023017</td>\n",
       "      <td>0.020424</td>\n",
       "      <td>0.021125</td>\n",
       "      <td>0.019044</td>\n",
       "      <td>0.012898</td>\n",
       "      <td>0.011074</td>\n",
       "      <td>0.022638</td>\n",
       "      <td>0.014288</td>\n",
       "      <td>0.015967</td>\n",
       "      <td>0.019772</td>\n",
       "      <td>0.007615</td>\n",
       "      <td>0.150005</td>\n",
       "    </tr>\n",
       "    <tr>\n",
       "      <th>2</th>\n",
       "      <td>0.416134</td>\n",
       "      <td>0.233271</td>\n",
       "      <td>0.014885</td>\n",
       "      <td>0.018304</td>\n",
       "      <td>0.014037</td>\n",
       "      <td>0.011307</td>\n",
       "      <td>0.040861</td>\n",
       "      <td>0.010722</td>\n",
       "      <td>0.029822</td>\n",
       "      <td>0.014650</td>\n",
       "      <td>0.008855</td>\n",
       "      <td>0.032495</td>\n",
       "      <td>0.006574</td>\n",
       "      <td>0.148084</td>\n",
       "    </tr>\n",
       "  </tbody>\n",
       "</table>\n",
       "</div>"
      ],
      "text/plain": [
       "         fresh vegetables  fresh fruits  soft drinks  frozen meals  \\\n",
       "cluster                                                              \n",
       "0                0.060554      0.099702     0.153495      0.094787   \n",
       "1                0.121723      0.540408     0.023017      0.020424   \n",
       "2                0.416134      0.233271     0.014885      0.018304   \n",
       "\n",
       "         candy chocolate  cookies cakes  fresh herbs  frozen pizza  \\\n",
       "cluster                                                              \n",
       "0               0.076497       0.063330     0.011336      0.034869   \n",
       "1               0.021125       0.019044     0.012898      0.011074   \n",
       "2               0.014037       0.011307     0.040861      0.010722   \n",
       "\n",
       "         baking ingredients  instant foods  fruit vegetable snacks  \\\n",
       "cluster                                                              \n",
       "0                  0.061036       0.038621                0.030404   \n",
       "1                  0.022638       0.014288                0.015967   \n",
       "2                  0.029822       0.014650                0.008855   \n",
       "\n",
       "         soup broth bouillon  prepared meals  packaged vegetables fruits  \n",
       "cluster                                                                   \n",
       "0                   0.050468        0.014837                    0.123481  \n",
       "1                   0.019772        0.007615                    0.150005  \n",
       "2                   0.032495        0.006574                    0.148084  "
      ]
     },
     "execution_count": 31,
     "metadata": {},
     "output_type": "execute_result"
    }
   ],
   "source": [
    "mean_clusters[features.index]"
   ]
  },
  {
   "cell_type": "markdown",
   "metadata": {},
   "source": [
    "0 : + soft drinks ; + frozen meals ; + candy ; + cakes ; +pizza ; + baking !!!! ; +instant ; + fruits snacks !!!! ; + soup !!!!! ; + prepared "
   ]
  },
  {
   "cell_type": "markdown",
   "metadata": {},
   "source": [
    "1 : + fruits ; "
   ]
  },
  {
   "cell_type": "markdown",
   "metadata": {},
   "source": [
    "2 : + vegetables ; +herbs ; "
   ]
  },
  {
   "cell_type": "markdown",
   "metadata": {},
   "source": [
    "classification healthiness : 2 > 1 > 0"
   ]
  },
  {
   "cell_type": "markdown",
   "metadata": {},
   "source": [
    "## Vizualisation "
   ]
  },
  {
   "cell_type": "markdown",
   "metadata": {},
   "source": [
    "aisles as scales "
   ]
  },
  {
   "cell_type": "code",
   "execution_count": 32,
   "metadata": {},
   "outputs": [
    {
     "data": {
      "text/plain": [
       "<matplotlib.collections.PathCollection at 0x7f1b3bf2cc18>"
      ]
     },
     "execution_count": 32,
     "metadata": {},
     "output_type": "execute_result"
    },
    {
     "data": {
      "image/png": "[encoded data removed]",
      "text/plain": [
       "<Figure size 1440x1440 with 1 Axes>"
      ]
     },
     "metadata": {
      "needs_background": "light"
     },
     "output_type": "display_data"
    }
   ],
   "source": [
    "fig, ax = plt.subplots(figsize=(20,20))\n",
    "ax.scatter(matrix_df['fresh vegetables'], matrix_df['fresh fruits'], c=matrix_df['cluster'], cmap='viridis')"
   ]
  },
  {
   "cell_type": "code",
   "execution_count": 33,
   "metadata": {},
   "outputs": [
    {
     "data": {
      "text/plain": [
       "<matplotlib.collections.PathCollection at 0x7f1b3bff9748>"
      ]
     },
     "execution_count": 33,
     "metadata": {},
     "output_type": "execute_result"
    },
    {
     "data": {
      "image/png": "[encoded data removed]",
      "text/plain": [
       "<Figure size 1440x1440 with 1 Axes>"
      ]
     },
     "metadata": {
      "needs_background": "light"
     },
     "output_type": "display_data"
    }
   ],
   "source": [
    "fig, ax = plt.subplots(figsize=(20,20))\n",
    "ax.scatter(matrix_df['soft drinks'], matrix_df['fresh fruits'], c=matrix_df['cluster'], cmap='viridis')"
   ]
  },
  {
   "cell_type": "markdown",
   "metadata": {},
   "source": [
    "PCA dim as scales"
   ]
  },
  {
   "cell_type": "code",
   "execution_count": 14,
   "metadata": {},
   "outputs": [
    {
     "data": {
      "image/png": "[encoded data removed]",
      "text/plain": [
       "<Figure size 720x720 with 1 Axes>"
      ]
     },
     "metadata": {
      "needs_background": "light"
     },
     "output_type": "display_data"
    }
   ],
   "source": [
    "fig, ax = plt.subplots(figsize=(10,10))\n",
    "ax.scatter(reduc_matrix[:,0], reduc_matrix[:,1], c=kmeans.labels_, cmap='viridis')\n",
    "centers = kmeans.cluster_centers_\n",
    "ax.scatter(centers[:,0], centers[:,1], c='red', alpha=0.5);"
   ]
  },
  {
   "cell_type": "markdown",
   "metadata": {},
   "source": [
    "## Habits"
   ]
  },
  {
   "cell_type": "code",
   "execution_count": 12,
   "metadata": {},
   "outputs": [],
   "source": [
    "orders = pd.read_csv('data/orders.csv', sep=',')"
   ]
  },
  {
   "cell_type": "code",
   "execution_count": 38,
   "metadata": {},
   "outputs": [],
   "source": [
    "def stats_cluster(nb_cluster):\n",
    "    user = matrix_df.index[matrix_df.cluster==nb_cluster]\n",
    "\n",
    "    # Timing of orders\n",
    "    print (orders[orders.user_id.isin(user)].groupby('order_id').mean().describe())"
   ]
  },
  {
   "cell_type": "code",
   "execution_count": 39,
   "metadata": {},
   "outputs": [
    {
     "name": "stdout",
     "output_type": "stream",
     "text": [
      "             user_id   order_number      order_dow  order_hour_of_day  \\\n",
      "count  895494.000000  895494.000000  895494.000000      895494.000000   \n",
      "mean   102882.132453      17.022546       2.772951          13.469488   \n",
      "std     59493.084997      17.569537       2.046888           4.232728   \n",
      "min         3.000000       1.000000       0.000000           0.000000   \n",
      "25%     51884.000000       5.000000       1.000000          10.000000   \n",
      "50%    102604.000000      11.000000       3.000000          13.000000   \n",
      "75%    153893.000000      23.000000       5.000000          16.000000   \n",
      "max    206205.000000     100.000000       6.000000          23.000000   \n",
      "\n",
      "       days_since_prior_order  \n",
      "count           841373.000000  \n",
      "mean                11.133742  \n",
      "std                  9.210840  \n",
      "min                  0.000000  \n",
      "25%                  4.000000  \n",
      "50%                  7.000000  \n",
      "75%                 15.000000  \n",
      "max                 30.000000  \n"
     ]
    }
   ],
   "source": [
    "stats_cluster(0)"
   ]
  },
  {
   "cell_type": "code",
   "execution_count": 40,
   "metadata": {},
   "outputs": [
    {
     "name": "stdout",
     "output_type": "stream",
     "text": [
      "             user_id   order_number      order_dow  order_hour_of_day  \\\n",
      "count  969506.000000  969506.000000  969506.000000      969506.000000   \n",
      "mean   103319.076853      17.247200       2.776585          13.449769   \n",
      "std     59451.200535      17.815528       2.047270           4.226431   \n",
      "min         1.000000       1.000000       0.000000           0.000000   \n",
      "25%     51574.000000       5.000000       1.000000          10.000000   \n",
      "50%    103186.000000      11.000000       3.000000          13.000000   \n",
      "75%    154658.000000      24.000000       5.000000          16.000000   \n",
      "max    206208.000000     100.000000       6.000000          23.000000   \n",
      "\n",
      "       days_since_prior_order  \n",
      "count           911217.000000  \n",
      "mean                11.097471  \n",
      "std                  9.197051  \n",
      "min                  0.000000  \n",
      "25%                  4.000000  \n",
      "50%                  7.000000  \n",
      "75%                 15.000000  \n",
      "max                 30.000000  \n"
     ]
    }
   ],
   "source": [
    "stats_cluster(1)"
   ]
  },
  {
   "cell_type": "code",
   "execution_count": 41,
   "metadata": {},
   "outputs": [
    {
     "name": "stdout",
     "output_type": "stream",
     "text": [
      "            user_id  order_number     order_dow  order_hour_of_day  \\\n",
      "count  1.556069e+06  1.556069e+06  1.556069e+06       1.556069e+06   \n",
      "mean   1.028202e+05  1.717355e+01  2.777870e+00       1.344336e+01   \n",
      "std    5.960706e+04  1.777503e+01  2.046522e+00       4.222033e+00   \n",
      "min    4.000000e+00  1.000000e+00  0.000000e+00       0.000000e+00   \n",
      "25%    5.100900e+04  5.000000e+00  1.000000e+00       1.000000e+01   \n",
      "50%    1.024700e+05  1.100000e+01  3.000000e+00       1.300000e+01   \n",
      "75%    1.545210e+05  2.300000e+01  5.000000e+00       1.600000e+01   \n",
      "max    2.062070e+05  1.000000e+02  6.000000e+00       2.300000e+01   \n",
      "\n",
      "       days_since_prior_order  \n",
      "count            1.462271e+06  \n",
      "mean             1.111471e+01  \n",
      "std              9.210351e+00  \n",
      "min              0.000000e+00  \n",
      "25%              4.000000e+00  \n",
      "50%              7.000000e+00  \n",
      "75%              1.500000e+01  \n",
      "max              3.000000e+01  \n"
     ]
    }
   ],
   "source": [
    "stats_cluster(2)"
   ]
  },
  {
   "cell_type": "markdown",
   "metadata": {},
   "source": [
    "Bon le seum, tjrs rien d'interessant en terme de jour et heure de commande, nb de commande, et date de la derniere commande..."
   ]
  },
  {
   "cell_type": "code",
   "execution_count": 13,
   "metadata": {},
   "outputs": [],
   "source": [
    "history = pd.read_csv('data/order_products__prior.csv', sep=',')"
   ]
  },
  {
   "cell_type": "code",
   "execution_count": 14,
   "metadata": {},
   "outputs": [],
   "source": [
    "def orders_qte(nb_cluster):\n",
    "    user = matrix_df.index[matrix_df.cluster==nb_cluster]\n",
    "    order_cluster = orders[orders.user_id.isin(user)].order_id\n",
    "    print(history[history.order_id.isin(order_cluster)].groupby('order_id').count().mean())"
   ]
  },
  {
   "cell_type": "code",
   "execution_count": null,
   "metadata": {},
   "outputs": [],
   "source": [
    "orders_qte(0)"
   ]
  },
  {
   "cell_type": "code",
   "execution_count": null,
   "metadata": {},
   "outputs": [],
   "source": [
    "orders_qte(1)"
   ]
  },
  {
   "cell_type": "code",
   "execution_count": null,
   "metadata": {},
   "outputs": [],
   "source": [
    "orders_qte(2)"
   ]
  },
  {
   "cell_type": "markdown",
   "metadata": {},
   "source": [
    "_Je n'ai pas réussi à run pour voir le nb de produits pas order, mais j'y crois assez peu_"
   ]
  },
  {
   "cell_type": "markdown",
   "metadata": {},
   "source": [
    "## Client fidelity and ranking of products"
   ]
  },
  {
   "cell_type": "code",
   "execution_count": 3,
   "metadata": {},
   "outputs": [],
   "source": [
    "import pickle\n",
    "f=open(\"history_small\",\"rb\")\n",
    "history_small = pickle.load(f)\n",
    "f.close()"
   ]
  },
  {
   "cell_type": "code",
   "execution_count": 4,
   "metadata": {},
   "outputs": [],
   "source": [
    "consumptions = pd.merge(history_small, orders, on=\"order_id\")\n",
    "consumptions[\"product_id_bis\"]=consumptions[\"product_id\"]"
   ]
  },
  {
   "cell_type": "code",
   "execution_count": 5,
   "metadata": {},
   "outputs": [
    {
     "data": {
      "text/html": [
       "<div>\n",
       "<style scoped>\n",
       "    .dataframe tbody tr th:only-of-type {\n",
       "        vertical-align: middle;\n",
       "    }\n",
       "\n",
       "    .dataframe tbody tr th {\n",
       "        vertical-align: top;\n",
       "    }\n",
       "\n",
       "    .dataframe thead th {\n",
       "        text-align: right;\n",
       "    }\n",
       "</style>\n",
       "<table border=\"1\" class=\"dataframe\">\n",
       "  <thead>\n",
       "    <tr style=\"text-align: right;\">\n",
       "      <th></th>\n",
       "      <th>order_id</th>\n",
       "      <th>product_id</th>\n",
       "      <th>add_to_cart_order</th>\n",
       "      <th>reordered</th>\n",
       "      <th>user_id</th>\n",
       "      <th>eval_set</th>\n",
       "      <th>order_number</th>\n",
       "      <th>order_dow</th>\n",
       "      <th>order_hour_of_day</th>\n",
       "      <th>days_since_prior_order</th>\n",
       "      <th>product_id_bis</th>\n",
       "    </tr>\n",
       "  </thead>\n",
       "  <tbody>\n",
       "    <tr>\n",
       "      <td>0</td>\n",
       "      <td>2</td>\n",
       "      <td>33120</td>\n",
       "      <td>1</td>\n",
       "      <td>1</td>\n",
       "      <td>202279</td>\n",
       "      <td>prior</td>\n",
       "      <td>3</td>\n",
       "      <td>5</td>\n",
       "      <td>9</td>\n",
       "      <td>8.0</td>\n",
       "      <td>33120</td>\n",
       "    </tr>\n",
       "    <tr>\n",
       "      <td>1</td>\n",
       "      <td>2</td>\n",
       "      <td>28985</td>\n",
       "      <td>2</td>\n",
       "      <td>1</td>\n",
       "      <td>202279</td>\n",
       "      <td>prior</td>\n",
       "      <td>3</td>\n",
       "      <td>5</td>\n",
       "      <td>9</td>\n",
       "      <td>8.0</td>\n",
       "      <td>28985</td>\n",
       "    </tr>\n",
       "    <tr>\n",
       "      <td>2</td>\n",
       "      <td>2</td>\n",
       "      <td>9327</td>\n",
       "      <td>3</td>\n",
       "      <td>0</td>\n",
       "      <td>202279</td>\n",
       "      <td>prior</td>\n",
       "      <td>3</td>\n",
       "      <td>5</td>\n",
       "      <td>9</td>\n",
       "      <td>8.0</td>\n",
       "      <td>9327</td>\n",
       "    </tr>\n",
       "    <tr>\n",
       "      <td>3</td>\n",
       "      <td>2</td>\n",
       "      <td>45918</td>\n",
       "      <td>4</td>\n",
       "      <td>1</td>\n",
       "      <td>202279</td>\n",
       "      <td>prior</td>\n",
       "      <td>3</td>\n",
       "      <td>5</td>\n",
       "      <td>9</td>\n",
       "      <td>8.0</td>\n",
       "      <td>45918</td>\n",
       "    </tr>\n",
       "    <tr>\n",
       "      <td>4</td>\n",
       "      <td>2</td>\n",
       "      <td>30035</td>\n",
       "      <td>5</td>\n",
       "      <td>0</td>\n",
       "      <td>202279</td>\n",
       "      <td>prior</td>\n",
       "      <td>3</td>\n",
       "      <td>5</td>\n",
       "      <td>9</td>\n",
       "      <td>8.0</td>\n",
       "      <td>30035</td>\n",
       "    </tr>\n",
       "  </tbody>\n",
       "</table>\n",
       "</div>"
      ],
      "text/plain": [
       "   order_id  product_id  add_to_cart_order  reordered  user_id eval_set  \\\n",
       "0         2       33120                  1          1   202279    prior   \n",
       "1         2       28985                  2          1   202279    prior   \n",
       "2         2        9327                  3          0   202279    prior   \n",
       "3         2       45918                  4          1   202279    prior   \n",
       "4         2       30035                  5          0   202279    prior   \n",
       "\n",
       "   order_number  order_dow  order_hour_of_day  days_since_prior_order  \\\n",
       "0             3          5                  9                     8.0   \n",
       "1             3          5                  9                     8.0   \n",
       "2             3          5                  9                     8.0   \n",
       "3             3          5                  9                     8.0   \n",
       "4             3          5                  9                     8.0   \n",
       "\n",
       "   product_id_bis  \n",
       "0           33120  \n",
       "1           28985  \n",
       "2            9327  \n",
       "3           45918  \n",
       "4           30035  "
      ]
     },
     "execution_count": 5,
     "metadata": {},
     "output_type": "execute_result"
    }
   ],
   "source": [
    "consumptions.head()"
   ]
  },
  {
   "cell_type": "markdown",
   "metadata": {},
   "source": [
    "#### Fidelity = number of times each user re-bought each product"
   ]
  },
  {
   "cell_type": "code",
   "execution_count": 6,
   "metadata": {},
   "outputs": [],
   "source": [
    "fidelity = consumptions.groupby([\"user_id\",\"product_id\"]).agg({'reordered': \"sum\",\"product_id_bis\" :\"mean\"})"
   ]
  },
  {
   "cell_type": "markdown",
   "metadata": {},
   "source": [
    "#### Fidelity_per_user = number of times each user re-bought a product, on average"
   ]
  },
  {
   "cell_type": "code",
   "execution_count": 7,
   "metadata": {},
   "outputs": [
    {
     "data": {
      "text/html": [
       "<div>\n",
       "<style scoped>\n",
       "    .dataframe tbody tr th:only-of-type {\n",
       "        vertical-align: middle;\n",
       "    }\n",
       "\n",
       "    .dataframe tbody tr th {\n",
       "        vertical-align: top;\n",
       "    }\n",
       "\n",
       "    .dataframe thead th {\n",
       "        text-align: right;\n",
       "    }\n",
       "</style>\n",
       "<table border=\"1\" class=\"dataframe\">\n",
       "  <thead>\n",
       "    <tr style=\"text-align: right;\">\n",
       "      <th></th>\n",
       "      <th>user_fidelity</th>\n",
       "    </tr>\n",
       "    <tr>\n",
       "      <th>user_id</th>\n",
       "      <th></th>\n",
       "    </tr>\n",
       "  </thead>\n",
       "  <tbody>\n",
       "    <tr>\n",
       "      <td>170452</td>\n",
       "      <td>0.012658</td>\n",
       "    </tr>\n",
       "    <tr>\n",
       "      <td>55086</td>\n",
       "      <td>0.020000</td>\n",
       "    </tr>\n",
       "    <tr>\n",
       "      <td>129873</td>\n",
       "      <td>0.020000</td>\n",
       "    </tr>\n",
       "    <tr>\n",
       "      <td>56718</td>\n",
       "      <td>0.020000</td>\n",
       "    </tr>\n",
       "    <tr>\n",
       "      <td>126770</td>\n",
       "      <td>0.021277</td>\n",
       "    </tr>\n",
       "  </tbody>\n",
       "</table>\n",
       "</div>"
      ],
      "text/plain": [
       "         user_fidelity\n",
       "user_id               \n",
       "170452        0.012658\n",
       "55086         0.020000\n",
       "129873        0.020000\n",
       "56718         0.020000\n",
       "126770        0.021277"
      ]
     },
     "execution_count": 7,
     "metadata": {},
     "output_type": "execute_result"
    }
   ],
   "source": [
    "fidelity_per_user = fidelity.groupby(\"user_id\").agg({'reordered':'mean'}).rename(columns={\"reordered\": \"user_fidelity\"})\n",
    "fidelity_per_user_notnull = fidelity_per_user[fidelity_per_user.user_fidelity>0]\n",
    "fidelity_per_user_notnull.sort_values(\"user_fidelity\").head()"
   ]
  },
  {
   "cell_type": "markdown",
   "metadata": {},
   "source": [
    "#### Satisfaction_per_product = number of times each product is re-bought by users, on average"
   ]
  },
  {
   "cell_type": "code",
   "execution_count": 8,
   "metadata": {},
   "outputs": [],
   "source": [
    "satisfaction_per_product = fidelity.groupby(\"product_id\").agg({'reordered':'mean'}).rename(columns={\"reordered\": \"satisfaction_per_product\"})"
   ]
  },
  {
   "cell_type": "code",
   "execution_count": 9,
   "metadata": {
    "scrolled": true
   },
   "outputs": [
    {
     "data": {
      "text/html": [
       "<div>\n",
       "<style scoped>\n",
       "    .dataframe tbody tr th:only-of-type {\n",
       "        vertical-align: middle;\n",
       "    }\n",
       "\n",
       "    .dataframe tbody tr th {\n",
       "        vertical-align: top;\n",
       "    }\n",
       "\n",
       "    .dataframe thead th {\n",
       "        text-align: right;\n",
       "    }\n",
       "</style>\n",
       "<table border=\"1\" class=\"dataframe\">\n",
       "  <thead>\n",
       "    <tr style=\"text-align: right;\">\n",
       "      <th></th>\n",
       "      <th>satisfaction_per_product</th>\n",
       "    </tr>\n",
       "    <tr>\n",
       "      <th>product_id</th>\n",
       "      <th></th>\n",
       "    </tr>\n",
       "  </thead>\n",
       "  <tbody>\n",
       "    <tr>\n",
       "      <td>25593</td>\n",
       "      <td>5.500000</td>\n",
       "    </tr>\n",
       "    <tr>\n",
       "      <td>21482</td>\n",
       "      <td>6.000000</td>\n",
       "    </tr>\n",
       "    <tr>\n",
       "      <td>12995</td>\n",
       "      <td>6.666667</td>\n",
       "    </tr>\n",
       "    <tr>\n",
       "      <td>12981</td>\n",
       "      <td>7.000000</td>\n",
       "    </tr>\n",
       "    <tr>\n",
       "      <td>19675</td>\n",
       "      <td>8.000000</td>\n",
       "    </tr>\n",
       "  </tbody>\n",
       "</table>\n",
       "</div>"
      ],
      "text/plain": [
       "            satisfaction_per_product\n",
       "product_id                          \n",
       "25593                       5.500000\n",
       "21482                       6.000000\n",
       "12995                       6.666667\n",
       "12981                       7.000000\n",
       "19675                       8.000000"
      ]
     },
     "execution_count": 9,
     "metadata": {},
     "output_type": "execute_result"
    }
   ],
   "source": [
    "satisfaction_per_product.sort_values(\"satisfaction_per_product\").tail()"
   ]
  },
  {
   "cell_type": "markdown",
   "metadata": {},
   "source": [
    "#### Product_quality = how users like the product (weighted average over user fidelity)"
   ]
  },
  {
   "cell_type": "code",
   "execution_count": 10,
   "metadata": {},
   "outputs": [],
   "source": [
    "with_user_fidelity = pd.merge(fidelity, fidelity_per_user_notnull, on=\"user_id\")\n",
    "with_user_fidelity[\"appreciation_per_user\"] = with_user_fidelity.reordered/with_user_fidelity.user_fidelity"
   ]
  },
  {
   "cell_type": "code",
   "execution_count": 11,
   "metadata": {},
   "outputs": [],
   "source": [
    "quality_per_product = with_user_fidelity.groupby(\"product_id_bis\").agg({\"appreciation_per_user\":\"mean\"})"
   ]
  },
  {
   "cell_type": "code",
   "execution_count": 12,
   "metadata": {},
   "outputs": [
    {
     "data": {
      "text/html": [
       "<div>\n",
       "<style scoped>\n",
       "    .dataframe tbody tr th:only-of-type {\n",
       "        vertical-align: middle;\n",
       "    }\n",
       "\n",
       "    .dataframe tbody tr th {\n",
       "        vertical-align: top;\n",
       "    }\n",
       "\n",
       "    .dataframe thead th {\n",
       "        text-align: right;\n",
       "    }\n",
       "</style>\n",
       "<table border=\"1\" class=\"dataframe\">\n",
       "  <thead>\n",
       "    <tr style=\"text-align: right;\">\n",
       "      <th></th>\n",
       "      <th>appreciation_per_user</th>\n",
       "    </tr>\n",
       "    <tr>\n",
       "      <th>product_id_bis</th>\n",
       "      <th></th>\n",
       "    </tr>\n",
       "  </thead>\n",
       "  <tbody>\n",
       "    <tr>\n",
       "      <td>39746</td>\n",
       "      <td>10.840064</td>\n",
       "    </tr>\n",
       "    <tr>\n",
       "      <td>25135</td>\n",
       "      <td>11.333333</td>\n",
       "    </tr>\n",
       "    <tr>\n",
       "      <td>32612</td>\n",
       "      <td>15.250000</td>\n",
       "    </tr>\n",
       "    <tr>\n",
       "      <td>16424</td>\n",
       "      <td>19.000000</td>\n",
       "    </tr>\n",
       "    <tr>\n",
       "      <td>36433</td>\n",
       "      <td>19.302239</td>\n",
       "    </tr>\n",
       "  </tbody>\n",
       "</table>\n",
       "</div>"
      ],
      "text/plain": [
       "                appreciation_per_user\n",
       "product_id_bis                       \n",
       "39746                       10.840064\n",
       "25135                       11.333333\n",
       "32612                       15.250000\n",
       "16424                       19.000000\n",
       "36433                       19.302239"
      ]
     },
     "execution_count": 12,
     "metadata": {},
     "output_type": "execute_result"
    }
   ],
   "source": [
    "quality_per_product.sort_values(\"appreciation_per_user\").tail()"
   ]
  },
  {
   "cell_type": "code",
   "execution_count": 13,
   "metadata": {},
   "outputs": [],
   "source": [
    "quality_per_product[\"count\"]=1\n",
    "quality_per_product[\"appreciation_per_user\"]=round(quality_per_product[\"appreciation_per_user\"],2)\n",
    "distribution_qualities = quality_per_product.groupby(\"appreciation_per_user\").agg({\"count\":\"sum\"})"
   ]
  },
  {
   "cell_type": "code",
   "execution_count": 14,
   "metadata": {},
   "outputs": [
    {
     "data": {
      "text/plain": [
       "Text(0.5, 1.0, 'User appreciation distribution')"
      ]
     },
     "execution_count": 14,
     "metadata": {},
     "output_type": "execute_result"
    },
    {
     "data": {
      "image/png": "[encoded data removed]",
      "text/plain": [
       "<Figure size 432x288 with 1 Axes>"
      ]
     },
     "metadata": {
      "needs_background": "light"
     },
     "output_type": "display_data"
    }
   ],
   "source": [
    "Y = list(distribution_qualities.values)\n",
    "X = list(distribution_qualities.index)\n",
    "l = round(len(Y)/2)\n",
    "plt.plot(X[1:l],Y[1:l])\n",
    "plt.xlabel(\"User appreciation\")\n",
    "plt.ylabel(\"Number of products\")\n",
    "plt.title(\"User appreciation distribution\")"
   ]
  },
  {
   "cell_type": "markdown",
   "metadata": {},
   "source": [
    "Left-skewed distribution, with average 1 by definition (we normalized by user enthousiasm)."
   ]
  },
  {
   "cell_type": "markdown",
   "metadata": {},
   "source": [
    "#### Now let's try to get a \"satisfaction score\" for each aisle"
   ]
  },
  {
   "cell_type": "markdown",
   "metadata": {},
   "source": [
    "We might think about averaging the scores, but some of them may be undefined, and some products might be much more consumed than others."
   ]
  },
  {
   "cell_type": "code",
   "execution_count": 15,
   "metadata": {},
   "outputs": [],
   "source": [
    "# Weight given to each product = number of times it was bought\n",
    "consumptions[\"count_consumptions\"] = 1\n",
    "product_weights = consumptions.groupby(\"product_id\").agg({\"count_consumptions\":\"sum\"})"
   ]
  },
  {
   "cell_type": "code",
   "execution_count": 16,
   "metadata": {},
   "outputs": [],
   "source": [
    "# Columns of qualities_and_weights : product_id || score of the product || number of times it was bought\n",
    "quality_per_product[\"product_id\"] = quality_per_product.index\n",
    "qualities_and_weights = pd.merge(product_weights, quality_per_product, on=\"product_id\")\n",
    "\n",
    "# qualities_joined links the previous dataset with data about products (aisle, department...)\n",
    "qualities_joined = pd.merge(qualities_and_weights, products, on=\"product_id\")\n",
    "qualities_joined[\"sum_appreciations\"]=qualities_joined.appreciation_per_user * qualities_joined.count_consumptions"
   ]
  },
  {
   "cell_type": "code",
   "execution_count": 17,
   "metadata": {},
   "outputs": [
    {
     "data": {
      "text/html": [
       "<div>\n",
       "<style scoped>\n",
       "    .dataframe tbody tr th:only-of-type {\n",
       "        vertical-align: middle;\n",
       "    }\n",
       "\n",
       "    .dataframe tbody tr th {\n",
       "        vertical-align: top;\n",
       "    }\n",
       "\n",
       "    .dataframe thead th {\n",
       "        text-align: right;\n",
       "    }\n",
       "</style>\n",
       "<table border=\"1\" class=\"dataframe\">\n",
       "  <thead>\n",
       "    <tr style=\"text-align: right;\">\n",
       "      <th></th>\n",
       "      <th>product_id</th>\n",
       "      <th>count_consumptions</th>\n",
       "      <th>appreciation_per_user</th>\n",
       "      <th>count</th>\n",
       "      <th>product_name</th>\n",
       "      <th>aisle_id</th>\n",
       "      <th>department_id</th>\n",
       "      <th>sum_appreciations</th>\n",
       "    </tr>\n",
       "  </thead>\n",
       "  <tbody>\n",
       "    <tr>\n",
       "      <td>0</td>\n",
       "      <td>1</td>\n",
       "      <td>290</td>\n",
       "      <td>0.72</td>\n",
       "      <td>1</td>\n",
       "      <td>Chocolate Sandwich Cookies</td>\n",
       "      <td>61</td>\n",
       "      <td>19</td>\n",
       "      <td>208.80</td>\n",
       "    </tr>\n",
       "    <tr>\n",
       "      <td>1</td>\n",
       "      <td>2</td>\n",
       "      <td>14</td>\n",
       "      <td>0.10</td>\n",
       "      <td>1</td>\n",
       "      <td>All-Seasons Salt</td>\n",
       "      <td>104</td>\n",
       "      <td>13</td>\n",
       "      <td>1.40</td>\n",
       "    </tr>\n",
       "    <tr>\n",
       "      <td>2</td>\n",
       "      <td>3</td>\n",
       "      <td>27</td>\n",
       "      <td>1.54</td>\n",
       "      <td>1</td>\n",
       "      <td>Robust Golden Unsweetened Oolong Tea</td>\n",
       "      <td>94</td>\n",
       "      <td>7</td>\n",
       "      <td>41.58</td>\n",
       "    </tr>\n",
       "    <tr>\n",
       "      <td>3</td>\n",
       "      <td>4</td>\n",
       "      <td>46</td>\n",
       "      <td>0.74</td>\n",
       "      <td>1</td>\n",
       "      <td>Smart Ones Classic Favorites Mini Rigatoni Wit...</td>\n",
       "      <td>38</td>\n",
       "      <td>1</td>\n",
       "      <td>34.04</td>\n",
       "    </tr>\n",
       "    <tr>\n",
       "      <td>4</td>\n",
       "      <td>5</td>\n",
       "      <td>2</td>\n",
       "      <td>1.06</td>\n",
       "      <td>1</td>\n",
       "      <td>Green Chile Anytime Sauce</td>\n",
       "      <td>5</td>\n",
       "      <td>13</td>\n",
       "      <td>2.12</td>\n",
       "    </tr>\n",
       "  </tbody>\n",
       "</table>\n",
       "</div>"
      ],
      "text/plain": [
       "   product_id  count_consumptions  appreciation_per_user  count  \\\n",
       "0           1                 290                   0.72      1   \n",
       "1           2                  14                   0.10      1   \n",
       "2           3                  27                   1.54      1   \n",
       "3           4                  46                   0.74      1   \n",
       "4           5                   2                   1.06      1   \n",
       "\n",
       "                                        product_name  aisle_id  department_id  \\\n",
       "0                         Chocolate Sandwich Cookies        61             19   \n",
       "1                                   All-Seasons Salt       104             13   \n",
       "2               Robust Golden Unsweetened Oolong Tea        94              7   \n",
       "3  Smart Ones Classic Favorites Mini Rigatoni Wit...        38              1   \n",
       "4                          Green Chile Anytime Sauce         5             13   \n",
       "\n",
       "   sum_appreciations  \n",
       "0             208.80  \n",
       "1               1.40  \n",
       "2              41.58  \n",
       "3              34.04  \n",
       "4               2.12  "
      ]
     },
     "execution_count": 17,
     "metadata": {},
     "output_type": "execute_result"
    }
   ],
   "source": [
    "qualities_joined.head()"
   ]
  },
  {
   "cell_type": "code",
   "execution_count": 20,
   "metadata": {},
   "outputs": [],
   "source": [
    "# Quality of an aisle = weighted average of scores of its products\n",
    "\n",
    "# Group by aisle remembering sum of scores and total weight\n",
    "aisle_avg_quality = qualities_joined.groupby(\"aisle_id\").agg({\"count_consumptions\":\"sum\",\"sum_appreciations\":\"sum\"})\n",
    "\n",
    "# Make a smart division to obtain weighted average\n",
    "aisle_avg_quality[\"aisle_score\"] = aisle_avg_quality.sum_appreciations / aisle_avg_quality.count_consumptions\n",
    "\n",
    "# Put the name of the aisle with previous data\n",
    "aisle_avg_quality = pd.merge(aisle_avg_quality[[\"aisle_score\",\"count_consumptions\"]], aisles, on=\"aisle_id\")"
   ]
  },
  {
   "cell_type": "markdown",
   "metadata": {},
   "source": [
    "The score is difficult to interpret. Nevertheless, a score bigger than 1 means that the majority of products bought in the aisle are more often re-consumed than the overall average. The smaller the score, the less often consumers tend to re-buy the products of the aisle.\n",
    "\n",
    "The column \"count_consumptions\" may be considered as the reilabilit of the score. The smaller, the less orders were made from this aisle, the more an outlier consumer can biase the score."
   ]
  },
  {
   "cell_type": "code",
   "execution_count": 45,
   "metadata": {},
   "outputs": [
    {
     "data": {
      "text/html": [
       "<div>\n",
       "<style scoped>\n",
       "    .dataframe tbody tr th:only-of-type {\n",
       "        vertical-align: middle;\n",
       "    }\n",
       "\n",
       "    .dataframe tbody tr th {\n",
       "        vertical-align: top;\n",
       "    }\n",
       "\n",
       "    .dataframe thead th {\n",
       "        text-align: right;\n",
       "    }\n",
       "</style>\n",
       "<table border=\"1\" class=\"dataframe\">\n",
       "  <thead>\n",
       "    <tr style=\"text-align: right;\">\n",
       "      <th></th>\n",
       "      <th>aisle_id</th>\n",
       "      <th>aisle_score</th>\n",
       "      <th>count_consumptions</th>\n",
       "      <th>aisle</th>\n",
       "    </tr>\n",
       "  </thead>\n",
       "  <tbody>\n",
       "    <tr>\n",
       "      <td>127</td>\n",
       "      <td>128</td>\n",
       "      <td>0.919202</td>\n",
       "      <td>29900</td>\n",
       "      <td>tortillas flat bread</td>\n",
       "    </tr>\n",
       "    <tr>\n",
       "      <td>53</td>\n",
       "      <td>54</td>\n",
       "      <td>0.919672</td>\n",
       "      <td>37377</td>\n",
       "      <td>paper goods</td>\n",
       "    </tr>\n",
       "    <tr>\n",
       "      <td>49</td>\n",
       "      <td>50</td>\n",
       "      <td>0.920789</td>\n",
       "      <td>27271</td>\n",
       "      <td>fruit vegetable snacks</td>\n",
       "    </tr>\n",
       "    <tr>\n",
       "      <td>6</td>\n",
       "      <td>7</td>\n",
       "      <td>0.930176</td>\n",
       "      <td>5069</td>\n",
       "      <td>packaged meat</td>\n",
       "    </tr>\n",
       "    <tr>\n",
       "      <td>124</td>\n",
       "      <td>125</td>\n",
       "      <td>0.930303</td>\n",
       "      <td>5542</td>\n",
       "      <td>trail mix snack mix</td>\n",
       "    </tr>\n",
       "    <tr>\n",
       "      <td>56</td>\n",
       "      <td>57</td>\n",
       "      <td>0.934326</td>\n",
       "      <td>16123</td>\n",
       "      <td>granola</td>\n",
       "    </tr>\n",
       "    <tr>\n",
       "      <td>47</td>\n",
       "      <td>48</td>\n",
       "      <td>0.950905</td>\n",
       "      <td>11291</td>\n",
       "      <td>breakfast bars pastries</td>\n",
       "    </tr>\n",
       "    <tr>\n",
       "      <td>41</td>\n",
       "      <td>42</td>\n",
       "      <td>0.955150</td>\n",
       "      <td>15560</td>\n",
       "      <td>frozen vegan vegetarian</td>\n",
       "    </tr>\n",
       "    <tr>\n",
       "      <td>105</td>\n",
       "      <td>106</td>\n",
       "      <td>0.956703</td>\n",
       "      <td>46845</td>\n",
       "      <td>hot dogs bacon sausage</td>\n",
       "    </tr>\n",
       "    <tr>\n",
       "      <td>70</td>\n",
       "      <td>71</td>\n",
       "      <td>0.959261</td>\n",
       "      <td>5818</td>\n",
       "      <td>refrigerated pudding desserts</td>\n",
       "    </tr>\n",
       "    <tr>\n",
       "      <td>20</td>\n",
       "      <td>21</td>\n",
       "      <td>0.968770</td>\n",
       "      <td>151105</td>\n",
       "      <td>packaged cheese</td>\n",
       "    </tr>\n",
       "    <tr>\n",
       "      <td>22</td>\n",
       "      <td>23</td>\n",
       "      <td>0.974889</td>\n",
       "      <td>25288</td>\n",
       "      <td>popcorn jerky</td>\n",
       "    </tr>\n",
       "    <tr>\n",
       "      <td>35</td>\n",
       "      <td>36</td>\n",
       "      <td>0.981544</td>\n",
       "      <td>39092</td>\n",
       "      <td>butter</td>\n",
       "    </tr>\n",
       "    <tr>\n",
       "      <td>107</td>\n",
       "      <td>108</td>\n",
       "      <td>0.981878</td>\n",
       "      <td>47359</td>\n",
       "      <td>other creams cheeses</td>\n",
       "    </tr>\n",
       "    <tr>\n",
       "      <td>106</td>\n",
       "      <td>107</td>\n",
       "      <td>0.990483</td>\n",
       "      <td>111976</td>\n",
       "      <td>chips pretzels</td>\n",
       "    </tr>\n",
       "    <tr>\n",
       "      <td>37</td>\n",
       "      <td>38</td>\n",
       "      <td>0.999516</td>\n",
       "      <td>60121</td>\n",
       "      <td>frozen meals</td>\n",
       "    </tr>\n",
       "    <tr>\n",
       "      <td>17</td>\n",
       "      <td>18</td>\n",
       "      <td>1.005289</td>\n",
       "      <td>2679</td>\n",
       "      <td>bulk dried fruits vegetables</td>\n",
       "    </tr>\n",
       "    <tr>\n",
       "      <td>82</td>\n",
       "      <td>83</td>\n",
       "      <td>1.023599</td>\n",
       "      <td>526397</td>\n",
       "      <td>fresh vegetables</td>\n",
       "    </tr>\n",
       "    <tr>\n",
       "      <td>66</td>\n",
       "      <td>67</td>\n",
       "      <td>1.032403</td>\n",
       "      <td>55014</td>\n",
       "      <td>fresh dips tapenades</td>\n",
       "    </tr>\n",
       "    <tr>\n",
       "      <td>95</td>\n",
       "      <td>96</td>\n",
       "      <td>1.033476</td>\n",
       "      <td>61020</td>\n",
       "      <td>lunch meat</td>\n",
       "    </tr>\n",
       "    <tr>\n",
       "      <td>78</td>\n",
       "      <td>79</td>\n",
       "      <td>1.036086</td>\n",
       "      <td>24747</td>\n",
       "      <td>frozen pizza</td>\n",
       "    </tr>\n",
       "    <tr>\n",
       "      <td>0</td>\n",
       "      <td>1</td>\n",
       "      <td>1.060475</td>\n",
       "      <td>11286</td>\n",
       "      <td>prepared soups salads</td>\n",
       "    </tr>\n",
       "    <tr>\n",
       "      <td>13</td>\n",
       "      <td>14</td>\n",
       "      <td>1.063093</td>\n",
       "      <td>19967</td>\n",
       "      <td>tofu meat alternatives</td>\n",
       "    </tr>\n",
       "    <tr>\n",
       "      <td>97</td>\n",
       "      <td>98</td>\n",
       "      <td>1.065721</td>\n",
       "      <td>51427</td>\n",
       "      <td>juice nectars</td>\n",
       "    </tr>\n",
       "    <tr>\n",
       "      <td>39</td>\n",
       "      <td>40</td>\n",
       "      <td>1.066958</td>\n",
       "      <td>5510</td>\n",
       "      <td>dog food care</td>\n",
       "    </tr>\n",
       "    <tr>\n",
       "      <td>34</td>\n",
       "      <td>35</td>\n",
       "      <td>1.083411</td>\n",
       "      <td>19942</td>\n",
       "      <td>poultry counter</td>\n",
       "    </tr>\n",
       "    <tr>\n",
       "      <td>133</td>\n",
       "      <td>134</td>\n",
       "      <td>1.105261</td>\n",
       "      <td>1724</td>\n",
       "      <td>specialty wines champagnes</td>\n",
       "    </tr>\n",
       "    <tr>\n",
       "      <td>25</td>\n",
       "      <td>26</td>\n",
       "      <td>1.121627</td>\n",
       "      <td>31960</td>\n",
       "      <td>coffee</td>\n",
       "    </tr>\n",
       "    <tr>\n",
       "      <td>51</td>\n",
       "      <td>52</td>\n",
       "      <td>1.122220</td>\n",
       "      <td>36053</td>\n",
       "      <td>frozen breakfast</td>\n",
       "    </tr>\n",
       "    <tr>\n",
       "      <td>122</td>\n",
       "      <td>123</td>\n",
       "      <td>1.133377</td>\n",
       "      <td>272495</td>\n",
       "      <td>packaged vegetables fruits</td>\n",
       "    </tr>\n",
       "    <tr>\n",
       "      <td>12</td>\n",
       "      <td>13</td>\n",
       "      <td>1.139851</td>\n",
       "      <td>15257</td>\n",
       "      <td>prepared meals</td>\n",
       "    </tr>\n",
       "    <tr>\n",
       "      <td>31</td>\n",
       "      <td>32</td>\n",
       "      <td>1.167501</td>\n",
       "      <td>42641</td>\n",
       "      <td>packaged produce</td>\n",
       "    </tr>\n",
       "    <tr>\n",
       "      <td>48</td>\n",
       "      <td>49</td>\n",
       "      <td>1.172601</td>\n",
       "      <td>18182</td>\n",
       "      <td>packaged poultry</td>\n",
       "    </tr>\n",
       "    <tr>\n",
       "      <td>92</td>\n",
       "      <td>93</td>\n",
       "      <td>1.178761</td>\n",
       "      <td>38563</td>\n",
       "      <td>breakfast bakery</td>\n",
       "    </tr>\n",
       "    <tr>\n",
       "      <td>26</td>\n",
       "      <td>27</td>\n",
       "      <td>1.232076</td>\n",
       "      <td>7492</td>\n",
       "      <td>beers coolers</td>\n",
       "    </tr>\n",
       "    <tr>\n",
       "      <td>119</td>\n",
       "      <td>120</td>\n",
       "      <td>1.232491</td>\n",
       "      <td>223693</td>\n",
       "      <td>yogurt</td>\n",
       "    </tr>\n",
       "    <tr>\n",
       "      <td>40</td>\n",
       "      <td>41</td>\n",
       "      <td>1.264508</td>\n",
       "      <td>9641</td>\n",
       "      <td>cat food care</td>\n",
       "    </tr>\n",
       "    <tr>\n",
       "      <td>30</td>\n",
       "      <td>31</td>\n",
       "      <td>1.272843</td>\n",
       "      <td>88639</td>\n",
       "      <td>refrigerated</td>\n",
       "    </tr>\n",
       "    <tr>\n",
       "      <td>27</td>\n",
       "      <td>28</td>\n",
       "      <td>1.276239</td>\n",
       "      <td>5586</td>\n",
       "      <td>red wines</td>\n",
       "    </tr>\n",
       "    <tr>\n",
       "      <td>111</td>\n",
       "      <td>112</td>\n",
       "      <td>1.292900</td>\n",
       "      <td>90175</td>\n",
       "      <td>bread</td>\n",
       "    </tr>\n",
       "    <tr>\n",
       "      <td>63</td>\n",
       "      <td>64</td>\n",
       "      <td>1.300137</td>\n",
       "      <td>15806</td>\n",
       "      <td>energy sports drinks</td>\n",
       "    </tr>\n",
       "    <tr>\n",
       "      <td>76</td>\n",
       "      <td>77</td>\n",
       "      <td>1.307538</td>\n",
       "      <td>55519</td>\n",
       "      <td>soft drinks</td>\n",
       "    </tr>\n",
       "    <tr>\n",
       "      <td>52</td>\n",
       "      <td>53</td>\n",
       "      <td>1.361207</td>\n",
       "      <td>49003</td>\n",
       "      <td>cream</td>\n",
       "    </tr>\n",
       "    <tr>\n",
       "      <td>90</td>\n",
       "      <td>91</td>\n",
       "      <td>1.396453</td>\n",
       "      <td>98749</td>\n",
       "      <td>soy lactosefree</td>\n",
       "    </tr>\n",
       "    <tr>\n",
       "      <td>123</td>\n",
       "      <td>124</td>\n",
       "      <td>1.411658</td>\n",
       "      <td>4197</td>\n",
       "      <td>spirits</td>\n",
       "    </tr>\n",
       "    <tr>\n",
       "      <td>23</td>\n",
       "      <td>24</td>\n",
       "      <td>1.462251</td>\n",
       "      <td>561621</td>\n",
       "      <td>fresh fruits</td>\n",
       "    </tr>\n",
       "    <tr>\n",
       "      <td>85</td>\n",
       "      <td>86</td>\n",
       "      <td>1.481831</td>\n",
       "      <td>69656</td>\n",
       "      <td>eggs</td>\n",
       "    </tr>\n",
       "    <tr>\n",
       "      <td>114</td>\n",
       "      <td>115</td>\n",
       "      <td>1.538071</td>\n",
       "      <td>129566</td>\n",
       "      <td>water seltzer sparkling water</td>\n",
       "    </tr>\n",
       "    <tr>\n",
       "      <td>61</td>\n",
       "      <td>62</td>\n",
       "      <td>1.572842</td>\n",
       "      <td>4722</td>\n",
       "      <td>white wines</td>\n",
       "    </tr>\n",
       "    <tr>\n",
       "      <td>83</td>\n",
       "      <td>84</td>\n",
       "      <td>1.826883</td>\n",
       "      <td>137304</td>\n",
       "      <td>milk</td>\n",
       "    </tr>\n",
       "  </tbody>\n",
       "</table>\n",
       "</div>"
      ],
      "text/plain": [
       "     aisle_id  aisle_score  count_consumptions                          aisle\n",
       "127       128     0.919202               29900           tortillas flat bread\n",
       "53         54     0.919672               37377                    paper goods\n",
       "49         50     0.920789               27271         fruit vegetable snacks\n",
       "6           7     0.930176                5069                  packaged meat\n",
       "124       125     0.930303                5542            trail mix snack mix\n",
       "56         57     0.934326               16123                        granola\n",
       "47         48     0.950905               11291        breakfast bars pastries\n",
       "41         42     0.955150               15560        frozen vegan vegetarian\n",
       "105       106     0.956703               46845         hot dogs bacon sausage\n",
       "70         71     0.959261                5818  refrigerated pudding desserts\n",
       "20         21     0.968770              151105                packaged cheese\n",
       "22         23     0.974889               25288                  popcorn jerky\n",
       "35         36     0.981544               39092                         butter\n",
       "107       108     0.981878               47359           other creams cheeses\n",
       "106       107     0.990483              111976                 chips pretzels\n",
       "37         38     0.999516               60121                   frozen meals\n",
       "17         18     1.005289                2679   bulk dried fruits vegetables\n",
       "82         83     1.023599              526397               fresh vegetables\n",
       "66         67     1.032403               55014           fresh dips tapenades\n",
       "95         96     1.033476               61020                     lunch meat\n",
       "78         79     1.036086               24747                   frozen pizza\n",
       "0           1     1.060475               11286          prepared soups salads\n",
       "13         14     1.063093               19967         tofu meat alternatives\n",
       "97         98     1.065721               51427                  juice nectars\n",
       "39         40     1.066958                5510                  dog food care\n",
       "34         35     1.083411               19942                poultry counter\n",
       "133       134     1.105261                1724     specialty wines champagnes\n",
       "25         26     1.121627               31960                         coffee\n",
       "51         52     1.122220               36053               frozen breakfast\n",
       "122       123     1.133377              272495     packaged vegetables fruits\n",
       "12         13     1.139851               15257                 prepared meals\n",
       "31         32     1.167501               42641               packaged produce\n",
       "48         49     1.172601               18182               packaged poultry\n",
       "92         93     1.178761               38563               breakfast bakery\n",
       "26         27     1.232076                7492                  beers coolers\n",
       "119       120     1.232491              223693                         yogurt\n",
       "40         41     1.264508                9641                  cat food care\n",
       "30         31     1.272843               88639                   refrigerated\n",
       "27         28     1.276239                5586                      red wines\n",
       "111       112     1.292900               90175                          bread\n",
       "63         64     1.300137               15806           energy sports drinks\n",
       "76         77     1.307538               55519                    soft drinks\n",
       "52         53     1.361207               49003                          cream\n",
       "90         91     1.396453               98749                soy lactosefree\n",
       "123       124     1.411658                4197                        spirits\n",
       "23         24     1.462251              561621                   fresh fruits\n",
       "85         86     1.481831               69656                           eggs\n",
       "114       115     1.538071              129566  water seltzer sparkling water\n",
       "61         62     1.572842                4722                    white wines\n",
       "83         84     1.826883              137304                           milk"
      ]
     },
     "execution_count": 45,
     "metadata": {},
     "output_type": "execute_result"
    }
   ],
   "source": [
    "# Aisles that contain most \"fidelizing products\"\n",
    "aisle_avg_quality.sort_values(by=\"aisle_score\").tail(50)"
   ]
  },
  {
   "cell_type": "code",
   "execution_count": 22,
   "metadata": {},
   "outputs": [
    {
     "data": {
      "text/html": [
       "<div>\n",
       "<style scoped>\n",
       "    .dataframe tbody tr th:only-of-type {\n",
       "        vertical-align: middle;\n",
       "    }\n",
       "\n",
       "    .dataframe tbody tr th {\n",
       "        vertical-align: top;\n",
       "    }\n",
       "\n",
       "    .dataframe thead th {\n",
       "        text-align: right;\n",
       "    }\n",
       "</style>\n",
       "<table border=\"1\" class=\"dataframe\">\n",
       "  <thead>\n",
       "    <tr style=\"text-align: right;\">\n",
       "      <th></th>\n",
       "      <th>aisle_id</th>\n",
       "      <th>aisle_score</th>\n",
       "      <th>count_consumptions</th>\n",
       "      <th>aisle</th>\n",
       "    </tr>\n",
       "  </thead>\n",
       "  <tbody>\n",
       "    <tr>\n",
       "      <td>103</td>\n",
       "      <td>104</td>\n",
       "      <td>0.205615</td>\n",
       "      <td>32517</td>\n",
       "      <td>spices seasonings</td>\n",
       "    </tr>\n",
       "    <tr>\n",
       "      <td>96</td>\n",
       "      <td>97</td>\n",
       "      <td>0.262158</td>\n",
       "      <td>3633</td>\n",
       "      <td>baking supplies decor</td>\n",
       "    </tr>\n",
       "    <tr>\n",
       "      <td>9</td>\n",
       "      <td>10</td>\n",
       "      <td>0.309093</td>\n",
       "      <td>1423</td>\n",
       "      <td>kitchen supplies</td>\n",
       "    </tr>\n",
       "    <tr>\n",
       "      <td>117</td>\n",
       "      <td>118</td>\n",
       "      <td>0.316934</td>\n",
       "      <td>1598</td>\n",
       "      <td>first aid</td>\n",
       "    </tr>\n",
       "    <tr>\n",
       "      <td>108</td>\n",
       "      <td>109</td>\n",
       "      <td>0.336119</td>\n",
       "      <td>1577</td>\n",
       "      <td>skin care</td>\n",
       "    </tr>\n",
       "    <tr>\n",
       "      <td>131</td>\n",
       "      <td>132</td>\n",
       "      <td>0.341176</td>\n",
       "      <td>952</td>\n",
       "      <td>beauty</td>\n",
       "    </tr>\n",
       "    <tr>\n",
       "      <td>84</td>\n",
       "      <td>85</td>\n",
       "      <td>0.355026</td>\n",
       "      <td>10243</td>\n",
       "      <td>food storage</td>\n",
       "    </tr>\n",
       "    <tr>\n",
       "      <td>21</td>\n",
       "      <td>22</td>\n",
       "      <td>0.362906</td>\n",
       "      <td>4935</td>\n",
       "      <td>hair care</td>\n",
       "    </tr>\n",
       "    <tr>\n",
       "      <td>43</td>\n",
       "      <td>44</td>\n",
       "      <td>0.368390</td>\n",
       "      <td>1354</td>\n",
       "      <td>eye ear care</td>\n",
       "    </tr>\n",
       "    <tr>\n",
       "      <td>79</td>\n",
       "      <td>80</td>\n",
       "      <td>0.378716</td>\n",
       "      <td>2290</td>\n",
       "      <td>deodorants</td>\n",
       "    </tr>\n",
       "    <tr>\n",
       "      <td>86</td>\n",
       "      <td>87</td>\n",
       "      <td>0.396524</td>\n",
       "      <td>2707</td>\n",
       "      <td>more household</td>\n",
       "    </tr>\n",
       "    <tr>\n",
       "      <td>102</td>\n",
       "      <td>103</td>\n",
       "      <td>0.401397</td>\n",
       "      <td>1654</td>\n",
       "      <td>ice cream toppings</td>\n",
       "    </tr>\n",
       "    <tr>\n",
       "      <td>101</td>\n",
       "      <td>102</td>\n",
       "      <td>0.403808</td>\n",
       "      <td>1229</td>\n",
       "      <td>baby bath body care</td>\n",
       "    </tr>\n",
       "    <tr>\n",
       "      <td>4</td>\n",
       "      <td>5</td>\n",
       "      <td>0.411603</td>\n",
       "      <td>9677</td>\n",
       "      <td>marinades meat preparation</td>\n",
       "    </tr>\n",
       "    <tr>\n",
       "      <td>10</td>\n",
       "      <td>11</td>\n",
       "      <td>0.414441</td>\n",
       "      <td>3929</td>\n",
       "      <td>cold flu allergy</td>\n",
       "    </tr>\n",
       "    <tr>\n",
       "      <td>24</td>\n",
       "      <td>25</td>\n",
       "      <td>0.421269</td>\n",
       "      <td>9809</td>\n",
       "      <td>soap</td>\n",
       "    </tr>\n",
       "    <tr>\n",
       "      <td>71</td>\n",
       "      <td>72</td>\n",
       "      <td>0.427699</td>\n",
       "      <td>34256</td>\n",
       "      <td>condiments</td>\n",
       "    </tr>\n",
       "    <tr>\n",
       "      <td>54</td>\n",
       "      <td>55</td>\n",
       "      <td>0.429279</td>\n",
       "      <td>1568</td>\n",
       "      <td>shave needs</td>\n",
       "    </tr>\n",
       "    <tr>\n",
       "      <td>46</td>\n",
       "      <td>47</td>\n",
       "      <td>0.429653</td>\n",
       "      <td>6967</td>\n",
       "      <td>vitamins supplements</td>\n",
       "    </tr>\n",
       "    <tr>\n",
       "      <td>59</td>\n",
       "      <td>60</td>\n",
       "      <td>0.435797</td>\n",
       "      <td>4965</td>\n",
       "      <td>trash bags liners</td>\n",
       "    </tr>\n",
       "  </tbody>\n",
       "</table>\n",
       "</div>"
      ],
      "text/plain": [
       "     aisle_id  aisle_score  count_consumptions                       aisle\n",
       "103       104     0.205615               32517           spices seasonings\n",
       "96         97     0.262158                3633       baking supplies decor\n",
       "9          10     0.309093                1423            kitchen supplies\n",
       "117       118     0.316934                1598                   first aid\n",
       "108       109     0.336119                1577                   skin care\n",
       "131       132     0.341176                 952                      beauty\n",
       "84         85     0.355026               10243                food storage\n",
       "21         22     0.362906                4935                   hair care\n",
       "43         44     0.368390                1354                eye ear care\n",
       "79         80     0.378716                2290                  deodorants\n",
       "86         87     0.396524                2707              more household\n",
       "102       103     0.401397                1654          ice cream toppings\n",
       "101       102     0.403808                1229         baby bath body care\n",
       "4           5     0.411603                9677  marinades meat preparation\n",
       "10         11     0.414441                3929            cold flu allergy\n",
       "24         25     0.421269                9809                        soap\n",
       "71         72     0.427699               34256                  condiments\n",
       "54         55     0.429279                1568                 shave needs\n",
       "46         47     0.429653                6967        vitamins supplements\n",
       "59         60     0.435797                4965           trash bags liners"
      ]
     },
     "execution_count": 22,
     "metadata": {},
     "output_type": "execute_result"
    }
   ],
   "source": [
    "# Aisles that contain least \"fidelizing products\"\n",
    "aisle_avg_quality.sort_values(by=\"aisle_score\").head(20)"
   ]
  },
  {
   "cell_type": "markdown",
   "metadata": {},
   "source": [
    "### Get scores per cluster"
   ]
  },
  {
   "cell_type": "code",
   "execution_count": 55,
   "metadata": {},
   "outputs": [],
   "source": [
    "# load the mean of clusters when clustering is done with k=5\n",
    "f= open(\"mean_clusters\",\"rb\")\n",
    "mean_clusters=pickle.load(f)\n",
    "f.close()\n",
    "\n",
    "array_clusters = np.array(mean_clusters)\n",
    "columns = list(mean_clusters.columns)\n",
    "aisle_scores =np.array(aisle_avg_quality[[\"aisle_score\",\"aisle\"]])"
   ]
  },
  {
   "cell_type": "code",
   "execution_count": 62,
   "metadata": {},
   "outputs": [],
   "source": [
    "aisle_names = list(mean_clusters.columns)\n",
    "\n",
    "def aisle_name_to_id(aisle_name):\n",
    "    for k in range(len(aisles)):\n",
    "        if aisles.values[k][1]==aisle_name :\n",
    "            return k+1\n",
    "    return 1/0\n",
    "\n",
    "def id_to_aisle_name(aisle_id):\n",
    "    return aisles.values[aisle_id-1][1]\n",
    "\n",
    "def sort_scores(scores, aisle_names):\n",
    "    s = np.zeros(len(scores))\n",
    "    for k in range(0, len(scores)):\n",
    "        score, aisle_name = scores[k][0], scores[k][1]\n",
    "        aisle_id = aisle_name_to_id(aisle_name)\n",
    "        s[aisle_id-1] = score\n",
    "        print(k,\"becomes\",aisle_id-1)\n",
    "    return s"
   ]
  },
  {
   "cell_type": "code",
   "execution_count": 59,
   "metadata": {},
   "outputs": [
    {
     "data": {
      "text/plain": [
       "array([1.21522882, 0.41642046, 1.07867858, 1.29963026, 1.04952072])"
      ]
     },
     "execution_count": 59,
     "metadata": {},
     "output_type": "execute_result"
    }
   ],
   "source": [
    "array_clusters.dot(sc)"
   ]
  },
  {
   "cell_type": "code",
   "execution_count": null,
   "metadata": {},
   "outputs": [],
   "source": []
  },
  {
   "cell_type": "code",
   "execution_count": null,
   "metadata": {},
   "outputs": [],
   "source": []
  }
 ],
 "metadata": {
  "kernelspec": {
   "display_name": "Python 3",
   "language": "python",
   "name": "python3"
  },
  "language_info": {
   "codemirror_mode": {
    "name": "ipython",
    "version": 3
   },
   "file_extension": ".py",
   "mimetype": "text/x-python",
   "name": "python",
   "nbconvert_exporter": "python",
   "pygments_lexer": "ipython3",
   "version": "3.6.9"
  }
 },
 "nbformat": 4,
 "nbformat_minor": 4
}
