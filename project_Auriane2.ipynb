{
 "cells": [
  {
   "cell_type": "code",
   "execution_count": 63,
   "metadata": {},
   "outputs": [],
   "source": [
    "import pandas as pd\n",
    "import numpy as np\n",
    "import matplotlib.pyplot as plt\n",
    "import copy\n",
    "import pickle\n",
    "from sklearn.cluster import KMeans\n",
    "from sklearn.metrics import silhouette_score\n",
    "import networkx as nx\n",
    "import numpy as np\n",
    "import time\n",
    "from sklearn.decomposition import PCA\n",
    "from sklearn.datasets import load_digits\n",
    "from sklearn.feature_selection import SelectKBest, chi2"
   ]
  },
  {
   "cell_type": "markdown",
   "metadata": {},
   "source": [
    "## Creation of the matrix (just load, last line)"
   ]
  },
  {
   "cell_type": "code",
   "execution_count": 12,
   "metadata": {},
   "outputs": [],
   "source": [
    "orders = pd.read_csv('data/orders.csv', sep=',')\n",
    "products = pd.read_csv('data/products.csv', sep=',')\n",
    "history = pd.read_csv('data/order_products__prior.csv', sep=',')"
   ]
  },
  {
   "cell_type": "code",
   "execution_count": 3,
   "metadata": {},
   "outputs": [],
   "source": [
    "orders_small = orders[[\"order_id\",\"user_id\"]].sort_values(by='order_id')#.head(105629)\n",
    "history_small = history[[\"order_id\",\"product_id\"]].sort_values(by='order_id')#.head(1000000)"
   ]
  },
  {
   "cell_type": "code",
   "execution_count": null,
   "metadata": {},
   "outputs": [],
   "source": [
    "consumptions = pd.merge(history_small, orders_small, on=\"order_id\")[['user_id','product_id']]"
   ]
  },
  {
   "cell_type": "code",
   "execution_count": null,
   "metadata": {},
   "outputs": [],
   "source": [
    "consumptions_with_details = pd.merge(consumptions,products, on=\"product_id\")[['user_id','product_id','aisle_id','department_id']]\n",
    "consumptions_with_details.head()"
   ]
  },
  {
   "cell_type": "code",
   "execution_count": null,
   "metadata": {},
   "outputs": [],
   "source": [
    "max_user_id = max(consumptions_with_details[\"user_id\"])\n",
    "print('The greatest user id is '+str(max_user_id)+\".\")"
   ]
  },
  {
   "cell_type": "code",
   "execution_count": null,
   "metadata": {},
   "outputs": [],
   "source": [
    "# We split the dataframe into 2 smaller ones, because the kernel crashes at the next step if we keep the big one\n",
    "consumptions_1 = consumptions_with_details[consumptions_with_details.user_id<max_user_id//2]\n",
    "consumptions_2 = consumptions_with_details[consumptions_with_details.user_id>=max_user_id//2]\n",
    "assert(len(consumptions_with_details)==len(consumptions_1)+len(consumptions_2))"
   ]
  },
  {
   "cell_type": "code",
   "execution_count": null,
   "metadata": {},
   "outputs": [],
   "source": [
    "max_aisle_id = max(consumptions_with_details.aisle_id)\n",
    "print(\"The greatest aisle id is \"+str(max_aisle_id)+\".\")"
   ]
  },
  {
   "cell_type": "code",
   "execution_count": null,
   "metadata": {},
   "outputs": [],
   "source": [
    "consumption_aisle_1 = consumptions_1[[\"user_id\",\"product_id\", \"aisle_id\"]].groupby(['user_id','aisle_id']).agg({'product_id': \"count\"})\n",
    "consumption_aisle_2 = consumptions_2[[\"user_id\",\"product_id\", \"aisle_id\"]].groupby(['user_id','aisle_id']).agg({'product_id': \"count\"})\n",
    "consumption_aisle_1.head()"
   ]
  },
  {
   "cell_type": "code",
   "execution_count": null,
   "metadata": {},
   "outputs": [],
   "source": [
    "def init_matrix_aisle():\n",
    "    np1 = []\n",
    "    for w in range(max_user_id+1):\n",
    "        np1.append([0 for x in range(max_aisle_id+1)])\n",
    "    return np1\n",
    "\n",
    "def to_tab_vect(consumption,mat=init_matrix_aisle()):\n",
    "    '''Returns the matrix M such that M[user][aisle] = number of distinct products bought by user in aisle'''\n",
    "    n=0\n",
    "    n_pairs = len(consumption)\n",
    "    for (user, aisle) in consumption.index :\n",
    "        n+=1\n",
    "        mat[user][aisle] = consumption.product_id[(user, aisle)]\n",
    "        if n%250000==0 : print(str(round(100*(n/n_pairs),1))+ \"% processed\")\n",
    "    print('Done !')\n",
    "    return mat"
   ]
  },
  {
   "cell_type": "code",
   "execution_count": null,
   "metadata": {},
   "outputs": [],
   "source": [
    "user_matrix = to_tab_vect(consumption_aisle_1)\n",
    "user_matrix = to_tab_vect(consumption_aisle_2, user_matrix)"
   ]
  },
  {
   "cell_type": "code",
   "execution_count": 64,
   "metadata": {},
   "outputs": [],
   "source": [
    "user_matrix = pd.read_pickle('matrix.p') #Load directly the matrix\n",
    "user_matrix = user_matrix[1:] #first row is empty"
   ]
  },
  {
   "cell_type": "markdown",
   "metadata": {},
   "source": [
    "## Determine the optimal k"
   ]
  },
  {
   "cell_type": "code",
   "execution_count": 3,
   "metadata": {},
   "outputs": [
    {
     "data": {
      "image/png": "[encoded data removed]",
      "text/plain": [
       "<Figure size 432x288 with 1 Axes>"
      ]
     },
     "metadata": {
      "needs_background": "light"
     },
     "output_type": "display_data"
    }
   ],
   "source": [
    "#un peu long\n",
    "wcss=[]\n",
    "for i in range(1, 15):\n",
    "    kmeans = KMeans(n_clusters=i, random_state=0)\n",
    "    kmeans.fit(user_matrix)\n",
    "    wcss.append(kmeans.inertia_)\n",
    "plt.plot(range(1, 15), wcss,marker='+')\n",
    "plt.title('Elbow Method')\n",
    "plt.xlabel('Number of clusters')\n",
    "plt.ylabel('WCSS')\n",
    "plt.show()"
   ]
  },
  {
   "cell_type": "markdown",
   "metadata": {},
   "source": [
    "Elbow method : the optimal number is k=3"
   ]
  },
  {
   "cell_type": "markdown",
   "metadata": {},
   "source": [
    "Verification with silhouette methode :"
   ]
  },
  {
   "cell_type": "code",
   "execution_count": 13,
   "metadata": {},
   "outputs": [
    {
     "data": {
      "text/plain": [
       "0.6710904937285531"
      ]
     },
     "execution_count": 13,
     "metadata": {},
     "output_type": "execute_result"
    }
   ],
   "source": [
    "#NE PAS RUN : tres tres long\n",
    "#kmeans = KMeans(n_clusters=2, random_state=0).fit(user_matrix)\n",
    "#labels = kmeans.labels_\n",
    "#s1 = silhouette_score(user_matrix, labels)\n",
    "#s1"
   ]
  },
  {
   "cell_type": "code",
   "execution_count": 14,
   "metadata": {},
   "outputs": [
    {
     "data": {
      "text/plain": [
       "0.5245359402930275"
      ]
     },
     "execution_count": 14,
     "metadata": {},
     "output_type": "execute_result"
    }
   ],
   "source": [
    "# NE PAS RUN : tres tres long\n",
    "#kmeans = KMeans(n_clusters=3, random_state=0).fit(user_matrix)\n",
    "#labels = kmeans.labels_\n",
    "#s2 = silhouette_score(user_matrix, labels)\n",
    "#s2"
   ]
  },
  {
   "cell_type": "markdown",
   "metadata": {},
   "source": [
    "Silhouette method actually gives 2"
   ]
  },
  {
   "cell_type": "markdown",
   "metadata": {},
   "source": [
    "## Cluster sizes"
   ]
  },
  {
   "cell_type": "code",
   "execution_count": 61,
   "metadata": {},
   "outputs": [],
   "source": [
    "def get_cluster_size(clustering, nb_clusters,matrix=user_matrix) :\n",
    "    for k in range(nb_clusters):\n",
    "        number_users_in_cluster = 0.\n",
    "        for user_index in range(1,len(matrix)) :\n",
    "            if kmeans.labels_[user_index]==k :\n",
    "                number_users_in_cluster+=1\n",
    "        print(number_users_in_cluster)"
   ]
  },
  {
   "cell_type": "code",
   "execution_count": 7,
   "metadata": {},
   "outputs": [
    {
     "name": "stdout",
     "output_type": "stream",
     "text": [
      "186943.0\n",
      "19265.0\n"
     ]
    }
   ],
   "source": [
    "kmeans = KMeans(n_clusters=2, random_state=0).fit(user_matrix)\n",
    "get_cluster_size(kmeans, 2)"
   ]
  },
  {
   "cell_type": "code",
   "execution_count": 8,
   "metadata": {},
   "outputs": [
    {
     "name": "stdout",
     "output_type": "stream",
     "text": [
      "167141.0\n",
      "32179.0\n",
      "6888.0\n"
     ]
    }
   ],
   "source": [
    "kmeans = KMeans(n_clusters=3, random_state=0).fit(user_matrix)\n",
    "get_cluster_size(kmeans, 3)"
   ]
  },
  {
   "cell_type": "markdown",
   "metadata": {},
   "source": [
    "Clusters are very inequal, this clustering is not relevant."
   ]
  },
  {
   "cell_type": "markdown",
   "metadata": {},
   "source": [
    "## Clustering avec contrainte sur clusters size"
   ]
  },
  {
   "cell_type": "code",
   "execution_count": 65,
   "metadata": {},
   "outputs": [],
   "source": [
    "import constrained_kmeans as cons"
   ]
  },
  {
   "cell_type": "code",
   "execution_count": null,
   "metadata": {},
   "outputs": [],
   "source": [
    "#ne pas run : tres tres long\n",
    "(C,M,f) = cons.constrained_kmeans(user_matrix, [92794,92794], maxiter=50)"
   ]
  },
  {
   "cell_type": "markdown",
   "metadata": {},
   "source": [
    "Way too long to run (more than 6hours), never finished"
   ]
  },
  {
   "cell_type": "markdown",
   "metadata": {},
   "source": [
    "## Dimensionnality reduction"
   ]
  },
  {
   "cell_type": "markdown",
   "metadata": {},
   "source": [
    "https://www.analyticsvidhya.com/blog/2018/08/dimensionality-reduction-techniques-python/"
   ]
  },
  {
   "cell_type": "code",
   "execution_count": 66,
   "metadata": {},
   "outputs": [],
   "source": [
    "user_matrix = np.array(user_matrix)"
   ]
  },
  {
   "cell_type": "code",
   "execution_count": 67,
   "metadata": {},
   "outputs": [],
   "source": [
    "row_sums = user_matrix.sum(axis=1) #Normalize on the rows (rows_sum -> 1)\n",
    "norm_matrix = user_matrix / row_sums[:, np.newaxis]"
   ]
  },
  {
   "cell_type": "code",
   "execution_count": 11,
   "metadata": {},
   "outputs": [
    {
     "data": {
      "text/plain": [
       "PCA(copy=True, iterated_power='auto', n_components=None, random_state=0,\n",
       "    svd_solver='auto', tol=0.0, whiten=False)"
      ]
     },
     "execution_count": 11,
     "metadata": {},
     "output_type": "execute_result"
    }
   ],
   "source": [
    "pca = PCA(random_state=0) \n",
    "pca.fit(norm_matrix)"
   ]
  },
  {
   "cell_type": "code",
   "execution_count": 12,
   "metadata": {},
   "outputs": [],
   "source": [
    "reduc_matrix = pca.transform(user_matrix)"
   ]
  },
  {
   "cell_type": "markdown",
   "metadata": {},
   "source": [
    "Determine the right number of dimensions as a trade-off between number of dimensions and loss of variance."
   ]
  },
  {
   "cell_type": "code",
   "execution_count": 13,
   "metadata": {},
   "outputs": [
    {
     "data": {
      "image/png": "[encoded data removed]",
      "text/plain": [
       "<Figure size 432x288 with 1 Axes>"
      ]
     },
     "metadata": {
      "needs_background": "light"
     },
     "output_type": "display_data"
    }
   ],
   "source": [
    "#Plotting the Cumulative Summation of the Explained Variance\n",
    "plt.figure()\n",
    "plt.plot(np.cumsum(pca.explained_variance_ratio_), marker='+')\n",
    "plt.xlabel('Number of Components')\n",
    "plt.ylabel('Variance (%)') #for each component\n",
    "plt.title('PCA Explained Variance')\n",
    "plt.show()"
   ]
  },
  {
   "cell_type": "markdown",
   "metadata": {},
   "source": [
    "dimension choosen at the elbow : dim=30"
   ]
  },
  {
   "cell_type": "code",
   "execution_count": 68,
   "metadata": {},
   "outputs": [],
   "source": [
    "pca = PCA(n_components=30, random_state=0)\n",
    "reduc_matrix = pca.fit_transform(norm_matrix)"
   ]
  },
  {
   "cell_type": "code",
   "execution_count": 15,
   "metadata": {},
   "outputs": [
    {
     "data": {
      "text/plain": [
       "(206209, 30)"
      ]
     },
     "execution_count": 15,
     "metadata": {},
     "output_type": "execute_result"
    }
   ],
   "source": [
    "reduc_matrix.shape"
   ]
  },
  {
   "cell_type": "markdown",
   "metadata": {},
   "source": [
    "Determine the right number of clusters (k)"
   ]
  },
  {
   "cell_type": "code",
   "execution_count": null,
   "metadata": {},
   "outputs": [],
   "source": [
    "#un peu long\n",
    "wcss=[]\n",
    "for i in range(1, 15):\n",
    "    kmeans = KMeans(n_clusters=i, random_state=0)\n",
    "    kmeans.fit(reduc_matrix)\n",
    "    wcss.append(kmeans.inertia_)\n",
    "plt.plot(range(1, 15), wcss, marker='+')\n",
    "plt.title('Elbow Method')\n",
    "plt.xlabel('Number of clusters')\n",
    "plt.ylabel('WCSS')\n",
    "plt.show()"
   ]
  },
  {
   "cell_type": "markdown",
   "metadata": {},
   "source": [
    "optimal k is 5 with this method"
   ]
  },
  {
   "cell_type": "code",
   "execution_count": 69,
   "metadata": {},
   "outputs": [],
   "source": [
    "kmeans = KMeans(n_clusters=5, random_state=0).fit(reduc_matrix)"
   ]
  },
  {
   "cell_type": "code",
   "execution_count": 70,
   "metadata": {},
   "outputs": [
    {
     "name": "stdout",
     "output_type": "stream",
     "text": [
      "38233.0\n",
      "55661.0\n",
      "7932.0\n",
      "5366.0\n",
      "99016.0\n"
     ]
    }
   ],
   "source": [
    "get_cluster_size(kmeans, 5, reduc_matrix)"
   ]
  },
  {
   "cell_type": "markdown",
   "metadata": {},
   "source": [
    "That's better : 3 pretty big clusters and 2 small (2 et 3)"
   ]
  },
  {
   "cell_type": "markdown",
   "metadata": {},
   "source": [
    "## Analyse the clusters"
   ]
  },
  {
   "cell_type": "markdown",
   "metadata": {},
   "source": [
    "**Look at centroids distance**"
   ]
  },
  {
   "cell_type": "code",
   "execution_count": 71,
   "metadata": {},
   "outputs": [
    {
     "data": {
      "text/plain": [
       "array([[ 6.71504001e-02,  1.05080601e-01, -1.21770598e-03,\n",
       "        -3.08570484e-02, -1.05411714e-02,  7.26897553e-03,\n",
       "        -5.20583165e-04,  4.47131860e-03, -7.54747073e-04,\n",
       "        -1.45952241e-04, -7.32296138e-04,  3.40642579e-05,\n",
       "        -1.45034863e-03,  6.79077115e-04, -2.62330407e-04,\n",
       "        -1.59982211e-04,  4.51228080e-04,  2.63687806e-04,\n",
       "         3.61374268e-04,  5.99210042e-04,  3.12089635e-04,\n",
       "        -4.04786463e-04,  1.98799717e-04,  2.55235581e-04,\n",
       "         6.02676207e-04, -1.01206450e-04, -8.59671313e-05,\n",
       "         3.43152540e-04, -2.10098292e-04,  9.35083882e-05],\n",
       "       [ 1.05715927e-01, -7.33360176e-02,  1.73096174e-02,\n",
       "         3.73793823e-03,  1.77693524e-03, -4.46848732e-03,\n",
       "        -9.59793352e-04,  1.29292810e-03, -1.57508943e-04,\n",
       "         7.91431212e-04,  1.29861761e-03,  1.10564280e-03,\n",
       "         7.50951522e-04,  3.78520709e-04,  9.53589195e-04,\n",
       "        -4.51014531e-04, -1.03737808e-04,  8.98614464e-04,\n",
       "        -3.38762381e-04, -4.17722850e-04,  6.53295486e-05,\n",
       "         4.30101256e-04, -1.05996128e-04, -4.72350486e-05,\n",
       "         1.37422189e-04,  2.10082202e-04,  2.49573435e-04,\n",
       "        -4.32365592e-04,  2.50021619e-05,  3.03583039e-04],\n",
       "       [-6.07238007e-03,  1.30845744e-01,  4.86681882e-03,\n",
       "         2.30394636e-01,  1.10272294e-01, -2.29423951e-02,\n",
       "         1.65289600e-04, -6.46828346e-03,  7.83250369e-03,\n",
       "         3.01997016e-03,  1.11748244e-03, -1.98478752e-03,\n",
       "         1.03571396e-03,  4.33099345e-03,  1.80547009e-03,\n",
       "         4.54281428e-03, -1.00026502e-03, -2.48135813e-03,\n",
       "        -1.17348328e-03,  1.54375460e-03, -1.09940095e-03,\n",
       "        -1.51806912e-03, -8.16486107e-04,  3.60463935e-04,\n",
       "        -1.97653217e-03, -1.18190038e-04, -3.05341861e-04,\n",
       "         2.12025811e-04,  1.22391910e-05,  1.27863406e-03],\n",
       "       [-1.98723585e-01,  1.61468184e-02,  3.18661605e-01,\n",
       "        -3.14275514e-02,  1.87511837e-02,  6.23898956e-04,\n",
       "         4.07735462e-03,  1.10278669e-02,  1.15698711e-03,\n",
       "        -3.82290263e-03, -2.10466262e-03, -1.38697374e-03,\n",
       "        -4.64764290e-04,  2.93377976e-03,  2.47758855e-04,\n",
       "         1.62609229e-03,  1.52899499e-03,  9.78806464e-04,\n",
       "         1.77244085e-03,  4.99343878e-06, -1.28934197e-04,\n",
       "         3.43656106e-04, -7.13039623e-04, -6.50032056e-04,\n",
       "         7.94350264e-04,  3.38197420e-04,  8.98293833e-04,\n",
       "        -1.09863361e-03, -4.78858329e-04,  5.52713547e-04],\n",
       "       [-7.40833131e-02, -1.06873704e-02, -2.69430975e-02,\n",
       "        -6.94212140e-03, -6.78141482e-03,  1.51050471e-03,\n",
       "         5.06046848e-04, -2.53300294e-03, -3.10350998e-04,\n",
       "        -4.23090898e-04, -4.22748996e-04, -4.00489620e-04,\n",
       "         7.98731562e-05, -9.81061613e-04, -5.92934492e-04,\n",
       "        -1.36836702e-04, -1.18684647e-04, -4.61324305e-04,\n",
       "         4.87957195e-05, -1.20376341e-04, -6.21237494e-05,\n",
       "         1.73961759e-05,  8.69567423e-05, -6.55639504e-05,\n",
       "        -1.94652344e-04, -8.79293259e-05, -1.31414174e-04,\n",
       "         1.53258031e-04,  9.20422838e-05, -3.39189361e-04]])"
      ]
     },
     "execution_count": 71,
     "metadata": {},
     "output_type": "execute_result"
    }
   ],
   "source": [
    "kmeans.cluster_centers_"
   ]
  },
  {
   "cell_type": "code",
   "execution_count": 72,
   "metadata": {},
   "outputs": [],
   "source": [
    "def dist_centroids(clustering):\n",
    "    k=len(clustering.cluster_centers_)\n",
    "    distances = np.zeros((k,k))\n",
    "    for x in range(k):\n",
    "        for y in range(x):\n",
    "            dist = np.linalg.norm(clustering.cluster_centers_[x]-clustering.cluster_centers_[y]) #calculate euclidian distance\n",
    "            distances[x,y]=dist\n",
    "    return distances"
   ]
  },
  {
   "cell_type": "code",
   "execution_count": 73,
   "metadata": {},
   "outputs": [
    {
     "data": {
      "text/plain": [
       "array([[0.        , 0.        , 0.        , 0.        , 0.        ],\n",
       "       [0.18755526, 0.        , 0.        , 0.        , 0.        ],\n",
       "       [0.30017687, 0.34356591, 0.        , 0.        , 0.        ],\n",
       "       [0.42653041, 0.43958819, 0.4761357 , 0.        , 0.        ],\n",
       "       [0.18624965, 0.19612675, 0.3105995 , 0.3704018 , 0.        ]])"
      ]
     },
     "execution_count": 73,
     "metadata": {},
     "output_type": "execute_result"
    }
   ],
   "source": [
    "dist_centroids(kmeans)"
   ]
  },
  {
   "cell_type": "markdown",
   "metadata": {},
   "source": [
    "cluster 2 and 3 are pretty 'basic' : look to all others, and are alike. Probably has something to do with the fact they are the two small clusters."
   ]
  },
  {
   "cell_type": "markdown",
   "metadata": {},
   "source": [
    "**prepare df**"
   ]
  },
  {
   "cell_type": "code",
   "execution_count": 7,
   "metadata": {},
   "outputs": [],
   "source": [
    "aisles = pd.read_csv('data/aisles.csv', sep=',')"
   ]
  },
  {
   "cell_type": "code",
   "execution_count": 8,
   "metadata": {},
   "outputs": [
    {
     "data": {
      "text/html": [
       "<div>\n",
       "<style scoped>\n",
       "    .dataframe tbody tr th:only-of-type {\n",
       "        vertical-align: middle;\n",
       "    }\n",
       "\n",
       "    .dataframe tbody tr th {\n",
       "        vertical-align: top;\n",
       "    }\n",
       "\n",
       "    .dataframe thead th {\n",
       "        text-align: right;\n",
       "    }\n",
       "</style>\n",
       "<table border=\"1\" class=\"dataframe\">\n",
       "  <thead>\n",
       "    <tr style=\"text-align: right;\">\n",
       "      <th></th>\n",
       "      <th>prepared soups salads</th>\n",
       "      <th>specialty cheeses</th>\n",
       "      <th>energy granola bars</th>\n",
       "      <th>instant foods</th>\n",
       "      <th>marinades meat preparation</th>\n",
       "      <th>other</th>\n",
       "      <th>packaged meat</th>\n",
       "      <th>bakery desserts</th>\n",
       "      <th>pasta sauce</th>\n",
       "      <th>kitchen supplies</th>\n",
       "      <th>...</th>\n",
       "      <th>trail mix snack mix</th>\n",
       "      <th>feminine care</th>\n",
       "      <th>body lotions soap</th>\n",
       "      <th>tortillas flat bread</th>\n",
       "      <th>frozen appetizers sides</th>\n",
       "      <th>hot cereal pancake mixes</th>\n",
       "      <th>dry pasta</th>\n",
       "      <th>beauty</th>\n",
       "      <th>muscles joints pain relief</th>\n",
       "      <th>specialty wines champagnes</th>\n",
       "    </tr>\n",
       "  </thead>\n",
       "  <tbody>\n",
       "    <tr>\n",
       "      <th>0</th>\n",
       "      <td>0</td>\n",
       "      <td>0</td>\n",
       "      <td>0</td>\n",
       "      <td>0</td>\n",
       "      <td>0</td>\n",
       "      <td>0</td>\n",
       "      <td>0</td>\n",
       "      <td>0</td>\n",
       "      <td>0</td>\n",
       "      <td>0</td>\n",
       "      <td>...</td>\n",
       "      <td>0</td>\n",
       "      <td>0</td>\n",
       "      <td>0</td>\n",
       "      <td>0</td>\n",
       "      <td>0</td>\n",
       "      <td>0</td>\n",
       "      <td>0</td>\n",
       "      <td>0</td>\n",
       "      <td>0</td>\n",
       "      <td>0</td>\n",
       "    </tr>\n",
       "    <tr>\n",
       "      <th>1</th>\n",
       "      <td>1</td>\n",
       "      <td>0</td>\n",
       "      <td>6</td>\n",
       "      <td>0</td>\n",
       "      <td>0</td>\n",
       "      <td>0</td>\n",
       "      <td>0</td>\n",
       "      <td>0</td>\n",
       "      <td>0</td>\n",
       "      <td>0</td>\n",
       "      <td>...</td>\n",
       "      <td>0</td>\n",
       "      <td>0</td>\n",
       "      <td>0</td>\n",
       "      <td>0</td>\n",
       "      <td>0</td>\n",
       "      <td>0</td>\n",
       "      <td>0</td>\n",
       "      <td>0</td>\n",
       "      <td>0</td>\n",
       "      <td>0</td>\n",
       "    </tr>\n",
       "    <tr>\n",
       "      <th>2</th>\n",
       "      <td>0</td>\n",
       "      <td>0</td>\n",
       "      <td>0</td>\n",
       "      <td>4</td>\n",
       "      <td>0</td>\n",
       "      <td>0</td>\n",
       "      <td>0</td>\n",
       "      <td>0</td>\n",
       "      <td>0</td>\n",
       "      <td>0</td>\n",
       "      <td>...</td>\n",
       "      <td>0</td>\n",
       "      <td>0</td>\n",
       "      <td>0</td>\n",
       "      <td>0</td>\n",
       "      <td>0</td>\n",
       "      <td>0</td>\n",
       "      <td>0</td>\n",
       "      <td>0</td>\n",
       "      <td>0</td>\n",
       "      <td>0</td>\n",
       "    </tr>\n",
       "    <tr>\n",
       "      <th>3</th>\n",
       "      <td>0</td>\n",
       "      <td>0</td>\n",
       "      <td>0</td>\n",
       "      <td>0</td>\n",
       "      <td>0</td>\n",
       "      <td>0</td>\n",
       "      <td>0</td>\n",
       "      <td>0</td>\n",
       "      <td>0</td>\n",
       "      <td>0</td>\n",
       "      <td>...</td>\n",
       "      <td>0</td>\n",
       "      <td>0</td>\n",
       "      <td>0</td>\n",
       "      <td>1</td>\n",
       "      <td>0</td>\n",
       "      <td>0</td>\n",
       "      <td>0</td>\n",
       "      <td>0</td>\n",
       "      <td>0</td>\n",
       "      <td>1</td>\n",
       "    </tr>\n",
       "    <tr>\n",
       "      <th>4</th>\n",
       "      <td>0</td>\n",
       "      <td>0</td>\n",
       "      <td>0</td>\n",
       "      <td>0</td>\n",
       "      <td>0</td>\n",
       "      <td>0</td>\n",
       "      <td>0</td>\n",
       "      <td>0</td>\n",
       "      <td>0</td>\n",
       "      <td>0</td>\n",
       "      <td>...</td>\n",
       "      <td>0</td>\n",
       "      <td>0</td>\n",
       "      <td>0</td>\n",
       "      <td>0</td>\n",
       "      <td>0</td>\n",
       "      <td>0</td>\n",
       "      <td>0</td>\n",
       "      <td>0</td>\n",
       "      <td>0</td>\n",
       "      <td>0</td>\n",
       "    </tr>\n",
       "  </tbody>\n",
       "</table>\n",
       "<p>5 rows × 134 columns</p>\n",
       "</div>"
      ],
      "text/plain": [
       "   prepared soups salads  specialty cheeses  energy granola bars  \\\n",
       "0                      0                  0                    0   \n",
       "1                      1                  0                    6   \n",
       "2                      0                  0                    0   \n",
       "3                      0                  0                    0   \n",
       "4                      0                  0                    0   \n",
       "\n",
       "   instant foods  marinades meat preparation  other  packaged meat  \\\n",
       "0              0                           0      0              0   \n",
       "1              0                           0      0              0   \n",
       "2              4                           0      0              0   \n",
       "3              0                           0      0              0   \n",
       "4              0                           0      0              0   \n",
       "\n",
       "   bakery desserts  pasta sauce  kitchen supplies  ...  trail mix snack mix  \\\n",
       "0                0            0                 0  ...                    0   \n",
       "1                0            0                 0  ...                    0   \n",
       "2                0            0                 0  ...                    0   \n",
       "3                0            0                 0  ...                    0   \n",
       "4                0            0                 0  ...                    0   \n",
       "\n",
       "   feminine care  body lotions soap  tortillas flat bread  \\\n",
       "0              0                  0                     0   \n",
       "1              0                  0                     0   \n",
       "2              0                  0                     0   \n",
       "3              0                  0                     1   \n",
       "4              0                  0                     0   \n",
       "\n",
       "   frozen appetizers sides  hot cereal pancake mixes  dry pasta  beauty  \\\n",
       "0                        0                         0          0       0   \n",
       "1                        0                         0          0       0   \n",
       "2                        0                         0          0       0   \n",
       "3                        0                         0          0       0   \n",
       "4                        0                         0          0       0   \n",
       "\n",
       "   muscles joints pain relief  specialty wines champagnes  \n",
       "0                           0                           0  \n",
       "1                           0                           0  \n",
       "2                           0                           0  \n",
       "3                           0                           1  \n",
       "4                           0                           0  \n",
       "\n",
       "[5 rows x 134 columns]"
      ]
     },
     "execution_count": 8,
     "metadata": {},
     "output_type": "execute_result"
    }
   ],
   "source": [
    "#convert the matrix into df\n",
    "matrix_df = pd.DataFrame(user_matrix, index = range(len(user_matrix)), columns = ['Null']+list(aisles.aisle) )\n",
    "matrix_df = matrix_df.drop('Null', axis=1) #drop first useless column\n",
    "matrix_df.head()"
   ]
  },
  {
   "cell_type": "code",
   "execution_count": 9,
   "metadata": {},
   "outputs": [
    {
     "data": {
      "text/html": [
       "<div>\n",
       "<style scoped>\n",
       "    .dataframe tbody tr th:only-of-type {\n",
       "        vertical-align: middle;\n",
       "    }\n",
       "\n",
       "    .dataframe tbody tr th {\n",
       "        vertical-align: top;\n",
       "    }\n",
       "\n",
       "    .dataframe thead th {\n",
       "        text-align: right;\n",
       "    }\n",
       "</style>\n",
       "<table border=\"1\" class=\"dataframe\">\n",
       "  <thead>\n",
       "    <tr style=\"text-align: right;\">\n",
       "      <th></th>\n",
       "      <th>prepared soups salads</th>\n",
       "      <th>specialty cheeses</th>\n",
       "      <th>energy granola bars</th>\n",
       "      <th>instant foods</th>\n",
       "      <th>marinades meat preparation</th>\n",
       "      <th>other</th>\n",
       "      <th>packaged meat</th>\n",
       "      <th>bakery desserts</th>\n",
       "      <th>pasta sauce</th>\n",
       "      <th>kitchen supplies</th>\n",
       "      <th>...</th>\n",
       "      <th>feminine care</th>\n",
       "      <th>body lotions soap</th>\n",
       "      <th>tortillas flat bread</th>\n",
       "      <th>frozen appetizers sides</th>\n",
       "      <th>hot cereal pancake mixes</th>\n",
       "      <th>dry pasta</th>\n",
       "      <th>beauty</th>\n",
       "      <th>muscles joints pain relief</th>\n",
       "      <th>specialty wines champagnes</th>\n",
       "      <th>cluster</th>\n",
       "    </tr>\n",
       "  </thead>\n",
       "  <tbody>\n",
       "    <tr>\n",
       "      <th>0</th>\n",
       "      <td>0</td>\n",
       "      <td>0</td>\n",
       "      <td>0</td>\n",
       "      <td>0</td>\n",
       "      <td>0</td>\n",
       "      <td>0</td>\n",
       "      <td>0</td>\n",
       "      <td>0</td>\n",
       "      <td>0</td>\n",
       "      <td>0</td>\n",
       "      <td>...</td>\n",
       "      <td>0</td>\n",
       "      <td>0</td>\n",
       "      <td>0</td>\n",
       "      <td>0</td>\n",
       "      <td>0</td>\n",
       "      <td>0</td>\n",
       "      <td>0</td>\n",
       "      <td>0</td>\n",
       "      <td>0</td>\n",
       "      <td>4</td>\n",
       "    </tr>\n",
       "    <tr>\n",
       "      <th>1</th>\n",
       "      <td>1</td>\n",
       "      <td>0</td>\n",
       "      <td>6</td>\n",
       "      <td>0</td>\n",
       "      <td>0</td>\n",
       "      <td>0</td>\n",
       "      <td>0</td>\n",
       "      <td>0</td>\n",
       "      <td>0</td>\n",
       "      <td>0</td>\n",
       "      <td>...</td>\n",
       "      <td>0</td>\n",
       "      <td>0</td>\n",
       "      <td>0</td>\n",
       "      <td>0</td>\n",
       "      <td>0</td>\n",
       "      <td>0</td>\n",
       "      <td>0</td>\n",
       "      <td>0</td>\n",
       "      <td>0</td>\n",
       "      <td>0</td>\n",
       "    </tr>\n",
       "    <tr>\n",
       "      <th>2</th>\n",
       "      <td>0</td>\n",
       "      <td>0</td>\n",
       "      <td>0</td>\n",
       "      <td>4</td>\n",
       "      <td>0</td>\n",
       "      <td>0</td>\n",
       "      <td>0</td>\n",
       "      <td>0</td>\n",
       "      <td>0</td>\n",
       "      <td>0</td>\n",
       "      <td>...</td>\n",
       "      <td>0</td>\n",
       "      <td>0</td>\n",
       "      <td>0</td>\n",
       "      <td>0</td>\n",
       "      <td>0</td>\n",
       "      <td>0</td>\n",
       "      <td>0</td>\n",
       "      <td>0</td>\n",
       "      <td>0</td>\n",
       "      <td>0</td>\n",
       "    </tr>\n",
       "    <tr>\n",
       "      <th>3</th>\n",
       "      <td>0</td>\n",
       "      <td>0</td>\n",
       "      <td>0</td>\n",
       "      <td>0</td>\n",
       "      <td>0</td>\n",
       "      <td>0</td>\n",
       "      <td>0</td>\n",
       "      <td>0</td>\n",
       "      <td>0</td>\n",
       "      <td>0</td>\n",
       "      <td>...</td>\n",
       "      <td>0</td>\n",
       "      <td>0</td>\n",
       "      <td>1</td>\n",
       "      <td>0</td>\n",
       "      <td>0</td>\n",
       "      <td>0</td>\n",
       "      <td>0</td>\n",
       "      <td>0</td>\n",
       "      <td>1</td>\n",
       "      <td>4</td>\n",
       "    </tr>\n",
       "    <tr>\n",
       "      <th>4</th>\n",
       "      <td>0</td>\n",
       "      <td>0</td>\n",
       "      <td>0</td>\n",
       "      <td>0</td>\n",
       "      <td>0</td>\n",
       "      <td>0</td>\n",
       "      <td>0</td>\n",
       "      <td>0</td>\n",
       "      <td>0</td>\n",
       "      <td>0</td>\n",
       "      <td>...</td>\n",
       "      <td>0</td>\n",
       "      <td>0</td>\n",
       "      <td>0</td>\n",
       "      <td>0</td>\n",
       "      <td>0</td>\n",
       "      <td>0</td>\n",
       "      <td>0</td>\n",
       "      <td>0</td>\n",
       "      <td>0</td>\n",
       "      <td>1</td>\n",
       "    </tr>\n",
       "  </tbody>\n",
       "</table>\n",
       "<p>5 rows × 135 columns</p>\n",
       "</div>"
      ],
      "text/plain": [
       "   prepared soups salads  specialty cheeses  energy granola bars  \\\n",
       "0                      0                  0                    0   \n",
       "1                      1                  0                    6   \n",
       "2                      0                  0                    0   \n",
       "3                      0                  0                    0   \n",
       "4                      0                  0                    0   \n",
       "\n",
       "   instant foods  marinades meat preparation  other  packaged meat  \\\n",
       "0              0                           0      0              0   \n",
       "1              0                           0      0              0   \n",
       "2              4                           0      0              0   \n",
       "3              0                           0      0              0   \n",
       "4              0                           0      0              0   \n",
       "\n",
       "   bakery desserts  pasta sauce  kitchen supplies  ...  feminine care  \\\n",
       "0                0            0                 0  ...              0   \n",
       "1                0            0                 0  ...              0   \n",
       "2                0            0                 0  ...              0   \n",
       "3                0            0                 0  ...              0   \n",
       "4                0            0                 0  ...              0   \n",
       "\n",
       "   body lotions soap  tortillas flat bread  frozen appetizers sides  \\\n",
       "0                  0                     0                        0   \n",
       "1                  0                     0                        0   \n",
       "2                  0                     0                        0   \n",
       "3                  0                     1                        0   \n",
       "4                  0                     0                        0   \n",
       "\n",
       "   hot cereal pancake mixes  dry pasta  beauty  muscles joints pain relief  \\\n",
       "0                         0          0       0                           0   \n",
       "1                         0          0       0                           0   \n",
       "2                         0          0       0                           0   \n",
       "3                         0          0       0                           0   \n",
       "4                         0          0       0                           0   \n",
       "\n",
       "   specialty wines champagnes  cluster  \n",
       "0                           0        4  \n",
       "1                           0        0  \n",
       "2                           0        0  \n",
       "3                           1        4  \n",
       "4                           0        1  \n",
       "\n",
       "[5 rows x 135 columns]"
      ]
     },
     "execution_count": 9,
     "metadata": {},
     "output_type": "execute_result"
    }
   ],
   "source": [
    "#Add a column 'cluster'\n",
    "matrix_df['cluster']=kmeans.labels_\n",
    "matrix_df.head()"
   ]
  },
  {
   "cell_type": "code",
   "execution_count": 10,
   "metadata": {},
   "outputs": [
    {
     "data": {
      "text/html": [
       "<div>\n",
       "<style scoped>\n",
       "    .dataframe tbody tr th:only-of-type {\n",
       "        vertical-align: middle;\n",
       "    }\n",
       "\n",
       "    .dataframe tbody tr th {\n",
       "        vertical-align: top;\n",
       "    }\n",
       "\n",
       "    .dataframe thead th {\n",
       "        text-align: right;\n",
       "    }\n",
       "</style>\n",
       "<table border=\"1\" class=\"dataframe\">\n",
       "  <thead>\n",
       "    <tr style=\"text-align: right;\">\n",
       "      <th></th>\n",
       "      <th>prepared soups salads</th>\n",
       "      <th>specialty cheeses</th>\n",
       "      <th>energy granola bars</th>\n",
       "      <th>instant foods</th>\n",
       "      <th>marinades meat preparation</th>\n",
       "      <th>other</th>\n",
       "      <th>packaged meat</th>\n",
       "      <th>bakery desserts</th>\n",
       "      <th>pasta sauce</th>\n",
       "      <th>kitchen supplies</th>\n",
       "      <th>...</th>\n",
       "      <th>trail mix snack mix</th>\n",
       "      <th>feminine care</th>\n",
       "      <th>body lotions soap</th>\n",
       "      <th>tortillas flat bread</th>\n",
       "      <th>frozen appetizers sides</th>\n",
       "      <th>hot cereal pancake mixes</th>\n",
       "      <th>dry pasta</th>\n",
       "      <th>beauty</th>\n",
       "      <th>muscles joints pain relief</th>\n",
       "      <th>specialty wines champagnes</th>\n",
       "    </tr>\n",
       "  </thead>\n",
       "  <tbody>\n",
       "    <tr>\n",
       "      <th>0</th>\n",
       "      <td>0.000000</td>\n",
       "      <td>0.0</td>\n",
       "      <td>0.000000</td>\n",
       "      <td>0.000000</td>\n",
       "      <td>0.0</td>\n",
       "      <td>0.0</td>\n",
       "      <td>0.0</td>\n",
       "      <td>0.0</td>\n",
       "      <td>0.0</td>\n",
       "      <td>0.0</td>\n",
       "      <td>...</td>\n",
       "      <td>0.0</td>\n",
       "      <td>0.0</td>\n",
       "      <td>0.0</td>\n",
       "      <td>0.000000</td>\n",
       "      <td>0.0</td>\n",
       "      <td>0.0</td>\n",
       "      <td>0.0</td>\n",
       "      <td>0.0</td>\n",
       "      <td>0.0</td>\n",
       "      <td>0.000000</td>\n",
       "    </tr>\n",
       "    <tr>\n",
       "      <th>1</th>\n",
       "      <td>0.005128</td>\n",
       "      <td>0.0</td>\n",
       "      <td>0.030769</td>\n",
       "      <td>0.000000</td>\n",
       "      <td>0.0</td>\n",
       "      <td>0.0</td>\n",
       "      <td>0.0</td>\n",
       "      <td>0.0</td>\n",
       "      <td>0.0</td>\n",
       "      <td>0.0</td>\n",
       "      <td>...</td>\n",
       "      <td>0.0</td>\n",
       "      <td>0.0</td>\n",
       "      <td>0.0</td>\n",
       "      <td>0.000000</td>\n",
       "      <td>0.0</td>\n",
       "      <td>0.0</td>\n",
       "      <td>0.0</td>\n",
       "      <td>0.0</td>\n",
       "      <td>0.0</td>\n",
       "      <td>0.000000</td>\n",
       "    </tr>\n",
       "    <tr>\n",
       "      <th>2</th>\n",
       "      <td>0.000000</td>\n",
       "      <td>0.0</td>\n",
       "      <td>0.000000</td>\n",
       "      <td>0.045455</td>\n",
       "      <td>0.0</td>\n",
       "      <td>0.0</td>\n",
       "      <td>0.0</td>\n",
       "      <td>0.0</td>\n",
       "      <td>0.0</td>\n",
       "      <td>0.0</td>\n",
       "      <td>...</td>\n",
       "      <td>0.0</td>\n",
       "      <td>0.0</td>\n",
       "      <td>0.0</td>\n",
       "      <td>0.000000</td>\n",
       "      <td>0.0</td>\n",
       "      <td>0.0</td>\n",
       "      <td>0.0</td>\n",
       "      <td>0.0</td>\n",
       "      <td>0.0</td>\n",
       "      <td>0.000000</td>\n",
       "    </tr>\n",
       "    <tr>\n",
       "      <th>3</th>\n",
       "      <td>0.000000</td>\n",
       "      <td>0.0</td>\n",
       "      <td>0.000000</td>\n",
       "      <td>0.000000</td>\n",
       "      <td>0.0</td>\n",
       "      <td>0.0</td>\n",
       "      <td>0.0</td>\n",
       "      <td>0.0</td>\n",
       "      <td>0.0</td>\n",
       "      <td>0.0</td>\n",
       "      <td>...</td>\n",
       "      <td>0.0</td>\n",
       "      <td>0.0</td>\n",
       "      <td>0.0</td>\n",
       "      <td>0.055556</td>\n",
       "      <td>0.0</td>\n",
       "      <td>0.0</td>\n",
       "      <td>0.0</td>\n",
       "      <td>0.0</td>\n",
       "      <td>0.0</td>\n",
       "      <td>0.055556</td>\n",
       "    </tr>\n",
       "    <tr>\n",
       "      <th>4</th>\n",
       "      <td>0.000000</td>\n",
       "      <td>0.0</td>\n",
       "      <td>0.000000</td>\n",
       "      <td>0.000000</td>\n",
       "      <td>0.0</td>\n",
       "      <td>0.0</td>\n",
       "      <td>0.0</td>\n",
       "      <td>0.0</td>\n",
       "      <td>0.0</td>\n",
       "      <td>0.0</td>\n",
       "      <td>...</td>\n",
       "      <td>0.0</td>\n",
       "      <td>0.0</td>\n",
       "      <td>0.0</td>\n",
       "      <td>0.000000</td>\n",
       "      <td>0.0</td>\n",
       "      <td>0.0</td>\n",
       "      <td>0.0</td>\n",
       "      <td>0.0</td>\n",
       "      <td>0.0</td>\n",
       "      <td>0.000000</td>\n",
       "    </tr>\n",
       "  </tbody>\n",
       "</table>\n",
       "<p>5 rows × 134 columns</p>\n",
       "</div>"
      ],
      "text/plain": [
       "   prepared soups salads  specialty cheeses  energy granola bars  \\\n",
       "0               0.000000                0.0             0.000000   \n",
       "1               0.005128                0.0             0.030769   \n",
       "2               0.000000                0.0             0.000000   \n",
       "3               0.000000                0.0             0.000000   \n",
       "4               0.000000                0.0             0.000000   \n",
       "\n",
       "   instant foods  marinades meat preparation  other  packaged meat  \\\n",
       "0       0.000000                         0.0    0.0            0.0   \n",
       "1       0.000000                         0.0    0.0            0.0   \n",
       "2       0.045455                         0.0    0.0            0.0   \n",
       "3       0.000000                         0.0    0.0            0.0   \n",
       "4       0.000000                         0.0    0.0            0.0   \n",
       "\n",
       "   bakery desserts  pasta sauce  kitchen supplies  ...  trail mix snack mix  \\\n",
       "0              0.0          0.0               0.0  ...                  0.0   \n",
       "1              0.0          0.0               0.0  ...                  0.0   \n",
       "2              0.0          0.0               0.0  ...                  0.0   \n",
       "3              0.0          0.0               0.0  ...                  0.0   \n",
       "4              0.0          0.0               0.0  ...                  0.0   \n",
       "\n",
       "   feminine care  body lotions soap  tortillas flat bread  \\\n",
       "0            0.0                0.0              0.000000   \n",
       "1            0.0                0.0              0.000000   \n",
       "2            0.0                0.0              0.000000   \n",
       "3            0.0                0.0              0.055556   \n",
       "4            0.0                0.0              0.000000   \n",
       "\n",
       "   frozen appetizers sides  hot cereal pancake mixes  dry pasta  beauty  \\\n",
       "0                      0.0                       0.0        0.0     0.0   \n",
       "1                      0.0                       0.0        0.0     0.0   \n",
       "2                      0.0                       0.0        0.0     0.0   \n",
       "3                      0.0                       0.0        0.0     0.0   \n",
       "4                      0.0                       0.0        0.0     0.0   \n",
       "\n",
       "   muscles joints pain relief  specialty wines champagnes  \n",
       "0                         0.0                    0.000000  \n",
       "1                         0.0                    0.000000  \n",
       "2                         0.0                    0.000000  \n",
       "3                         0.0                    0.055556  \n",
       "4                         0.0                    0.000000  \n",
       "\n",
       "[5 rows x 134 columns]"
      ]
     },
     "execution_count": 10,
     "metadata": {},
     "output_type": "execute_result"
    }
   ],
   "source": [
    "#Convert Normalized matrix into a df\n",
    "norm_matrix_df = pd.DataFrame(norm_matrix, index = range(len(norm_matrix)), columns = ['Null']+list(aisles.aisle) )\n",
    "norm_matrix_df = norm_matrix_df.drop('Null', axis=1) #drop first useless column\n",
    "norm_matrix_df.head()"
   ]
  },
  {
   "cell_type": "code",
   "execution_count": 11,
   "metadata": {},
   "outputs": [
    {
     "data": {
      "text/html": [
       "<div>\n",
       "<style scoped>\n",
       "    .dataframe tbody tr th:only-of-type {\n",
       "        vertical-align: middle;\n",
       "    }\n",
       "\n",
       "    .dataframe tbody tr th {\n",
       "        vertical-align: top;\n",
       "    }\n",
       "\n",
       "    .dataframe thead th {\n",
       "        text-align: right;\n",
       "    }\n",
       "</style>\n",
       "<table border=\"1\" class=\"dataframe\">\n",
       "  <thead>\n",
       "    <tr style=\"text-align: right;\">\n",
       "      <th></th>\n",
       "      <th>prepared soups salads</th>\n",
       "      <th>specialty cheeses</th>\n",
       "      <th>energy granola bars</th>\n",
       "      <th>instant foods</th>\n",
       "      <th>marinades meat preparation</th>\n",
       "      <th>other</th>\n",
       "      <th>packaged meat</th>\n",
       "      <th>bakery desserts</th>\n",
       "      <th>pasta sauce</th>\n",
       "      <th>kitchen supplies</th>\n",
       "      <th>...</th>\n",
       "      <th>feminine care</th>\n",
       "      <th>body lotions soap</th>\n",
       "      <th>tortillas flat bread</th>\n",
       "      <th>frozen appetizers sides</th>\n",
       "      <th>hot cereal pancake mixes</th>\n",
       "      <th>dry pasta</th>\n",
       "      <th>beauty</th>\n",
       "      <th>muscles joints pain relief</th>\n",
       "      <th>specialty wines champagnes</th>\n",
       "      <th>cluster</th>\n",
       "    </tr>\n",
       "  </thead>\n",
       "  <tbody>\n",
       "    <tr>\n",
       "      <th>0</th>\n",
       "      <td>0.000000</td>\n",
       "      <td>0.0</td>\n",
       "      <td>0.000000</td>\n",
       "      <td>0.000000</td>\n",
       "      <td>0.0</td>\n",
       "      <td>0.0</td>\n",
       "      <td>0.0</td>\n",
       "      <td>0.0</td>\n",
       "      <td>0.0</td>\n",
       "      <td>0.0</td>\n",
       "      <td>...</td>\n",
       "      <td>0.0</td>\n",
       "      <td>0.0</td>\n",
       "      <td>0.000000</td>\n",
       "      <td>0.0</td>\n",
       "      <td>0.0</td>\n",
       "      <td>0.0</td>\n",
       "      <td>0.0</td>\n",
       "      <td>0.0</td>\n",
       "      <td>0.000000</td>\n",
       "      <td>4</td>\n",
       "    </tr>\n",
       "    <tr>\n",
       "      <th>1</th>\n",
       "      <td>0.005128</td>\n",
       "      <td>0.0</td>\n",
       "      <td>0.030769</td>\n",
       "      <td>0.000000</td>\n",
       "      <td>0.0</td>\n",
       "      <td>0.0</td>\n",
       "      <td>0.0</td>\n",
       "      <td>0.0</td>\n",
       "      <td>0.0</td>\n",
       "      <td>0.0</td>\n",
       "      <td>...</td>\n",
       "      <td>0.0</td>\n",
       "      <td>0.0</td>\n",
       "      <td>0.000000</td>\n",
       "      <td>0.0</td>\n",
       "      <td>0.0</td>\n",
       "      <td>0.0</td>\n",
       "      <td>0.0</td>\n",
       "      <td>0.0</td>\n",
       "      <td>0.000000</td>\n",
       "      <td>0</td>\n",
       "    </tr>\n",
       "    <tr>\n",
       "      <th>2</th>\n",
       "      <td>0.000000</td>\n",
       "      <td>0.0</td>\n",
       "      <td>0.000000</td>\n",
       "      <td>0.045455</td>\n",
       "      <td>0.0</td>\n",
       "      <td>0.0</td>\n",
       "      <td>0.0</td>\n",
       "      <td>0.0</td>\n",
       "      <td>0.0</td>\n",
       "      <td>0.0</td>\n",
       "      <td>...</td>\n",
       "      <td>0.0</td>\n",
       "      <td>0.0</td>\n",
       "      <td>0.000000</td>\n",
       "      <td>0.0</td>\n",
       "      <td>0.0</td>\n",
       "      <td>0.0</td>\n",
       "      <td>0.0</td>\n",
       "      <td>0.0</td>\n",
       "      <td>0.000000</td>\n",
       "      <td>0</td>\n",
       "    </tr>\n",
       "    <tr>\n",
       "      <th>3</th>\n",
       "      <td>0.000000</td>\n",
       "      <td>0.0</td>\n",
       "      <td>0.000000</td>\n",
       "      <td>0.000000</td>\n",
       "      <td>0.0</td>\n",
       "      <td>0.0</td>\n",
       "      <td>0.0</td>\n",
       "      <td>0.0</td>\n",
       "      <td>0.0</td>\n",
       "      <td>0.0</td>\n",
       "      <td>...</td>\n",
       "      <td>0.0</td>\n",
       "      <td>0.0</td>\n",
       "      <td>0.055556</td>\n",
       "      <td>0.0</td>\n",
       "      <td>0.0</td>\n",
       "      <td>0.0</td>\n",
       "      <td>0.0</td>\n",
       "      <td>0.0</td>\n",
       "      <td>0.055556</td>\n",
       "      <td>4</td>\n",
       "    </tr>\n",
       "    <tr>\n",
       "      <th>4</th>\n",
       "      <td>0.000000</td>\n",
       "      <td>0.0</td>\n",
       "      <td>0.000000</td>\n",
       "      <td>0.000000</td>\n",
       "      <td>0.0</td>\n",
       "      <td>0.0</td>\n",
       "      <td>0.0</td>\n",
       "      <td>0.0</td>\n",
       "      <td>0.0</td>\n",
       "      <td>0.0</td>\n",
       "      <td>...</td>\n",
       "      <td>0.0</td>\n",
       "      <td>0.0</td>\n",
       "      <td>0.000000</td>\n",
       "      <td>0.0</td>\n",
       "      <td>0.0</td>\n",
       "      <td>0.0</td>\n",
       "      <td>0.0</td>\n",
       "      <td>0.0</td>\n",
       "      <td>0.000000</td>\n",
       "      <td>1</td>\n",
       "    </tr>\n",
       "  </tbody>\n",
       "</table>\n",
       "<p>5 rows × 135 columns</p>\n",
       "</div>"
      ],
      "text/plain": [
       "   prepared soups salads  specialty cheeses  energy granola bars  \\\n",
       "0               0.000000                0.0             0.000000   \n",
       "1               0.005128                0.0             0.030769   \n",
       "2               0.000000                0.0             0.000000   \n",
       "3               0.000000                0.0             0.000000   \n",
       "4               0.000000                0.0             0.000000   \n",
       "\n",
       "   instant foods  marinades meat preparation  other  packaged meat  \\\n",
       "0       0.000000                         0.0    0.0            0.0   \n",
       "1       0.000000                         0.0    0.0            0.0   \n",
       "2       0.045455                         0.0    0.0            0.0   \n",
       "3       0.000000                         0.0    0.0            0.0   \n",
       "4       0.000000                         0.0    0.0            0.0   \n",
       "\n",
       "   bakery desserts  pasta sauce  kitchen supplies  ...  feminine care  \\\n",
       "0              0.0          0.0               0.0  ...            0.0   \n",
       "1              0.0          0.0               0.0  ...            0.0   \n",
       "2              0.0          0.0               0.0  ...            0.0   \n",
       "3              0.0          0.0               0.0  ...            0.0   \n",
       "4              0.0          0.0               0.0  ...            0.0   \n",
       "\n",
       "   body lotions soap  tortillas flat bread  frozen appetizers sides  \\\n",
       "0                0.0              0.000000                      0.0   \n",
       "1                0.0              0.000000                      0.0   \n",
       "2                0.0              0.000000                      0.0   \n",
       "3                0.0              0.055556                      0.0   \n",
       "4                0.0              0.000000                      0.0   \n",
       "\n",
       "   hot cereal pancake mixes  dry pasta  beauty  muscles joints pain relief  \\\n",
       "0                       0.0        0.0     0.0                         0.0   \n",
       "1                       0.0        0.0     0.0                         0.0   \n",
       "2                       0.0        0.0     0.0                         0.0   \n",
       "3                       0.0        0.0     0.0                         0.0   \n",
       "4                       0.0        0.0     0.0                         0.0   \n",
       "\n",
       "   specialty wines champagnes  cluster  \n",
       "0                    0.000000        4  \n",
       "1                    0.000000        0  \n",
       "2                    0.000000        0  \n",
       "3                    0.055556        4  \n",
       "4                    0.000000        1  \n",
       "\n",
       "[5 rows x 135 columns]"
      ]
     },
     "execution_count": 11,
     "metadata": {},
     "output_type": "execute_result"
    }
   ],
   "source": [
    "#Add column 'cluster'\n",
    "norm_matrix_df['cluster']=kmeans.labels_\n",
    "norm_matrix_df.head()"
   ]
  },
  {
   "cell_type": "markdown",
   "metadata": {},
   "source": [
    "**Study the mean repartition of products per ailse in each clusters**"
   ]
  },
  {
   "cell_type": "code",
   "execution_count": 55,
   "metadata": {},
   "outputs": [
    {
     "data": {
      "text/html": [
       "<div>\n",
       "<style scoped>\n",
       "    .dataframe tbody tr th:only-of-type {\n",
       "        vertical-align: middle;\n",
       "    }\n",
       "\n",
       "    .dataframe tbody tr th {\n",
       "        vertical-align: top;\n",
       "    }\n",
       "\n",
       "    .dataframe thead th {\n",
       "        text-align: right;\n",
       "    }\n",
       "</style>\n",
       "<table border=\"1\" class=\"dataframe\">\n",
       "  <thead>\n",
       "    <tr style=\"text-align: right;\">\n",
       "      <th></th>\n",
       "      <th>prepared soups salads</th>\n",
       "      <th>specialty cheeses</th>\n",
       "      <th>energy granola bars</th>\n",
       "      <th>instant foods</th>\n",
       "      <th>marinades meat preparation</th>\n",
       "      <th>other</th>\n",
       "      <th>packaged meat</th>\n",
       "      <th>bakery desserts</th>\n",
       "      <th>pasta sauce</th>\n",
       "      <th>kitchen supplies</th>\n",
       "      <th>...</th>\n",
       "      <th>trail mix snack mix</th>\n",
       "      <th>feminine care</th>\n",
       "      <th>body lotions soap</th>\n",
       "      <th>tortillas flat bread</th>\n",
       "      <th>frozen appetizers sides</th>\n",
       "      <th>hot cereal pancake mixes</th>\n",
       "      <th>dry pasta</th>\n",
       "      <th>beauty</th>\n",
       "      <th>muscles joints pain relief</th>\n",
       "      <th>specialty wines champagnes</th>\n",
       "    </tr>\n",
       "    <tr>\n",
       "      <th>cluster</th>\n",
       "      <th></th>\n",
       "      <th></th>\n",
       "      <th></th>\n",
       "      <th></th>\n",
       "      <th></th>\n",
       "      <th></th>\n",
       "      <th></th>\n",
       "      <th></th>\n",
       "      <th></th>\n",
       "      <th></th>\n",
       "      <th></th>\n",
       "      <th></th>\n",
       "      <th></th>\n",
       "      <th></th>\n",
       "      <th></th>\n",
       "      <th></th>\n",
       "      <th></th>\n",
       "      <th></th>\n",
       "      <th></th>\n",
       "      <th></th>\n",
       "      <th></th>\n",
       "    </tr>\n",
       "  </thead>\n",
       "  <tbody>\n",
       "    <tr>\n",
       "      <th>0</th>\n",
       "      <td>0.002626</td>\n",
       "      <td>0.002323</td>\n",
       "      <td>0.012865</td>\n",
       "      <td>0.004271</td>\n",
       "      <td>0.001138</td>\n",
       "      <td>0.000945</td>\n",
       "      <td>0.000785</td>\n",
       "      <td>0.001214</td>\n",
       "      <td>0.005298</td>\n",
       "      <td>0.000193</td>\n",
       "      <td>...</td>\n",
       "      <td>0.001251</td>\n",
       "      <td>0.000337</td>\n",
       "      <td>0.000553</td>\n",
       "      <td>0.004380</td>\n",
       "      <td>0.004436</td>\n",
       "      <td>0.004763</td>\n",
       "      <td>0.005874</td>\n",
       "      <td>0.000113</td>\n",
       "      <td>0.000482</td>\n",
       "      <td>0.000170</td>\n",
       "    </tr>\n",
       "    <tr>\n",
       "      <th>1</th>\n",
       "      <td>0.001635</td>\n",
       "      <td>0.002933</td>\n",
       "      <td>0.007811</td>\n",
       "      <td>0.004021</td>\n",
       "      <td>0.002122</td>\n",
       "      <td>0.000928</td>\n",
       "      <td>0.001297</td>\n",
       "      <td>0.000688</td>\n",
       "      <td>0.007335</td>\n",
       "      <td>0.000297</td>\n",
       "      <td>...</td>\n",
       "      <td>0.000328</td>\n",
       "      <td>0.000349</td>\n",
       "      <td>0.000450</td>\n",
       "      <td>0.005712</td>\n",
       "      <td>0.003614</td>\n",
       "      <td>0.004043</td>\n",
       "      <td>0.009116</td>\n",
       "      <td>0.000135</td>\n",
       "      <td>0.000310</td>\n",
       "      <td>0.000166</td>\n",
       "    </tr>\n",
       "    <tr>\n",
       "      <th>2</th>\n",
       "      <td>0.002437</td>\n",
       "      <td>0.001125</td>\n",
       "      <td>0.003834</td>\n",
       "      <td>0.001141</td>\n",
       "      <td>0.000431</td>\n",
       "      <td>0.000429</td>\n",
       "      <td>0.002486</td>\n",
       "      <td>0.002222</td>\n",
       "      <td>0.001826</td>\n",
       "      <td>0.000707</td>\n",
       "      <td>...</td>\n",
       "      <td>0.003229</td>\n",
       "      <td>0.000000</td>\n",
       "      <td>0.000814</td>\n",
       "      <td>0.001196</td>\n",
       "      <td>0.001192</td>\n",
       "      <td>0.001685</td>\n",
       "      <td>0.000763</td>\n",
       "      <td>0.000046</td>\n",
       "      <td>0.001504</td>\n",
       "      <td>0.000707</td>\n",
       "    </tr>\n",
       "    <tr>\n",
       "      <th>3</th>\n",
       "      <td>0.001277</td>\n",
       "      <td>0.001079</td>\n",
       "      <td>0.013829</td>\n",
       "      <td>0.001724</td>\n",
       "      <td>0.000486</td>\n",
       "      <td>0.001228</td>\n",
       "      <td>0.000675</td>\n",
       "      <td>0.001318</td>\n",
       "      <td>0.001338</td>\n",
       "      <td>0.000554</td>\n",
       "      <td>...</td>\n",
       "      <td>0.003322</td>\n",
       "      <td>0.000693</td>\n",
       "      <td>0.002538</td>\n",
       "      <td>0.001111</td>\n",
       "      <td>0.001352</td>\n",
       "      <td>0.002477</td>\n",
       "      <td>0.001707</td>\n",
       "      <td>0.000148</td>\n",
       "      <td>0.001797</td>\n",
       "      <td>0.000689</td>\n",
       "    </tr>\n",
       "    <tr>\n",
       "      <th>4</th>\n",
       "      <td>0.002743</td>\n",
       "      <td>0.002495</td>\n",
       "      <td>0.015161</td>\n",
       "      <td>0.008394</td>\n",
       "      <td>0.002436</td>\n",
       "      <td>0.001847</td>\n",
       "      <td>0.001093</td>\n",
       "      <td>0.001825</td>\n",
       "      <td>0.007002</td>\n",
       "      <td>0.000531</td>\n",
       "      <td>...</td>\n",
       "      <td>0.001983</td>\n",
       "      <td>0.001353</td>\n",
       "      <td>0.003069</td>\n",
       "      <td>0.006158</td>\n",
       "      <td>0.007776</td>\n",
       "      <td>0.005129</td>\n",
       "      <td>0.007976</td>\n",
       "      <td>0.000356</td>\n",
       "      <td>0.001309</td>\n",
       "      <td>0.001227</td>\n",
       "    </tr>\n",
       "  </tbody>\n",
       "</table>\n",
       "<p>5 rows × 134 columns</p>\n",
       "</div>"
      ],
      "text/plain": [
       "         prepared soups salads  specialty cheeses  energy granola bars  \\\n",
       "cluster                                                                  \n",
       "0                     0.002626           0.002323             0.012865   \n",
       "1                     0.001635           0.002933             0.007811   \n",
       "2                     0.002437           0.001125             0.003834   \n",
       "3                     0.001277           0.001079             0.013829   \n",
       "4                     0.002743           0.002495             0.015161   \n",
       "\n",
       "         instant foods  marinades meat preparation     other  packaged meat  \\\n",
       "cluster                                                                       \n",
       "0             0.004271                    0.001138  0.000945       0.000785   \n",
       "1             0.004021                    0.002122  0.000928       0.001297   \n",
       "2             0.001141                    0.000431  0.000429       0.002486   \n",
       "3             0.001724                    0.000486  0.001228       0.000675   \n",
       "4             0.008394                    0.002436  0.001847       0.001093   \n",
       "\n",
       "         bakery desserts  pasta sauce  kitchen supplies  ...  \\\n",
       "cluster                                                  ...   \n",
       "0               0.001214     0.005298          0.000193  ...   \n",
       "1               0.000688     0.007335          0.000297  ...   \n",
       "2               0.002222     0.001826          0.000707  ...   \n",
       "3               0.001318     0.001338          0.000554  ...   \n",
       "4               0.001825     0.007002          0.000531  ...   \n",
       "\n",
       "         trail mix snack mix  feminine care  body lotions soap  \\\n",
       "cluster                                                          \n",
       "0                   0.001251       0.000337           0.000553   \n",
       "1                   0.000328       0.000349           0.000450   \n",
       "2                   0.003229       0.000000           0.000814   \n",
       "3                   0.003322       0.000693           0.002538   \n",
       "4                   0.001983       0.001353           0.003069   \n",
       "\n",
       "         tortillas flat bread  frozen appetizers sides  \\\n",
       "cluster                                                  \n",
       "0                    0.004380                 0.004436   \n",
       "1                    0.005712                 0.003614   \n",
       "2                    0.001196                 0.001192   \n",
       "3                    0.001111                 0.001352   \n",
       "4                    0.006158                 0.007776   \n",
       "\n",
       "         hot cereal pancake mixes  dry pasta    beauty  \\\n",
       "cluster                                                  \n",
       "0                        0.004763   0.005874  0.000113   \n",
       "1                        0.004043   0.009116  0.000135   \n",
       "2                        0.001685   0.000763  0.000046   \n",
       "3                        0.002477   0.001707  0.000148   \n",
       "4                        0.005129   0.007976  0.000356   \n",
       "\n",
       "         muscles joints pain relief  specialty wines champagnes  \n",
       "cluster                                                          \n",
       "0                          0.000482                    0.000170  \n",
       "1                          0.000310                    0.000166  \n",
       "2                          0.001504                    0.000707  \n",
       "3                          0.001797                    0.000689  \n",
       "4                          0.001309                    0.001227  \n",
       "\n",
       "[5 rows x 134 columns]"
      ]
     },
     "execution_count": 55,
     "metadata": {},
     "output_type": "execute_result"
    }
   ],
   "source": [
    "mean_clusters = norm_matrix_df.groupby(['cluster']).mean()\n",
    "mean_clusters"
   ]
  },
  {
   "cell_type": "markdown",
   "metadata": {},
   "source": [
    "**Evaluate the features discrimining the clusters**"
   ]
  },
  {
   "cell_type": "code",
   "execution_count": 16,
   "metadata": {},
   "outputs": [
    {
     "data": {
      "text/plain": [
       "cluster                       1.000000\n",
       "soft drinks                   0.153559\n",
       "paper goods                   0.136513\n",
       "body lotions soap             0.136126\n",
       "cleaning products             0.125984\n",
       "                                ...   \n",
       "poultry counter              -0.086046\n",
       "fresh herbs                  -0.176744\n",
       "packaged vegetables fruits   -0.197503\n",
       "fresh vegetables             -0.277253\n",
       "fresh fruits                 -0.311720\n",
       "Name: cluster, Length: 135, dtype: float64"
      ]
     },
     "execution_count": 16,
     "metadata": {},
     "output_type": "execute_result"
    }
   ],
   "source": [
    "matrix_df.corr()['cluster'].sort_values(ascending=True)"
   ]
  },
  {
   "cell_type": "markdown",
   "metadata": {},
   "source": [
    "features influencing the most the cluster affiliation seem to be the 9 ones listed above \n",
    "_not convinced by the method_"
   ]
  },
  {
   "cell_type": "code",
   "execution_count": 34,
   "metadata": {},
   "outputs": [],
   "source": [
    "array = norm_matrix_df.values\n",
    "X = array[:,0:-1]\n",
    "Y = array[:,-1]"
   ]
  },
  {
   "cell_type": "code",
   "execution_count": 50,
   "metadata": {},
   "outputs": [],
   "source": [
    "scores = SelectKBest(chi2, k=20).fit(X, Y)"
   ]
  },
  {
   "cell_type": "code",
   "execution_count": 52,
   "metadata": {},
   "outputs": [
    {
     "data": {
      "text/html": [
       "<div>\n",
       "<style scoped>\n",
       "    .dataframe tbody tr th:only-of-type {\n",
       "        vertical-align: middle;\n",
       "    }\n",
       "\n",
       "    .dataframe tbody tr th {\n",
       "        vertical-align: top;\n",
       "    }\n",
       "\n",
       "    .dataframe thead th {\n",
       "        text-align: right;\n",
       "    }\n",
       "</style>\n",
       "<table border=\"1\" class=\"dataframe\">\n",
       "  <thead>\n",
       "    <tr style=\"text-align: right;\">\n",
       "      <th></th>\n",
       "      <th>Score</th>\n",
       "    </tr>\n",
       "  </thead>\n",
       "  <tbody>\n",
       "    <tr>\n",
       "      <th>packaged produce</th>\n",
       "      <td>36182.246946</td>\n",
       "    </tr>\n",
       "    <tr>\n",
       "      <th>water seltzer sparkling water</th>\n",
       "      <td>21547.167605</td>\n",
       "    </tr>\n",
       "    <tr>\n",
       "      <th>fresh vegetables</th>\n",
       "      <td>12607.893035</td>\n",
       "    </tr>\n",
       "    <tr>\n",
       "      <th>fresh fruits</th>\n",
       "      <td>8476.947723</td>\n",
       "    </tr>\n",
       "    <tr>\n",
       "      <th>soft drinks</th>\n",
       "      <td>1526.762953</td>\n",
       "    </tr>\n",
       "    <tr>\n",
       "      <th>fresh herbs</th>\n",
       "      <td>1209.352566</td>\n",
       "    </tr>\n",
       "    <tr>\n",
       "      <th>packaged vegetables fruits</th>\n",
       "      <td>1100.078211</td>\n",
       "    </tr>\n",
       "    <tr>\n",
       "      <th>frozen meals</th>\n",
       "      <td>644.995977</td>\n",
       "    </tr>\n",
       "    <tr>\n",
       "      <th>paper goods</th>\n",
       "      <td>561.429783</td>\n",
       "    </tr>\n",
       "    <tr>\n",
       "      <th>ice cream ice</th>\n",
       "      <td>522.070240</td>\n",
       "    </tr>\n",
       "  </tbody>\n",
       "</table>\n",
       "</div>"
      ],
      "text/plain": [
       "                                      Score\n",
       "packaged produce               36182.246946\n",
       "water seltzer sparkling water  21547.167605\n",
       "fresh vegetables               12607.893035\n",
       "fresh fruits                    8476.947723\n",
       "soft drinks                     1526.762953\n",
       "fresh herbs                     1209.352566\n",
       "packaged vegetables fruits      1100.078211\n",
       "frozen meals                     644.995977\n",
       "paper goods                      561.429783\n",
       "ice cream ice                    522.070240"
      ]
     },
     "execution_count": 52,
     "metadata": {},
     "output_type": "execute_result"
    }
   ],
   "source": [
    "features = pd.DataFrame(index=norm_matrix_df.columns[:-1], data= scores.scores_, columns=[\"Score\"]).sort_values(\"Score\",ascending=False)\n",
    "features.head(10)"
   ]
  },
  {
   "cell_type": "markdown",
   "metadata": {},
   "source": [
    "_better method_ most important features"
   ]
  },
  {
   "cell_type": "code",
   "execution_count": 53,
   "metadata": {},
   "outputs": [],
   "source": [
    "imp_features = features.head(10).index"
   ]
  },
  {
   "cell_type": "code",
   "execution_count": 56,
   "metadata": {},
   "outputs": [
    {
     "data": {
      "text/html": [
       "<div>\n",
       "<style scoped>\n",
       "    .dataframe tbody tr th:only-of-type {\n",
       "        vertical-align: middle;\n",
       "    }\n",
       "\n",
       "    .dataframe tbody tr th {\n",
       "        vertical-align: top;\n",
       "    }\n",
       "\n",
       "    .dataframe thead th {\n",
       "        text-align: right;\n",
       "    }\n",
       "</style>\n",
       "<table border=\"1\" class=\"dataframe\">\n",
       "  <thead>\n",
       "    <tr style=\"text-align: right;\">\n",
       "      <th></th>\n",
       "      <th>packaged produce</th>\n",
       "      <th>water seltzer sparkling water</th>\n",
       "      <th>fresh vegetables</th>\n",
       "      <th>fresh fruits</th>\n",
       "      <th>soft drinks</th>\n",
       "      <th>fresh herbs</th>\n",
       "      <th>packaged vegetables fruits</th>\n",
       "      <th>frozen meals</th>\n",
       "      <th>paper goods</th>\n",
       "      <th>ice cream ice</th>\n",
       "    </tr>\n",
       "    <tr>\n",
       "      <th>cluster</th>\n",
       "      <th></th>\n",
       "      <th></th>\n",
       "      <th></th>\n",
       "      <th></th>\n",
       "      <th></th>\n",
       "      <th></th>\n",
       "      <th></th>\n",
       "      <th></th>\n",
       "      <th></th>\n",
       "      <th></th>\n",
       "    </tr>\n",
       "  </thead>\n",
       "  <tbody>\n",
       "    <tr>\n",
       "      <th>0</th>\n",
       "      <td>0.011045</td>\n",
       "      <td>0.021670</td>\n",
       "      <td>0.075563</td>\n",
       "      <td>0.228131</td>\n",
       "      <td>0.006999</td>\n",
       "      <td>0.008120</td>\n",
       "      <td>0.070707</td>\n",
       "      <td>0.008015</td>\n",
       "      <td>0.004468</td>\n",
       "      <td>0.012104</td>\n",
       "    </tr>\n",
       "    <tr>\n",
       "      <th>1</th>\n",
       "      <td>0.003952</td>\n",
       "      <td>0.017446</td>\n",
       "      <td>0.218774</td>\n",
       "      <td>0.111934</td>\n",
       "      <td>0.004512</td>\n",
       "      <td>0.022809</td>\n",
       "      <td>0.066753</td>\n",
       "      <td>0.006371</td>\n",
       "      <td>0.004489</td>\n",
       "      <td>0.011409</td>\n",
       "    </tr>\n",
       "    <tr>\n",
       "      <th>2</th>\n",
       "      <td>0.292983</td>\n",
       "      <td>0.025529</td>\n",
       "      <td>0.043707</td>\n",
       "      <td>0.147302</td>\n",
       "      <td>0.013028</td>\n",
       "      <td>0.000290</td>\n",
       "      <td>0.060935</td>\n",
       "      <td>0.006034</td>\n",
       "      <td>0.002088</td>\n",
       "      <td>0.004134</td>\n",
       "    </tr>\n",
       "    <tr>\n",
       "      <th>3</th>\n",
       "      <td>0.015740</td>\n",
       "      <td>0.390199</td>\n",
       "      <td>0.014466</td>\n",
       "      <td>0.041773</td>\n",
       "      <td>0.053002</td>\n",
       "      <td>0.001618</td>\n",
       "      <td>0.018640</td>\n",
       "      <td>0.005504</td>\n",
       "      <td>0.017362</td>\n",
       "      <td>0.011205</td>\n",
       "    </tr>\n",
       "    <tr>\n",
       "      <th>4</th>\n",
       "      <td>0.005359</td>\n",
       "      <td>0.026973</td>\n",
       "      <td>0.041975</td>\n",
       "      <td>0.052864</td>\n",
       "      <td>0.024125</td>\n",
       "      <td>0.005401</td>\n",
       "      <td>0.036271</td>\n",
       "      <td>0.019585</td>\n",
       "      <td>0.014133</td>\n",
       "      <td>0.024045</td>\n",
       "    </tr>\n",
       "  </tbody>\n",
       "</table>\n",
       "</div>"
      ],
      "text/plain": [
       "         packaged produce  water seltzer sparkling water  fresh vegetables  \\\n",
       "cluster                                                                      \n",
       "0                0.011045                       0.021670          0.075563   \n",
       "1                0.003952                       0.017446          0.218774   \n",
       "2                0.292983                       0.025529          0.043707   \n",
       "3                0.015740                       0.390199          0.014466   \n",
       "4                0.005359                       0.026973          0.041975   \n",
       "\n",
       "         fresh fruits  soft drinks  fresh herbs  packaged vegetables fruits  \\\n",
       "cluster                                                                       \n",
       "0            0.228131     0.006999     0.008120                    0.070707   \n",
       "1            0.111934     0.004512     0.022809                    0.066753   \n",
       "2            0.147302     0.013028     0.000290                    0.060935   \n",
       "3            0.041773     0.053002     0.001618                    0.018640   \n",
       "4            0.052864     0.024125     0.005401                    0.036271   \n",
       "\n",
       "         frozen meals  paper goods  ice cream ice  \n",
       "cluster                                            \n",
       "0            0.008015     0.004468       0.012104  \n",
       "1            0.006371     0.004489       0.011409  \n",
       "2            0.006034     0.002088       0.004134  \n",
       "3            0.005504     0.017362       0.011205  \n",
       "4            0.019585     0.014133       0.024045  "
      ]
     },
     "execution_count": 56,
     "metadata": {},
     "output_type": "execute_result"
    }
   ],
   "source": [
    "mean_clusters[imp_features]"
   ]
  },
  {
   "cell_type": "markdown",
   "metadata": {},
   "source": [
    "0 : bcp de fresh fruits ; peu de soft drinks"
   ]
  },
  {
   "cell_type": "markdown",
   "metadata": {},
   "source": [
    "1 : tres peu de packaged ; bcp de fresh vegetables  ; peu de soft drinks ; bcp herbs"
   ]
  },
  {
   "cell_type": "markdown",
   "metadata": {},
   "source": [
    "2 : bcp de packaged ; peu d'herbs ; peu ice cream"
   ]
  },
  {
   "cell_type": "markdown",
   "metadata": {},
   "source": [
    "3 :  bcp de sparkling water ; peu de fresh fruits ; peu de pack veg fruits ; bcp paper"
   ]
  },
  {
   "cell_type": "markdown",
   "metadata": {},
   "source": [
    "4 : tres peu de packaged ; peu de fresh fruits ; peu de pack veg fruits ; bcp frozen meals ; bcp paper ; plus ice cream"
   ]
  },
  {
   "cell_type": "markdown",
   "metadata": {},
   "source": [
    "classification healthiness : 1>0 (bons)  >  (mauvais) 3>2>4"
   ]
  },
  {
   "cell_type": "code",
   "execution_count": null,
   "metadata": {},
   "outputs": [],
   "source": []
  }
 ],
 "metadata": {
  "kernelspec": {
   "display_name": "hw1_Auriane_noto",
   "language": "python",
   "name": "py3_pint"
  },
  "language_info": {
   "codemirror_mode": {
    "name": "ipython",
    "version": 3
   },
   "file_extension": ".py",
   "mimetype": "text/x-python",
   "name": "python",
   "nbconvert_exporter": "python",
   "pygments_lexer": "ipython3",
   "version": "3.6.9"
  }
 },
 "nbformat": 4,
 "nbformat_minor": 4
}
