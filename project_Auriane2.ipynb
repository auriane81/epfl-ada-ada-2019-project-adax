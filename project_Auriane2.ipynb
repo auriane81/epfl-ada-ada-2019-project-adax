{
 "cells": [
  {
   "cell_type": "code",
   "execution_count": 1,
   "metadata": {},
   "outputs": [],
   "source": [
    "import pandas as pd\n",
    "import numpy as np\n",
    "import matplotlib.pyplot as plt\n",
    "import copy\n",
    "import pickle\n",
    "from sklearn.cluster import KMeans\n",
    "from sklearn.metrics import silhouette_score\n",
    "import networkx as nx\n",
    "import numpy as np\n",
    "import time\n",
    "from sklearn.decomposition import PCA"
   ]
  },
  {
   "cell_type": "markdown",
   "metadata": {},
   "source": [
    "## Creation of the matrix (just load, last line)"
   ]
  },
  {
   "cell_type": "code",
   "execution_count": 2,
   "metadata": {},
   "outputs": [],
   "source": [
    "orders = pd.read_csv('data/orders.csv', sep=',')\n",
    "products = pd.read_csv('data/products.csv', sep=',')\n",
    "history = pd.read_csv('data/order_products__prior.csv', sep=',')"
   ]
  },
  {
   "cell_type": "code",
   "execution_count": 3,
   "metadata": {},
   "outputs": [],
   "source": [
    "orders_small = orders[[\"order_id\",\"user_id\"]].sort_values(by='order_id')#.head(105629)\n",
    "history_small = history[[\"order_id\",\"product_id\"]].sort_values(by='order_id')#.head(1000000)"
   ]
  },
  {
   "cell_type": "code",
   "execution_count": null,
   "metadata": {},
   "outputs": [],
   "source": [
    "consumptions = pd.merge(history_small, orders_small, on=\"order_id\")[['user_id','product_id']]"
   ]
  },
  {
   "cell_type": "code",
   "execution_count": null,
   "metadata": {},
   "outputs": [],
   "source": [
    "consumptions_with_details = pd.merge(consumptions,products, on=\"product_id\")[['user_id','product_id','aisle_id','department_id']]\n",
    "consumptions_with_details.head()"
   ]
  },
  {
   "cell_type": "code",
   "execution_count": null,
   "metadata": {},
   "outputs": [],
   "source": [
    "max_user_id = max(consumptions_with_details[\"user_id\"])\n",
    "print('The greatest user id is '+str(max_user_id)+\".\")"
   ]
  },
  {
   "cell_type": "code",
   "execution_count": null,
   "metadata": {},
   "outputs": [],
   "source": [
    "# We split the dataframe into 2 smaller ones, because the kernel crashes at the next step if we keep the big one\n",
    "consumptions_1 = consumptions_with_details[consumptions_with_details.user_id<max_user_id//2]\n",
    "consumptions_2 = consumptions_with_details[consumptions_with_details.user_id>=max_user_id//2]\n",
    "assert(len(consumptions_with_details)==len(consumptions_1)+len(consumptions_2))"
   ]
  },
  {
   "cell_type": "code",
   "execution_count": null,
   "metadata": {},
   "outputs": [],
   "source": [
    "max_aisle_id = max(consumptions_with_details.aisle_id)\n",
    "print(\"The greatest aisle id is \"+str(max_aisle_id)+\".\")"
   ]
  },
  {
   "cell_type": "code",
   "execution_count": null,
   "metadata": {},
   "outputs": [],
   "source": [
    "consumption_aisle_1 = consumptions_1[[\"user_id\",\"product_id\", \"aisle_id\"]].groupby(['user_id','aisle_id']).agg({'product_id': \"count\"})\n",
    "consumption_aisle_2 = consumptions_2[[\"user_id\",\"product_id\", \"aisle_id\"]].groupby(['user_id','aisle_id']).agg({'product_id': \"count\"})\n",
    "consumption_aisle_1.head()"
   ]
  },
  {
   "cell_type": "code",
   "execution_count": null,
   "metadata": {},
   "outputs": [],
   "source": [
    "def init_matrix_aisle():\n",
    "    np1 = []\n",
    "    for w in range(max_user_id+1):\n",
    "        np1.append([0 for x in range(max_aisle_id+1)])\n",
    "    return np1\n",
    "\n",
    "def to_tab_vect(consumption,mat=init_matrix_aisle()):\n",
    "    '''Returns the matrix M such that M[user][aisle] = number of distinct products bought by user in aisle'''\n",
    "    n=0\n",
    "    n_pairs = len(consumption)\n",
    "    for (user, aisle) in consumption.index :\n",
    "        n+=1\n",
    "        mat[user][aisle] = consumption.product_id[(user, aisle)]\n",
    "        if n%250000==0 : print(str(round(100*(n/n_pairs),1))+ \"% processed\")\n",
    "    print('Done !')\n",
    "    return mat"
   ]
  },
  {
   "cell_type": "code",
   "execution_count": null,
   "metadata": {},
   "outputs": [],
   "source": [
    "user_matrix = to_tab_vect(consumption_aisle_1)\n",
    "user_matrix = to_tab_vect(consumption_aisle_2, user_matrix)"
   ]
  },
  {
   "cell_type": "code",
   "execution_count": 2,
   "metadata": {},
   "outputs": [],
   "source": [
    "user_matrix = pd.read_pickle('matrix.p') #Load directly the matrix\n",
    "user_matrix = user_matrix[1:] #firs row is empty"
   ]
  },
  {
   "cell_type": "markdown",
   "metadata": {},
   "source": [
    "## Determine the optimal k"
   ]
  },
  {
   "cell_type": "code",
   "execution_count": 3,
   "metadata": {},
   "outputs": [
    {
     "data": {
      "image/png": "[encoded data removed]",
      "text/plain": [
       "<Figure size 432x288 with 1 Axes>"
      ]
     },
     "metadata": {
      "needs_background": "light"
     },
     "output_type": "display_data"
    }
   ],
   "source": [
    "#un peu long\n",
    "wcss=[]\n",
    "for i in range(1, 15):\n",
    "    kmeans = KMeans(n_clusters=i, random_state=0)\n",
    "    kmeans.fit(user_matrix)\n",
    "    wcss.append(kmeans.inertia_)\n",
    "plt.plot(range(1, 15), wcss,marker='+')\n",
    "plt.title('Elbow Method')\n",
    "plt.xlabel('Number of clusters')\n",
    "plt.ylabel('WCSS')\n",
    "plt.show()"
   ]
  },
  {
   "cell_type": "markdown",
   "metadata": {},
   "source": [
    "Elbow method : the optimal number is k=3"
   ]
  },
  {
   "cell_type": "markdown",
   "metadata": {},
   "source": [
    "Verification with silhouette methode :"
   ]
  },
  {
   "cell_type": "code",
   "execution_count": 13,
   "metadata": {},
   "outputs": [
    {
     "data": {
      "text/plain": [
       "0.6710904937285531"
      ]
     },
     "execution_count": 13,
     "metadata": {},
     "output_type": "execute_result"
    }
   ],
   "source": [
    "#NE PAS RUN : tres tres long\n",
    "#kmeans = KMeans(n_clusters=2, random_state=0).fit(user_matrix)\n",
    "#labels = kmeans.labels_\n",
    "#s1 = silhouette_score(user_matrix, labels)\n",
    "#s1"
   ]
  },
  {
   "cell_type": "code",
   "execution_count": 14,
   "metadata": {},
   "outputs": [
    {
     "data": {
      "text/plain": [
       "0.5245359402930275"
      ]
     },
     "execution_count": 14,
     "metadata": {},
     "output_type": "execute_result"
    }
   ],
   "source": [
    "# NE PAS RUN : tres tres long\n",
    "#kmeans = KMeans(n_clusters=3, random_state=0).fit(user_matrix)\n",
    "#labels = kmeans.labels_\n",
    "#s2 = silhouette_score(user_matrix, labels)\n",
    "#s2"
   ]
  },
  {
   "cell_type": "markdown",
   "metadata": {},
   "source": [
    "Silhouette method actually gives 2"
   ]
  },
  {
   "cell_type": "markdown",
   "metadata": {},
   "source": [
    "## Cluster sizes"
   ]
  },
  {
   "cell_type": "code",
   "execution_count": 6,
   "metadata": {},
   "outputs": [],
   "source": [
    "def get_cluster_size(clustering, nb_clusters,matrix=user_matrix) :\n",
    "    for k in range(nb_clusters):\n",
    "        number_users_in_cluster = 0.\n",
    "        for user_index in range(1,len(matrix)) :\n",
    "            if kmeans.labels_[user_index]==k :\n",
    "                number_users_in_cluster+=1\n",
    "        print(number_users_in_cluster)"
   ]
  },
  {
   "cell_type": "code",
   "execution_count": 7,
   "metadata": {},
   "outputs": [
    {
     "name": "stdout",
     "output_type": "stream",
     "text": [
      "186943.0\n",
      "19265.0\n"
     ]
    }
   ],
   "source": [
    "kmeans = KMeans(n_clusters=2, random_state=0).fit(user_matrix)\n",
    "get_cluster_size(kmeans, 2)"
   ]
  },
  {
   "cell_type": "code",
   "execution_count": 8,
   "metadata": {},
   "outputs": [
    {
     "name": "stdout",
     "output_type": "stream",
     "text": [
      "167141.0\n",
      "32179.0\n",
      "6888.0\n"
     ]
    }
   ],
   "source": [
    "kmeans = KMeans(n_clusters=3, random_state=0).fit(user_matrix)\n",
    "get_cluster_size(kmeans, 3)"
   ]
  },
  {
   "cell_type": "markdown",
   "metadata": {},
   "source": [
    "Clusters are very inequal, this clustering is not relevant."
   ]
  },
  {
   "cell_type": "markdown",
   "metadata": {},
   "source": [
    "## Clustering avec contrainte sur clusters size"
   ]
  },
  {
   "cell_type": "code",
   "execution_count": 3,
   "metadata": {},
   "outputs": [],
   "source": [
    "import constrained_kmeans as cons"
   ]
  },
  {
   "cell_type": "code",
   "execution_count": null,
   "metadata": {},
   "outputs": [],
   "source": [
    "#ne pas run : tres tres long\n",
    "(C,M,f) = cons.constrained_kmeans(user_matrix, [92794,92794], maxiter=50)"
   ]
  },
  {
   "cell_type": "markdown",
   "metadata": {},
   "source": [
    "Way too long to run (more than 6hours), never finished"
   ]
  },
  {
   "cell_type": "markdown",
   "metadata": {},
   "source": [
    "## Dimensionnality reduction"
   ]
  },
  {
   "cell_type": "markdown",
   "metadata": {},
   "source": [
    "https://www.analyticsvidhya.com/blog/2018/08/dimensionality-reduction-techniques-python/"
   ]
  },
  {
   "cell_type": "code",
   "execution_count": 9,
   "metadata": {},
   "outputs": [],
   "source": [
    "user_matrix = np.array(user_matrix)"
   ]
  },
  {
   "cell_type": "code",
   "execution_count": 10,
   "metadata": {},
   "outputs": [],
   "source": [
    "row_sums = user_matrix.sum(axis=1) #Normalize on the rows (rows_sum -> 1)\n",
    "norm_matrix = user_matrix / row_sums[:, np.newaxis]"
   ]
  },
  {
   "cell_type": "code",
   "execution_count": 11,
   "metadata": {},
   "outputs": [
    {
     "data": {
      "text/plain": [
       "PCA(copy=True, iterated_power='auto', n_components=None, random_state=0,\n",
       "    svd_solver='auto', tol=0.0, whiten=False)"
      ]
     },
     "execution_count": 11,
     "metadata": {},
     "output_type": "execute_result"
    }
   ],
   "source": [
    "pca = PCA(random_state=0) \n",
    "pca.fit(norm_matrix)"
   ]
  },
  {
   "cell_type": "code",
   "execution_count": 12,
   "metadata": {},
   "outputs": [],
   "source": [
    "reduc_matrix = pca.transform(user_matrix)"
   ]
  },
  {
   "cell_type": "markdown",
   "metadata": {},
   "source": [
    "Determine the right number of dimensions as a trade-off between number of dimensions and loss of variance."
   ]
  },
  {
   "cell_type": "code",
   "execution_count": 13,
   "metadata": {},
   "outputs": [
    {
     "data": {
      "image/png": "[encoded data removed]",
      "text/plain": [
       "<Figure size 432x288 with 1 Axes>"
      ]
     },
     "metadata": {
      "needs_background": "light"
     },
     "output_type": "display_data"
    }
   ],
   "source": [
    "#Plotting the Cumulative Summation of the Explained Variance\n",
    "plt.figure()\n",
    "plt.plot(np.cumsum(pca.explained_variance_ratio_), marker='+')\n",
    "plt.xlabel('Number of Components')\n",
    "plt.ylabel('Variance (%)') #for each component\n",
    "plt.title('PCA Explained Variance')\n",
    "plt.show()"
   ]
  },
  {
   "cell_type": "markdown",
   "metadata": {},
   "source": [
    "dimension choosen at the elbow : dim=30"
   ]
  },
  {
   "cell_type": "code",
   "execution_count": 14,
   "metadata": {},
   "outputs": [],
   "source": [
    "pca = PCA(n_components=30, random_state=0)\n",
    "reduc_matrix = pca.fit_transform(norm_matrix)"
   ]
  },
  {
   "cell_type": "code",
   "execution_count": 15,
   "metadata": {},
   "outputs": [
    {
     "data": {
      "text/plain": [
       "(206209, 30)"
      ]
     },
     "execution_count": 15,
     "metadata": {},
     "output_type": "execute_result"
    }
   ],
   "source": [
    "reduc_matrix.shape"
   ]
  },
  {
   "cell_type": "markdown",
   "metadata": {},
   "source": [
    "Determine the right number of clusters (k)"
   ]
  },
  {
   "cell_type": "code",
   "execution_count": 16,
   "metadata": {},
   "outputs": [
    {
     "data": {
      "image/png": "[encoded data removed]",
      "text/plain": [
       "<Figure size 432x288 with 1 Axes>"
      ]
     },
     "metadata": {
      "needs_background": "light"
     },
     "output_type": "display_data"
    }
   ],
   "source": [
    "#un peu long\n",
    "wcss=[]\n",
    "for i in range(1, 15):\n",
    "    kmeans = KMeans(n_clusters=i, random_state=0)\n",
    "    kmeans.fit(reduc_matrix)\n",
    "    wcss.append(kmeans.inertia_)\n",
    "plt.plot(range(1, 15), wcss, marker='+')\n",
    "plt.title('Elbow Method')\n",
    "plt.xlabel('Number of clusters')\n",
    "plt.ylabel('WCSS')\n",
    "plt.show()"
   ]
  },
  {
   "cell_type": "markdown",
   "metadata": {},
   "source": [
    "optimal k is 5 with this method"
   ]
  },
  {
   "cell_type": "code",
   "execution_count": 17,
   "metadata": {},
   "outputs": [],
   "source": [
    "kmeans = KMeans(n_clusters=5, random_state=0).fit(reduc_matrix)"
   ]
  },
  {
   "cell_type": "code",
   "execution_count": 18,
   "metadata": {},
   "outputs": [
    {
     "name": "stdout",
     "output_type": "stream",
     "text": [
      "5349.0\n",
      "38473.0\n",
      "55557.0\n",
      "7938.0\n",
      "98891.0\n"
     ]
    }
   ],
   "source": [
    "get_cluster_size(kmeans, 5, reduc_matrix)"
   ]
  },
  {
   "cell_type": "markdown",
   "metadata": {},
   "source": [
    "That's better : 3 pretty big clusters !"
   ]
  }
 ],
 "metadata": {
  "kernelspec": {
   "display_name": "hw1_Auriane_noto",
   "language": "python",
   "name": "py3_pint"
  },
  "language_info": {
   "codemirror_mode": {
    "name": "ipython",
    "version": 3
   },
   "file_extension": ".py",
   "mimetype": "text/x-python",
   "name": "python",
   "nbconvert_exporter": "python",
   "pygments_lexer": "ipython3",
   "version": "3.6.8"
  }
 },
 "nbformat": 4,
 "nbformat_minor": 4
}
