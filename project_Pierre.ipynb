{
 "cells": [
  {
   "cell_type": "code",
   "execution_count": 1,
   "metadata": {},
   "outputs": [],
   "source": [
    "import pandas as pd\n",
    "import numpy as np\n",
    "import matplotlib.pyplot as plt\n",
    "import copy\n",
    "import pickle"
   ]
  },
  {
   "cell_type": "code",
   "execution_count": 2,
   "metadata": {},
   "outputs": [],
   "source": [
    "orders = pd.read_csv('data/orders.csv', sep=',')\n",
    "products = pd.read_csv('data/products.csv', sep=',')\n",
    "history = pd.read_csv('data/order_products__prior.csv', sep=',')"
   ]
  },
  {
   "cell_type": "markdown",
   "metadata": {},
   "source": [
    "## Different vectorizations"
   ]
  },
  {
   "cell_type": "markdown",
   "metadata": {},
   "source": [
    "The very first idea that comes to our mind, which was also used in the second homework, is to represent a user with the set of products he bought."
   ]
  },
  {
   "cell_type": "code",
   "execution_count": 3,
   "metadata": {},
   "outputs": [],
   "source": [
    "orders_small = orders[[\"order_id\",\"user_id\"]].sort_values(by='order_id')#.head(105629)\n",
    "history_small = history[[\"order_id\",\"product_id\"]].sort_values(by='order_id')#.head(1000000)"
   ]
  },
  {
   "cell_type": "markdown",
   "metadata": {},
   "source": [
    "The next 3 boxes are useless, but might be used at some point ater if we follow a slightly different approach."
   ]
  },
  {
   "cell_type": "code",
   "execution_count": 4,
   "metadata": {},
   "outputs": [],
   "source": [
    "consumptions = pd.merge(history_small, orders_small, on=\"order_id\")[['user_id','product_id']]\n",
    "#users_per_product = consumptions.groupby('product_id').agg(set)"
   ]
  },
  {
   "cell_type": "code",
   "execution_count": null,
   "metadata": {},
   "outputs": [],
   "source": [
    "'''\n",
    "def add_similarity(user1, user2, sim, amount):\n",
    "    if user1 in  sim[user2] : # user1 and user2 are already neighbours\n",
    "        sim[user1][user2]+=amount\n",
    "        sim[user2][user1]+=amount\n",
    "    else :     \n",
    "        sim[user1][user2]=amount\n",
    "        sim[user2][user1]=amount\n",
    "        \n",
    "def light_similarity_matrix(prod_set, nb_users):\n",
    "    sim = [{} for x in range(nb_users)]\n",
    "    n=0\n",
    "    # sim[n] is the dictionary such that dict[m] = nb of similar products bought by m and n. If this is 0, dict[m] is not defined\n",
    "    for set_users in prod_set.user_id :\n",
    "        # For each pair of users\n",
    "        for user1 in set_users :\n",
    "            for user2 in set_users :\n",
    "                if user1<user2 :\n",
    "                    n+=2\n",
    "                    add_similarity(user1, user2, sim, 1)\n",
    "    print(n)\n",
    "    return sim\n",
    "\n",
    "sim = light_similarity_matrix(users_per_product.head(100), 206209)\n",
    "'''"
   ]
  },
  {
   "cell_type": "code",
   "execution_count": 5,
   "metadata": {},
   "outputs": [
    {
     "data": {
      "text/html": [
       "<div>\n",
       "<style scoped>\n",
       "    .dataframe tbody tr th:only-of-type {\n",
       "        vertical-align: middle;\n",
       "    }\n",
       "\n",
       "    .dataframe tbody tr th {\n",
       "        vertical-align: top;\n",
       "    }\n",
       "\n",
       "    .dataframe thead th {\n",
       "        text-align: right;\n",
       "    }\n",
       "</style>\n",
       "<table border=\"1\" class=\"dataframe\">\n",
       "  <thead>\n",
       "    <tr style=\"text-align: right;\">\n",
       "      <th></th>\n",
       "      <th>user_id</th>\n",
       "      <th>product_id</th>\n",
       "      <th>aisle_id</th>\n",
       "      <th>department_id</th>\n",
       "    </tr>\n",
       "  </thead>\n",
       "  <tbody>\n",
       "    <tr>\n",
       "      <th>0</th>\n",
       "      <td>202279</td>\n",
       "      <td>33120.0</td>\n",
       "      <td>86</td>\n",
       "      <td>16</td>\n",
       "    </tr>\n",
       "    <tr>\n",
       "      <th>1</th>\n",
       "      <td>153404</td>\n",
       "      <td>33120.0</td>\n",
       "      <td>86</td>\n",
       "      <td>16</td>\n",
       "    </tr>\n",
       "    <tr>\n",
       "      <th>2</th>\n",
       "      <td>23750</td>\n",
       "      <td>33120.0</td>\n",
       "      <td>86</td>\n",
       "      <td>16</td>\n",
       "    </tr>\n",
       "    <tr>\n",
       "      <th>3</th>\n",
       "      <td>58707</td>\n",
       "      <td>33120.0</td>\n",
       "      <td>86</td>\n",
       "      <td>16</td>\n",
       "    </tr>\n",
       "    <tr>\n",
       "      <th>4</th>\n",
       "      <td>166654</td>\n",
       "      <td>33120.0</td>\n",
       "      <td>86</td>\n",
       "      <td>16</td>\n",
       "    </tr>\n",
       "  </tbody>\n",
       "</table>\n",
       "</div>"
      ],
      "text/plain": [
       "   user_id  product_id  aisle_id  department_id\n",
       "0   202279     33120.0        86             16\n",
       "1   153404     33120.0        86             16\n",
       "2    23750     33120.0        86             16\n",
       "3    58707     33120.0        86             16\n",
       "4   166654     33120.0        86             16"
      ]
     },
     "execution_count": 5,
     "metadata": {},
     "output_type": "execute_result"
    }
   ],
   "source": [
    "consumptions_with_details = pd.merge(consumptions,products, on=\"product_id\")[['user_id','product_id','aisle_id','department_id']]\n",
    "consumptions_with_details.head()"
   ]
  },
  {
   "cell_type": "code",
   "execution_count": 8,
   "metadata": {},
   "outputs": [
    {
     "name": "stdout",
     "output_type": "stream",
     "text": [
      "The greatest user id is 206209.\n"
     ]
    }
   ],
   "source": [
    "max_user_id = max(consumptions_with_details[\"user_id\"])\n",
    "print('The greatest user id is '+str(max_user_id)+\".\")"
   ]
  },
  {
   "cell_type": "code",
   "execution_count": 7,
   "metadata": {},
   "outputs": [],
   "source": [
    "# We split the dataframe into 2 smaller ones, because the kernel crashes at the next step if we keep the big one\n",
    "consumptions_1 = consumptions_with_details[consumptions_with_details.user_id<max_user_id//2]\n",
    "consumptions_2 = consumptions_with_details[consumptions_with_details.user_id>=max_user_id//2]\n",
    "assert(len(consumptions_with_details)==len(consumptions_1)+len(consumptions_2))"
   ]
  },
  {
   "cell_type": "markdown",
   "metadata": {},
   "source": [
    "### A - Set of aisles with total number products bought in the aisle"
   ]
  },
  {
   "cell_type": "code",
   "execution_count": 9,
   "metadata": {},
   "outputs": [
    {
     "name": "stdout",
     "output_type": "stream",
     "text": [
      "The greatest aisle id is 134.\n"
     ]
    }
   ],
   "source": [
    "max_aisle_id = max(consumptions_with_details.aisle_id)\n",
    "print(\"The greatest aisle id is \"+str(max_aisle_id)+\".\")"
   ]
  },
  {
   "cell_type": "code",
   "execution_count": 10,
   "metadata": {},
   "outputs": [
    {
     "data": {
      "text/html": [
       "<div>\n",
       "<style scoped>\n",
       "    .dataframe tbody tr th:only-of-type {\n",
       "        vertical-align: middle;\n",
       "    }\n",
       "\n",
       "    .dataframe tbody tr th {\n",
       "        vertical-align: top;\n",
       "    }\n",
       "\n",
       "    .dataframe thead th {\n",
       "        text-align: right;\n",
       "    }\n",
       "</style>\n",
       "<table border=\"1\" class=\"dataframe\">\n",
       "  <thead>\n",
       "    <tr style=\"text-align: right;\">\n",
       "      <th></th>\n",
       "      <th></th>\n",
       "      <th>product_id</th>\n",
       "    </tr>\n",
       "    <tr>\n",
       "      <th>user_id</th>\n",
       "      <th>aisle_id</th>\n",
       "      <th></th>\n",
       "    </tr>\n",
       "  </thead>\n",
       "  <tbody>\n",
       "    <tr>\n",
       "      <th rowspan=\"5\" valign=\"top\">1</th>\n",
       "      <th>21</th>\n",
       "      <td>3</td>\n",
       "    </tr>\n",
       "    <tr>\n",
       "      <th>23</th>\n",
       "      <td>3</td>\n",
       "    </tr>\n",
       "    <tr>\n",
       "      <th>24</th>\n",
       "      <td>4</td>\n",
       "    </tr>\n",
       "    <tr>\n",
       "      <th>77</th>\n",
       "      <td>3</td>\n",
       "    </tr>\n",
       "    <tr>\n",
       "      <th>88</th>\n",
       "      <td>1</td>\n",
       "    </tr>\n",
       "  </tbody>\n",
       "</table>\n",
       "</div>"
      ],
      "text/plain": [
       "                  product_id\n",
       "user_id aisle_id            \n",
       "1       21                 3\n",
       "        23                 3\n",
       "        24                 4\n",
       "        77                 3\n",
       "        88                 1"
      ]
     },
     "execution_count": 10,
     "metadata": {},
     "output_type": "execute_result"
    }
   ],
   "source": [
    "consumption_aisle_1 = consumptions_1[[\"user_id\",\"product_id\", \"aisle_id\"]].groupby(['user_id','aisle_id']).agg({'product_id': \"count\"})\n",
    "consumption_aisle_2 = consumptions_2[[\"user_id\",\"product_id\", \"aisle_id\"]].groupby(['user_id','aisle_id']).agg({'product_id': \"count\"})\n",
    "consumption_aisle_1.head()"
   ]
  },
  {
   "cell_type": "code",
   "execution_count": 12,
   "metadata": {},
   "outputs": [],
   "source": [
    "def init_matrix_aisle():\n",
    "    np1 = []\n",
    "    for w in range(max_user_id+1):\n",
    "        np1.append([0 for x in range(max_aisle_id+1)])\n",
    "    return np1\n",
    "\n",
    "def to_tab_vect(consumption,mat=init_matrix_aisle()):\n",
    "    '''Returns the matrix M such that M[user][aisle] = number of distinct products bought by user in aisle'''\n",
    "    n=0\n",
    "    n_pairs = len(consumption)\n",
    "    for (user, aisle) in consumption.index :\n",
    "        n+=1\n",
    "        mat[user][aisle] = consumption.product_id[(user, aisle)]\n",
    "        if n%250000==0 : print(str(round(100*(n/n_pairs),1))+ \"% processed\")\n",
    "    print('Done !')\n",
    "    return mat"
   ]
  },
  {
   "cell_type": "code",
   "execution_count": 13,
   "metadata": {},
   "outputs": [
    {
     "name": "stdout",
     "output_type": "stream",
     "text": [
      "6.5% processed\n",
      "13.1% processed\n",
      "19.6% processed\n",
      "26.1% processed\n",
      "32.6% processed\n",
      "39.2% processed\n",
      "45.7% processed\n",
      "52.2% processed\n",
      "58.7% processed\n",
      "65.3% processed\n",
      "71.8% processed\n",
      "78.3% processed\n",
      "84.8% processed\n",
      "91.4% processed\n",
      "97.9% processed\n",
      "Done !\n",
      "6.6% processed\n",
      "13.2% processed\n",
      "19.7% processed\n",
      "26.3% processed\n",
      "32.9% processed\n",
      "39.5% processed\n",
      "46.0% processed\n",
      "52.6% processed\n",
      "59.2% processed\n",
      "65.8% processed\n",
      "72.4% processed\n",
      "78.9% processed\n",
      "85.5% processed\n",
      "92.1% processed\n",
      "98.7% processed\n",
      "Done !\n"
     ]
    }
   ],
   "source": [
    "user_matrix = to_tab_vect(consumption_aisle_1)\n",
    "user_matrix = to_tab_vect(consumption_aisle_2, user_matrix)"
   ]
  },
  {
   "cell_type": "markdown",
   "metadata": {},
   "source": [
    "### B - Clustering and evaluation of the best number of clusters"
   ]
  },
  {
   "cell_type": "code",
   "execution_count": 6,
   "metadata": {},
   "outputs": [],
   "source": [
    "def score(k, user_mat, proportion=1):\n",
    "    try : \n",
    "        sk = open(\"kmeans_\"+str(k),\"rb\")            \n",
    "        print(\"Lucky you, kmeans have already been computed !\")\n",
    "        kmeans = pickle.load(sk)\n",
    "        sk.close()\n",
    "    except FileNotFoundError :\n",
    "        print(\"Computing kmeans...\")\n",
    "        kmeans = KMeans(n_clusters=k, random_state=0).fit(user_mat)\n",
    "        sk = open(\"kmeans_\"+str(k),\"wb\")\n",
    "        pickle.dump(kmeans, sk)\n",
    "        sk.close()\n",
    "        print(\"K-means saved in file kmeans_\"+str(k))\n",
    "    labels = kmeans.labels_\n",
    "    print(\"Calculating the silhouette score (this may take a while)...\")\n",
    "    user_mat_light = []\n",
    "    labels_light = []\n",
    "    if proportion==1 :\n",
    "        return silhouette_score(user_mat, labels)\n",
    "    else :\n",
    "        for i in range(len(user_mat)):\n",
    "            if rd.random()<=proportion :\n",
    "                user_mat_light.append(user_mat[i])\n",
    "                labels_light.append(labels[i])\n",
    "        return silhouette_score(user_mat_light, labels_light)"
   ]
  },
  {
   "cell_type": "code",
   "execution_count": 25,
   "metadata": {},
   "outputs": [],
   "source": [
    "from sklearn.cluster import KMeans\n",
    "from sklearn.metrics import silhouette_score\n",
    "import random as rd\n",
    "import pickle\n",
    "import matplotlib.pyplot as plt\n",
    "\n",
    "\n",
    "def compute_scores(user_mat=\"\", n_max=50, proportion=0.2,filename=\"scores\"):\n",
    "    '''Comutes as many silhouette scores as possible and registers them in file scores'''\n",
    "    if user_mat==\"\":\n",
    "        print(\"Loading user matrix...\")\n",
    "        s=open(\"users_matrix\",\"rb\")\n",
    "        user_mat=pickle.load(s)\n",
    "        s.close()\n",
    "    \n",
    "    for k in range(2,n_max) :\n",
    "        print(\"\\n k=\"+str(k))\n",
    "        s=open(filename,\"rb\")\n",
    "        scores = pickle.load(s)\n",
    "        print(scores)\n",
    "        s.close()\n",
    "        if k in scores and scores[k][\"proportion\"]>=proportion+0.2:\n",
    "            print('Score already calculated for k=',k,\"(that is \",scores[k],\")\")\n",
    "        else :\n",
    "            print('Computing the score for K-means with '+str(k)+\" clusters...\")\n",
    "            s=open(filename,\"rb\")\n",
    "            scores = pickle.load(s)\n",
    "            s.close()\n",
    "            sc =score(k, user_mat, proportion)\n",
    "            if k in scores : \n",
    "                # Make a weighted average with previously obtained scores, if tey exist\n",
    "                prop = proportion + scores[k][\"proportion\"]   \n",
    "                sc = (sc*proportion + scores[k][\"score\"]*scores[k][\"proportion\"])/prop\n",
    "            else : prop = proportion\n",
    "            scores[k] = {\"score\":sc, \"proportion\":prop}\n",
    "            print(\"Score calculated for k=\",k,\" :\",scores[k])\n",
    "            s=open(filename,\"wb\")\n",
    "            pickle.dump(scores,s)\n",
    "            s.close()\n",
    "            print('Scores saved in file \"'+filename+'\" under pickle format')               "
   ]
  },
  {
   "cell_type": "code",
   "execution_count": null,
   "metadata": {},
   "outputs": [],
   "source": [
    "def print_scores() :\n",
    "    s=open(\"scores\",'rb')\n",
    "    scores = pickle.load(s)\n",
    "    s.close()\n",
    "    X,Y, Z=[],[],[]\n",
    "    for k in scores :\n",
    "        X.append(k)\n",
    "        Y.append(scores[k][\"score\"])\n",
    "        Z.append(scores[k][\"proportion\"])\n",
    "    plt.plot(X,Y,\"r\")\n",
    "    plt.plot(X,Z,\"b\")"
   ]
  },
  {
   "cell_type": "code",
   "execution_count": 26,
   "metadata": {},
   "outputs": [
    {
     "name": "stdout",
     "output_type": "stream",
     "text": [
      "Loading user matrix...\n"
     ]
    },
    {
     "ename": "KeyboardInterrupt",
     "evalue": "",
     "output_type": "error",
     "traceback": [
      "\u001b[0;31m---------------------------------------------------------------------------\u001b[0m",
      "\u001b[0;31mKeyboardInterrupt\u001b[0m                         Traceback (most recent call last)",
      "\u001b[0;32m<ipython-input-26-31d9014615cb>\u001b[0m in \u001b[0;36m<module>\u001b[0;34m\u001b[0m\n\u001b[0;32m----> 1\u001b[0;31m \u001b[0mcompute_scores\u001b[0m\u001b[0;34m(\u001b[0m\u001b[0;34m\"\"\u001b[0m\u001b[0;34m,\u001b[0m\u001b[0;36m50\u001b[0m\u001b[0;34m,\u001b[0m\u001b[0;36m0.1\u001b[0m\u001b[0;34m)\u001b[0m\u001b[0;34m\u001b[0m\u001b[0;34m\u001b[0m\u001b[0m\n\u001b[0m",
      "\u001b[0;32m<ipython-input-25-60e921b3a2ca>\u001b[0m in \u001b[0;36mcompute_scores\u001b[0;34m(user_mat, n_max, proportion, filename)\u001b[0m\n\u001b[1;32m     11\u001b[0m         \u001b[0mprint\u001b[0m\u001b[0;34m(\u001b[0m\u001b[0;34m\"Loading user matrix...\"\u001b[0m\u001b[0;34m)\u001b[0m\u001b[0;34m\u001b[0m\u001b[0;34m\u001b[0m\u001b[0m\n\u001b[1;32m     12\u001b[0m         \u001b[0ms\u001b[0m\u001b[0;34m=\u001b[0m\u001b[0mopen\u001b[0m\u001b[0;34m(\u001b[0m\u001b[0;34m\"users_matrix\"\u001b[0m\u001b[0;34m,\u001b[0m\u001b[0;34m\"rb\"\u001b[0m\u001b[0;34m)\u001b[0m\u001b[0;34m\u001b[0m\u001b[0;34m\u001b[0m\u001b[0m\n\u001b[0;32m---> 13\u001b[0;31m         \u001b[0muser_mat\u001b[0m\u001b[0;34m=\u001b[0m\u001b[0mpickle\u001b[0m\u001b[0;34m.\u001b[0m\u001b[0mload\u001b[0m\u001b[0;34m(\u001b[0m\u001b[0ms\u001b[0m\u001b[0;34m)\u001b[0m\u001b[0;34m\u001b[0m\u001b[0;34m\u001b[0m\u001b[0m\n\u001b[0m\u001b[1;32m     14\u001b[0m         \u001b[0ms\u001b[0m\u001b[0;34m.\u001b[0m\u001b[0mclose\u001b[0m\u001b[0;34m(\u001b[0m\u001b[0;34m)\u001b[0m\u001b[0;34m\u001b[0m\u001b[0;34m\u001b[0m\u001b[0m\n\u001b[1;32m     15\u001b[0m \u001b[0;34m\u001b[0m\u001b[0m\n",
      "\u001b[0;31mKeyboardInterrupt\u001b[0m: "
     ]
    }
   ],
   "source": [
    "compute_scores(\"\",50,0.1)"
   ]
  },
  {
   "cell_type": "code",
   "execution_count": 24,
   "metadata": {},
   "outputs": [
    {
     "name": "stdout",
     "output_type": "stream",
     "text": [
      "{'score': 0.6592836313223515, 'proportion': 0.05}\n",
      "{'score': 0.5087411803582508, 'proportion': 0.05}\n",
      "{'score': 0.40091164490961056, 'proportion': 0.05}\n",
      "{'score': 0.3879837713089932, 'proportion': 0.05}\n",
      "{'score': 0.38217006592530667, 'proportion': 0.05}\n",
      "{'score': 0.3338921254578145, 'proportion': 0.05}\n",
      "{'score': 0.30346340599248917, 'proportion': 0.05}\n",
      "{'score': 0.2999561464484978, 'proportion': 0.05}\n",
      "{'score': 0.2723134633466197, 'proportion': 0.05}\n"
     ]
    },
    {
     "data": {
      "image/png": "[encoded data removed]",
      "text/plain": [
       "<Figure size 432x288 with 1 Axes>"
      ]
     },
     "metadata": {
      "needs_background": "light"
     },
     "output_type": "display_data"
    }
   ],
   "source": [
    "print_scores()"
   ]
  },
  {
   "cell_type": "code",
   "execution_count": null,
   "metadata": {},
   "outputs": [],
   "source": []
  }
 ],
 "metadata": {
  "kernelspec": {
   "display_name": "ADA Kernel",
   "language": "python",
   "name": "ada_kernel"
  },
  "language_info": {
   "codemirror_mode": {
    "name": "ipython",
    "version": 3
   },
   "file_extension": ".py",
   "mimetype": "text/x-python",
   "name": "python",
   "nbconvert_exporter": "python",
   "pygments_lexer": "ipython3",
   "version": "3.6.8"
  }
 },
 "nbformat": 4,
 "nbformat_minor": 4
}
