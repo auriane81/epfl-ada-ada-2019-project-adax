{
 "cells": [
  {
   "cell_type": "code",
   "execution_count": 1,
   "metadata": {
    "scrolled": false
   },
   "outputs": [],
   "source": [
    "import pandas as pd\n",
    "import numpy as np\n",
    "import matplotlib.pyplot as plt\n",
    "import copy\n",
    "import pickle\n",
    "from sklearn.cluster import KMeans\n",
    "from sklearn.metrics import silhouette_score\n",
    "import networkx as nx\n",
    "import numpy as np\n",
    "import time\n",
    "from sklearn.decomposition import PCA\n",
    "from sklearn.datasets import load_digits\n",
    "from sklearn.feature_selection import SelectKBest, chi2"
   ]
  },
  {
   "cell_type": "markdown",
   "metadata": {},
   "source": [
    "## Creation of the matrix (just load, last line)"
   ]
  },
  {
   "cell_type": "code",
   "execution_count": 2,
   "metadata": {},
   "outputs": [],
   "source": [
    "orders = pd.read_csv('data/orders.csv', sep=',')\n",
    "products = pd.read_csv('data/products.csv', sep=',')"
   ]
  },
  {
   "cell_type": "code",
   "execution_count": 43,
   "metadata": {},
   "outputs": [],
   "source": [
    "history_small = pd.read_csv('data/order_products__prior.csv', sep=',')"
   ]
  },
  {
   "cell_type": "code",
   "execution_count": 4,
   "metadata": {},
   "outputs": [],
   "source": [
    "#orders_small = orders[[\"order_id\",\"user_id\"]].sort_values(by='order_id')#.head(105629)\n",
    "history_small = history.head(5000000)"
   ]
  },
  {
   "cell_type": "code",
   "execution_count": 5,
   "metadata": {},
   "outputs": [],
   "source": [
    "consumptions = pd.merge(history_small, orders, on=\"order_id\")[['user_id','product_id']]"
   ]
  },
  {
   "cell_type": "code",
   "execution_count": 6,
   "metadata": {},
   "outputs": [
    {
     "data": {
      "text/html": [
       "<div>\n",
       "<style scoped>\n",
       "    .dataframe tbody tr th:only-of-type {\n",
       "        vertical-align: middle;\n",
       "    }\n",
       "\n",
       "    .dataframe tbody tr th {\n",
       "        vertical-align: top;\n",
       "    }\n",
       "\n",
       "    .dataframe thead th {\n",
       "        text-align: right;\n",
       "    }\n",
       "</style>\n",
       "<table border=\"1\" class=\"dataframe\">\n",
       "  <thead>\n",
       "    <tr style=\"text-align: right;\">\n",
       "      <th></th>\n",
       "      <th>user_id</th>\n",
       "      <th>product_id</th>\n",
       "      <th>aisle_id</th>\n",
       "      <th>department_id</th>\n",
       "    </tr>\n",
       "  </thead>\n",
       "  <tbody>\n",
       "    <tr>\n",
       "      <td>0</td>\n",
       "      <td>202279</td>\n",
       "      <td>33120</td>\n",
       "      <td>86</td>\n",
       "      <td>16</td>\n",
       "    </tr>\n",
       "    <tr>\n",
       "      <td>1</td>\n",
       "      <td>153404</td>\n",
       "      <td>33120</td>\n",
       "      <td>86</td>\n",
       "      <td>16</td>\n",
       "    </tr>\n",
       "    <tr>\n",
       "      <td>2</td>\n",
       "      <td>23750</td>\n",
       "      <td>33120</td>\n",
       "      <td>86</td>\n",
       "      <td>16</td>\n",
       "    </tr>\n",
       "    <tr>\n",
       "      <td>3</td>\n",
       "      <td>58707</td>\n",
       "      <td>33120</td>\n",
       "      <td>86</td>\n",
       "      <td>16</td>\n",
       "    </tr>\n",
       "    <tr>\n",
       "      <td>4</td>\n",
       "      <td>166654</td>\n",
       "      <td>33120</td>\n",
       "      <td>86</td>\n",
       "      <td>16</td>\n",
       "    </tr>\n",
       "  </tbody>\n",
       "</table>\n",
       "</div>"
      ],
      "text/plain": [
       "   user_id  product_id  aisle_id  department_id\n",
       "0   202279       33120        86             16\n",
       "1   153404       33120        86             16\n",
       "2    23750       33120        86             16\n",
       "3    58707       33120        86             16\n",
       "4   166654       33120        86             16"
      ]
     },
     "execution_count": 6,
     "metadata": {},
     "output_type": "execute_result"
    }
   ],
   "source": [
    "consumptions_with_details = pd.merge(consumptions,products, on=\"product_id\")[['user_id','product_id','aisle_id','department_id']]\n",
    "consumptions_with_details.head()"
   ]
  },
  {
   "cell_type": "code",
   "execution_count": 7,
   "metadata": {},
   "outputs": [
    {
     "name": "stdout",
     "output_type": "stream",
     "text": [
      "The greatest user id is 206208.\n"
     ]
    }
   ],
   "source": [
    "max_user_id = max(consumptions_with_details[\"user_id\"])\n",
    "print('The greatest user id is '+str(max_user_id)+\".\")"
   ]
  },
  {
   "cell_type": "code",
   "execution_count": 8,
   "metadata": {},
   "outputs": [],
   "source": [
    "# We split the dataframe into 2 smaller ones, because the kernel crashes at the next step if we keep the big one\n",
    "consumptions_1 = consumptions_with_details[consumptions_with_details.user_id<max_user_id//2]\n",
    "consumptions_2 = consumptions_with_details[consumptions_with_details.user_id>=max_user_id//2]\n",
    "assert(len(consumptions_with_details)==len(consumptions_1)+len(consumptions_2))"
   ]
  },
  {
   "cell_type": "code",
   "execution_count": 9,
   "metadata": {},
   "outputs": [
    {
     "name": "stdout",
     "output_type": "stream",
     "text": [
      "The greatest aisle id is 134.\n"
     ]
    }
   ],
   "source": [
    "max_aisle_id = max(consumptions_with_details.aisle_id)\n",
    "print(\"The greatest aisle id is \"+str(max_aisle_id)+\".\")"
   ]
  },
  {
   "cell_type": "code",
   "execution_count": 10,
   "metadata": {},
   "outputs": [
    {
     "data": {
      "text/html": [
       "<div>\n",
       "<style scoped>\n",
       "    .dataframe tbody tr th:only-of-type {\n",
       "        vertical-align: middle;\n",
       "    }\n",
       "\n",
       "    .dataframe tbody tr th {\n",
       "        vertical-align: top;\n",
       "    }\n",
       "\n",
       "    .dataframe thead th {\n",
       "        text-align: right;\n",
       "    }\n",
       "</style>\n",
       "<table border=\"1\" class=\"dataframe\">\n",
       "  <thead>\n",
       "    <tr style=\"text-align: right;\">\n",
       "      <th></th>\n",
       "      <th></th>\n",
       "      <th>product_id</th>\n",
       "    </tr>\n",
       "    <tr>\n",
       "      <th>user_id</th>\n",
       "      <th>aisle_id</th>\n",
       "      <th></th>\n",
       "    </tr>\n",
       "  </thead>\n",
       "  <tbody>\n",
       "    <tr>\n",
       "      <td rowspan=\"5\" valign=\"top\">1</td>\n",
       "      <td>21</td>\n",
       "      <td>2</td>\n",
       "    </tr>\n",
       "    <tr>\n",
       "      <td>23</td>\n",
       "      <td>2</td>\n",
       "    </tr>\n",
       "    <tr>\n",
       "      <td>24</td>\n",
       "      <td>4</td>\n",
       "    </tr>\n",
       "    <tr>\n",
       "      <td>77</td>\n",
       "      <td>2</td>\n",
       "    </tr>\n",
       "    <tr>\n",
       "      <td>88</td>\n",
       "      <td>1</td>\n",
       "    </tr>\n",
       "  </tbody>\n",
       "</table>\n",
       "</div>"
      ],
      "text/plain": [
       "                  product_id\n",
       "user_id aisle_id            \n",
       "1       21                 2\n",
       "        23                 2\n",
       "        24                 4\n",
       "        77                 2\n",
       "        88                 1"
      ]
     },
     "execution_count": 10,
     "metadata": {},
     "output_type": "execute_result"
    }
   ],
   "source": [
    "consumption_aisle_1 = consumptions_1[[\"user_id\",\"product_id\", \"aisle_id\"]].groupby(['user_id','aisle_id']).agg({'product_id': \"count\"})\n",
    "consumption_aisle_2 = consumptions_2[[\"user_id\",\"product_id\", \"aisle_id\"]].groupby(['user_id','aisle_id']).agg({'product_id': \"count\"})\n",
    "consumption_aisle_1.head()"
   ]
  },
  {
   "cell_type": "code",
   "execution_count": 11,
   "metadata": {},
   "outputs": [],
   "source": [
    "def init_matrix_aisle():\n",
    "    np1 = []\n",
    "    for w in range(max_user_id+1):\n",
    "        np1.append([0 for x in range(max_aisle_id+1)])\n",
    "    return np1\n",
    "\n",
    "def to_tab_vect(consumption,mat=init_matrix_aisle()):\n",
    "    '''Returns the matrix M such that M[user][aisle] = number of distinct products bought by user in aisle'''\n",
    "    n=0\n",
    "    n_pairs = len(consumption)\n",
    "    for (user, aisle) in consumption.index :\n",
    "        n+=1\n",
    "        mat[user][aisle] = consumption.product_id[(user, aisle)]\n",
    "        if n%250000==0 : print(str(round(100*(n/n_pairs),1))+ \"% processed\")\n",
    "    print('Done !')\n",
    "    return mat"
   ]
  },
  {
   "cell_type": "code",
   "execution_count": 12,
   "metadata": {},
   "outputs": [
    {
     "name": "stdout",
     "output_type": "stream",
     "text": [
      "23.5% processed\n",
      "47.1% processed\n",
      "70.6% processed\n",
      "94.1% processed\n",
      "Done !\n",
      "23.7% processed\n",
      "47.4% processed\n",
      "71.1% processed\n",
      "94.9% processed\n",
      "Done !\n"
     ]
    }
   ],
   "source": [
    "user_matrix = to_tab_vect(consumption_aisle_1)\n",
    "user_matrix = to_tab_vect(consumption_aisle_2, user_matrix)"
   ]
  },
  {
   "cell_type": "code",
   "execution_count": 16,
   "metadata": {},
   "outputs": [
    {
     "data": {
      "text/plain": [
       "206209"
      ]
     },
     "execution_count": 16,
     "metadata": {},
     "output_type": "execute_result"
    }
   ],
   "source": [
    "# Load the user matrix\n",
    "f=open(\"user_matrix.pk\",\"rb\")\n",
    "user_matrix = pickle.load(f)\n",
    "f.close()\n"
   ]
  },
  {
   "cell_type": "markdown",
   "metadata": {},
   "source": [
    "## Determine the optimal k"
   ]
  },
  {
   "cell_type": "code",
   "execution_count": 3,
   "metadata": {},
   "outputs": [
    {
     "data": {
      "image/png": "[encoded data removed]",
      "text/plain": [
       "<Figure size 432x288 with 1 Axes>"
      ]
     },
     "metadata": {
      "needs_background": "light"
     },
     "output_type": "display_data"
    }
   ],
   "source": [
    "#un peu long\n",
    "wcss=[]\n",
    "for i in range(1, 15):\n",
    "    kmeans = KMeans(n_clusters=i, random_state=0)\n",
    "    kmeans.fit(user_matrix)\n",
    "    wcss.append(kmeans.inertia_)\n",
    "plt.plot(range(1, 15), wcss,marker='+')\n",
    "plt.title('Elbow Method')\n",
    "plt.xlabel('Number of clusters')\n",
    "plt.ylabel('WCSS')\n",
    "plt.show()"
   ]
  },
  {
   "cell_type": "markdown",
   "metadata": {},
   "source": [
    "Elbow method : the optimal number is k=3"
   ]
  },
  {
   "cell_type": "markdown",
   "metadata": {},
   "source": [
    "Verification with silhouette methode :"
   ]
  },
  {
   "cell_type": "code",
   "execution_count": 13,
   "metadata": {},
   "outputs": [
    {
     "data": {
      "text/plain": [
       "0.6710904937285531"
      ]
     },
     "execution_count": 13,
     "metadata": {},
     "output_type": "execute_result"
    }
   ],
   "source": [
    "#NE PAS RUN : tres tres long\n",
    "#kmeans = KMeans(n_clusters=2, random_state=0).fit(user_matrix)\n",
    "#labels = kmeans.labels_\n",
    "#s1 = silhouette_score(user_matrix, labels)\n",
    "#s1"
   ]
  },
  {
   "cell_type": "code",
   "execution_count": 14,
   "metadata": {},
   "outputs": [
    {
     "data": {
      "text/plain": [
       "0.5245359402930275"
      ]
     },
     "execution_count": 14,
     "metadata": {},
     "output_type": "execute_result"
    }
   ],
   "source": [
    "# NE PAS RUN : tres tres long\n",
    "#kmeans = KMeans(n_clusters=3, random_state=0).fit(user_matrix)\n",
    "#labels = kmeans.labels_\n",
    "#s2 = silhouette_score(user_matrix, labels)\n",
    "#s2"
   ]
  },
  {
   "cell_type": "markdown",
   "metadata": {},
   "source": [
    "Silhouette method actually gives 2"
   ]
  },
  {
   "cell_type": "markdown",
   "metadata": {},
   "source": [
    "## Cluster sizes"
   ]
  },
  {
   "cell_type": "code",
   "execution_count": 18,
   "metadata": {},
   "outputs": [],
   "source": [
    "def get_cluster_size(clustering, nb_clusters,matrix=user_matrix) :\n",
    "    for k in range(nb_clusters):\n",
    "        number_users_in_cluster = 0.\n",
    "        for user_index in range(1,len(matrix)) :\n",
    "            if kmeans.labels_[user_index]==k :\n",
    "                number_users_in_cluster+=1\n",
    "        print(number_users_in_cluster)"
   ]
  },
  {
   "cell_type": "code",
   "execution_count": 19,
   "metadata": {},
   "outputs": [
    {
     "name": "stdout",
     "output_type": "stream",
     "text": [
      "19429.0\n",
      "186779.0\n"
     ]
    }
   ],
   "source": [
    "kmeans = KMeans(n_clusters=2, random_state=0).fit(user_matrix)\n",
    "get_cluster_size(kmeans, 2)"
   ]
  },
  {
   "cell_type": "code",
   "execution_count": 8,
   "metadata": {},
   "outputs": [
    {
     "name": "stdout",
     "output_type": "stream",
     "text": [
      "167141.0\n",
      "32179.0\n",
      "6888.0\n"
     ]
    }
   ],
   "source": [
    "kmeans = KMeans(n_clusters=3, random_state=0).fit(user_matrix)\n",
    "get_cluster_size(kmeans, 3)"
   ]
  },
  {
   "cell_type": "markdown",
   "metadata": {},
   "source": [
    "Clusters are very inequal, this clustering is not relevant."
   ]
  },
  {
   "cell_type": "markdown",
   "metadata": {},
   "source": [
    "## Clustering avec contrainte sur clusters size"
   ]
  },
  {
   "cell_type": "code",
   "execution_count": 65,
   "metadata": {},
   "outputs": [],
   "source": [
    "import constrained_kmeans as cons"
   ]
  },
  {
   "cell_type": "code",
   "execution_count": null,
   "metadata": {},
   "outputs": [],
   "source": [
    "#ne pas run : tres tres long\n",
    "(C,M,f) = cons.constrained_kmeans(user_matrix, [92794,92794], maxiter=50)"
   ]
  },
  {
   "cell_type": "markdown",
   "metadata": {},
   "source": [
    "Way too long to run (more than 6hours), never finished"
   ]
  },
  {
   "cell_type": "markdown",
   "metadata": {},
   "source": [
    "## Dimensionnality reduction"
   ]
  },
  {
   "cell_type": "markdown",
   "metadata": {},
   "source": [
    "https://www.analyticsvidhya.com/blog/2018/08/dimensionality-reduction-techniques-python/"
   ]
  },
  {
   "cell_type": "code",
   "execution_count": 20,
   "metadata": {},
   "outputs": [],
   "source": [
    "user_matrix = np.array(user_matrix)"
   ]
  },
  {
   "cell_type": "code",
   "execution_count": 21,
   "metadata": {},
   "outputs": [
    {
     "name": "stderr",
     "output_type": "stream",
     "text": [
      "/Users/ariane/applications/miniconda3/envs/ada/lib/python3.6/site-packages/ipykernel_launcher.py:2: RuntimeWarning: invalid value encountered in true_divide\n",
      "  \n"
     ]
    }
   ],
   "source": [
    "row_sums = user_matrix.sum(axis=1) #Normalize on the rows (rows_sum -> 1)\n",
    "norm_matrix = user_matrix / row_sums[:, np.newaxis]\n",
    "for (i, l) in enumerate(norm_matrix) :\n",
    "    if str(l[0])==\"nan\":\n",
    "        for k in range(0, len(norm_matrix[0])):\n",
    "            norm_matrix[i][k]=0"
   ]
  },
  {
   "cell_type": "code",
   "execution_count": 22,
   "metadata": {},
   "outputs": [
    {
     "data": {
      "text/plain": [
       "PCA(copy=True, iterated_power='auto', n_components=None, random_state=0,\n",
       "    svd_solver='auto', tol=0.0, whiten=False)"
      ]
     },
     "execution_count": 22,
     "metadata": {},
     "output_type": "execute_result"
    }
   ],
   "source": [
    "pca = PCA(random_state=0) \n",
    "pca.fit(norm_matrix)"
   ]
  },
  {
   "cell_type": "code",
   "execution_count": 23,
   "metadata": {},
   "outputs": [],
   "source": [
    "reduc_matrix = pca.transform(user_matrix)"
   ]
  },
  {
   "cell_type": "markdown",
   "metadata": {},
   "source": [
    "Determine the right number of dimensions as a trade-off between number of dimensions and loss of variance."
   ]
  },
  {
   "cell_type": "code",
   "execution_count": 53,
   "metadata": {},
   "outputs": [
    {
     "data": {
      "image/png": "[encoded data removed]",
      "text/plain": [
       "<Figure size 432x288 with 1 Axes>"
      ]
     },
     "metadata": {
      "needs_background": "light"
     },
     "output_type": "display_data"
    }
   ],
   "source": [
    "#Plotting the Cumulative Summation of the Explained Variance\n",
    "plt.figure()\n",
    "plt.plot(np.cumsum(pca.explained_variance_ratio_), marker='+')\n",
    "plt.xlabel('Number of Components')\n",
    "plt.ylabel('Variance (%)') #for each component\n",
    "plt.title('PCA Explained Variance')\n",
    "plt.show()"
   ]
  },
  {
   "cell_type": "markdown",
   "metadata": {},
   "source": [
    "dimension choosen at the elbow : dim=30"
   ]
  },
  {
   "cell_type": "code",
   "execution_count": 24,
   "metadata": {},
   "outputs": [],
   "source": [
    "pca = PCA(n_components=30, random_state=0)\n",
    "reduc_matrix = pca.fit_transform(norm_matrix)"
   ]
  },
  {
   "cell_type": "code",
   "execution_count": 25,
   "metadata": {},
   "outputs": [
    {
     "data": {
      "text/plain": [
       "(206209, 30)"
      ]
     },
     "execution_count": 25,
     "metadata": {},
     "output_type": "execute_result"
    }
   ],
   "source": [
    "reduc_matrix.shape"
   ]
  },
  {
   "cell_type": "markdown",
   "metadata": {},
   "source": [
    "Determine the right number of clusters (k)"
   ]
  },
  {
   "cell_type": "code",
   "execution_count": null,
   "metadata": {},
   "outputs": [],
   "source": [
    "#un peu long\n",
    "wcss=[]\n",
    "for i in range(1, 15):\n",
    "    kmeans = KMeans(n_clusters=i, random_state=0)\n",
    "    kmeans.fit(reduc_matrix)\n",
    "    wcss.append(kmeans.inertia_)\n",
    "plt.plot(range(1, 15), wcss, marker='+')\n",
    "plt.title('Elbow Method')\n",
    "plt.xlabel('Number of clusters')\n",
    "plt.ylabel('WCSS')\n",
    "plt.show()"
   ]
  },
  {
   "cell_type": "markdown",
   "metadata": {},
   "source": [
    "optimal k is 5 with this method"
   ]
  },
  {
   "cell_type": "code",
   "execution_count": 26,
   "metadata": {},
   "outputs": [],
   "source": [
    "kmeans = KMeans(n_clusters=5, random_state=0).fit(reduc_matrix)"
   ]
  },
  {
   "cell_type": "code",
   "execution_count": 70,
   "metadata": {},
   "outputs": [
    {
     "name": "stdout",
     "output_type": "stream",
     "text": [
      "38233.0\n",
      "55661.0\n",
      "7932.0\n",
      "5366.0\n",
      "99016.0\n"
     ]
    }
   ],
   "source": [
    "get_cluster_size(kmeans, 5, reduc_matrix)"
   ]
  },
  {
   "cell_type": "markdown",
   "metadata": {},
   "source": [
    "That's better : 3 pretty big clusters and 2 small (2 et 3)"
   ]
  },
  {
   "cell_type": "markdown",
   "metadata": {},
   "source": [
    "## Analyse the clusters"
   ]
  },
  {
   "cell_type": "markdown",
   "metadata": {},
   "source": [
    "**Look at centroids distance**"
   ]
  },
  {
   "cell_type": "code",
   "execution_count": 27,
   "metadata": {},
   "outputs": [
    {
     "data": {
      "text/plain": [
       "array([[ 2.20106855e-01, -2.05952174e-01, -7.58680656e-03,\n",
       "        -3.33052003e-02, -9.70075279e-03,  6.49935419e-03,\n",
       "        -3.56051958e-03, -9.23150916e-04, -7.88428603e-03,\n",
       "        -4.12997388e-03, -2.68752836e-03, -1.69194517e-04,\n",
       "        -2.19231454e-03, -1.14639334e-03, -2.51229885e-03,\n",
       "        -3.37561414e-03, -1.96986409e-03,  1.53978028e-04,\n",
       "        -3.22464078e-04, -6.44794723e-04, -3.27162878e-03,\n",
       "         9.16905126e-05, -5.17065595e-04, -1.73111708e-03,\n",
       "        -2.48306175e-04, -1.05421802e-03, -1.72135550e-04,\n",
       "        -9.85374955e-04, -4.81820310e-04, -1.20247067e-03],\n",
       "       [-1.05700542e-01, -3.94683210e-04, -2.15981659e-02,\n",
       "        -2.14269082e-02, -1.37612152e-02, -1.59922704e-03,\n",
       "        -6.20522603e-03, -1.23552489e-03, -6.43928675e-03,\n",
       "        -3.13087011e-03, -2.00628802e-03,  1.50453747e-03,\n",
       "        -2.84338712e-03, -2.09911708e-04, -1.02851300e-03,\n",
       "        -2.61719517e-03, -2.22267950e-03, -1.00477641e-04,\n",
       "         8.99859653e-05, -2.34958942e-04, -1.16827566e-03,\n",
       "         2.65656520e-04, -7.78786052e-04, -1.66394752e-03,\n",
       "        -2.14511666e-05, -6.57834824e-04, -4.49145152e-05,\n",
       "        -6.17394984e-04, -6.75825051e-04, -7.75671011e-04],\n",
       "       [ 2.78366758e-02, -2.15264870e-02, -3.45831455e-03,\n",
       "         4.10413399e-02,  2.39396878e-02, -2.53855542e-03,\n",
       "         9.16560585e-03,  1.80493879e-03,  1.22216515e-02,\n",
       "         5.83773089e-03,  3.77054040e-03, -2.36116708e-03,\n",
       "         4.48657697e-03,  9.11739526e-04,  1.95786964e-03,\n",
       "         4.90904250e-03,  3.60052330e-03, -6.63233038e-05,\n",
       "         1.66132242e-05,  8.57594744e-04,  2.80574683e-03,\n",
       "        -5.09958409e-04,  1.24588403e-03,  2.76100181e-03,\n",
       "         3.17129846e-04,  1.33665824e-03,  1.41530450e-04,\n",
       "         1.06945839e-03,  1.08613016e-03,  1.70387386e-03],\n",
       "       [-1.16051964e-01, -5.70093338e-02,  4.86216741e-01,\n",
       "        -2.05776237e-03,  2.48125521e-03,  2.72626271e-03,\n",
       "         3.38156787e-03, -9.89945207e-03, -1.11529445e-02,\n",
       "         1.92867551e-03, -4.89374766e-03, -4.86529953e-03,\n",
       "        -1.20369271e-03, -1.98164214e-03, -3.33404940e-03,\n",
       "        -1.65627322e-03,  5.86213709e-04, -2.53890591e-03,\n",
       "        -1.00202311e-03, -3.01951477e-03,  6.10220848e-04,\n",
       "         3.95940672e-04, -1.35914292e-03, -2.76349176e-04,\n",
       "        -1.34041582e-03, -1.03162657e-03, -7.44355241e-04,\n",
       "        -1.45708074e-03, -2.56375279e-04, -1.06752679e-03],\n",
       "       [ 1.58080359e-01,  1.45739342e-01,  1.38596998e-02,\n",
       "        -1.10663847e-02, -7.63741712e-03,  6.73482568e-03,\n",
       "        -6.12790739e-04,  1.28865105e-03, -2.76770342e-03,\n",
       "        -1.87546438e-03, -5.08949248e-04,  1.39182902e-03,\n",
       "        -3.09031794e-04, -5.90639801e-04,  2.91920570e-04,\n",
       "        -1.27058034e-03, -5.09650792e-04,  6.64632380e-04,\n",
       "        -2.75594431e-05, -5.03003084e-04, -1.24898671e-03,\n",
       "         2.38420196e-04, -3.42346678e-05, -3.20488671e-04,\n",
       "        -3.41376170e-04, -3.72102665e-04, -6.54114924e-06,\n",
       "         1.01495920e-04, -1.36570128e-04, -7.46682811e-04]])"
      ]
     },
     "execution_count": 27,
     "metadata": {},
     "output_type": "execute_result"
    }
   ],
   "source": [
    "kmeans.cluster_centers_"
   ]
  },
  {
   "cell_type": "code",
   "execution_count": 29,
   "metadata": {},
   "outputs": [],
   "source": [
    "def dist_centroids(clustering):\n",
    "    k=len(clustering.cluster_centers_)\n",
    "    distances = np.zeros((k,k))\n",
    "    for x in range(k):\n",
    "        for y in range(x):\n",
    "            dist = np.linalg.norm(clustering.cluster_centers_[x]-clustering.cluster_centers_[y]) #calculate euclidian distance\n",
    "            distances[x,y]=dist\n",
    "    return distances"
   ]
  },
  {
   "cell_type": "code",
   "execution_count": 30,
   "metadata": {},
   "outputs": [
    {
     "data": {
      "text/plain": [
       "array([[0.        , 0.        , 0.        , 0.        , 0.        ],\n",
       "       [0.38580685, 0.        , 0.        , 0.        , 0.        ],\n",
       "       [0.28055434, 0.157692  , 0.        , 0.        , 0.        ],\n",
       "       [0.61677855, 0.51200915, 0.51487239, 0.        , 0.        ],\n",
       "       [0.35856946, 0.3041038 , 0.22265987, 0.58301387, 0.        ]])"
      ]
     },
     "execution_count": 30,
     "metadata": {},
     "output_type": "execute_result"
    }
   ],
   "source": [
    "dist_centroids(kmeans)"
   ]
  },
  {
   "cell_type": "markdown",
   "metadata": {},
   "source": [
    "cluster 2 and 3 are pretty 'basic' : look to all others, and are alike. Probably has something to do with the fact they are the two small clusters."
   ]
  },
  {
   "cell_type": "markdown",
   "metadata": {},
   "source": [
    "**prepare df**"
   ]
  },
  {
   "cell_type": "code",
   "execution_count": 31,
   "metadata": {},
   "outputs": [],
   "source": [
    "aisles = pd.read_csv('data/aisles.csv', sep=',')"
   ]
  },
  {
   "cell_type": "code",
   "execution_count": 32,
   "metadata": {},
   "outputs": [
    {
     "data": {
      "text/html": [
       "<div>\n",
       "<style scoped>\n",
       "    .dataframe tbody tr th:only-of-type {\n",
       "        vertical-align: middle;\n",
       "    }\n",
       "\n",
       "    .dataframe tbody tr th {\n",
       "        vertical-align: top;\n",
       "    }\n",
       "\n",
       "    .dataframe thead th {\n",
       "        text-align: right;\n",
       "    }\n",
       "</style>\n",
       "<table border=\"1\" class=\"dataframe\">\n",
       "  <thead>\n",
       "    <tr style=\"text-align: right;\">\n",
       "      <th></th>\n",
       "      <th>prepared soups salads</th>\n",
       "      <th>specialty cheeses</th>\n",
       "      <th>energy granola bars</th>\n",
       "      <th>instant foods</th>\n",
       "      <th>marinades meat preparation</th>\n",
       "      <th>other</th>\n",
       "      <th>packaged meat</th>\n",
       "      <th>bakery desserts</th>\n",
       "      <th>pasta sauce</th>\n",
       "      <th>kitchen supplies</th>\n",
       "      <th>...</th>\n",
       "      <th>trail mix snack mix</th>\n",
       "      <th>feminine care</th>\n",
       "      <th>body lotions soap</th>\n",
       "      <th>tortillas flat bread</th>\n",
       "      <th>frozen appetizers sides</th>\n",
       "      <th>hot cereal pancake mixes</th>\n",
       "      <th>dry pasta</th>\n",
       "      <th>beauty</th>\n",
       "      <th>muscles joints pain relief</th>\n",
       "      <th>specialty wines champagnes</th>\n",
       "    </tr>\n",
       "  </thead>\n",
       "  <tbody>\n",
       "    <tr>\n",
       "      <td>0</td>\n",
       "      <td>0</td>\n",
       "      <td>0</td>\n",
       "      <td>0</td>\n",
       "      <td>0</td>\n",
       "      <td>0</td>\n",
       "      <td>0</td>\n",
       "      <td>0</td>\n",
       "      <td>0</td>\n",
       "      <td>0</td>\n",
       "      <td>0</td>\n",
       "      <td>...</td>\n",
       "      <td>0</td>\n",
       "      <td>0</td>\n",
       "      <td>0</td>\n",
       "      <td>0</td>\n",
       "      <td>0</td>\n",
       "      <td>0</td>\n",
       "      <td>0</td>\n",
       "      <td>0</td>\n",
       "      <td>0</td>\n",
       "      <td>0</td>\n",
       "    </tr>\n",
       "    <tr>\n",
       "      <td>1</td>\n",
       "      <td>0</td>\n",
       "      <td>0</td>\n",
       "      <td>0</td>\n",
       "      <td>0</td>\n",
       "      <td>0</td>\n",
       "      <td>0</td>\n",
       "      <td>0</td>\n",
       "      <td>0</td>\n",
       "      <td>0</td>\n",
       "      <td>0</td>\n",
       "      <td>...</td>\n",
       "      <td>0</td>\n",
       "      <td>0</td>\n",
       "      <td>0</td>\n",
       "      <td>0</td>\n",
       "      <td>0</td>\n",
       "      <td>0</td>\n",
       "      <td>0</td>\n",
       "      <td>0</td>\n",
       "      <td>0</td>\n",
       "      <td>0</td>\n",
       "    </tr>\n",
       "    <tr>\n",
       "      <td>2</td>\n",
       "      <td>0</td>\n",
       "      <td>0</td>\n",
       "      <td>0</td>\n",
       "      <td>0</td>\n",
       "      <td>0</td>\n",
       "      <td>0</td>\n",
       "      <td>0</td>\n",
       "      <td>0</td>\n",
       "      <td>0</td>\n",
       "      <td>0</td>\n",
       "      <td>...</td>\n",
       "      <td>0</td>\n",
       "      <td>0</td>\n",
       "      <td>0</td>\n",
       "      <td>0</td>\n",
       "      <td>0</td>\n",
       "      <td>0</td>\n",
       "      <td>0</td>\n",
       "      <td>0</td>\n",
       "      <td>0</td>\n",
       "      <td>0</td>\n",
       "    </tr>\n",
       "    <tr>\n",
       "      <td>3</td>\n",
       "      <td>0</td>\n",
       "      <td>0</td>\n",
       "      <td>0</td>\n",
       "      <td>0</td>\n",
       "      <td>0</td>\n",
       "      <td>0</td>\n",
       "      <td>0</td>\n",
       "      <td>0</td>\n",
       "      <td>0</td>\n",
       "      <td>0</td>\n",
       "      <td>...</td>\n",
       "      <td>0</td>\n",
       "      <td>0</td>\n",
       "      <td>0</td>\n",
       "      <td>0</td>\n",
       "      <td>0</td>\n",
       "      <td>0</td>\n",
       "      <td>0</td>\n",
       "      <td>0</td>\n",
       "      <td>0</td>\n",
       "      <td>0</td>\n",
       "    </tr>\n",
       "    <tr>\n",
       "      <td>4</td>\n",
       "      <td>0</td>\n",
       "      <td>0</td>\n",
       "      <td>0</td>\n",
       "      <td>0</td>\n",
       "      <td>0</td>\n",
       "      <td>0</td>\n",
       "      <td>0</td>\n",
       "      <td>0</td>\n",
       "      <td>0</td>\n",
       "      <td>0</td>\n",
       "      <td>...</td>\n",
       "      <td>0</td>\n",
       "      <td>0</td>\n",
       "      <td>0</td>\n",
       "      <td>0</td>\n",
       "      <td>0</td>\n",
       "      <td>0</td>\n",
       "      <td>0</td>\n",
       "      <td>0</td>\n",
       "      <td>0</td>\n",
       "      <td>1</td>\n",
       "    </tr>\n",
       "  </tbody>\n",
       "</table>\n",
       "<p>5 rows × 134 columns</p>\n",
       "</div>"
      ],
      "text/plain": [
       "   prepared soups salads  specialty cheeses  energy granola bars  \\\n",
       "0                      0                  0                    0   \n",
       "1                      0                  0                    0   \n",
       "2                      0                  0                    0   \n",
       "3                      0                  0                    0   \n",
       "4                      0                  0                    0   \n",
       "\n",
       "   instant foods  marinades meat preparation  other  packaged meat  \\\n",
       "0              0                           0      0              0   \n",
       "1              0                           0      0              0   \n",
       "2              0                           0      0              0   \n",
       "3              0                           0      0              0   \n",
       "4              0                           0      0              0   \n",
       "\n",
       "   bakery desserts  pasta sauce  kitchen supplies  ...  trail mix snack mix  \\\n",
       "0                0            0                 0  ...                    0   \n",
       "1                0            0                 0  ...                    0   \n",
       "2                0            0                 0  ...                    0   \n",
       "3                0            0                 0  ...                    0   \n",
       "4                0            0                 0  ...                    0   \n",
       "\n",
       "   feminine care  body lotions soap  tortillas flat bread  \\\n",
       "0              0                  0                     0   \n",
       "1              0                  0                     0   \n",
       "2              0                  0                     0   \n",
       "3              0                  0                     0   \n",
       "4              0                  0                     0   \n",
       "\n",
       "   frozen appetizers sides  hot cereal pancake mixes  dry pasta  beauty  \\\n",
       "0                        0                         0          0       0   \n",
       "1                        0                         0          0       0   \n",
       "2                        0                         0          0       0   \n",
       "3                        0                         0          0       0   \n",
       "4                        0                         0          0       0   \n",
       "\n",
       "   muscles joints pain relief  specialty wines champagnes  \n",
       "0                           0                           0  \n",
       "1                           0                           0  \n",
       "2                           0                           0  \n",
       "3                           0                           0  \n",
       "4                           0                           1  \n",
       "\n",
       "[5 rows x 134 columns]"
      ]
     },
     "execution_count": 32,
     "metadata": {},
     "output_type": "execute_result"
    }
   ],
   "source": [
    "#convert the matrix into df\n",
    "matrix_df = pd.DataFrame(user_matrix, index = range(len(user_matrix)), columns = ['Null']+list(aisles.aisle) )\n",
    "matrix_df = matrix_df.drop('Null', axis=1) #drop first useless column\n",
    "matrix_df.head()"
   ]
  },
  {
   "cell_type": "code",
   "execution_count": 33,
   "metadata": {},
   "outputs": [
    {
     "data": {
      "text/html": [
       "<div>\n",
       "<style scoped>\n",
       "    .dataframe tbody tr th:only-of-type {\n",
       "        vertical-align: middle;\n",
       "    }\n",
       "\n",
       "    .dataframe tbody tr th {\n",
       "        vertical-align: top;\n",
       "    }\n",
       "\n",
       "    .dataframe thead th {\n",
       "        text-align: right;\n",
       "    }\n",
       "</style>\n",
       "<table border=\"1\" class=\"dataframe\">\n",
       "  <thead>\n",
       "    <tr style=\"text-align: right;\">\n",
       "      <th></th>\n",
       "      <th>prepared soups salads</th>\n",
       "      <th>specialty cheeses</th>\n",
       "      <th>energy granola bars</th>\n",
       "      <th>instant foods</th>\n",
       "      <th>marinades meat preparation</th>\n",
       "      <th>other</th>\n",
       "      <th>packaged meat</th>\n",
       "      <th>bakery desserts</th>\n",
       "      <th>pasta sauce</th>\n",
       "      <th>kitchen supplies</th>\n",
       "      <th>...</th>\n",
       "      <th>feminine care</th>\n",
       "      <th>body lotions soap</th>\n",
       "      <th>tortillas flat bread</th>\n",
       "      <th>frozen appetizers sides</th>\n",
       "      <th>hot cereal pancake mixes</th>\n",
       "      <th>dry pasta</th>\n",
       "      <th>beauty</th>\n",
       "      <th>muscles joints pain relief</th>\n",
       "      <th>specialty wines champagnes</th>\n",
       "      <th>cluster</th>\n",
       "    </tr>\n",
       "  </thead>\n",
       "  <tbody>\n",
       "    <tr>\n",
       "      <td>0</td>\n",
       "      <td>0</td>\n",
       "      <td>0</td>\n",
       "      <td>0</td>\n",
       "      <td>0</td>\n",
       "      <td>0</td>\n",
       "      <td>0</td>\n",
       "      <td>0</td>\n",
       "      <td>0</td>\n",
       "      <td>0</td>\n",
       "      <td>0</td>\n",
       "      <td>...</td>\n",
       "      <td>0</td>\n",
       "      <td>0</td>\n",
       "      <td>0</td>\n",
       "      <td>0</td>\n",
       "      <td>0</td>\n",
       "      <td>0</td>\n",
       "      <td>0</td>\n",
       "      <td>0</td>\n",
       "      <td>0</td>\n",
       "      <td>1</td>\n",
       "    </tr>\n",
       "    <tr>\n",
       "      <td>1</td>\n",
       "      <td>0</td>\n",
       "      <td>0</td>\n",
       "      <td>0</td>\n",
       "      <td>0</td>\n",
       "      <td>0</td>\n",
       "      <td>0</td>\n",
       "      <td>0</td>\n",
       "      <td>0</td>\n",
       "      <td>0</td>\n",
       "      <td>0</td>\n",
       "      <td>...</td>\n",
       "      <td>0</td>\n",
       "      <td>0</td>\n",
       "      <td>0</td>\n",
       "      <td>0</td>\n",
       "      <td>0</td>\n",
       "      <td>0</td>\n",
       "      <td>0</td>\n",
       "      <td>0</td>\n",
       "      <td>0</td>\n",
       "      <td>0</td>\n",
       "    </tr>\n",
       "    <tr>\n",
       "      <td>2</td>\n",
       "      <td>0</td>\n",
       "      <td>0</td>\n",
       "      <td>0</td>\n",
       "      <td>0</td>\n",
       "      <td>0</td>\n",
       "      <td>0</td>\n",
       "      <td>0</td>\n",
       "      <td>0</td>\n",
       "      <td>0</td>\n",
       "      <td>0</td>\n",
       "      <td>...</td>\n",
       "      <td>0</td>\n",
       "      <td>0</td>\n",
       "      <td>0</td>\n",
       "      <td>0</td>\n",
       "      <td>0</td>\n",
       "      <td>0</td>\n",
       "      <td>0</td>\n",
       "      <td>0</td>\n",
       "      <td>0</td>\n",
       "      <td>1</td>\n",
       "    </tr>\n",
       "    <tr>\n",
       "      <td>3</td>\n",
       "      <td>0</td>\n",
       "      <td>0</td>\n",
       "      <td>0</td>\n",
       "      <td>0</td>\n",
       "      <td>0</td>\n",
       "      <td>0</td>\n",
       "      <td>0</td>\n",
       "      <td>0</td>\n",
       "      <td>0</td>\n",
       "      <td>0</td>\n",
       "      <td>...</td>\n",
       "      <td>0</td>\n",
       "      <td>0</td>\n",
       "      <td>0</td>\n",
       "      <td>0</td>\n",
       "      <td>0</td>\n",
       "      <td>0</td>\n",
       "      <td>0</td>\n",
       "      <td>0</td>\n",
       "      <td>0</td>\n",
       "      <td>2</td>\n",
       "    </tr>\n",
       "    <tr>\n",
       "      <td>4</td>\n",
       "      <td>0</td>\n",
       "      <td>0</td>\n",
       "      <td>0</td>\n",
       "      <td>0</td>\n",
       "      <td>0</td>\n",
       "      <td>0</td>\n",
       "      <td>0</td>\n",
       "      <td>0</td>\n",
       "      <td>0</td>\n",
       "      <td>0</td>\n",
       "      <td>...</td>\n",
       "      <td>0</td>\n",
       "      <td>0</td>\n",
       "      <td>0</td>\n",
       "      <td>0</td>\n",
       "      <td>0</td>\n",
       "      <td>0</td>\n",
       "      <td>0</td>\n",
       "      <td>0</td>\n",
       "      <td>1</td>\n",
       "      <td>1</td>\n",
       "    </tr>\n",
       "  </tbody>\n",
       "</table>\n",
       "<p>5 rows × 135 columns</p>\n",
       "</div>"
      ],
      "text/plain": [
       "   prepared soups salads  specialty cheeses  energy granola bars  \\\n",
       "0                      0                  0                    0   \n",
       "1                      0                  0                    0   \n",
       "2                      0                  0                    0   \n",
       "3                      0                  0                    0   \n",
       "4                      0                  0                    0   \n",
       "\n",
       "   instant foods  marinades meat preparation  other  packaged meat  \\\n",
       "0              0                           0      0              0   \n",
       "1              0                           0      0              0   \n",
       "2              0                           0      0              0   \n",
       "3              0                           0      0              0   \n",
       "4              0                           0      0              0   \n",
       "\n",
       "   bakery desserts  pasta sauce  kitchen supplies  ...  feminine care  \\\n",
       "0                0            0                 0  ...              0   \n",
       "1                0            0                 0  ...              0   \n",
       "2                0            0                 0  ...              0   \n",
       "3                0            0                 0  ...              0   \n",
       "4                0            0                 0  ...              0   \n",
       "\n",
       "   body lotions soap  tortillas flat bread  frozen appetizers sides  \\\n",
       "0                  0                     0                        0   \n",
       "1                  0                     0                        0   \n",
       "2                  0                     0                        0   \n",
       "3                  0                     0                        0   \n",
       "4                  0                     0                        0   \n",
       "\n",
       "   hot cereal pancake mixes  dry pasta  beauty  muscles joints pain relief  \\\n",
       "0                         0          0       0                           0   \n",
       "1                         0          0       0                           0   \n",
       "2                         0          0       0                           0   \n",
       "3                         0          0       0                           0   \n",
       "4                         0          0       0                           0   \n",
       "\n",
       "   specialty wines champagnes  cluster  \n",
       "0                           0        1  \n",
       "1                           0        0  \n",
       "2                           0        1  \n",
       "3                           0        2  \n",
       "4                           1        1  \n",
       "\n",
       "[5 rows x 135 columns]"
      ]
     },
     "execution_count": 33,
     "metadata": {},
     "output_type": "execute_result"
    }
   ],
   "source": [
    "#Add a column 'cluster'\n",
    "matrix_df['cluster']=kmeans.labels_\n",
    "matrix_df.head()"
   ]
  },
  {
   "cell_type": "code",
   "execution_count": 34,
   "metadata": {},
   "outputs": [
    {
     "data": {
      "text/html": [
       "<div>\n",
       "<style scoped>\n",
       "    .dataframe tbody tr th:only-of-type {\n",
       "        vertical-align: middle;\n",
       "    }\n",
       "\n",
       "    .dataframe tbody tr th {\n",
       "        vertical-align: top;\n",
       "    }\n",
       "\n",
       "    .dataframe thead th {\n",
       "        text-align: right;\n",
       "    }\n",
       "</style>\n",
       "<table border=\"1\" class=\"dataframe\">\n",
       "  <thead>\n",
       "    <tr style=\"text-align: right;\">\n",
       "      <th></th>\n",
       "      <th>prepared soups salads</th>\n",
       "      <th>specialty cheeses</th>\n",
       "      <th>energy granola bars</th>\n",
       "      <th>instant foods</th>\n",
       "      <th>marinades meat preparation</th>\n",
       "      <th>other</th>\n",
       "      <th>packaged meat</th>\n",
       "      <th>bakery desserts</th>\n",
       "      <th>pasta sauce</th>\n",
       "      <th>kitchen supplies</th>\n",
       "      <th>...</th>\n",
       "      <th>trail mix snack mix</th>\n",
       "      <th>feminine care</th>\n",
       "      <th>body lotions soap</th>\n",
       "      <th>tortillas flat bread</th>\n",
       "      <th>frozen appetizers sides</th>\n",
       "      <th>hot cereal pancake mixes</th>\n",
       "      <th>dry pasta</th>\n",
       "      <th>beauty</th>\n",
       "      <th>muscles joints pain relief</th>\n",
       "      <th>specialty wines champagnes</th>\n",
       "    </tr>\n",
       "  </thead>\n",
       "  <tbody>\n",
       "    <tr>\n",
       "      <td>0</td>\n",
       "      <td>0.0</td>\n",
       "      <td>0.0</td>\n",
       "      <td>0.0</td>\n",
       "      <td>0.0</td>\n",
       "      <td>0.0</td>\n",
       "      <td>0.0</td>\n",
       "      <td>0.0</td>\n",
       "      <td>0.0</td>\n",
       "      <td>0.0</td>\n",
       "      <td>0.0</td>\n",
       "      <td>...</td>\n",
       "      <td>0.0</td>\n",
       "      <td>0.0</td>\n",
       "      <td>0.0</td>\n",
       "      <td>0.0</td>\n",
       "      <td>0.0</td>\n",
       "      <td>0.0</td>\n",
       "      <td>0.0</td>\n",
       "      <td>0.0</td>\n",
       "      <td>0.0</td>\n",
       "      <td>0.0</td>\n",
       "    </tr>\n",
       "    <tr>\n",
       "      <td>1</td>\n",
       "      <td>0.0</td>\n",
       "      <td>0.0</td>\n",
       "      <td>0.0</td>\n",
       "      <td>0.0</td>\n",
       "      <td>0.0</td>\n",
       "      <td>0.0</td>\n",
       "      <td>0.0</td>\n",
       "      <td>0.0</td>\n",
       "      <td>0.0</td>\n",
       "      <td>0.0</td>\n",
       "      <td>...</td>\n",
       "      <td>0.0</td>\n",
       "      <td>0.0</td>\n",
       "      <td>0.0</td>\n",
       "      <td>0.0</td>\n",
       "      <td>0.0</td>\n",
       "      <td>0.0</td>\n",
       "      <td>0.0</td>\n",
       "      <td>0.0</td>\n",
       "      <td>0.0</td>\n",
       "      <td>0.0</td>\n",
       "    </tr>\n",
       "    <tr>\n",
       "      <td>2</td>\n",
       "      <td>0.0</td>\n",
       "      <td>0.0</td>\n",
       "      <td>0.0</td>\n",
       "      <td>0.0</td>\n",
       "      <td>0.0</td>\n",
       "      <td>0.0</td>\n",
       "      <td>0.0</td>\n",
       "      <td>0.0</td>\n",
       "      <td>0.0</td>\n",
       "      <td>0.0</td>\n",
       "      <td>...</td>\n",
       "      <td>0.0</td>\n",
       "      <td>0.0</td>\n",
       "      <td>0.0</td>\n",
       "      <td>0.0</td>\n",
       "      <td>0.0</td>\n",
       "      <td>0.0</td>\n",
       "      <td>0.0</td>\n",
       "      <td>0.0</td>\n",
       "      <td>0.0</td>\n",
       "      <td>0.0</td>\n",
       "    </tr>\n",
       "    <tr>\n",
       "      <td>3</td>\n",
       "      <td>0.0</td>\n",
       "      <td>0.0</td>\n",
       "      <td>0.0</td>\n",
       "      <td>0.0</td>\n",
       "      <td>0.0</td>\n",
       "      <td>0.0</td>\n",
       "      <td>0.0</td>\n",
       "      <td>0.0</td>\n",
       "      <td>0.0</td>\n",
       "      <td>0.0</td>\n",
       "      <td>...</td>\n",
       "      <td>0.0</td>\n",
       "      <td>0.0</td>\n",
       "      <td>0.0</td>\n",
       "      <td>0.0</td>\n",
       "      <td>0.0</td>\n",
       "      <td>0.0</td>\n",
       "      <td>0.0</td>\n",
       "      <td>0.0</td>\n",
       "      <td>0.0</td>\n",
       "      <td>0.0</td>\n",
       "    </tr>\n",
       "    <tr>\n",
       "      <td>4</td>\n",
       "      <td>0.0</td>\n",
       "      <td>0.0</td>\n",
       "      <td>0.0</td>\n",
       "      <td>0.0</td>\n",
       "      <td>0.0</td>\n",
       "      <td>0.0</td>\n",
       "      <td>0.0</td>\n",
       "      <td>0.0</td>\n",
       "      <td>0.0</td>\n",
       "      <td>0.0</td>\n",
       "      <td>...</td>\n",
       "      <td>0.0</td>\n",
       "      <td>0.0</td>\n",
       "      <td>0.0</td>\n",
       "      <td>0.0</td>\n",
       "      <td>0.0</td>\n",
       "      <td>0.0</td>\n",
       "      <td>0.0</td>\n",
       "      <td>0.0</td>\n",
       "      <td>0.0</td>\n",
       "      <td>0.5</td>\n",
       "    </tr>\n",
       "  </tbody>\n",
       "</table>\n",
       "<p>5 rows × 134 columns</p>\n",
       "</div>"
      ],
      "text/plain": [
       "   prepared soups salads  specialty cheeses  energy granola bars  \\\n",
       "0                    0.0                0.0                  0.0   \n",
       "1                    0.0                0.0                  0.0   \n",
       "2                    0.0                0.0                  0.0   \n",
       "3                    0.0                0.0                  0.0   \n",
       "4                    0.0                0.0                  0.0   \n",
       "\n",
       "   instant foods  marinades meat preparation  other  packaged meat  \\\n",
       "0            0.0                         0.0    0.0            0.0   \n",
       "1            0.0                         0.0    0.0            0.0   \n",
       "2            0.0                         0.0    0.0            0.0   \n",
       "3            0.0                         0.0    0.0            0.0   \n",
       "4            0.0                         0.0    0.0            0.0   \n",
       "\n",
       "   bakery desserts  pasta sauce  kitchen supplies  ...  trail mix snack mix  \\\n",
       "0              0.0          0.0               0.0  ...                  0.0   \n",
       "1              0.0          0.0               0.0  ...                  0.0   \n",
       "2              0.0          0.0               0.0  ...                  0.0   \n",
       "3              0.0          0.0               0.0  ...                  0.0   \n",
       "4              0.0          0.0               0.0  ...                  0.0   \n",
       "\n",
       "   feminine care  body lotions soap  tortillas flat bread  \\\n",
       "0            0.0                0.0                   0.0   \n",
       "1            0.0                0.0                   0.0   \n",
       "2            0.0                0.0                   0.0   \n",
       "3            0.0                0.0                   0.0   \n",
       "4            0.0                0.0                   0.0   \n",
       "\n",
       "   frozen appetizers sides  hot cereal pancake mixes  dry pasta  beauty  \\\n",
       "0                      0.0                       0.0        0.0     0.0   \n",
       "1                      0.0                       0.0        0.0     0.0   \n",
       "2                      0.0                       0.0        0.0     0.0   \n",
       "3                      0.0                       0.0        0.0     0.0   \n",
       "4                      0.0                       0.0        0.0     0.0   \n",
       "\n",
       "   muscles joints pain relief  specialty wines champagnes  \n",
       "0                         0.0                         0.0  \n",
       "1                         0.0                         0.0  \n",
       "2                         0.0                         0.0  \n",
       "3                         0.0                         0.0  \n",
       "4                         0.0                         0.5  \n",
       "\n",
       "[5 rows x 134 columns]"
      ]
     },
     "execution_count": 34,
     "metadata": {},
     "output_type": "execute_result"
    }
   ],
   "source": [
    "#Convert Normalized matrix into a df\n",
    "norm_matrix_df = pd.DataFrame(norm_matrix, index = range(len(norm_matrix)), columns = ['Null']+list(aisles.aisle) )\n",
    "norm_matrix_df = norm_matrix_df.drop('Null', axis=1) #drop first useless column\n",
    "norm_matrix_df.head()"
   ]
  },
  {
   "cell_type": "code",
   "execution_count": 35,
   "metadata": {},
   "outputs": [
    {
     "data": {
      "text/html": [
       "<div>\n",
       "<style scoped>\n",
       "    .dataframe tbody tr th:only-of-type {\n",
       "        vertical-align: middle;\n",
       "    }\n",
       "\n",
       "    .dataframe tbody tr th {\n",
       "        vertical-align: top;\n",
       "    }\n",
       "\n",
       "    .dataframe thead th {\n",
       "        text-align: right;\n",
       "    }\n",
       "</style>\n",
       "<table border=\"1\" class=\"dataframe\">\n",
       "  <thead>\n",
       "    <tr style=\"text-align: right;\">\n",
       "      <th></th>\n",
       "      <th>prepared soups salads</th>\n",
       "      <th>specialty cheeses</th>\n",
       "      <th>energy granola bars</th>\n",
       "      <th>instant foods</th>\n",
       "      <th>marinades meat preparation</th>\n",
       "      <th>other</th>\n",
       "      <th>packaged meat</th>\n",
       "      <th>bakery desserts</th>\n",
       "      <th>pasta sauce</th>\n",
       "      <th>kitchen supplies</th>\n",
       "      <th>...</th>\n",
       "      <th>feminine care</th>\n",
       "      <th>body lotions soap</th>\n",
       "      <th>tortillas flat bread</th>\n",
       "      <th>frozen appetizers sides</th>\n",
       "      <th>hot cereal pancake mixes</th>\n",
       "      <th>dry pasta</th>\n",
       "      <th>beauty</th>\n",
       "      <th>muscles joints pain relief</th>\n",
       "      <th>specialty wines champagnes</th>\n",
       "      <th>cluster</th>\n",
       "    </tr>\n",
       "  </thead>\n",
       "  <tbody>\n",
       "    <tr>\n",
       "      <td>0</td>\n",
       "      <td>0.0</td>\n",
       "      <td>0.0</td>\n",
       "      <td>0.0</td>\n",
       "      <td>0.0</td>\n",
       "      <td>0.0</td>\n",
       "      <td>0.0</td>\n",
       "      <td>0.0</td>\n",
       "      <td>0.0</td>\n",
       "      <td>0.0</td>\n",
       "      <td>0.0</td>\n",
       "      <td>...</td>\n",
       "      <td>0.0</td>\n",
       "      <td>0.0</td>\n",
       "      <td>0.0</td>\n",
       "      <td>0.0</td>\n",
       "      <td>0.0</td>\n",
       "      <td>0.0</td>\n",
       "      <td>0.0</td>\n",
       "      <td>0.0</td>\n",
       "      <td>0.0</td>\n",
       "      <td>1</td>\n",
       "    </tr>\n",
       "    <tr>\n",
       "      <td>1</td>\n",
       "      <td>0.0</td>\n",
       "      <td>0.0</td>\n",
       "      <td>0.0</td>\n",
       "      <td>0.0</td>\n",
       "      <td>0.0</td>\n",
       "      <td>0.0</td>\n",
       "      <td>0.0</td>\n",
       "      <td>0.0</td>\n",
       "      <td>0.0</td>\n",
       "      <td>0.0</td>\n",
       "      <td>...</td>\n",
       "      <td>0.0</td>\n",
       "      <td>0.0</td>\n",
       "      <td>0.0</td>\n",
       "      <td>0.0</td>\n",
       "      <td>0.0</td>\n",
       "      <td>0.0</td>\n",
       "      <td>0.0</td>\n",
       "      <td>0.0</td>\n",
       "      <td>0.0</td>\n",
       "      <td>0</td>\n",
       "    </tr>\n",
       "    <tr>\n",
       "      <td>2</td>\n",
       "      <td>0.0</td>\n",
       "      <td>0.0</td>\n",
       "      <td>0.0</td>\n",
       "      <td>0.0</td>\n",
       "      <td>0.0</td>\n",
       "      <td>0.0</td>\n",
       "      <td>0.0</td>\n",
       "      <td>0.0</td>\n",
       "      <td>0.0</td>\n",
       "      <td>0.0</td>\n",
       "      <td>...</td>\n",
       "      <td>0.0</td>\n",
       "      <td>0.0</td>\n",
       "      <td>0.0</td>\n",
       "      <td>0.0</td>\n",
       "      <td>0.0</td>\n",
       "      <td>0.0</td>\n",
       "      <td>0.0</td>\n",
       "      <td>0.0</td>\n",
       "      <td>0.0</td>\n",
       "      <td>1</td>\n",
       "    </tr>\n",
       "    <tr>\n",
       "      <td>3</td>\n",
       "      <td>0.0</td>\n",
       "      <td>0.0</td>\n",
       "      <td>0.0</td>\n",
       "      <td>0.0</td>\n",
       "      <td>0.0</td>\n",
       "      <td>0.0</td>\n",
       "      <td>0.0</td>\n",
       "      <td>0.0</td>\n",
       "      <td>0.0</td>\n",
       "      <td>0.0</td>\n",
       "      <td>...</td>\n",
       "      <td>0.0</td>\n",
       "      <td>0.0</td>\n",
       "      <td>0.0</td>\n",
       "      <td>0.0</td>\n",
       "      <td>0.0</td>\n",
       "      <td>0.0</td>\n",
       "      <td>0.0</td>\n",
       "      <td>0.0</td>\n",
       "      <td>0.0</td>\n",
       "      <td>2</td>\n",
       "    </tr>\n",
       "    <tr>\n",
       "      <td>4</td>\n",
       "      <td>0.0</td>\n",
       "      <td>0.0</td>\n",
       "      <td>0.0</td>\n",
       "      <td>0.0</td>\n",
       "      <td>0.0</td>\n",
       "      <td>0.0</td>\n",
       "      <td>0.0</td>\n",
       "      <td>0.0</td>\n",
       "      <td>0.0</td>\n",
       "      <td>0.0</td>\n",
       "      <td>...</td>\n",
       "      <td>0.0</td>\n",
       "      <td>0.0</td>\n",
       "      <td>0.0</td>\n",
       "      <td>0.0</td>\n",
       "      <td>0.0</td>\n",
       "      <td>0.0</td>\n",
       "      <td>0.0</td>\n",
       "      <td>0.0</td>\n",
       "      <td>0.5</td>\n",
       "      <td>1</td>\n",
       "    </tr>\n",
       "  </tbody>\n",
       "</table>\n",
       "<p>5 rows × 135 columns</p>\n",
       "</div>"
      ],
      "text/plain": [
       "   prepared soups salads  specialty cheeses  energy granola bars  \\\n",
       "0                    0.0                0.0                  0.0   \n",
       "1                    0.0                0.0                  0.0   \n",
       "2                    0.0                0.0                  0.0   \n",
       "3                    0.0                0.0                  0.0   \n",
       "4                    0.0                0.0                  0.0   \n",
       "\n",
       "   instant foods  marinades meat preparation  other  packaged meat  \\\n",
       "0            0.0                         0.0    0.0            0.0   \n",
       "1            0.0                         0.0    0.0            0.0   \n",
       "2            0.0                         0.0    0.0            0.0   \n",
       "3            0.0                         0.0    0.0            0.0   \n",
       "4            0.0                         0.0    0.0            0.0   \n",
       "\n",
       "   bakery desserts  pasta sauce  kitchen supplies  ...  feminine care  \\\n",
       "0              0.0          0.0               0.0  ...            0.0   \n",
       "1              0.0          0.0               0.0  ...            0.0   \n",
       "2              0.0          0.0               0.0  ...            0.0   \n",
       "3              0.0          0.0               0.0  ...            0.0   \n",
       "4              0.0          0.0               0.0  ...            0.0   \n",
       "\n",
       "   body lotions soap  tortillas flat bread  frozen appetizers sides  \\\n",
       "0                0.0                   0.0                      0.0   \n",
       "1                0.0                   0.0                      0.0   \n",
       "2                0.0                   0.0                      0.0   \n",
       "3                0.0                   0.0                      0.0   \n",
       "4                0.0                   0.0                      0.0   \n",
       "\n",
       "   hot cereal pancake mixes  dry pasta  beauty  muscles joints pain relief  \\\n",
       "0                       0.0        0.0     0.0                         0.0   \n",
       "1                       0.0        0.0     0.0                         0.0   \n",
       "2                       0.0        0.0     0.0                         0.0   \n",
       "3                       0.0        0.0     0.0                         0.0   \n",
       "4                       0.0        0.0     0.0                         0.0   \n",
       "\n",
       "   specialty wines champagnes  cluster  \n",
       "0                         0.0        1  \n",
       "1                         0.0        0  \n",
       "2                         0.0        1  \n",
       "3                         0.0        2  \n",
       "4                         0.5        1  \n",
       "\n",
       "[5 rows x 135 columns]"
      ]
     },
     "execution_count": 35,
     "metadata": {},
     "output_type": "execute_result"
    }
   ],
   "source": [
    "#Add column 'cluster'\n",
    "norm_matrix_df['cluster']=kmeans.labels_\n",
    "norm_matrix_df.head()"
   ]
  },
  {
   "cell_type": "markdown",
   "metadata": {},
   "source": [
    "**Study the mean distribution of products per ailse in each clusters**"
   ]
  },
  {
   "cell_type": "code",
   "execution_count": 36,
   "metadata": {},
   "outputs": [
    {
     "data": {
      "text/html": [
       "<div>\n",
       "<style scoped>\n",
       "    .dataframe tbody tr th:only-of-type {\n",
       "        vertical-align: middle;\n",
       "    }\n",
       "\n",
       "    .dataframe tbody tr th {\n",
       "        vertical-align: top;\n",
       "    }\n",
       "\n",
       "    .dataframe thead th {\n",
       "        text-align: right;\n",
       "    }\n",
       "</style>\n",
       "<table border=\"1\" class=\"dataframe\">\n",
       "  <thead>\n",
       "    <tr style=\"text-align: right;\">\n",
       "      <th></th>\n",
       "      <th>prepared soups salads</th>\n",
       "      <th>specialty cheeses</th>\n",
       "      <th>energy granola bars</th>\n",
       "      <th>instant foods</th>\n",
       "      <th>marinades meat preparation</th>\n",
       "      <th>other</th>\n",
       "      <th>packaged meat</th>\n",
       "      <th>bakery desserts</th>\n",
       "      <th>pasta sauce</th>\n",
       "      <th>kitchen supplies</th>\n",
       "      <th>...</th>\n",
       "      <th>trail mix snack mix</th>\n",
       "      <th>feminine care</th>\n",
       "      <th>body lotions soap</th>\n",
       "      <th>tortillas flat bread</th>\n",
       "      <th>frozen appetizers sides</th>\n",
       "      <th>hot cereal pancake mixes</th>\n",
       "      <th>dry pasta</th>\n",
       "      <th>beauty</th>\n",
       "      <th>muscles joints pain relief</th>\n",
       "      <th>specialty wines champagnes</th>\n",
       "    </tr>\n",
       "    <tr>\n",
       "      <th>cluster</th>\n",
       "      <th></th>\n",
       "      <th></th>\n",
       "      <th></th>\n",
       "      <th></th>\n",
       "      <th></th>\n",
       "      <th></th>\n",
       "      <th></th>\n",
       "      <th></th>\n",
       "      <th></th>\n",
       "      <th></th>\n",
       "      <th></th>\n",
       "      <th></th>\n",
       "      <th></th>\n",
       "      <th></th>\n",
       "      <th></th>\n",
       "      <th></th>\n",
       "      <th></th>\n",
       "      <th></th>\n",
       "      <th></th>\n",
       "      <th></th>\n",
       "      <th></th>\n",
       "    </tr>\n",
       "  </thead>\n",
       "  <tbody>\n",
       "    <tr>\n",
       "      <td>0</td>\n",
       "      <td>0.002123</td>\n",
       "      <td>0.001514</td>\n",
       "      <td>0.008224</td>\n",
       "      <td>0.002355</td>\n",
       "      <td>0.000656</td>\n",
       "      <td>0.000887</td>\n",
       "      <td>0.000850</td>\n",
       "      <td>0.001216</td>\n",
       "      <td>0.002961</td>\n",
       "      <td>0.000244</td>\n",
       "      <td>...</td>\n",
       "      <td>0.001500</td>\n",
       "      <td>0.000268</td>\n",
       "      <td>0.000508</td>\n",
       "      <td>0.002618</td>\n",
       "      <td>0.002503</td>\n",
       "      <td>0.003035</td>\n",
       "      <td>0.003068</td>\n",
       "      <td>0.000067</td>\n",
       "      <td>0.000649</td>\n",
       "      <td>0.000230</td>\n",
       "    </tr>\n",
       "    <tr>\n",
       "      <td>1</td>\n",
       "      <td>0.001473</td>\n",
       "      <td>0.001123</td>\n",
       "      <td>0.006850</td>\n",
       "      <td>0.003790</td>\n",
       "      <td>0.001128</td>\n",
       "      <td>0.001029</td>\n",
       "      <td>0.000595</td>\n",
       "      <td>0.001203</td>\n",
       "      <td>0.002831</td>\n",
       "      <td>0.000343</td>\n",
       "      <td>...</td>\n",
       "      <td>0.001488</td>\n",
       "      <td>0.000922</td>\n",
       "      <td>0.002047</td>\n",
       "      <td>0.002446</td>\n",
       "      <td>0.003736</td>\n",
       "      <td>0.002258</td>\n",
       "      <td>0.003156</td>\n",
       "      <td>0.000229</td>\n",
       "      <td>0.001022</td>\n",
       "      <td>0.001012</td>\n",
       "    </tr>\n",
       "    <tr>\n",
       "      <td>2</td>\n",
       "      <td>0.002567</td>\n",
       "      <td>0.002671</td>\n",
       "      <td>0.014287</td>\n",
       "      <td>0.005979</td>\n",
       "      <td>0.001731</td>\n",
       "      <td>0.001005</td>\n",
       "      <td>0.000952</td>\n",
       "      <td>0.001151</td>\n",
       "      <td>0.006754</td>\n",
       "      <td>0.000256</td>\n",
       "      <td>...</td>\n",
       "      <td>0.001039</td>\n",
       "      <td>0.000509</td>\n",
       "      <td>0.000989</td>\n",
       "      <td>0.005913</td>\n",
       "      <td>0.005745</td>\n",
       "      <td>0.005061</td>\n",
       "      <td>0.008060</td>\n",
       "      <td>0.000159</td>\n",
       "      <td>0.000546</td>\n",
       "      <td>0.000261</td>\n",
       "    </tr>\n",
       "    <tr>\n",
       "      <td>3</td>\n",
       "      <td>0.001059</td>\n",
       "      <td>0.001020</td>\n",
       "      <td>0.010170</td>\n",
       "      <td>0.001512</td>\n",
       "      <td>0.000279</td>\n",
       "      <td>0.001192</td>\n",
       "      <td>0.000331</td>\n",
       "      <td>0.001106</td>\n",
       "      <td>0.000723</td>\n",
       "      <td>0.000448</td>\n",
       "      <td>...</td>\n",
       "      <td>0.002252</td>\n",
       "      <td>0.000595</td>\n",
       "      <td>0.001607</td>\n",
       "      <td>0.000786</td>\n",
       "      <td>0.000900</td>\n",
       "      <td>0.002188</td>\n",
       "      <td>0.001250</td>\n",
       "      <td>0.000163</td>\n",
       "      <td>0.001158</td>\n",
       "      <td>0.000434</td>\n",
       "    </tr>\n",
       "    <tr>\n",
       "      <td>4</td>\n",
       "      <td>0.001465</td>\n",
       "      <td>0.002725</td>\n",
       "      <td>0.006088</td>\n",
       "      <td>0.003394</td>\n",
       "      <td>0.001975</td>\n",
       "      <td>0.000786</td>\n",
       "      <td>0.001316</td>\n",
       "      <td>0.000778</td>\n",
       "      <td>0.006377</td>\n",
       "      <td>0.000280</td>\n",
       "      <td>...</td>\n",
       "      <td>0.000257</td>\n",
       "      <td>0.000285</td>\n",
       "      <td>0.000373</td>\n",
       "      <td>0.005164</td>\n",
       "      <td>0.003275</td>\n",
       "      <td>0.003623</td>\n",
       "      <td>0.007906</td>\n",
       "      <td>0.000109</td>\n",
       "      <td>0.000263</td>\n",
       "      <td>0.000159</td>\n",
       "    </tr>\n",
       "  </tbody>\n",
       "</table>\n",
       "<p>5 rows × 134 columns</p>\n",
       "</div>"
      ],
      "text/plain": [
       "         prepared soups salads  specialty cheeses  energy granola bars  \\\n",
       "cluster                                                                  \n",
       "0                     0.002123           0.001514             0.008224   \n",
       "1                     0.001473           0.001123             0.006850   \n",
       "2                     0.002567           0.002671             0.014287   \n",
       "3                     0.001059           0.001020             0.010170   \n",
       "4                     0.001465           0.002725             0.006088   \n",
       "\n",
       "         instant foods  marinades meat preparation     other  packaged meat  \\\n",
       "cluster                                                                       \n",
       "0             0.002355                    0.000656  0.000887       0.000850   \n",
       "1             0.003790                    0.001128  0.001029       0.000595   \n",
       "2             0.005979                    0.001731  0.001005       0.000952   \n",
       "3             0.001512                    0.000279  0.001192       0.000331   \n",
       "4             0.003394                    0.001975  0.000786       0.001316   \n",
       "\n",
       "         bakery desserts  pasta sauce  kitchen supplies  ...  \\\n",
       "cluster                                                  ...   \n",
       "0               0.001216     0.002961          0.000244  ...   \n",
       "1               0.001203     0.002831          0.000343  ...   \n",
       "2               0.001151     0.006754          0.000256  ...   \n",
       "3               0.001106     0.000723          0.000448  ...   \n",
       "4               0.000778     0.006377          0.000280  ...   \n",
       "\n",
       "         trail mix snack mix  feminine care  body lotions soap  \\\n",
       "cluster                                                          \n",
       "0                   0.001500       0.000268           0.000508   \n",
       "1                   0.001488       0.000922           0.002047   \n",
       "2                   0.001039       0.000509           0.000989   \n",
       "3                   0.002252       0.000595           0.001607   \n",
       "4                   0.000257       0.000285           0.000373   \n",
       "\n",
       "         tortillas flat bread  frozen appetizers sides  \\\n",
       "cluster                                                  \n",
       "0                    0.002618                 0.002503   \n",
       "1                    0.002446                 0.003736   \n",
       "2                    0.005913                 0.005745   \n",
       "3                    0.000786                 0.000900   \n",
       "4                    0.005164                 0.003275   \n",
       "\n",
       "         hot cereal pancake mixes  dry pasta    beauty  \\\n",
       "cluster                                                  \n",
       "0                        0.003035   0.003068  0.000067   \n",
       "1                        0.002258   0.003156  0.000229   \n",
       "2                        0.005061   0.008060  0.000159   \n",
       "3                        0.002188   0.001250  0.000163   \n",
       "4                        0.003623   0.007906  0.000109   \n",
       "\n",
       "         muscles joints pain relief  specialty wines champagnes  \n",
       "cluster                                                          \n",
       "0                          0.000649                    0.000230  \n",
       "1                          0.001022                    0.001012  \n",
       "2                          0.000546                    0.000261  \n",
       "3                          0.001158                    0.000434  \n",
       "4                          0.000263                    0.000159  \n",
       "\n",
       "[5 rows x 134 columns]"
      ]
     },
     "execution_count": 36,
     "metadata": {},
     "output_type": "execute_result"
    }
   ],
   "source": [
    "mean_clusters = norm_matrix_df.groupby(['cluster']).mean()\n",
    "mean_clusters"
   ]
  },
  {
   "cell_type": "markdown",
   "metadata": {},
   "source": [
    "**Evaluate the features discrimining the clusters**"
   ]
  },
  {
   "cell_type": "code",
   "execution_count": 37,
   "metadata": {},
   "outputs": [
    {
     "data": {
      "text/plain": [
       "packaged produce             -0.032598\n",
       "body lotions soap            -0.024428\n",
       "beers coolers                -0.022606\n",
       "spirits                      -0.020095\n",
       "soft drinks                  -0.019210\n",
       "                                ...   \n",
       "canned jarred vegetables      0.189171\n",
       "packaged vegetables fruits    0.256488\n",
       "fresh herbs                   0.275704\n",
       "fresh vegetables              0.492389\n",
       "cluster                       1.000000\n",
       "Name: cluster, Length: 135, dtype: float64"
      ]
     },
     "execution_count": 37,
     "metadata": {},
     "output_type": "execute_result"
    }
   ],
   "source": [
    "matrix_df.corr()['cluster'].sort_values(ascending=True)"
   ]
  },
  {
   "cell_type": "markdown",
   "metadata": {},
   "source": [
    "features influencing the most the cluster affiliation seem to be the 9 ones listed above \n",
    "_not convinced by the method_"
   ]
  },
  {
   "cell_type": "code",
   "execution_count": 38,
   "metadata": {},
   "outputs": [],
   "source": [
    "array = norm_matrix_df.values\n",
    "X = array[:,0:-1]\n",
    "Y = array[:,-1]"
   ]
  },
  {
   "cell_type": "code",
   "execution_count": 39,
   "metadata": {},
   "outputs": [],
   "source": [
    "scores = SelectKBest(chi2, k=20).fit(X, Y)"
   ]
  },
  {
   "cell_type": "code",
   "execution_count": 40,
   "metadata": {},
   "outputs": [
    {
     "data": {
      "text/html": [
       "<div>\n",
       "<style scoped>\n",
       "    .dataframe tbody tr th:only-of-type {\n",
       "        vertical-align: middle;\n",
       "    }\n",
       "\n",
       "    .dataframe tbody tr th {\n",
       "        vertical-align: top;\n",
       "    }\n",
       "\n",
       "    .dataframe thead th {\n",
       "        text-align: right;\n",
       "    }\n",
       "</style>\n",
       "<table border=\"1\" class=\"dataframe\">\n",
       "  <thead>\n",
       "    <tr style=\"text-align: right;\">\n",
       "      <th></th>\n",
       "      <th>Score</th>\n",
       "    </tr>\n",
       "  </thead>\n",
       "  <tbody>\n",
       "    <tr>\n",
       "      <td>water seltzer sparkling water</td>\n",
       "      <td>36442.667916</td>\n",
       "    </tr>\n",
       "    <tr>\n",
       "      <td>fresh vegetables</td>\n",
       "      <td>25396.067433</td>\n",
       "    </tr>\n",
       "    <tr>\n",
       "      <td>fresh fruits</td>\n",
       "      <td>23157.141226</td>\n",
       "    </tr>\n",
       "    <tr>\n",
       "      <td>packaged vegetables fruits</td>\n",
       "      <td>4853.020135</td>\n",
       "    </tr>\n",
       "    <tr>\n",
       "      <td>yogurt</td>\n",
       "      <td>4845.900108</td>\n",
       "    </tr>\n",
       "    <tr>\n",
       "      <td>packaged produce</td>\n",
       "      <td>1810.679864</td>\n",
       "    </tr>\n",
       "    <tr>\n",
       "      <td>fresh herbs</td>\n",
       "      <td>1526.840554</td>\n",
       "    </tr>\n",
       "    <tr>\n",
       "      <td>milk</td>\n",
       "      <td>1397.062021</td>\n",
       "    </tr>\n",
       "    <tr>\n",
       "      <td>packaged cheese</td>\n",
       "      <td>1253.694844</td>\n",
       "    </tr>\n",
       "    <tr>\n",
       "      <td>soft drinks</td>\n",
       "      <td>703.056979</td>\n",
       "    </tr>\n",
       "  </tbody>\n",
       "</table>\n",
       "</div>"
      ],
      "text/plain": [
       "                                      Score\n",
       "water seltzer sparkling water  36442.667916\n",
       "fresh vegetables               25396.067433\n",
       "fresh fruits                   23157.141226\n",
       "packaged vegetables fruits      4853.020135\n",
       "yogurt                          4845.900108\n",
       "packaged produce                1810.679864\n",
       "fresh herbs                     1526.840554\n",
       "milk                            1397.062021\n",
       "packaged cheese                 1253.694844\n",
       "soft drinks                      703.056979"
      ]
     },
     "execution_count": 40,
     "metadata": {},
     "output_type": "execute_result"
    }
   ],
   "source": [
    "features = pd.DataFrame(index=norm_matrix_df.columns[:-1], data= scores.scores_, columns=[\"Score\"]).sort_values(\"Score\",ascending=False)\n",
    "features.head(10)"
   ]
  },
  {
   "cell_type": "markdown",
   "metadata": {},
   "source": [
    "_better method_ most important features"
   ]
  },
  {
   "cell_type": "code",
   "execution_count": 41,
   "metadata": {},
   "outputs": [],
   "source": [
    "imp_features = features.head(10).index"
   ]
  },
  {
   "cell_type": "code",
   "execution_count": 42,
   "metadata": {},
   "outputs": [
    {
     "data": {
      "text/html": [
       "<div>\n",
       "<style scoped>\n",
       "    .dataframe tbody tr th:only-of-type {\n",
       "        vertical-align: middle;\n",
       "    }\n",
       "\n",
       "    .dataframe tbody tr th {\n",
       "        vertical-align: top;\n",
       "    }\n",
       "\n",
       "    .dataframe thead th {\n",
       "        text-align: right;\n",
       "    }\n",
       "</style>\n",
       "<table border=\"1\" class=\"dataframe\">\n",
       "  <thead>\n",
       "    <tr style=\"text-align: right;\">\n",
       "      <th></th>\n",
       "      <th>water seltzer sparkling water</th>\n",
       "      <th>fresh vegetables</th>\n",
       "      <th>fresh fruits</th>\n",
       "      <th>packaged vegetables fruits</th>\n",
       "      <th>yogurt</th>\n",
       "      <th>packaged produce</th>\n",
       "      <th>fresh herbs</th>\n",
       "      <th>milk</th>\n",
       "      <th>packaged cheese</th>\n",
       "      <th>soft drinks</th>\n",
       "    </tr>\n",
       "    <tr>\n",
       "      <th>cluster</th>\n",
       "      <th></th>\n",
       "      <th></th>\n",
       "      <th></th>\n",
       "      <th></th>\n",
       "      <th></th>\n",
       "      <th></th>\n",
       "      <th></th>\n",
       "      <th></th>\n",
       "      <th></th>\n",
       "      <th></th>\n",
       "    </tr>\n",
       "  </thead>\n",
       "  <tbody>\n",
       "    <tr>\n",
       "      <td>0</td>\n",
       "      <td>0.020429</td>\n",
       "      <td>0.049471</td>\n",
       "      <td>0.379838</td>\n",
       "      <td>0.060263</td>\n",
       "      <td>0.025895</td>\n",
       "      <td>0.051307</td>\n",
       "      <td>0.006143</td>\n",
       "      <td>0.028160</td>\n",
       "      <td>0.016463</td>\n",
       "      <td>0.008375</td>\n",
       "    </tr>\n",
       "    <tr>\n",
       "      <td>1</td>\n",
       "      <td>0.010637</td>\n",
       "      <td>0.006015</td>\n",
       "      <td>0.004804</td>\n",
       "      <td>0.005294</td>\n",
       "      <td>0.004606</td>\n",
       "      <td>0.008994</td>\n",
       "      <td>0.001730</td>\n",
       "      <td>0.009283</td>\n",
       "      <td>0.009996</td>\n",
       "      <td>0.016490</td>\n",
       "    </tr>\n",
       "    <tr>\n",
       "      <td>2</td>\n",
       "      <td>0.024605</td>\n",
       "      <td>0.065293</td>\n",
       "      <td>0.107735</td>\n",
       "      <td>0.067970</td>\n",
       "      <td>0.064636</td>\n",
       "      <td>0.011968</td>\n",
       "      <td>0.008403</td>\n",
       "      <td>0.036615</td>\n",
       "      <td>0.035531</td>\n",
       "      <td>0.009066</td>\n",
       "    </tr>\n",
       "    <tr>\n",
       "      <td>3</td>\n",
       "      <td>0.520689</td>\n",
       "      <td>0.011110</td>\n",
       "      <td>0.029364</td>\n",
       "      <td>0.013760</td>\n",
       "      <td>0.015201</td>\n",
       "      <td>0.014236</td>\n",
       "      <td>0.001660</td>\n",
       "      <td>0.016135</td>\n",
       "      <td>0.009044</td>\n",
       "      <td>0.045107</td>\n",
       "    </tr>\n",
       "    <tr>\n",
       "      <td>4</td>\n",
       "      <td>0.016590</td>\n",
       "      <td>0.280475</td>\n",
       "      <td>0.110820</td>\n",
       "      <td>0.064215</td>\n",
       "      <td>0.025029</td>\n",
       "      <td>0.007595</td>\n",
       "      <td>0.023781</td>\n",
       "      <td>0.019579</td>\n",
       "      <td>0.023388</td>\n",
       "      <td>0.004329</td>\n",
       "    </tr>\n",
       "  </tbody>\n",
       "</table>\n",
       "</div>"
      ],
      "text/plain": [
       "         water seltzer sparkling water  fresh vegetables  fresh fruits  \\\n",
       "cluster                                                                  \n",
       "0                             0.020429          0.049471      0.379838   \n",
       "1                             0.010637          0.006015      0.004804   \n",
       "2                             0.024605          0.065293      0.107735   \n",
       "3                             0.520689          0.011110      0.029364   \n",
       "4                             0.016590          0.280475      0.110820   \n",
       "\n",
       "         packaged vegetables fruits    yogurt  packaged produce  fresh herbs  \\\n",
       "cluster                                                                        \n",
       "0                          0.060263  0.025895          0.051307     0.006143   \n",
       "1                          0.005294  0.004606          0.008994     0.001730   \n",
       "2                          0.067970  0.064636          0.011968     0.008403   \n",
       "3                          0.013760  0.015201          0.014236     0.001660   \n",
       "4                          0.064215  0.025029          0.007595     0.023781   \n",
       "\n",
       "             milk  packaged cheese  soft drinks  \n",
       "cluster                                          \n",
       "0        0.028160         0.016463     0.008375  \n",
       "1        0.009283         0.009996     0.016490  \n",
       "2        0.036615         0.035531     0.009066  \n",
       "3        0.016135         0.009044     0.045107  \n",
       "4        0.019579         0.023388     0.004329  "
      ]
     },
     "execution_count": 42,
     "metadata": {},
     "output_type": "execute_result"
    }
   ],
   "source": [
    "mean_clusters[imp_features]"
   ]
  },
  {
   "cell_type": "markdown",
   "metadata": {},
   "source": [
    "0 : bcp de fresh fruits ; peu de soft drinks"
   ]
  },
  {
   "cell_type": "markdown",
   "metadata": {},
   "source": [
    "1 : tres peu de packaged ; bcp de fresh vegetables  ; peu de soft drinks ; bcp herbs"
   ]
  },
  {
   "cell_type": "markdown",
   "metadata": {},
   "source": [
    "2 : bcp de packaged ; peu d'herbs ; peu ice cream"
   ]
  },
  {
   "cell_type": "markdown",
   "metadata": {},
   "source": [
    "3 :  bcp de sparkling water ; peu de fresh fruits ; peu de pack veg fruits ; bcp paper"
   ]
  },
  {
   "cell_type": "markdown",
   "metadata": {},
   "source": [
    "4 : tres peu de packaged ; peu de fresh fruits ; peu de pack veg fruits ; bcp frozen meals ; bcp paper ; plus ice cream"
   ]
  },
  {
   "cell_type": "markdown",
   "metadata": {},
   "source": [
    "classification healthiness : 1>0 (bons)  >  (mauvais) 3>2>4"
   ]
  },
  {
   "cell_type": "markdown",
   "metadata": {},
   "source": [
    "## Client fidelity and ranking of products"
   ]
  },
  {
   "cell_type": "code",
   "execution_count": 3,
   "metadata": {},
   "outputs": [],
   "source": [
    "import pickle\n",
    "f=open(\"history_small\",\"rb\")\n",
    "history_small = pickle.load(f)\n",
    "f.close()"
   ]
  },
  {
   "cell_type": "code",
   "execution_count": 44,
   "metadata": {},
   "outputs": [],
   "source": [
    "consumptions = pd.merge(history_small, orders, on=\"order_id\")\n",
    "consumptions[\"product_id_bis\"]=consumptions[\"product_id\"]"
   ]
  },
  {
   "cell_type": "code",
   "execution_count": 45,
   "metadata": {},
   "outputs": [
    {
     "data": {
      "text/html": [
       "<div>\n",
       "<style scoped>\n",
       "    .dataframe tbody tr th:only-of-type {\n",
       "        vertical-align: middle;\n",
       "    }\n",
       "\n",
       "    .dataframe tbody tr th {\n",
       "        vertical-align: top;\n",
       "    }\n",
       "\n",
       "    .dataframe thead th {\n",
       "        text-align: right;\n",
       "    }\n",
       "</style>\n",
       "<table border=\"1\" class=\"dataframe\">\n",
       "  <thead>\n",
       "    <tr style=\"text-align: right;\">\n",
       "      <th></th>\n",
       "      <th>order_id</th>\n",
       "      <th>product_id</th>\n",
       "      <th>add_to_cart_order</th>\n",
       "      <th>reordered</th>\n",
       "      <th>user_id</th>\n",
       "      <th>eval_set</th>\n",
       "      <th>order_number</th>\n",
       "      <th>order_dow</th>\n",
       "      <th>order_hour_of_day</th>\n",
       "      <th>days_since_prior_order</th>\n",
       "      <th>product_id_bis</th>\n",
       "    </tr>\n",
       "  </thead>\n",
       "  <tbody>\n",
       "    <tr>\n",
       "      <td>0</td>\n",
       "      <td>2</td>\n",
       "      <td>33120</td>\n",
       "      <td>1</td>\n",
       "      <td>1</td>\n",
       "      <td>202279</td>\n",
       "      <td>prior</td>\n",
       "      <td>3</td>\n",
       "      <td>5</td>\n",
       "      <td>9</td>\n",
       "      <td>8.0</td>\n",
       "      <td>33120</td>\n",
       "    </tr>\n",
       "    <tr>\n",
       "      <td>1</td>\n",
       "      <td>2</td>\n",
       "      <td>28985</td>\n",
       "      <td>2</td>\n",
       "      <td>1</td>\n",
       "      <td>202279</td>\n",
       "      <td>prior</td>\n",
       "      <td>3</td>\n",
       "      <td>5</td>\n",
       "      <td>9</td>\n",
       "      <td>8.0</td>\n",
       "      <td>28985</td>\n",
       "    </tr>\n",
       "    <tr>\n",
       "      <td>2</td>\n",
       "      <td>2</td>\n",
       "      <td>9327</td>\n",
       "      <td>3</td>\n",
       "      <td>0</td>\n",
       "      <td>202279</td>\n",
       "      <td>prior</td>\n",
       "      <td>3</td>\n",
       "      <td>5</td>\n",
       "      <td>9</td>\n",
       "      <td>8.0</td>\n",
       "      <td>9327</td>\n",
       "    </tr>\n",
       "    <tr>\n",
       "      <td>3</td>\n",
       "      <td>2</td>\n",
       "      <td>45918</td>\n",
       "      <td>4</td>\n",
       "      <td>1</td>\n",
       "      <td>202279</td>\n",
       "      <td>prior</td>\n",
       "      <td>3</td>\n",
       "      <td>5</td>\n",
       "      <td>9</td>\n",
       "      <td>8.0</td>\n",
       "      <td>45918</td>\n",
       "    </tr>\n",
       "    <tr>\n",
       "      <td>4</td>\n",
       "      <td>2</td>\n",
       "      <td>30035</td>\n",
       "      <td>5</td>\n",
       "      <td>0</td>\n",
       "      <td>202279</td>\n",
       "      <td>prior</td>\n",
       "      <td>3</td>\n",
       "      <td>5</td>\n",
       "      <td>9</td>\n",
       "      <td>8.0</td>\n",
       "      <td>30035</td>\n",
       "    </tr>\n",
       "  </tbody>\n",
       "</table>\n",
       "</div>"
      ],
      "text/plain": [
       "   order_id  product_id  add_to_cart_order  reordered  user_id eval_set  \\\n",
       "0         2       33120                  1          1   202279    prior   \n",
       "1         2       28985                  2          1   202279    prior   \n",
       "2         2        9327                  3          0   202279    prior   \n",
       "3         2       45918                  4          1   202279    prior   \n",
       "4         2       30035                  5          0   202279    prior   \n",
       "\n",
       "   order_number  order_dow  order_hour_of_day  days_since_prior_order  \\\n",
       "0             3          5                  9                     8.0   \n",
       "1             3          5                  9                     8.0   \n",
       "2             3          5                  9                     8.0   \n",
       "3             3          5                  9                     8.0   \n",
       "4             3          5                  9                     8.0   \n",
       "\n",
       "   product_id_bis  \n",
       "0           33120  \n",
       "1           28985  \n",
       "2            9327  \n",
       "3           45918  \n",
       "4           30035  "
      ]
     },
     "execution_count": 45,
     "metadata": {},
     "output_type": "execute_result"
    }
   ],
   "source": [
    "consumptions.head()"
   ]
  },
  {
   "cell_type": "markdown",
   "metadata": {},
   "source": [
    "#### Fidelity = number of times each user re-bought each product"
   ]
  },
  {
   "cell_type": "code",
   "execution_count": 46,
   "metadata": {},
   "outputs": [],
   "source": [
    "fidelity = consumptions.groupby([\"user_id\",\"product_id\"]).agg({'reordered': \"sum\",\"product_id_bis\" :\"mean\"})"
   ]
  },
  {
   "cell_type": "markdown",
   "metadata": {},
   "source": [
    "#### Fidelity_per_user = number of times each user re-bought a product, on average"
   ]
  },
  {
   "cell_type": "code",
   "execution_count": 47,
   "metadata": {},
   "outputs": [
    {
     "data": {
      "text/html": [
       "<div>\n",
       "<style scoped>\n",
       "    .dataframe tbody tr th:only-of-type {\n",
       "        vertical-align: middle;\n",
       "    }\n",
       "\n",
       "    .dataframe tbody tr th {\n",
       "        vertical-align: top;\n",
       "    }\n",
       "\n",
       "    .dataframe thead th {\n",
       "        text-align: right;\n",
       "    }\n",
       "</style>\n",
       "<table border=\"1\" class=\"dataframe\">\n",
       "  <thead>\n",
       "    <tr style=\"text-align: right;\">\n",
       "      <th></th>\n",
       "      <th>user_fidelity</th>\n",
       "    </tr>\n",
       "    <tr>\n",
       "      <th>user_id</th>\n",
       "      <th></th>\n",
       "    </tr>\n",
       "  </thead>\n",
       "  <tbody>\n",
       "    <tr>\n",
       "      <td>89566</td>\n",
       "      <td>0.012987</td>\n",
       "    </tr>\n",
       "    <tr>\n",
       "      <td>67906</td>\n",
       "      <td>0.014706</td>\n",
       "    </tr>\n",
       "    <tr>\n",
       "      <td>99236</td>\n",
       "      <td>0.015385</td>\n",
       "    </tr>\n",
       "    <tr>\n",
       "      <td>65510</td>\n",
       "      <td>0.015625</td>\n",
       "    </tr>\n",
       "    <tr>\n",
       "      <td>41632</td>\n",
       "      <td>0.015873</td>\n",
       "    </tr>\n",
       "  </tbody>\n",
       "</table>\n",
       "</div>"
      ],
      "text/plain": [
       "         user_fidelity\n",
       "user_id               \n",
       "89566         0.012987\n",
       "67906         0.014706\n",
       "99236         0.015385\n",
       "65510         0.015625\n",
       "41632         0.015873"
      ]
     },
     "execution_count": 47,
     "metadata": {},
     "output_type": "execute_result"
    }
   ],
   "source": [
    "fidelity_per_user = fidelity.groupby(\"user_id\").agg({'reordered':'mean'}).rename(columns={\"reordered\": \"user_fidelity\"})\n",
    "fidelity_per_user_notnull = fidelity_per_user[fidelity_per_user.user_fidelity>0]\n",
    "fidelity_per_user_notnull.sort_values(\"user_fidelity\").head()"
   ]
  },
  {
   "cell_type": "markdown",
   "metadata": {},
   "source": [
    "#### Satisfaction_per_product = number of times each product is re-bought by users, on average"
   ]
  },
  {
   "cell_type": "code",
   "execution_count": 48,
   "metadata": {},
   "outputs": [],
   "source": [
    "satisfaction_per_product = fidelity.groupby(\"product_id\").agg({'reordered':'mean'}).rename(columns={\"reordered\": \"satisfaction_per_product\"})"
   ]
  },
  {
   "cell_type": "code",
   "execution_count": 49,
   "metadata": {
    "scrolled": true
   },
   "outputs": [
    {
     "data": {
      "text/html": [
       "<div>\n",
       "<style scoped>\n",
       "    .dataframe tbody tr th:only-of-type {\n",
       "        vertical-align: middle;\n",
       "    }\n",
       "\n",
       "    .dataframe tbody tr th {\n",
       "        vertical-align: top;\n",
       "    }\n",
       "\n",
       "    .dataframe thead th {\n",
       "        text-align: right;\n",
       "    }\n",
       "</style>\n",
       "<table border=\"1\" class=\"dataframe\">\n",
       "  <thead>\n",
       "    <tr style=\"text-align: right;\">\n",
       "      <th></th>\n",
       "      <th>satisfaction_per_product</th>\n",
       "    </tr>\n",
       "    <tr>\n",
       "      <th>product_id</th>\n",
       "      <th></th>\n",
       "    </tr>\n",
       "  </thead>\n",
       "  <tbody>\n",
       "    <tr>\n",
       "      <td>14609</td>\n",
       "      <td>10.666667</td>\n",
       "    </tr>\n",
       "    <tr>\n",
       "      <td>27740</td>\n",
       "      <td>11.625000</td>\n",
       "    </tr>\n",
       "    <tr>\n",
       "      <td>43553</td>\n",
       "      <td>12.000000</td>\n",
       "    </tr>\n",
       "    <tr>\n",
       "      <td>2075</td>\n",
       "      <td>13.500000</td>\n",
       "    </tr>\n",
       "    <tr>\n",
       "      <td>6433</td>\n",
       "      <td>16.000000</td>\n",
       "    </tr>\n",
       "  </tbody>\n",
       "</table>\n",
       "</div>"
      ],
      "text/plain": [
       "            satisfaction_per_product\n",
       "product_id                          \n",
       "14609                      10.666667\n",
       "27740                      11.625000\n",
       "43553                      12.000000\n",
       "2075                       13.500000\n",
       "6433                       16.000000"
      ]
     },
     "execution_count": 49,
     "metadata": {},
     "output_type": "execute_result"
    }
   ],
   "source": [
    "satisfaction_per_product.sort_values(\"satisfaction_per_product\").tail()"
   ]
  },
  {
   "cell_type": "markdown",
   "metadata": {},
   "source": [
    "#### Product_quality = how users like the product (weighted average over user fidelity)"
   ]
  },
  {
   "cell_type": "code",
   "execution_count": 50,
   "metadata": {},
   "outputs": [],
   "source": [
    "with_user_fidelity = pd.merge(fidelity, fidelity_per_user_notnull, on=\"user_id\")\n",
    "with_user_fidelity[\"appreciation_per_user\"] = with_user_fidelity.reordered/with_user_fidelity.user_fidelity"
   ]
  },
  {
   "cell_type": "code",
   "execution_count": 51,
   "metadata": {},
   "outputs": [],
   "source": [
    "quality_per_product = with_user_fidelity.groupby(\"product_id_bis\").agg({\"appreciation_per_user\":\"mean\"})"
   ]
  },
  {
   "cell_type": "code",
   "execution_count": 52,
   "metadata": {},
   "outputs": [
    {
     "data": {
      "text/html": [
       "<div>\n",
       "<style scoped>\n",
       "    .dataframe tbody tr th:only-of-type {\n",
       "        vertical-align: middle;\n",
       "    }\n",
       "\n",
       "    .dataframe tbody tr th {\n",
       "        vertical-align: top;\n",
       "    }\n",
       "\n",
       "    .dataframe thead th {\n",
       "        text-align: right;\n",
       "    }\n",
       "</style>\n",
       "<table border=\"1\" class=\"dataframe\">\n",
       "  <thead>\n",
       "    <tr style=\"text-align: right;\">\n",
       "      <th></th>\n",
       "      <th>appreciation_per_user</th>\n",
       "    </tr>\n",
       "    <tr>\n",
       "      <th>product_id_bis</th>\n",
       "      <th></th>\n",
       "    </tr>\n",
       "  </thead>\n",
       "  <tbody>\n",
       "    <tr>\n",
       "      <td>1470</td>\n",
       "      <td>8.800000</td>\n",
       "    </tr>\n",
       "    <tr>\n",
       "      <td>34246</td>\n",
       "      <td>9.382511</td>\n",
       "    </tr>\n",
       "    <tr>\n",
       "      <td>15201</td>\n",
       "      <td>9.886176</td>\n",
       "    </tr>\n",
       "    <tr>\n",
       "      <td>2075</td>\n",
       "      <td>10.741471</td>\n",
       "    </tr>\n",
       "    <tr>\n",
       "      <td>25135</td>\n",
       "      <td>11.634876</td>\n",
       "    </tr>\n",
       "  </tbody>\n",
       "</table>\n",
       "</div>"
      ],
      "text/plain": [
       "                appreciation_per_user\n",
       "product_id_bis                       \n",
       "1470                         8.800000\n",
       "34246                        9.382511\n",
       "15201                        9.886176\n",
       "2075                        10.741471\n",
       "25135                       11.634876"
      ]
     },
     "execution_count": 52,
     "metadata": {},
     "output_type": "execute_result"
    }
   ],
   "source": [
    "quality_per_product.sort_values(\"appreciation_per_user\").tail()"
   ]
  },
  {
   "cell_type": "code",
   "execution_count": 53,
   "metadata": {},
   "outputs": [],
   "source": [
    "quality_per_product[\"count\"]=1\n",
    "quality_per_product[\"appreciation_per_user\"]=round(quality_per_product[\"appreciation_per_user\"],2)\n",
    "distribution_qualities = quality_per_product.groupby(\"appreciation_per_user\").agg({\"count\":\"sum\"})"
   ]
  },
  {
   "cell_type": "code",
   "execution_count": 54,
   "metadata": {},
   "outputs": [
    {
     "data": {
      "text/plain": [
       "Text(0.5, 1.0, 'User appreciation distribution')"
      ]
     },
     "execution_count": 54,
     "metadata": {},
     "output_type": "execute_result"
    },
    {
     "data": {
      "image/png": "[encoded data removed]",
      "text/plain": [
       "<Figure size 432x288 with 1 Axes>"
      ]
     },
     "metadata": {
      "needs_background": "light"
     },
     "output_type": "display_data"
    }
   ],
   "source": [
    "Y = list(distribution_qualities.values)\n",
    "X = list(distribution_qualities.index)\n",
    "l = round(len(Y)/2)\n",
    "plt.plot(X[1:l],Y[1:l])\n",
    "plt.xlabel(\"User appreciation\")\n",
    "plt.ylabel(\"Number of products\")\n",
    "plt.title(\"User appreciation distribution\")"
   ]
  },
  {
   "cell_type": "markdown",
   "metadata": {
    "scrolled": true
   },
   "source": [
    "Left-skewed distribution, with average 1 by definition (we normalized by user enthousiasm)."
   ]
  },
  {
   "cell_type": "markdown",
   "metadata": {},
   "source": [
    "#### Now let's try to get a \"satisfaction score\" for each aisle"
   ]
  },
  {
   "cell_type": "markdown",
   "metadata": {},
   "source": [
    "We might think about averaging the scores, but some of them may be undefined, and some products might be much more consumed than others."
   ]
  },
  {
   "cell_type": "code",
   "execution_count": 55,
   "metadata": {},
   "outputs": [],
   "source": [
    "# Weight given to each product = number of times it was bought\n",
    "consumptions[\"count_consumptions\"] = 1\n",
    "product_weights = consumptions.groupby(\"product_id\").agg({\"count_consumptions\":\"sum\"})"
   ]
  },
  {
   "cell_type": "code",
   "execution_count": 56,
   "metadata": {},
   "outputs": [],
   "source": [
    "# Columns of qualities_and_weights : product_id || score of the product || number of times it was bought\n",
    "quality_per_product[\"product_id\"] = quality_per_product.index\n",
    "qualities_and_weights = pd.merge(product_weights, quality_per_product, on=\"product_id\")\n",
    "\n",
    "# qualities_joined links the previous dataset with data about products (aisle, department...)\n",
    "qualities_joined = pd.merge(qualities_and_weights, products, on=\"product_id\")\n",
    "qualities_joined[\"sum_appreciations\"]=qualities_joined.appreciation_per_user * qualities_joined.count_consumptions"
   ]
  },
  {
   "cell_type": "code",
   "execution_count": 57,
   "metadata": {},
   "outputs": [
    {
     "data": {
      "text/html": [
       "<div>\n",
       "<style scoped>\n",
       "    .dataframe tbody tr th:only-of-type {\n",
       "        vertical-align: middle;\n",
       "    }\n",
       "\n",
       "    .dataframe tbody tr th {\n",
       "        vertical-align: top;\n",
       "    }\n",
       "\n",
       "    .dataframe thead th {\n",
       "        text-align: right;\n",
       "    }\n",
       "</style>\n",
       "<table border=\"1\" class=\"dataframe\">\n",
       "  <thead>\n",
       "    <tr style=\"text-align: right;\">\n",
       "      <th></th>\n",
       "      <th>product_id</th>\n",
       "      <th>count_consumptions</th>\n",
       "      <th>appreciation_per_user</th>\n",
       "      <th>count</th>\n",
       "      <th>product_name</th>\n",
       "      <th>aisle_id</th>\n",
       "      <th>department_id</th>\n",
       "      <th>sum_appreciations</th>\n",
       "    </tr>\n",
       "  </thead>\n",
       "  <tbody>\n",
       "    <tr>\n",
       "      <td>0</td>\n",
       "      <td>1</td>\n",
       "      <td>1852</td>\n",
       "      <td>0.62</td>\n",
       "      <td>1</td>\n",
       "      <td>Chocolate Sandwich Cookies</td>\n",
       "      <td>61</td>\n",
       "      <td>19</td>\n",
       "      <td>1148.24</td>\n",
       "    </tr>\n",
       "    <tr>\n",
       "      <td>1</td>\n",
       "      <td>2</td>\n",
       "      <td>90</td>\n",
       "      <td>0.10</td>\n",
       "      <td>1</td>\n",
       "      <td>All-Seasons Salt</td>\n",
       "      <td>104</td>\n",
       "      <td>13</td>\n",
       "      <td>9.00</td>\n",
       "    </tr>\n",
       "    <tr>\n",
       "      <td>2</td>\n",
       "      <td>3</td>\n",
       "      <td>277</td>\n",
       "      <td>1.75</td>\n",
       "      <td>1</td>\n",
       "      <td>Robust Golden Unsweetened Oolong Tea</td>\n",
       "      <td>94</td>\n",
       "      <td>7</td>\n",
       "      <td>484.75</td>\n",
       "    </tr>\n",
       "    <tr>\n",
       "      <td>3</td>\n",
       "      <td>4</td>\n",
       "      <td>329</td>\n",
       "      <td>0.96</td>\n",
       "      <td>1</td>\n",
       "      <td>Smart Ones Classic Favorites Mini Rigatoni Wit...</td>\n",
       "      <td>38</td>\n",
       "      <td>1</td>\n",
       "      <td>315.84</td>\n",
       "    </tr>\n",
       "    <tr>\n",
       "      <td>4</td>\n",
       "      <td>5</td>\n",
       "      <td>15</td>\n",
       "      <td>1.46</td>\n",
       "      <td>1</td>\n",
       "      <td>Green Chile Anytime Sauce</td>\n",
       "      <td>5</td>\n",
       "      <td>13</td>\n",
       "      <td>21.90</td>\n",
       "    </tr>\n",
       "  </tbody>\n",
       "</table>\n",
       "</div>"
      ],
      "text/plain": [
       "   product_id  count_consumptions  appreciation_per_user  count  \\\n",
       "0           1                1852                   0.62      1   \n",
       "1           2                  90                   0.10      1   \n",
       "2           3                 277                   1.75      1   \n",
       "3           4                 329                   0.96      1   \n",
       "4           5                  15                   1.46      1   \n",
       "\n",
       "                                        product_name  aisle_id  department_id  \\\n",
       "0                         Chocolate Sandwich Cookies        61             19   \n",
       "1                                   All-Seasons Salt       104             13   \n",
       "2               Robust Golden Unsweetened Oolong Tea        94              7   \n",
       "3  Smart Ones Classic Favorites Mini Rigatoni Wit...        38              1   \n",
       "4                          Green Chile Anytime Sauce         5             13   \n",
       "\n",
       "   sum_appreciations  \n",
       "0            1148.24  \n",
       "1               9.00  \n",
       "2             484.75  \n",
       "3             315.84  \n",
       "4              21.90  "
      ]
     },
     "execution_count": 57,
     "metadata": {},
     "output_type": "execute_result"
    }
   ],
   "source": [
    "qualities_joined.head()"
   ]
  },
  {
   "cell_type": "code",
   "execution_count": 58,
   "metadata": {},
   "outputs": [],
   "source": [
    "# Quality of an aisle = weighted average of scores of its products\n",
    "\n",
    "# Group by aisle remembering sum of scores and total weight\n",
    "aisle_avg_quality = qualities_joined.groupby(\"aisle_id\").agg({\"count_consumptions\":\"sum\",\"sum_appreciations\":\"sum\"})\n",
    "\n",
    "# Make a smart division to obtain weighted average\n",
    "aisle_avg_quality[\"aisle_score\"] = aisle_avg_quality.sum_appreciations / aisle_avg_quality.count_consumptions\n",
    "\n",
    "# Put the name of the aisle with previous data\n",
    "aisle_avg_quality = pd.merge(aisle_avg_quality[[\"aisle_score\",\"count_consumptions\"]], aisles, on=\"aisle_id\")"
   ]
  },
  {
   "cell_type": "markdown",
   "metadata": {},
   "source": [
    "The score is difficult to interpret. Nevertheless, a score bigger than 1 means that the majority of products bought in the aisle are more often re-consumed than the overall average. The smaller the score, the less often consumers tend to re-buy the products of the aisle.\n",
    "\n",
    "The column \"count_consumptions\" may be considered as the reilabilit of the score. The smaller, the less orders were made from this aisle, the more an outlier consumer can biase the score."
   ]
  },
  {
   "cell_type": "code",
   "execution_count": 68,
   "metadata": {},
   "outputs": [
    {
     "data": {
      "text/html": [
       "<div>\n",
       "<style scoped>\n",
       "    .dataframe tbody tr th:only-of-type {\n",
       "        vertical-align: middle;\n",
       "    }\n",
       "\n",
       "    .dataframe tbody tr th {\n",
       "        vertical-align: top;\n",
       "    }\n",
       "\n",
       "    .dataframe thead th {\n",
       "        text-align: right;\n",
       "    }\n",
       "</style>\n",
       "<table border=\"1\" class=\"dataframe\">\n",
       "  <thead>\n",
       "    <tr style=\"text-align: right;\">\n",
       "      <th></th>\n",
       "      <th>aisle_id</th>\n",
       "      <th>aisle_score</th>\n",
       "      <th>count_consumptions</th>\n",
       "      <th>aisle</th>\n",
       "    </tr>\n",
       "  </thead>\n",
       "  <tbody>\n",
       "    <tr>\n",
       "      <td>111</td>\n",
       "      <td>112</td>\n",
       "      <td>1.533503</td>\n",
       "      <td>584834</td>\n",
       "      <td>bread</td>\n",
       "    </tr>\n",
       "    <tr>\n",
       "      <td>76</td>\n",
       "      <td>77</td>\n",
       "      <td>1.553346</td>\n",
       "      <td>357537</td>\n",
       "      <td>soft drinks</td>\n",
       "    </tr>\n",
       "    <tr>\n",
       "      <td>123</td>\n",
       "      <td>124</td>\n",
       "      <td>1.616077</td>\n",
       "      <td>28102</td>\n",
       "      <td>spirits</td>\n",
       "    </tr>\n",
       "    <tr>\n",
       "      <td>52</td>\n",
       "      <td>53</td>\n",
       "      <td>1.688762</td>\n",
       "      <td>318002</td>\n",
       "      <td>cream</td>\n",
       "    </tr>\n",
       "    <tr>\n",
       "      <td>90</td>\n",
       "      <td>91</td>\n",
       "      <td>1.765243</td>\n",
       "      <td>638253</td>\n",
       "      <td>soy lactosefree</td>\n",
       "    </tr>\n",
       "    <tr>\n",
       "      <td>61</td>\n",
       "      <td>62</td>\n",
       "      <td>1.902038</td>\n",
       "      <td>30558</td>\n",
       "      <td>white wines</td>\n",
       "    </tr>\n",
       "    <tr>\n",
       "      <td>85</td>\n",
       "      <td>86</td>\n",
       "      <td>1.947244</td>\n",
       "      <td>452134</td>\n",
       "      <td>eggs</td>\n",
       "    </tr>\n",
       "    <tr>\n",
       "      <td>114</td>\n",
       "      <td>115</td>\n",
       "      <td>2.049796</td>\n",
       "      <td>841533</td>\n",
       "      <td>water seltzer sparkling water</td>\n",
       "    </tr>\n",
       "    <tr>\n",
       "      <td>23</td>\n",
       "      <td>24</td>\n",
       "      <td>2.059617</td>\n",
       "      <td>3642188</td>\n",
       "      <td>fresh fruits</td>\n",
       "    </tr>\n",
       "    <tr>\n",
       "      <td>83</td>\n",
       "      <td>84</td>\n",
       "      <td>2.671205</td>\n",
       "      <td>891015</td>\n",
       "      <td>milk</td>\n",
       "    </tr>\n",
       "  </tbody>\n",
       "</table>\n",
       "</div>"
      ],
      "text/plain": [
       "     aisle_id  aisle_score  count_consumptions                          aisle\n",
       "111       112     1.533503              584834                          bread\n",
       "76         77     1.553346              357537                    soft drinks\n",
       "123       124     1.616077               28102                        spirits\n",
       "52         53     1.688762              318002                          cream\n",
       "90         91     1.765243              638253                soy lactosefree\n",
       "61         62     1.902038               30558                    white wines\n",
       "85         86     1.947244              452134                           eggs\n",
       "114       115     2.049796              841533  water seltzer sparkling water\n",
       "23         24     2.059617             3642188                   fresh fruits\n",
       "83         84     2.671205              891015                           milk"
      ]
     },
     "execution_count": 68,
     "metadata": {},
     "output_type": "execute_result"
    }
   ],
   "source": [
    "# Aisles that contain most \"fidelizing products\"\n",
    "aisle_avg_quality.sort_values(by=\"aisle_score\").tail(10)"
   ]
  },
  {
   "cell_type": "code",
   "execution_count": 60,
   "metadata": {},
   "outputs": [
    {
     "data": {
      "text/html": [
       "<div>\n",
       "<style scoped>\n",
       "    .dataframe tbody tr th:only-of-type {\n",
       "        vertical-align: middle;\n",
       "    }\n",
       "\n",
       "    .dataframe tbody tr th {\n",
       "        vertical-align: top;\n",
       "    }\n",
       "\n",
       "    .dataframe thead th {\n",
       "        text-align: right;\n",
       "    }\n",
       "</style>\n",
       "<table border=\"1\" class=\"dataframe\">\n",
       "  <thead>\n",
       "    <tr style=\"text-align: right;\">\n",
       "      <th></th>\n",
       "      <th>aisle_id</th>\n",
       "      <th>aisle_score</th>\n",
       "      <th>count_consumptions</th>\n",
       "      <th>aisle</th>\n",
       "    </tr>\n",
       "  </thead>\n",
       "  <tbody>\n",
       "    <tr>\n",
       "      <td>103</td>\n",
       "      <td>104</td>\n",
       "      <td>0.142949</td>\n",
       "      <td>212092</td>\n",
       "      <td>spices seasonings</td>\n",
       "    </tr>\n",
       "    <tr>\n",
       "      <td>96</td>\n",
       "      <td>97</td>\n",
       "      <td>0.176162</td>\n",
       "      <td>23692</td>\n",
       "      <td>baking supplies decor</td>\n",
       "    </tr>\n",
       "    <tr>\n",
       "      <td>9</td>\n",
       "      <td>10</td>\n",
       "      <td>0.244027</td>\n",
       "      <td>9172</td>\n",
       "      <td>kitchen supplies</td>\n",
       "    </tr>\n",
       "    <tr>\n",
       "      <td>131</td>\n",
       "      <td>132</td>\n",
       "      <td>0.247883</td>\n",
       "      <td>6168</td>\n",
       "      <td>beauty</td>\n",
       "    </tr>\n",
       "    <tr>\n",
       "      <td>108</td>\n",
       "      <td>109</td>\n",
       "      <td>0.249357</td>\n",
       "      <td>10164</td>\n",
       "      <td>skin care</td>\n",
       "    </tr>\n",
       "    <tr>\n",
       "      <td>117</td>\n",
       "      <td>118</td>\n",
       "      <td>0.249539</td>\n",
       "      <td>10872</td>\n",
       "      <td>first aid</td>\n",
       "    </tr>\n",
       "    <tr>\n",
       "      <td>84</td>\n",
       "      <td>85</td>\n",
       "      <td>0.258972</td>\n",
       "      <td>65946</td>\n",
       "      <td>food storage</td>\n",
       "    </tr>\n",
       "    <tr>\n",
       "      <td>43</td>\n",
       "      <td>44</td>\n",
       "      <td>0.285192</td>\n",
       "      <td>8974</td>\n",
       "      <td>eye ear care</td>\n",
       "    </tr>\n",
       "    <tr>\n",
       "      <td>101</td>\n",
       "      <td>102</td>\n",
       "      <td>0.285979</td>\n",
       "      <td>8581</td>\n",
       "      <td>baby bath body care</td>\n",
       "    </tr>\n",
       "    <tr>\n",
       "      <td>79</td>\n",
       "      <td>80</td>\n",
       "      <td>0.288246</td>\n",
       "      <td>14815</td>\n",
       "      <td>deodorants</td>\n",
       "    </tr>\n",
       "    <tr>\n",
       "      <td>21</td>\n",
       "      <td>22</td>\n",
       "      <td>0.294423</td>\n",
       "      <td>32013</td>\n",
       "      <td>hair care</td>\n",
       "    </tr>\n",
       "    <tr>\n",
       "      <td>24</td>\n",
       "      <td>25</td>\n",
       "      <td>0.307845</td>\n",
       "      <td>64059</td>\n",
       "      <td>soap</td>\n",
       "    </tr>\n",
       "    <tr>\n",
       "      <td>102</td>\n",
       "      <td>103</td>\n",
       "      <td>0.311274</td>\n",
       "      <td>11202</td>\n",
       "      <td>ice cream toppings</td>\n",
       "    </tr>\n",
       "    <tr>\n",
       "      <td>10</td>\n",
       "      <td>11</td>\n",
       "      <td>0.314907</td>\n",
       "      <td>26061</td>\n",
       "      <td>cold flu allergy</td>\n",
       "    </tr>\n",
       "    <tr>\n",
       "      <td>4</td>\n",
       "      <td>5</td>\n",
       "      <td>0.326931</td>\n",
       "      <td>62510</td>\n",
       "      <td>marinades meat preparation</td>\n",
       "    </tr>\n",
       "    <tr>\n",
       "      <td>71</td>\n",
       "      <td>72</td>\n",
       "      <td>0.327189</td>\n",
       "      <td>222049</td>\n",
       "      <td>condiments</td>\n",
       "    </tr>\n",
       "    <tr>\n",
       "      <td>113</td>\n",
       "      <td>114</td>\n",
       "      <td>0.342974</td>\n",
       "      <td>118477</td>\n",
       "      <td>cleaning products</td>\n",
       "    </tr>\n",
       "    <tr>\n",
       "      <td>86</td>\n",
       "      <td>87</td>\n",
       "      <td>0.347103</td>\n",
       "      <td>17514</td>\n",
       "      <td>more household</td>\n",
       "    </tr>\n",
       "    <tr>\n",
       "      <td>16</td>\n",
       "      <td>17</td>\n",
       "      <td>0.348908</td>\n",
       "      <td>326692</td>\n",
       "      <td>baking ingredients</td>\n",
       "    </tr>\n",
       "    <tr>\n",
       "      <td>59</td>\n",
       "      <td>60</td>\n",
       "      <td>0.352537</td>\n",
       "      <td>32081</td>\n",
       "      <td>trash bags liners</td>\n",
       "    </tr>\n",
       "  </tbody>\n",
       "</table>\n",
       "</div>"
      ],
      "text/plain": [
       "     aisle_id  aisle_score  count_consumptions                       aisle\n",
       "103       104     0.142949              212092           spices seasonings\n",
       "96         97     0.176162               23692       baking supplies decor\n",
       "9          10     0.244027                9172            kitchen supplies\n",
       "131       132     0.247883                6168                      beauty\n",
       "108       109     0.249357               10164                   skin care\n",
       "117       118     0.249539               10872                   first aid\n",
       "84         85     0.258972               65946                food storage\n",
       "43         44     0.285192                8974                eye ear care\n",
       "101       102     0.285979                8581         baby bath body care\n",
       "79         80     0.288246               14815                  deodorants\n",
       "21         22     0.294423               32013                   hair care\n",
       "24         25     0.307845               64059                        soap\n",
       "102       103     0.311274               11202          ice cream toppings\n",
       "10         11     0.314907               26061            cold flu allergy\n",
       "4           5     0.326931               62510  marinades meat preparation\n",
       "71         72     0.327189              222049                  condiments\n",
       "113       114     0.342974              118477           cleaning products\n",
       "86         87     0.347103               17514              more household\n",
       "16         17     0.348908              326692          baking ingredients\n",
       "59         60     0.352537               32081           trash bags liners"
      ]
     },
     "execution_count": 60,
     "metadata": {},
     "output_type": "execute_result"
    }
   ],
   "source": [
    "# Aisles that contain least \"fidelizing products\"\n",
    "aisle_avg_quality.sort_values(by=\"aisle_score\").head(20)"
   ]
  },
  {
   "cell_type": "markdown",
   "metadata": {},
   "source": [
    "### Get scores per cluster"
   ]
  },
  {
   "cell_type": "markdown",
   "metadata": {},
   "source": [
    "Approach of cluster fidelity appreciation by products in the aisles"
   ]
  },
  {
   "cell_type": "code",
   "execution_count": 62,
   "metadata": {},
   "outputs": [],
   "source": [
    "array_clusters = np.array(mean_clusters)\n",
    "columns = list(mean_clusters.columns)\n",
    "aisle_scores =np.array(aisle_avg_quality[[\"aisle_score\",\"aisle\"]])"
   ]
  },
  {
   "cell_type": "code",
   "execution_count": 67,
   "metadata": {},
   "outputs": [],
   "source": [
    "aisle_names = list(mean_clusters.columns)\n",
    "\n",
    "def aisle_name_to_id(aisle_name):\n",
    "    for k in range(len(aisles)):\n",
    "        if aisles.values[k][1]==aisle_name :\n",
    "            return k+1\n",
    "    return 1/0\n",
    "\n",
    "def id_to_aisle_name(aisle_id):\n",
    "    return aisles.values[aisle_id-1][1]\n",
    "\n",
    "def sort_scores(scores, aisle_names):\n",
    "    s = np.zeros(len(scores))\n",
    "    for k in range(0, len(scores)):\n",
    "        score, aisle_name = scores[k][0], scores[k][1]\n",
    "        aisle_id = aisle_name_to_id(aisle_name)\n",
    "        s[aisle_id-1] = score\n",
    "    return s\n",
    "\n",
    "sc =sort_scores(aisle_scores, aisle_names)"
   ]
  },
  {
   "cell_type": "code",
   "execution_count": 66,
   "metadata": {},
   "outputs": [
    {
     "data": {
      "text/plain": [
       "array([1.53181251, 0.45394151, 1.25503206, 1.63255259, 1.20895988])"
      ]
     },
     "execution_count": 66,
     "metadata": {},
     "output_type": "execute_result"
    }
   ],
   "source": [
    "# Here is the average naive \"fidelity appealing\" of each cluster, that depends on the products in the aisles \n",
    "# and the weights of each aisle for clusters\n",
    "array_clusters.dot(sc)"
   ]
  },
  {
   "cell_type": "markdown",
   "metadata": {},
   "source": [
    "Approach of cluster fidelity by simple fidelity of the customers"
   ]
  },
  {
   "cell_type": "code",
   "execution_count": 104,
   "metadata": {},
   "outputs": [
    {
     "data": {
      "text/html": [
       "<div>\n",
       "<style scoped>\n",
       "    .dataframe tbody tr th:only-of-type {\n",
       "        vertical-align: middle;\n",
       "    }\n",
       "\n",
       "    .dataframe tbody tr th {\n",
       "        vertical-align: top;\n",
       "    }\n",
       "\n",
       "    .dataframe thead th {\n",
       "        text-align: right;\n",
       "    }\n",
       "</style>\n",
       "<table border=\"1\" class=\"dataframe\">\n",
       "  <thead>\n",
       "    <tr style=\"text-align: right;\">\n",
       "      <th></th>\n",
       "      <th>count_consumptions</th>\n",
       "      <th>user_fidelity</th>\n",
       "      <th>cluster</th>\n",
       "    </tr>\n",
       "    <tr>\n",
       "      <th>user_id</th>\n",
       "      <th></th>\n",
       "      <th></th>\n",
       "      <th></th>\n",
       "    </tr>\n",
       "  </thead>\n",
       "  <tbody>\n",
       "    <tr>\n",
       "      <td>1</td>\n",
       "      <td>59</td>\n",
       "      <td>2.277778</td>\n",
       "      <td>1</td>\n",
       "    </tr>\n",
       "    <tr>\n",
       "      <td>2</td>\n",
       "      <td>195</td>\n",
       "      <td>0.911765</td>\n",
       "      <td>0</td>\n",
       "    </tr>\n",
       "    <tr>\n",
       "      <td>3</td>\n",
       "      <td>88</td>\n",
       "      <td>1.666667</td>\n",
       "      <td>1</td>\n",
       "    </tr>\n",
       "    <tr>\n",
       "      <td>4</td>\n",
       "      <td>18</td>\n",
       "      <td>0.058824</td>\n",
       "      <td>2</td>\n",
       "    </tr>\n",
       "    <tr>\n",
       "      <td>5</td>\n",
       "      <td>37</td>\n",
       "      <td>0.608696</td>\n",
       "      <td>1</td>\n",
       "    </tr>\n",
       "    <tr>\n",
       "      <td>6</td>\n",
       "      <td>14</td>\n",
       "      <td>0.166667</td>\n",
       "      <td>2</td>\n",
       "    </tr>\n",
       "    <tr>\n",
       "      <td>7</td>\n",
       "      <td>206</td>\n",
       "      <td>2.029412</td>\n",
       "      <td>2</td>\n",
       "    </tr>\n",
       "    <tr>\n",
       "      <td>8</td>\n",
       "      <td>49</td>\n",
       "      <td>0.361111</td>\n",
       "      <td>2</td>\n",
       "    </tr>\n",
       "    <tr>\n",
       "      <td>9</td>\n",
       "      <td>76</td>\n",
       "      <td>0.310345</td>\n",
       "      <td>1</td>\n",
       "    </tr>\n",
       "    <tr>\n",
       "      <td>10</td>\n",
       "      <td>143</td>\n",
       "      <td>0.521277</td>\n",
       "      <td>2</td>\n",
       "    </tr>\n",
       "  </tbody>\n",
       "</table>\n",
       "</div>"
      ],
      "text/plain": [
       "         count_consumptions  user_fidelity  cluster\n",
       "user_id                                            \n",
       "1                        59       2.277778        1\n",
       "2                       195       0.911765        0\n",
       "3                        88       1.666667        1\n",
       "4                        18       0.058824        2\n",
       "5                        37       0.608696        1\n",
       "6                        14       0.166667        2\n",
       "7                       206       2.029412        2\n",
       "8                        49       0.361111        2\n",
       "9                        76       0.310345        1\n",
       "10                      143       0.521277        2"
      ]
     },
     "execution_count": 104,
     "metadata": {},
     "output_type": "execute_result"
    }
   ],
   "source": [
    "# The weight of each user is its number of consumptions\n",
    "user_weight = consumptions[[\"user_id\",\"order_id\",\"count_consumptions\"]]\n",
    "user_weight = user_weight.groupby(\"user_id\").agg({\"count_consumptions\":\"sum\"})\n",
    "user_weight_fidelity = pd.merge(user_weight, fidelity_per_user, on = \"user_id\")\n",
    "user_weight_fidelity[\"cluster\"]=kmeans.labels_\n",
    "user_weight_fidelity.head(10)"
   ]
  },
  {
   "cell_type": "code",
   "execution_count": 105,
   "metadata": {},
   "outputs": [
    {
     "data": {
      "text/html": [
       "<div>\n",
       "<style scoped>\n",
       "    .dataframe tbody tr th:only-of-type {\n",
       "        vertical-align: middle;\n",
       "    }\n",
       "\n",
       "    .dataframe tbody tr th {\n",
       "        vertical-align: top;\n",
       "    }\n",
       "\n",
       "    .dataframe thead th {\n",
       "        text-align: right;\n",
       "    }\n",
       "</style>\n",
       "<table border=\"1\" class=\"dataframe\">\n",
       "  <thead>\n",
       "    <tr style=\"text-align: right;\">\n",
       "      <th></th>\n",
       "      <th>count_consumptions</th>\n",
       "      <th>sum_fidelity</th>\n",
       "      <th>average_fidelity</th>\n",
       "    </tr>\n",
       "    <tr>\n",
       "      <th>cluster</th>\n",
       "      <th></th>\n",
       "      <th></th>\n",
       "      <th></th>\n",
       "    </tr>\n",
       "  </thead>\n",
       "  <tbody>\n",
       "    <tr>\n",
       "      <td>0</td>\n",
       "      <td>2193110</td>\n",
       "      <td>4.748108e+06</td>\n",
       "      <td>2.165011</td>\n",
       "    </tr>\n",
       "    <tr>\n",
       "      <td>1</td>\n",
       "      <td>14162024</td>\n",
       "      <td>2.999993e+07</td>\n",
       "      <td>2.118336</td>\n",
       "    </tr>\n",
       "    <tr>\n",
       "      <td>2</td>\n",
       "      <td>10542295</td>\n",
       "      <td>2.241777e+07</td>\n",
       "      <td>2.126460</td>\n",
       "    </tr>\n",
       "    <tr>\n",
       "      <td>3</td>\n",
       "      <td>596776</td>\n",
       "      <td>1.314166e+06</td>\n",
       "      <td>2.202110</td>\n",
       "    </tr>\n",
       "    <tr>\n",
       "      <td>4</td>\n",
       "      <td>4940284</td>\n",
       "      <td>1.048428e+07</td>\n",
       "      <td>2.122203</td>\n",
       "    </tr>\n",
       "  </tbody>\n",
       "</table>\n",
       "</div>"
      ],
      "text/plain": [
       "         count_consumptions  sum_fidelity  average_fidelity\n",
       "cluster                                                    \n",
       "0                   2193110  4.748108e+06          2.165011\n",
       "1                  14162024  2.999993e+07          2.118336\n",
       "2                  10542295  2.241777e+07          2.126460\n",
       "3                    596776  1.314166e+06          2.202110\n",
       "4                   4940284  1.048428e+07          2.122203"
      ]
     },
     "execution_count": 105,
     "metadata": {},
     "output_type": "execute_result"
    }
   ],
   "source": [
    "user_weight_fidelity[\"sum_fidelity\"]=user_weight_fidelity.count_consumptions * user_weight_fidelity.user_fidelity\n",
    "cluster_fidelity = user_weight_fidelity.groupby(\"cluster\").agg({\"count_consumptions\":\"sum\",\"sum_fidelity\":\"sum\"})\n",
    "cluster_fidelity[\"average_fidelity\"] = cluster_fidelity.sum_fidelity / cluster_fidelity.count_consumptions\n",
    "cluster_fidelity"
   ]
  },
  {
   "cell_type": "markdown",
   "metadata": {},
   "source": [
    "Sadness, disappointment, nothing interesting here :("
   ]
  },
  {
   "cell_type": "code",
   "execution_count": null,
   "metadata": {},
   "outputs": [],
   "source": []
  }
 ],
 "metadata": {
  "kernelspec": {
   "display_name": "Python 3",
   "language": "python",
   "name": "python3"
  },
  "language_info": {
   "codemirror_mode": {
    "name": "ipython",
    "version": 3
   },
   "file_extension": ".py",
   "mimetype": "text/x-python",
   "name": "python",
   "nbconvert_exporter": "python",
   "pygments_lexer": "ipython3",
   "version": "3.6.9"
  }
 },
 "nbformat": 4,
 "nbformat_minor": 4
}
