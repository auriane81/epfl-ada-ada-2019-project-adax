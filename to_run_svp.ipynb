{
 "cells": [
  {
   "cell_type": "code",
   "execution_count": 1,
   "metadata": {},
   "outputs": [],
   "source": [
    "import pandas as pd\n",
    "import numpy as np\n",
    "import matplotlib.pyplot as plt\n",
    "import copy\n",
    "import pickle"
   ]
  },
  {
   "cell_type": "code",
   "execution_count": 2,
   "metadata": {},
   "outputs": [],
   "source": [
    "orders = pd.read_csv('data/orders.csv', sep=',')\n",
    "products = pd.read_csv('data/products.csv', sep=',')\n",
    "history = pd.read_csv('data/order_products__prior.csv', sep=',')"
   ]
  },
  {
   "cell_type": "markdown",
   "metadata": {},
   "source": [
    "## Different vectorizations"
   ]
  },
  {
   "cell_type": "code",
   "execution_count": 3,
   "metadata": {},
   "outputs": [],
   "source": [
    "orders_small = orders[[\"order_id\",\"user_id\"]].sort_values(by='order_id')#.head(105629)\n",
    "history_small = history[[\"order_id\",\"product_id\"]].sort_values(by='order_id')#.head(1000000)"
   ]
  },
  {
   "cell_type": "code",
   "execution_count": 4,
   "metadata": {},
   "outputs": [],
   "source": [
    "consumptions = pd.merge(history_small, orders_small, on=\"order_id\")[['user_id','product_id']]"
   ]
  },
  {
   "cell_type": "code",
   "execution_count": 5,
   "metadata": {},
   "outputs": [
    {
     "data": {
      "text/html": [
       "<div>\n",
       "<style scoped>\n",
       "    .dataframe tbody tr th:only-of-type {\n",
       "        vertical-align: middle;\n",
       "    }\n",
       "\n",
       "    .dataframe tbody tr th {\n",
       "        vertical-align: top;\n",
       "    }\n",
       "\n",
       "    .dataframe thead th {\n",
       "        text-align: right;\n",
       "    }\n",
       "</style>\n",
       "<table border=\"1\" class=\"dataframe\">\n",
       "  <thead>\n",
       "    <tr style=\"text-align: right;\">\n",
       "      <th></th>\n",
       "      <th>user_id</th>\n",
       "      <th>product_id</th>\n",
       "      <th>aisle_id</th>\n",
       "      <th>department_id</th>\n",
       "    </tr>\n",
       "  </thead>\n",
       "  <tbody>\n",
       "    <tr>\n",
       "      <th>0</th>\n",
       "      <td>202279</td>\n",
       "      <td>33120</td>\n",
       "      <td>86</td>\n",
       "      <td>16</td>\n",
       "    </tr>\n",
       "    <tr>\n",
       "      <th>1</th>\n",
       "      <td>153404</td>\n",
       "      <td>33120</td>\n",
       "      <td>86</td>\n",
       "      <td>16</td>\n",
       "    </tr>\n",
       "    <tr>\n",
       "      <th>2</th>\n",
       "      <td>23750</td>\n",
       "      <td>33120</td>\n",
       "      <td>86</td>\n",
       "      <td>16</td>\n",
       "    </tr>\n",
       "    <tr>\n",
       "      <th>3</th>\n",
       "      <td>58707</td>\n",
       "      <td>33120</td>\n",
       "      <td>86</td>\n",
       "      <td>16</td>\n",
       "    </tr>\n",
       "    <tr>\n",
       "      <th>4</th>\n",
       "      <td>166654</td>\n",
       "      <td>33120</td>\n",
       "      <td>86</td>\n",
       "      <td>16</td>\n",
       "    </tr>\n",
       "  </tbody>\n",
       "</table>\n",
       "</div>"
      ],
      "text/plain": [
       "   user_id  product_id  aisle_id  department_id\n",
       "0   202279       33120        86             16\n",
       "1   153404       33120        86             16\n",
       "2    23750       33120        86             16\n",
       "3    58707       33120        86             16\n",
       "4   166654       33120        86             16"
      ]
     },
     "execution_count": 5,
     "metadata": {},
     "output_type": "execute_result"
    }
   ],
   "source": [
    "consumptions_with_details = pd.merge(consumptions,products, on=\"product_id\")[['user_id','product_id','aisle_id','department_id']]\n",
    "consumptions_with_details.head()"
   ]
  },
  {
   "cell_type": "code",
   "execution_count": 6,
   "metadata": {},
   "outputs": [
    {
     "name": "stdout",
     "output_type": "stream",
     "text": [
      "The greatest user id is 206209.\n"
     ]
    }
   ],
   "source": [
    "max_user_id = max(consumptions_with_details[\"user_id\"])\n",
    "print('The greatest user id is '+str(max_user_id)+\".\")"
   ]
  },
  {
   "cell_type": "code",
   "execution_count": 7,
   "metadata": {},
   "outputs": [],
   "source": [
    "# We split the dataframe into 2 smaller ones, because the kernel crashes at the next step if we keep the big one\n",
    "consumptions_1 = consumptions_with_details[consumptions_with_details.user_id<max_user_id//2]\n",
    "consumptions_2 = consumptions_with_details[consumptions_with_details.user_id>=max_user_id//2]\n",
    "assert(len(consumptions_with_details)==len(consumptions_1)+len(consumptions_2))"
   ]
  },
  {
   "cell_type": "markdown",
   "metadata": {},
   "source": [
    "### A - Set of aisles with total number products bought in the aisle"
   ]
  },
  {
   "cell_type": "code",
   "execution_count": 8,
   "metadata": {},
   "outputs": [
    {
     "name": "stdout",
     "output_type": "stream",
     "text": [
      "The greatest aisle id is 134.\n"
     ]
    }
   ],
   "source": [
    "max_aisle_id = max(consumptions_with_details.aisle_id)\n",
    "print(\"The greatest aisle id is \"+str(max_aisle_id)+\".\")"
   ]
  },
  {
   "cell_type": "code",
   "execution_count": 9,
   "metadata": {},
   "outputs": [
    {
     "data": {
      "text/html": [
       "<div>\n",
       "<style scoped>\n",
       "    .dataframe tbody tr th:only-of-type {\n",
       "        vertical-align: middle;\n",
       "    }\n",
       "\n",
       "    .dataframe tbody tr th {\n",
       "        vertical-align: top;\n",
       "    }\n",
       "\n",
       "    .dataframe thead th {\n",
       "        text-align: right;\n",
       "    }\n",
       "</style>\n",
       "<table border=\"1\" class=\"dataframe\">\n",
       "  <thead>\n",
       "    <tr style=\"text-align: right;\">\n",
       "      <th></th>\n",
       "      <th></th>\n",
       "      <th>product_id</th>\n",
       "    </tr>\n",
       "    <tr>\n",
       "      <th>user_id</th>\n",
       "      <th>aisle_id</th>\n",
       "      <th></th>\n",
       "    </tr>\n",
       "  </thead>\n",
       "  <tbody>\n",
       "    <tr>\n",
       "      <th rowspan=\"5\" valign=\"top\">1</th>\n",
       "      <th>21</th>\n",
       "      <td>8</td>\n",
       "    </tr>\n",
       "    <tr>\n",
       "      <th>23</th>\n",
       "      <td>12</td>\n",
       "    </tr>\n",
       "    <tr>\n",
       "      <th>24</th>\n",
       "      <td>5</td>\n",
       "    </tr>\n",
       "    <tr>\n",
       "      <th>45</th>\n",
       "      <td>1</td>\n",
       "    </tr>\n",
       "    <tr>\n",
       "      <th>53</th>\n",
       "      <td>2</td>\n",
       "    </tr>\n",
       "  </tbody>\n",
       "</table>\n",
       "</div>"
      ],
      "text/plain": [
       "                  product_id\n",
       "user_id aisle_id            \n",
       "1       21                 8\n",
       "        23                12\n",
       "        24                 5\n",
       "        45                 1\n",
       "        53                 2"
      ]
     },
     "execution_count": 9,
     "metadata": {},
     "output_type": "execute_result"
    }
   ],
   "source": [
    "consumption_aisle_1 = consumptions_1[[\"user_id\",\"product_id\", \"aisle_id\"]].groupby(['user_id','aisle_id']).agg({'product_id': \"count\"})\n",
    "consumption_aisle_2 = consumptions_2[[\"user_id\",\"product_id\", \"aisle_id\"]].groupby(['user_id','aisle_id']).agg({'product_id': \"count\"})\n",
    "consumption_aisle_1.head()"
   ]
  },
  {
   "cell_type": "code",
   "execution_count": 10,
   "metadata": {},
   "outputs": [],
   "source": [
    "def init_matrix_aisle():\n",
    "    np1 = []\n",
    "    for w in range(max_user_id+1):\n",
    "        np1.append([0 for x in range(max_aisle_id+1)])\n",
    "    return np1\n",
    "\n",
    "def to_tab_vect(consumption,mat=init_matrix_aisle()):\n",
    "    '''Returns the matrix M such that M[user][aisle] = number of distinct products bought by user in aisle'''\n",
    "    n=0\n",
    "    n_pairs = len(consumption)\n",
    "    for (user, aisle) in consumption.index :\n",
    "        n+=1\n",
    "        mat[user][aisle] = consumption.product_id[(user, aisle)]\n",
    "        if n%250000==0 : print(str(round(100*(n/n_pairs),1))+ \"% processed\")\n",
    "    print('Done !')\n",
    "    return mat"
   ]
  },
  {
   "cell_type": "code",
   "execution_count": 11,
   "metadata": {},
   "outputs": [
    {
     "name": "stdout",
     "output_type": "stream",
     "text": [
      "8.7% processed\n",
      "17.4% processed\n",
      "26.1% processed\n",
      "34.8% processed\n",
      "43.5% processed\n",
      "52.2% processed\n",
      "60.9% processed\n",
      "69.6% processed\n",
      "78.3% processed\n",
      "87.0% processed\n",
      "95.7% processed\n",
      "Done !\n",
      "8.8% processed\n",
      "17.5% processed\n",
      "26.3% processed\n",
      "35.0% processed\n",
      "43.8% processed\n",
      "52.5% processed\n",
      "61.3% processed\n",
      "70.0% processed\n",
      "78.8% processed\n",
      "87.5% processed\n",
      "96.3% processed\n",
      "Done !\n"
     ]
    }
   ],
   "source": [
    "user_matrix = to_tab_vect(consumption_aisle_1)\n",
    "user_matrix = to_tab_vect(consumption_aisle_2, user_matrix)"
   ]
  },
  {
   "cell_type": "markdown",
   "metadata": {},
   "source": [
    "### B - Clustering and evaluation of the best number of clusters"
   ]
  },
  {
   "cell_type": "code",
   "execution_count": 14,
   "metadata": {},
   "outputs": [
    {
     "data": {
      "image/png": "[encoded data removed]",
      "text/plain": [
       "<Figure size 432x288 with 1 Axes>"
      ]
     },
     "metadata": {
      "needs_background": "light"
     },
     "output_type": "display_data"
    }
   ],
   "source": [
    "wcss=[]\n",
    "for i in range(1, 7):\n",
    "    kmeans = KMeans(n_clusters=i, random_state=0)\n",
    "    kmeans.fit(user_matrix)\n",
    "    wcss.append(kmeans.inertia_)\n",
    "plt.plot(range(1, 7), wcss)\n",
    "plt.title('Elbow Method')\n",
    "plt.xlabel('Number of clusters')\n",
    "plt.ylabel('WCSS')\n",
    "plt.show()"
   ]
  },
  {
   "cell_type": "code",
   "execution_count": 13,
   "metadata": {},
   "outputs": [],
   "source": [
    "from sklearn.cluster import KMeans"
   ]
  },
  {
   "cell_type": "code",
   "execution_count": 21,
   "metadata": {},
   "outputs": [],
   "source": [
    "pickle.dump(user_matrix,open('matrix.p','wb'))"
   ]
  },
  {
   "cell_type": "code",
   "execution_count": null,
   "metadata": {},
   "outputs": [],
   "source": []
  }
 ],
 "metadata": {
  "kernelspec": {
   "display_name": "Python 3",
   "language": "python",
   "name": "python3"
  },
  "language_info": {
   "codemirror_mode": {
    "name": "ipython",
    "version": 3
   },
   "file_extension": ".py",
   "mimetype": "text/x-python",
   "name": "python",
   "nbconvert_exporter": "python",
   "pygments_lexer": "ipython3",
   "version": "3.7.5"
  }
 },
 "nbformat": 4,
 "nbformat_minor": 4
}
