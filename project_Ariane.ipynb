{
 "cells": [
  {
   "cell_type": "code",
   "execution_count": 1,
   "metadata": {},
   "outputs": [],
   "source": [
    "%matplotlib inline\n",
    "import pandas as pd\n",
    "import numpy as np\n",
    "import re\n",
    "import matplotlib.pyplot as plt\n",
    "import gzip\n",
    "import copy\n",
    "from pyspark.sql.functions import pandas_udf, PandasUDFType\n",
    "from pyspark.sql.functions import udf\n",
    "from pyspark.sql.types import LongType\n",
    "from pyspark.sql.functions import split"
   ]
  },
  {
   "cell_type": "code",
   "execution_count": 2,
   "metadata": {},
   "outputs": [],
   "source": [
    "import pyspark.sql as sql\n",
    "import pyspark.sql.functions as F\n",
    "from pyspark import SparkContext"
   ]
  },
  {
   "cell_type": "code",
   "execution_count": 3,
   "metadata": {},
   "outputs": [],
   "source": [
    "import os\n",
    "\n",
    "def reload(filename, df, force_rewrite=False):\n",
    "    '''Returns the dataframe stored in filename (located in data/saved), if it exists. Else, it writes the dataframe in filename and immediately reads it.'''\n",
    "    \"\"\"filename = os.path.join('data', 'saved', filename)\n",
    "    if os.path.exists(filename) and not force_rewrite :\n",
    "        return spark.read.parquet(filename)\n",
    "    else :\n",
    "        df.write.mode('overwrite').parquet(filename)\n",
    "        return spark.read.parquet(filename)\"\"\"\n",
    "    return df\n",
    "\n",
    "def reload2(filename, df, force_rewrite=False):\n",
    "    '''Returns the dataframe stored in filename (located in data/saved), if it exists. Else, it writes the dataframe in filename and immediately reads it.'''\n",
    "    filename = os.path.join('data', 'saved', '2', filename)\n",
    "    if os.path.exists(filename) and not force_rewrite :\n",
    "        return spark.read.parquet(filename)\n",
    "    else :\n",
    "        df.write.mode('overwrite').parquet(filename)\n",
    "        return spark.read.parquet(filename)\n",
    "    "
   ]
  },
  {
   "cell_type": "code",
   "execution_count": 4,
   "metadata": {},
   "outputs": [],
   "source": [
    "spark = sql.SparkSession.builder.getOrCreate()\n",
    "sc = spark.sparkContext"
   ]
  },
  {
   "cell_type": "markdown",
   "metadata": {},
   "source": [
    "# Import the datasets "
   ]
  },
  {
   "cell_type": "markdown",
   "metadata": {},
   "source": [
    "**Instacart datasets** (provided) : https://www.instacart.com/datasets/grocery-shopping-2017 . After loading the datasets, we verified if there were any missing values"
   ]
  },
  {
   "cell_type": "code",
   "execution_count": 4,
   "metadata": {},
   "outputs": [
    {
     "data": {
      "text/html": [
       "<div>\n",
       "<style scoped>\n",
       "    .dataframe tbody tr th:only-of-type {\n",
       "        vertical-align: middle;\n",
       "    }\n",
       "\n",
       "    .dataframe tbody tr th {\n",
       "        vertical-align: top;\n",
       "    }\n",
       "\n",
       "    .dataframe thead th {\n",
       "        text-align: right;\n",
       "    }\n",
       "</style>\n",
       "<table border=\"1\" class=\"dataframe\">\n",
       "  <thead>\n",
       "    <tr style=\"text-align: right;\">\n",
       "      <th></th>\n",
       "      <th>product_id</th>\n",
       "      <th>product_name</th>\n",
       "      <th>aisle_id</th>\n",
       "      <th>department_id</th>\n",
       "    </tr>\n",
       "  </thead>\n",
       "  <tbody>\n",
       "    <tr>\n",
       "      <td>0</td>\n",
       "      <td>1</td>\n",
       "      <td>Chocolate Sandwich Cookies</td>\n",
       "      <td>61</td>\n",
       "      <td>19</td>\n",
       "    </tr>\n",
       "    <tr>\n",
       "      <td>1</td>\n",
       "      <td>2</td>\n",
       "      <td>All-Seasons Salt</td>\n",
       "      <td>104</td>\n",
       "      <td>13</td>\n",
       "    </tr>\n",
       "    <tr>\n",
       "      <td>2</td>\n",
       "      <td>3</td>\n",
       "      <td>Robust Golden Unsweetened Oolong Tea</td>\n",
       "      <td>94</td>\n",
       "      <td>7</td>\n",
       "    </tr>\n",
       "    <tr>\n",
       "      <td>3</td>\n",
       "      <td>4</td>\n",
       "      <td>Smart Ones Classic Favorites Mini Rigatoni Wit...</td>\n",
       "      <td>38</td>\n",
       "      <td>1</td>\n",
       "    </tr>\n",
       "    <tr>\n",
       "      <td>4</td>\n",
       "      <td>5</td>\n",
       "      <td>Green Chile Anytime Sauce</td>\n",
       "      <td>5</td>\n",
       "      <td>13</td>\n",
       "    </tr>\n",
       "  </tbody>\n",
       "</table>\n",
       "</div>"
      ],
      "text/plain": [
       "   product_id                                       product_name  aisle_id  \\\n",
       "0           1                         Chocolate Sandwich Cookies        61   \n",
       "1           2                                   All-Seasons Salt       104   \n",
       "2           3               Robust Golden Unsweetened Oolong Tea        94   \n",
       "3           4  Smart Ones Classic Favorites Mini Rigatoni Wit...        38   \n",
       "4           5                          Green Chile Anytime Sauce         5   \n",
       "\n",
       "   department_id  \n",
       "0             19  \n",
       "1             13  \n",
       "2              7  \n",
       "3              1  \n",
       "4             13  "
      ]
     },
     "execution_count": 4,
     "metadata": {},
     "output_type": "execute_result"
    }
   ],
   "source": [
    "products = pd.read_csv('data/products.csv', sep=',')\n",
    "products.head()"
   ]
  },
  {
   "cell_type": "code",
   "execution_count": 5,
   "metadata": {},
   "outputs": [
    {
     "data": {
      "text/plain": [
       "False"
      ]
     },
     "execution_count": 5,
     "metadata": {},
     "output_type": "execute_result"
    }
   ],
   "source": [
    "products.isnull().values.any()"
   ]
  },
  {
   "cell_type": "code",
   "execution_count": 6,
   "metadata": {},
   "outputs": [
    {
     "data": {
      "text/html": [
       "<div>\n",
       "<style scoped>\n",
       "    .dataframe tbody tr th:only-of-type {\n",
       "        vertical-align: middle;\n",
       "    }\n",
       "\n",
       "    .dataframe tbody tr th {\n",
       "        vertical-align: top;\n",
       "    }\n",
       "\n",
       "    .dataframe thead th {\n",
       "        text-align: right;\n",
       "    }\n",
       "</style>\n",
       "<table border=\"1\" class=\"dataframe\">\n",
       "  <thead>\n",
       "    <tr style=\"text-align: right;\">\n",
       "      <th></th>\n",
       "      <th>aisle_id</th>\n",
       "      <th>aisle</th>\n",
       "    </tr>\n",
       "  </thead>\n",
       "  <tbody>\n",
       "    <tr>\n",
       "      <td>0</td>\n",
       "      <td>1</td>\n",
       "      <td>prepared soups salads</td>\n",
       "    </tr>\n",
       "    <tr>\n",
       "      <td>1</td>\n",
       "      <td>2</td>\n",
       "      <td>specialty cheeses</td>\n",
       "    </tr>\n",
       "    <tr>\n",
       "      <td>2</td>\n",
       "      <td>3</td>\n",
       "      <td>energy granola bars</td>\n",
       "    </tr>\n",
       "    <tr>\n",
       "      <td>3</td>\n",
       "      <td>4</td>\n",
       "      <td>instant foods</td>\n",
       "    </tr>\n",
       "    <tr>\n",
       "      <td>4</td>\n",
       "      <td>5</td>\n",
       "      <td>marinades meat preparation</td>\n",
       "    </tr>\n",
       "  </tbody>\n",
       "</table>\n",
       "</div>"
      ],
      "text/plain": [
       "   aisle_id                       aisle\n",
       "0         1       prepared soups salads\n",
       "1         2           specialty cheeses\n",
       "2         3         energy granola bars\n",
       "3         4               instant foods\n",
       "4         5  marinades meat preparation"
      ]
     },
     "execution_count": 6,
     "metadata": {},
     "output_type": "execute_result"
    }
   ],
   "source": [
    "aisles = pd.read_csv('data/aisles.csv', sep=',')\n",
    "aisles.head()"
   ]
  },
  {
   "cell_type": "code",
   "execution_count": 7,
   "metadata": {},
   "outputs": [
    {
     "data": {
      "text/plain": [
       "False"
      ]
     },
     "execution_count": 7,
     "metadata": {},
     "output_type": "execute_result"
    }
   ],
   "source": [
    "aisles.isnull().values.any()"
   ]
  },
  {
   "cell_type": "code",
   "execution_count": 8,
   "metadata": {},
   "outputs": [
    {
     "data": {
      "text/html": [
       "<div>\n",
       "<style scoped>\n",
       "    .dataframe tbody tr th:only-of-type {\n",
       "        vertical-align: middle;\n",
       "    }\n",
       "\n",
       "    .dataframe tbody tr th {\n",
       "        vertical-align: top;\n",
       "    }\n",
       "\n",
       "    .dataframe thead th {\n",
       "        text-align: right;\n",
       "    }\n",
       "</style>\n",
       "<table border=\"1\" class=\"dataframe\">\n",
       "  <thead>\n",
       "    <tr style=\"text-align: right;\">\n",
       "      <th></th>\n",
       "      <th>department_id</th>\n",
       "      <th>department</th>\n",
       "    </tr>\n",
       "  </thead>\n",
       "  <tbody>\n",
       "    <tr>\n",
       "      <td>0</td>\n",
       "      <td>1</td>\n",
       "      <td>frozen</td>\n",
       "    </tr>\n",
       "    <tr>\n",
       "      <td>1</td>\n",
       "      <td>2</td>\n",
       "      <td>other</td>\n",
       "    </tr>\n",
       "    <tr>\n",
       "      <td>2</td>\n",
       "      <td>3</td>\n",
       "      <td>bakery</td>\n",
       "    </tr>\n",
       "    <tr>\n",
       "      <td>3</td>\n",
       "      <td>4</td>\n",
       "      <td>produce</td>\n",
       "    </tr>\n",
       "    <tr>\n",
       "      <td>4</td>\n",
       "      <td>5</td>\n",
       "      <td>alcohol</td>\n",
       "    </tr>\n",
       "  </tbody>\n",
       "</table>\n",
       "</div>"
      ],
      "text/plain": [
       "   department_id department\n",
       "0              1     frozen\n",
       "1              2      other\n",
       "2              3     bakery\n",
       "3              4    produce\n",
       "4              5    alcohol"
      ]
     },
     "execution_count": 8,
     "metadata": {},
     "output_type": "execute_result"
    }
   ],
   "source": [
    "departments = pd.read_csv('data/departments.csv', sep=',')\n",
    "departments.head()"
   ]
  },
  {
   "cell_type": "code",
   "execution_count": 9,
   "metadata": {},
   "outputs": [
    {
     "data": {
      "text/plain": [
       "False"
      ]
     },
     "execution_count": 9,
     "metadata": {},
     "output_type": "execute_result"
    }
   ],
   "source": [
    "departments.isnull().values.any()"
   ]
  },
  {
   "cell_type": "code",
   "execution_count": 10,
   "metadata": {},
   "outputs": [
    {
     "data": {
      "text/html": [
       "<div>\n",
       "<style scoped>\n",
       "    .dataframe tbody tr th:only-of-type {\n",
       "        vertical-align: middle;\n",
       "    }\n",
       "\n",
       "    .dataframe tbody tr th {\n",
       "        vertical-align: top;\n",
       "    }\n",
       "\n",
       "    .dataframe thead th {\n",
       "        text-align: right;\n",
       "    }\n",
       "</style>\n",
       "<table border=\"1\" class=\"dataframe\">\n",
       "  <thead>\n",
       "    <tr style=\"text-align: right;\">\n",
       "      <th></th>\n",
       "      <th>order_id</th>\n",
       "      <th>user_id</th>\n",
       "      <th>eval_set</th>\n",
       "      <th>order_number</th>\n",
       "      <th>order_dow</th>\n",
       "      <th>order_hour_of_day</th>\n",
       "      <th>days_since_prior_order</th>\n",
       "    </tr>\n",
       "  </thead>\n",
       "  <tbody>\n",
       "    <tr>\n",
       "      <td>0</td>\n",
       "      <td>2539329</td>\n",
       "      <td>1</td>\n",
       "      <td>prior</td>\n",
       "      <td>1</td>\n",
       "      <td>2</td>\n",
       "      <td>8</td>\n",
       "      <td>NaN</td>\n",
       "    </tr>\n",
       "    <tr>\n",
       "      <td>1</td>\n",
       "      <td>2398795</td>\n",
       "      <td>1</td>\n",
       "      <td>prior</td>\n",
       "      <td>2</td>\n",
       "      <td>3</td>\n",
       "      <td>7</td>\n",
       "      <td>15.0</td>\n",
       "    </tr>\n",
       "    <tr>\n",
       "      <td>2</td>\n",
       "      <td>473747</td>\n",
       "      <td>1</td>\n",
       "      <td>prior</td>\n",
       "      <td>3</td>\n",
       "      <td>3</td>\n",
       "      <td>12</td>\n",
       "      <td>21.0</td>\n",
       "    </tr>\n",
       "    <tr>\n",
       "      <td>3</td>\n",
       "      <td>2254736</td>\n",
       "      <td>1</td>\n",
       "      <td>prior</td>\n",
       "      <td>4</td>\n",
       "      <td>4</td>\n",
       "      <td>7</td>\n",
       "      <td>29.0</td>\n",
       "    </tr>\n",
       "    <tr>\n",
       "      <td>4</td>\n",
       "      <td>431534</td>\n",
       "      <td>1</td>\n",
       "      <td>prior</td>\n",
       "      <td>5</td>\n",
       "      <td>4</td>\n",
       "      <td>15</td>\n",
       "      <td>28.0</td>\n",
       "    </tr>\n",
       "  </tbody>\n",
       "</table>\n",
       "</div>"
      ],
      "text/plain": [
       "   order_id  user_id eval_set  order_number  order_dow  order_hour_of_day  \\\n",
       "0   2539329        1    prior             1          2                  8   \n",
       "1   2398795        1    prior             2          3                  7   \n",
       "2    473747        1    prior             3          3                 12   \n",
       "3   2254736        1    prior             4          4                  7   \n",
       "4    431534        1    prior             5          4                 15   \n",
       "\n",
       "   days_since_prior_order  \n",
       "0                     NaN  \n",
       "1                    15.0  \n",
       "2                    21.0  \n",
       "3                    29.0  \n",
       "4                    28.0  "
      ]
     },
     "execution_count": 10,
     "metadata": {},
     "output_type": "execute_result"
    }
   ],
   "source": [
    "orders = pd.read_csv('data/orders.csv', sep=',')\n",
    "orders.head()"
   ]
  },
  {
   "cell_type": "code",
   "execution_count": 11,
   "metadata": {},
   "outputs": [
    {
     "data": {
      "text/plain": [
       "True"
      ]
     },
     "execution_count": 11,
     "metadata": {},
     "output_type": "execute_result"
    }
   ],
   "source": [
    "orders.isnull().values.sum()==orders['days_since_prior_order'].isnull().values.sum()"
   ]
  },
  {
   "cell_type": "markdown",
   "metadata": {},
   "source": [
    "The missing values in _orders_ correspond to the date of \"previous order\", when it happens to be the first one."
   ]
  },
  {
   "cell_type": "code",
   "execution_count": 12,
   "metadata": {},
   "outputs": [
    {
     "data": {
      "text/html": [
       "<div>\n",
       "<style scoped>\n",
       "    .dataframe tbody tr th:only-of-type {\n",
       "        vertical-align: middle;\n",
       "    }\n",
       "\n",
       "    .dataframe tbody tr th {\n",
       "        vertical-align: top;\n",
       "    }\n",
       "\n",
       "    .dataframe thead th {\n",
       "        text-align: right;\n",
       "    }\n",
       "</style>\n",
       "<table border=\"1\" class=\"dataframe\">\n",
       "  <thead>\n",
       "    <tr style=\"text-align: right;\">\n",
       "      <th></th>\n",
       "      <th>order_id</th>\n",
       "      <th>product_id</th>\n",
       "      <th>add_to_cart_order</th>\n",
       "      <th>reordered</th>\n",
       "    </tr>\n",
       "  </thead>\n",
       "  <tbody>\n",
       "    <tr>\n",
       "      <td>0</td>\n",
       "      <td>2</td>\n",
       "      <td>33120</td>\n",
       "      <td>1</td>\n",
       "      <td>1</td>\n",
       "    </tr>\n",
       "    <tr>\n",
       "      <td>1</td>\n",
       "      <td>2</td>\n",
       "      <td>28985</td>\n",
       "      <td>2</td>\n",
       "      <td>1</td>\n",
       "    </tr>\n",
       "    <tr>\n",
       "      <td>2</td>\n",
       "      <td>2</td>\n",
       "      <td>9327</td>\n",
       "      <td>3</td>\n",
       "      <td>0</td>\n",
       "    </tr>\n",
       "    <tr>\n",
       "      <td>3</td>\n",
       "      <td>2</td>\n",
       "      <td>45918</td>\n",
       "      <td>4</td>\n",
       "      <td>1</td>\n",
       "    </tr>\n",
       "    <tr>\n",
       "      <td>4</td>\n",
       "      <td>2</td>\n",
       "      <td>30035</td>\n",
       "      <td>5</td>\n",
       "      <td>0</td>\n",
       "    </tr>\n",
       "  </tbody>\n",
       "</table>\n",
       "</div>"
      ],
      "text/plain": [
       "   order_id  product_id  add_to_cart_order  reordered\n",
       "0         2       33120                  1          1\n",
       "1         2       28985                  2          1\n",
       "2         2        9327                  3          0\n",
       "3         2       45918                  4          1\n",
       "4         2       30035                  5          0"
      ]
     },
     "execution_count": 12,
     "metadata": {},
     "output_type": "execute_result"
    }
   ],
   "source": [
    "history = pd.read_csv('data/order_products__prior.csv', sep=',')\n",
    "history.head()"
   ]
  },
  {
   "cell_type": "code",
   "execution_count": 13,
   "metadata": {},
   "outputs": [
    {
     "data": {
      "text/plain": [
       "False"
      ]
     },
     "execution_count": 13,
     "metadata": {},
     "output_type": "execute_result"
    }
   ],
   "source": [
    "history.isnull().values.any()"
   ]
  },
  {
   "cell_type": "markdown",
   "metadata": {},
   "source": [
    "There are no unexpected missing values in any of the Instacart datasets."
   ]
  },
  {
   "cell_type": "markdown",
   "metadata": {},
   "source": [
    "**Create a dataset with all useful information gathered : products_litteral**"
   ]
  },
  {
   "cell_type": "markdown",
   "metadata": {},
   "source": [
    "Add the names of the aisle and department in the _products_ dataset, instead of the ID, by merging the datasets :"
   ]
  },
  {
   "cell_type": "code",
   "execution_count": 14,
   "metadata": {},
   "outputs": [
    {
     "data": {
      "text/html": [
       "<div>\n",
       "<style scoped>\n",
       "    .dataframe tbody tr th:only-of-type {\n",
       "        vertical-align: middle;\n",
       "    }\n",
       "\n",
       "    .dataframe tbody tr th {\n",
       "        vertical-align: top;\n",
       "    }\n",
       "\n",
       "    .dataframe thead th {\n",
       "        text-align: right;\n",
       "    }\n",
       "</style>\n",
       "<table border=\"1\" class=\"dataframe\">\n",
       "  <thead>\n",
       "    <tr style=\"text-align: right;\">\n",
       "      <th></th>\n",
       "      <th>product_id</th>\n",
       "      <th>product_name</th>\n",
       "      <th>aisle</th>\n",
       "      <th>department</th>\n",
       "    </tr>\n",
       "  </thead>\n",
       "  <tbody>\n",
       "    <tr>\n",
       "      <td>0</td>\n",
       "      <td>1</td>\n",
       "      <td>Chocolate Sandwich Cookies</td>\n",
       "      <td>cookies cakes</td>\n",
       "      <td>snacks</td>\n",
       "    </tr>\n",
       "    <tr>\n",
       "      <td>1</td>\n",
       "      <td>78</td>\n",
       "      <td>Nutter Butter Cookie Bites Go-Pak</td>\n",
       "      <td>cookies cakes</td>\n",
       "      <td>snacks</td>\n",
       "    </tr>\n",
       "    <tr>\n",
       "      <td>2</td>\n",
       "      <td>102</td>\n",
       "      <td>Danish Butter Cookies</td>\n",
       "      <td>cookies cakes</td>\n",
       "      <td>snacks</td>\n",
       "    </tr>\n",
       "    <tr>\n",
       "      <td>3</td>\n",
       "      <td>172</td>\n",
       "      <td>Gluten Free All Natural Chocolate Chip Cookies</td>\n",
       "      <td>cookies cakes</td>\n",
       "      <td>snacks</td>\n",
       "    </tr>\n",
       "    <tr>\n",
       "      <td>4</td>\n",
       "      <td>285</td>\n",
       "      <td>Mini Nilla Wafers Munch Pack</td>\n",
       "      <td>cookies cakes</td>\n",
       "      <td>snacks</td>\n",
       "    </tr>\n",
       "  </tbody>\n",
       "</table>\n",
       "</div>"
      ],
      "text/plain": [
       "   product_id                                    product_name          aisle  \\\n",
       "0           1                      Chocolate Sandwich Cookies  cookies cakes   \n",
       "1          78               Nutter Butter Cookie Bites Go-Pak  cookies cakes   \n",
       "2         102                           Danish Butter Cookies  cookies cakes   \n",
       "3         172  Gluten Free All Natural Chocolate Chip Cookies  cookies cakes   \n",
       "4         285                    Mini Nilla Wafers Munch Pack  cookies cakes   \n",
       "\n",
       "  department  \n",
       "0     snacks  \n",
       "1     snacks  \n",
       "2     snacks  \n",
       "3     snacks  \n",
       "4     snacks  "
      ]
     },
     "execution_count": 14,
     "metadata": {},
     "output_type": "execute_result"
    }
   ],
   "source": [
    "products_litteral = pd.merge(pd.merge(products, aisles, on='aisle_id'), departments, on='department_id').drop(['aisle_id', 'department_id'], axis=1)\n",
    "products_litteral.head()"
   ]
  },
  {
   "cell_type": "markdown",
   "metadata": {},
   "source": [
    "**Remove 'missing' values**"
   ]
  },
  {
   "cell_type": "code",
   "execution_count": 15,
   "metadata": {},
   "outputs": [
    {
     "data": {
      "text/html": [
       "<div>\n",
       "<style scoped>\n",
       "    .dataframe tbody tr th:only-of-type {\n",
       "        vertical-align: middle;\n",
       "    }\n",
       "\n",
       "    .dataframe tbody tr th {\n",
       "        vertical-align: top;\n",
       "    }\n",
       "\n",
       "    .dataframe thead th {\n",
       "        text-align: right;\n",
       "    }\n",
       "</style>\n",
       "<table border=\"1\" class=\"dataframe\">\n",
       "  <thead>\n",
       "    <tr style=\"text-align: right;\">\n",
       "      <th></th>\n",
       "      <th>product_id</th>\n",
       "      <th>product_name</th>\n",
       "      <th>aisle</th>\n",
       "      <th>department</th>\n",
       "    </tr>\n",
       "  </thead>\n",
       "  <tbody>\n",
       "    <tr>\n",
       "      <td>42813</td>\n",
       "      <td>38</td>\n",
       "      <td>Ultra Antibacterial Dish Liquid</td>\n",
       "      <td>missing</td>\n",
       "      <td>missing</td>\n",
       "    </tr>\n",
       "    <tr>\n",
       "      <td>42814</td>\n",
       "      <td>72</td>\n",
       "      <td>Organic Honeycrisp Apples</td>\n",
       "      <td>missing</td>\n",
       "      <td>missing</td>\n",
       "    </tr>\n",
       "    <tr>\n",
       "      <td>42815</td>\n",
       "      <td>110</td>\n",
       "      <td>Uncured Turkey Bologna</td>\n",
       "      <td>missing</td>\n",
       "      <td>missing</td>\n",
       "    </tr>\n",
       "    <tr>\n",
       "      <td>42816</td>\n",
       "      <td>297</td>\n",
       "      <td>Write Bros Ball Point Pens, Cap-Pen, Medium (1...</td>\n",
       "      <td>missing</td>\n",
       "      <td>missing</td>\n",
       "    </tr>\n",
       "    <tr>\n",
       "      <td>42817</td>\n",
       "      <td>417</td>\n",
       "      <td>Classics Baby Binks Easter Chocolate Bunny</td>\n",
       "      <td>missing</td>\n",
       "      <td>missing</td>\n",
       "    </tr>\n",
       "    <tr>\n",
       "      <td>42818</td>\n",
       "      <td>437</td>\n",
       "      <td>Strawberry Cheesecake Nonfat Yogurt</td>\n",
       "      <td>missing</td>\n",
       "      <td>missing</td>\n",
       "    </tr>\n",
       "    <tr>\n",
       "      <td>42819</td>\n",
       "      <td>440</td>\n",
       "      <td>Crossovers Olive Thyme Almond</td>\n",
       "      <td>missing</td>\n",
       "      <td>missing</td>\n",
       "    </tr>\n",
       "    <tr>\n",
       "      <td>42820</td>\n",
       "      <td>472</td>\n",
       "      <td>Fancy Diced Hot Chilies</td>\n",
       "      <td>missing</td>\n",
       "      <td>missing</td>\n",
       "    </tr>\n",
       "    <tr>\n",
       "      <td>42821</td>\n",
       "      <td>491</td>\n",
       "      <td>Pompelmo Water</td>\n",
       "      <td>missing</td>\n",
       "      <td>missing</td>\n",
       "    </tr>\n",
       "    <tr>\n",
       "      <td>42822</td>\n",
       "      <td>556</td>\n",
       "      <td>Bake &amp; Break Cheese Garlic Loaf</td>\n",
       "      <td>missing</td>\n",
       "      <td>missing</td>\n",
       "    </tr>\n",
       "    <tr>\n",
       "      <td>42823</td>\n",
       "      <td>562</td>\n",
       "      <td>Traditional Tartar Sauce</td>\n",
       "      <td>missing</td>\n",
       "      <td>missing</td>\n",
       "    </tr>\n",
       "    <tr>\n",
       "      <td>42824</td>\n",
       "      <td>614</td>\n",
       "      <td>Plain Dairy-Free Probiotic Drinkable Cashewgurt</td>\n",
       "      <td>missing</td>\n",
       "      <td>missing</td>\n",
       "    </tr>\n",
       "    <tr>\n",
       "      <td>42825</td>\n",
       "      <td>624</td>\n",
       "      <td>Chub Chorizo</td>\n",
       "      <td>missing</td>\n",
       "      <td>missing</td>\n",
       "    </tr>\n",
       "    <tr>\n",
       "      <td>42826</td>\n",
       "      <td>690</td>\n",
       "      <td>Vegetable Hearty Garden Soup</td>\n",
       "      <td>missing</td>\n",
       "      <td>missing</td>\n",
       "    </tr>\n",
       "    <tr>\n",
       "      <td>42827</td>\n",
       "      <td>768</td>\n",
       "      <td>Nacho Grain-Free Tortilla Chips</td>\n",
       "      <td>missing</td>\n",
       "      <td>missing</td>\n",
       "    </tr>\n",
       "    <tr>\n",
       "      <td>42828</td>\n",
       "      <td>804</td>\n",
       "      <td>Ratatouille</td>\n",
       "      <td>missing</td>\n",
       "      <td>missing</td>\n",
       "    </tr>\n",
       "    <tr>\n",
       "      <td>42829</td>\n",
       "      <td>891</td>\n",
       "      <td>Liquid Water Enhance Ice Van Java</td>\n",
       "      <td>missing</td>\n",
       "      <td>missing</td>\n",
       "    </tr>\n",
       "    <tr>\n",
       "      <td>42830</td>\n",
       "      <td>991</td>\n",
       "      <td>Red Sweet Mini Pepper</td>\n",
       "      <td>missing</td>\n",
       "      <td>missing</td>\n",
       "    </tr>\n",
       "    <tr>\n",
       "      <td>42831</td>\n",
       "      <td>1019</td>\n",
       "      <td>Spicy Bbq Chicken Soup</td>\n",
       "      <td>missing</td>\n",
       "      <td>missing</td>\n",
       "    </tr>\n",
       "    <tr>\n",
       "      <td>42832</td>\n",
       "      <td>1055</td>\n",
       "      <td>Naturals Grilled Chicken Nugget</td>\n",
       "      <td>missing</td>\n",
       "      <td>missing</td>\n",
       "    </tr>\n",
       "    <tr>\n",
       "      <td>42833</td>\n",
       "      <td>1218</td>\n",
       "      <td>Buffalo Style Chicken Wrap</td>\n",
       "      <td>missing</td>\n",
       "      <td>missing</td>\n",
       "    </tr>\n",
       "    <tr>\n",
       "      <td>42834</td>\n",
       "      <td>1283</td>\n",
       "      <td>Organic Edamame &amp; Mung Bean Fettuccine</td>\n",
       "      <td>missing</td>\n",
       "      <td>missing</td>\n",
       "    </tr>\n",
       "    <tr>\n",
       "      <td>42835</td>\n",
       "      <td>1302</td>\n",
       "      <td>Natural Orange Flavor Liquid Sublingual Melatonin</td>\n",
       "      <td>missing</td>\n",
       "      <td>missing</td>\n",
       "    </tr>\n",
       "    <tr>\n",
       "      <td>42836</td>\n",
       "      <td>1387</td>\n",
       "      <td>White Apple Cauliflower &amp; Leek Organic Baby Food</td>\n",
       "      <td>missing</td>\n",
       "      <td>missing</td>\n",
       "    </tr>\n",
       "    <tr>\n",
       "      <td>42837</td>\n",
       "      <td>1548</td>\n",
       "      <td>Organic Vanilla Soy Milk</td>\n",
       "      <td>missing</td>\n",
       "      <td>missing</td>\n",
       "    </tr>\n",
       "    <tr>\n",
       "      <td>42838</td>\n",
       "      <td>1562</td>\n",
       "      <td>Yellow Easter Basket Cakes</td>\n",
       "      <td>missing</td>\n",
       "      <td>missing</td>\n",
       "    </tr>\n",
       "    <tr>\n",
       "      <td>42839</td>\n",
       "      <td>1715</td>\n",
       "      <td>Organic Honey Balsamic Dressing &amp; Marinade</td>\n",
       "      <td>missing</td>\n",
       "      <td>missing</td>\n",
       "    </tr>\n",
       "    <tr>\n",
       "      <td>42840</td>\n",
       "      <td>1718</td>\n",
       "      <td>Broccoli Rabe Rapini Bag</td>\n",
       "      <td>missing</td>\n",
       "      <td>missing</td>\n",
       "    </tr>\n",
       "    <tr>\n",
       "      <td>42841</td>\n",
       "      <td>1742</td>\n",
       "      <td>Onion Crispbread</td>\n",
       "      <td>missing</td>\n",
       "      <td>missing</td>\n",
       "    </tr>\n",
       "    <tr>\n",
       "      <td>42842</td>\n",
       "      <td>1798</td>\n",
       "      <td>Paso Robles Cabernet Sauvignon</td>\n",
       "      <td>missing</td>\n",
       "      <td>missing</td>\n",
       "    </tr>\n",
       "    <tr>\n",
       "      <td>42843</td>\n",
       "      <td>1859</td>\n",
       "      <td>Chocolate Covered Peanuts</td>\n",
       "      <td>missing</td>\n",
       "      <td>missing</td>\n",
       "    </tr>\n",
       "    <tr>\n",
       "      <td>42844</td>\n",
       "      <td>1961</td>\n",
       "      <td>Kombucha Beet</td>\n",
       "      <td>missing</td>\n",
       "      <td>missing</td>\n",
       "    </tr>\n",
       "    <tr>\n",
       "      <td>42845</td>\n",
       "      <td>2032</td>\n",
       "      <td>Chocolate Fudge Brownie Slices Ice Cream</td>\n",
       "      <td>missing</td>\n",
       "      <td>missing</td>\n",
       "    </tr>\n",
       "    <tr>\n",
       "      <td>42846</td>\n",
       "      <td>2082</td>\n",
       "      <td>Organic Valencia Orange</td>\n",
       "      <td>missing</td>\n",
       "      <td>missing</td>\n",
       "    </tr>\n",
       "    <tr>\n",
       "      <td>42847</td>\n",
       "      <td>2134</td>\n",
       "      <td>Count Chocula Cereal</td>\n",
       "      <td>missing</td>\n",
       "      <td>missing</td>\n",
       "    </tr>\n",
       "    <tr>\n",
       "      <td>42848</td>\n",
       "      <td>2162</td>\n",
       "      <td>Organic Wild Rumpus Avocado Babyfood</td>\n",
       "      <td>missing</td>\n",
       "      <td>missing</td>\n",
       "    </tr>\n",
       "    <tr>\n",
       "      <td>42849</td>\n",
       "      <td>2198</td>\n",
       "      <td>Cold Brew Baridi Black</td>\n",
       "      <td>missing</td>\n",
       "      <td>missing</td>\n",
       "    </tr>\n",
       "    <tr>\n",
       "      <td>42850</td>\n",
       "      <td>2265</td>\n",
       "      <td>Lime Grain-Free Tortilla Chips</td>\n",
       "      <td>missing</td>\n",
       "      <td>missing</td>\n",
       "    </tr>\n",
       "    <tr>\n",
       "      <td>42851</td>\n",
       "      <td>2335</td>\n",
       "      <td>Organic Chopped BBQ Ranch Salad Kit</td>\n",
       "      <td>missing</td>\n",
       "      <td>missing</td>\n",
       "    </tr>\n",
       "    <tr>\n",
       "      <td>42852</td>\n",
       "      <td>2371</td>\n",
       "      <td>Natural Uncured Beef Hot Dog</td>\n",
       "      <td>missing</td>\n",
       "      <td>missing</td>\n",
       "    </tr>\n",
       "    <tr>\n",
       "      <td>42853</td>\n",
       "      <td>2375</td>\n",
       "      <td>Three Cheese Pizza Pocket</td>\n",
       "      <td>missing</td>\n",
       "      <td>missing</td>\n",
       "    </tr>\n",
       "    <tr>\n",
       "      <td>42854</td>\n",
       "      <td>2384</td>\n",
       "      <td>Spicy Peanut Chicken &amp; Broccolli</td>\n",
       "      <td>missing</td>\n",
       "      <td>missing</td>\n",
       "    </tr>\n",
       "    <tr>\n",
       "      <td>42855</td>\n",
       "      <td>2507</td>\n",
       "      <td>Savory Garlic &amp; Herb Jack Snack Cheese</td>\n",
       "      <td>missing</td>\n",
       "      <td>missing</td>\n",
       "    </tr>\n",
       "    <tr>\n",
       "      <td>42856</td>\n",
       "      <td>2554</td>\n",
       "      <td>Snacking Lupini Beans Hot Pepper</td>\n",
       "      <td>missing</td>\n",
       "      <td>missing</td>\n",
       "    </tr>\n",
       "    <tr>\n",
       "      <td>42857</td>\n",
       "      <td>2557</td>\n",
       "      <td>Touch Of Phlly Shredded Sharp Cheddar Cheese</td>\n",
       "      <td>missing</td>\n",
       "      <td>missing</td>\n",
       "    </tr>\n",
       "    <tr>\n",
       "      <td>42858</td>\n",
       "      <td>2577</td>\n",
       "      <td>2% Milk Fat Creamy Small Curd Cottage Cheese</td>\n",
       "      <td>missing</td>\n",
       "      <td>missing</td>\n",
       "    </tr>\n",
       "    <tr>\n",
       "      <td>42859</td>\n",
       "      <td>2592</td>\n",
       "      <td>Maple Almond Bar</td>\n",
       "      <td>missing</td>\n",
       "      <td>missing</td>\n",
       "    </tr>\n",
       "    <tr>\n",
       "      <td>42860</td>\n",
       "      <td>2608</td>\n",
       "      <td>Taste Of Asia Tonkotsu Pork</td>\n",
       "      <td>missing</td>\n",
       "      <td>missing</td>\n",
       "    </tr>\n",
       "    <tr>\n",
       "      <td>42861</td>\n",
       "      <td>2673</td>\n",
       "      <td>Stage 2 Just Pinapple Pear Avocado Baby Food</td>\n",
       "      <td>missing</td>\n",
       "      <td>missing</td>\n",
       "    </tr>\n",
       "    <tr>\n",
       "      <td>42862</td>\n",
       "      <td>2687</td>\n",
       "      <td>Face &amp; Body Charcoal Soap Bar</td>\n",
       "      <td>missing</td>\n",
       "      <td>missing</td>\n",
       "    </tr>\n",
       "  </tbody>\n",
       "</table>\n",
       "</div>"
      ],
      "text/plain": [
       "       product_id                                       product_name    aisle  \\\n",
       "42813          38                    Ultra Antibacterial Dish Liquid  missing   \n",
       "42814          72                          Organic Honeycrisp Apples  missing   \n",
       "42815         110                             Uncured Turkey Bologna  missing   \n",
       "42816         297  Write Bros Ball Point Pens, Cap-Pen, Medium (1...  missing   \n",
       "42817         417         Classics Baby Binks Easter Chocolate Bunny  missing   \n",
       "42818         437                Strawberry Cheesecake Nonfat Yogurt  missing   \n",
       "42819         440                      Crossovers Olive Thyme Almond  missing   \n",
       "42820         472                            Fancy Diced Hot Chilies  missing   \n",
       "42821         491                                     Pompelmo Water  missing   \n",
       "42822         556                    Bake & Break Cheese Garlic Loaf  missing   \n",
       "42823         562                           Traditional Tartar Sauce  missing   \n",
       "42824         614    Plain Dairy-Free Probiotic Drinkable Cashewgurt  missing   \n",
       "42825         624                                       Chub Chorizo  missing   \n",
       "42826         690                       Vegetable Hearty Garden Soup  missing   \n",
       "42827         768                    Nacho Grain-Free Tortilla Chips  missing   \n",
       "42828         804                                        Ratatouille  missing   \n",
       "42829         891                  Liquid Water Enhance Ice Van Java  missing   \n",
       "42830         991                              Red Sweet Mini Pepper  missing   \n",
       "42831        1019                             Spicy Bbq Chicken Soup  missing   \n",
       "42832        1055                    Naturals Grilled Chicken Nugget  missing   \n",
       "42833        1218                         Buffalo Style Chicken Wrap  missing   \n",
       "42834        1283             Organic Edamame & Mung Bean Fettuccine  missing   \n",
       "42835        1302  Natural Orange Flavor Liquid Sublingual Melatonin  missing   \n",
       "42836        1387   White Apple Cauliflower & Leek Organic Baby Food  missing   \n",
       "42837        1548                           Organic Vanilla Soy Milk  missing   \n",
       "42838        1562                         Yellow Easter Basket Cakes  missing   \n",
       "42839        1715         Organic Honey Balsamic Dressing & Marinade  missing   \n",
       "42840        1718                           Broccoli Rabe Rapini Bag  missing   \n",
       "42841        1742                                   Onion Crispbread  missing   \n",
       "42842        1798                     Paso Robles Cabernet Sauvignon  missing   \n",
       "42843        1859                          Chocolate Covered Peanuts  missing   \n",
       "42844        1961                                      Kombucha Beet  missing   \n",
       "42845        2032           Chocolate Fudge Brownie Slices Ice Cream  missing   \n",
       "42846        2082                            Organic Valencia Orange  missing   \n",
       "42847        2134                               Count Chocula Cereal  missing   \n",
       "42848        2162               Organic Wild Rumpus Avocado Babyfood  missing   \n",
       "42849        2198                             Cold Brew Baridi Black  missing   \n",
       "42850        2265                     Lime Grain-Free Tortilla Chips  missing   \n",
       "42851        2335                Organic Chopped BBQ Ranch Salad Kit  missing   \n",
       "42852        2371                       Natural Uncured Beef Hot Dog  missing   \n",
       "42853        2375                          Three Cheese Pizza Pocket  missing   \n",
       "42854        2384                   Spicy Peanut Chicken & Broccolli  missing   \n",
       "42855        2507             Savory Garlic & Herb Jack Snack Cheese  missing   \n",
       "42856        2554                   Snacking Lupini Beans Hot Pepper  missing   \n",
       "42857        2557       Touch Of Phlly Shredded Sharp Cheddar Cheese  missing   \n",
       "42858        2577       2% Milk Fat Creamy Small Curd Cottage Cheese  missing   \n",
       "42859        2592                                   Maple Almond Bar  missing   \n",
       "42860        2608                        Taste Of Asia Tonkotsu Pork  missing   \n",
       "42861        2673       Stage 2 Just Pinapple Pear Avocado Baby Food  missing   \n",
       "42862        2687                      Face & Body Charcoal Soap Bar  missing   \n",
       "\n",
       "      department  \n",
       "42813    missing  \n",
       "42814    missing  \n",
       "42815    missing  \n",
       "42816    missing  \n",
       "42817    missing  \n",
       "42818    missing  \n",
       "42819    missing  \n",
       "42820    missing  \n",
       "42821    missing  \n",
       "42822    missing  \n",
       "42823    missing  \n",
       "42824    missing  \n",
       "42825    missing  \n",
       "42826    missing  \n",
       "42827    missing  \n",
       "42828    missing  \n",
       "42829    missing  \n",
       "42830    missing  \n",
       "42831    missing  \n",
       "42832    missing  \n",
       "42833    missing  \n",
       "42834    missing  \n",
       "42835    missing  \n",
       "42836    missing  \n",
       "42837    missing  \n",
       "42838    missing  \n",
       "42839    missing  \n",
       "42840    missing  \n",
       "42841    missing  \n",
       "42842    missing  \n",
       "42843    missing  \n",
       "42844    missing  \n",
       "42845    missing  \n",
       "42846    missing  \n",
       "42847    missing  \n",
       "42848    missing  \n",
       "42849    missing  \n",
       "42850    missing  \n",
       "42851    missing  \n",
       "42852    missing  \n",
       "42853    missing  \n",
       "42854    missing  \n",
       "42855    missing  \n",
       "42856    missing  \n",
       "42857    missing  \n",
       "42858    missing  \n",
       "42859    missing  \n",
       "42860    missing  \n",
       "42861    missing  \n",
       "42862    missing  "
      ]
     },
     "execution_count": 15,
     "metadata": {},
     "output_type": "execute_result"
    }
   ],
   "source": [
    "missing = products_litteral[(products_litteral.department =='missing') | (products_litteral.aisle=='missing')]\n",
    "missing.head(50)"
   ]
  },
  {
   "cell_type": "markdown",
   "metadata": {},
   "source": [
    "We can see many products don't have any name for the aisle and/or department"
   ]
  },
  {
   "cell_type": "code",
   "execution_count": 16,
   "metadata": {},
   "outputs": [
    {
     "name": "stdout",
     "output_type": "stream",
     "text": [
      "There are 1258 products with 'missing' aisle/department. This represent 2.5% of the products.\n"
     ]
    }
   ],
   "source": [
    "print(\"There are %d products with 'missing' aisle/department. This represent %0.1f%% of the products.\" %(missing.shape[0], missing.shape[0]/products_litteral.shape[0]*100))"
   ]
  },
  {
   "cell_type": "markdown",
   "metadata": {},
   "source": [
    "The unlabelled products seem to come from many different categories, and represent a small fraction of our dataset. We decided to simply remove them."
   ]
  },
  {
   "cell_type": "code",
   "execution_count": 17,
   "metadata": {},
   "outputs": [],
   "source": [
    "products_litteral = products_litteral.drop(missing.index)"
   ]
  },
  {
   "cell_type": "markdown",
   "metadata": {},
   "source": [
    "# First Statistical analysis"
   ]
  },
  {
   "cell_type": "markdown",
   "metadata": {},
   "source": [
    "**Number of products per Aisle and Department**"
   ]
  },
  {
   "cell_type": "markdown",
   "metadata": {},
   "source": [
    "Visualize the products per aisle and per department to detect any inconsistency"
   ]
  },
  {
   "cell_type": "markdown",
   "metadata": {},
   "source": [
    "The 'personal care' department has the most choice of products, jsut followed by the 'snacks' one."
   ]
  },
  {
   "cell_type": "markdown",
   "metadata": {},
   "source": [
    "'Candy chocolate' and 'ice cream ice' contains the most numerous choice of products. We can see none of the 10 first aisles is in the 'Personal care' departement. Thus this department contains the most products because it contains a diverse choice of aisles of products, not one aisle with many products, as 'Snacks'."
   ]
  },
  {
   "cell_type": "markdown",
   "metadata": {},
   "source": [
    "**Number of orders**"
   ]
  },
  {
   "cell_type": "markdown",
   "metadata": {},
   "source": [
    "Let's complete our 'useful' dataset with the informtion about the number of orders per product"
   ]
  },
  {
   "cell_type": "code",
   "execution_count": 18,
   "metadata": {},
   "outputs": [
    {
     "data": {
      "text/html": [
       "<div>\n",
       "<style scoped>\n",
       "    .dataframe tbody tr th:only-of-type {\n",
       "        vertical-align: middle;\n",
       "    }\n",
       "\n",
       "    .dataframe tbody tr th {\n",
       "        vertical-align: top;\n",
       "    }\n",
       "\n",
       "    .dataframe thead th {\n",
       "        text-align: right;\n",
       "    }\n",
       "</style>\n",
       "<table border=\"1\" class=\"dataframe\">\n",
       "  <thead>\n",
       "    <tr style=\"text-align: right;\">\n",
       "      <th></th>\n",
       "      <th>number_of_orders</th>\n",
       "    </tr>\n",
       "    <tr>\n",
       "      <th>product_id</th>\n",
       "      <th></th>\n",
       "    </tr>\n",
       "  </thead>\n",
       "  <tbody>\n",
       "    <tr>\n",
       "      <td>24852</td>\n",
       "      <td>472565</td>\n",
       "    </tr>\n",
       "    <tr>\n",
       "      <td>13176</td>\n",
       "      <td>379450</td>\n",
       "    </tr>\n",
       "    <tr>\n",
       "      <td>21137</td>\n",
       "      <td>264683</td>\n",
       "    </tr>\n",
       "    <tr>\n",
       "      <td>21903</td>\n",
       "      <td>241921</td>\n",
       "    </tr>\n",
       "    <tr>\n",
       "      <td>47209</td>\n",
       "      <td>213584</td>\n",
       "    </tr>\n",
       "  </tbody>\n",
       "</table>\n",
       "</div>"
      ],
      "text/plain": [
       "            number_of_orders\n",
       "product_id                  \n",
       "24852                 472565\n",
       "13176                 379450\n",
       "21137                 264683\n",
       "21903                 241921\n",
       "47209                 213584"
      ]
     },
     "execution_count": 18,
     "metadata": {},
     "output_type": "execute_result"
    }
   ],
   "source": [
    "number_of_order_per_product = history[['order_id','product_id']].groupby('product_id').count().sort_values(by='order_id', ascending=False)\n",
    "number_of_order_per_product = number_of_order_per_product.rename(columns={\"order_id\" : \"number_of_orders\"})\n",
    "number_of_order_per_product.head()"
   ]
  },
  {
   "cell_type": "code",
   "execution_count": 19,
   "metadata": {},
   "outputs": [
    {
     "data": {
      "text/html": [
       "<div>\n",
       "<style scoped>\n",
       "    .dataframe tbody tr th:only-of-type {\n",
       "        vertical-align: middle;\n",
       "    }\n",
       "\n",
       "    .dataframe tbody tr th {\n",
       "        vertical-align: top;\n",
       "    }\n",
       "\n",
       "    .dataframe thead th {\n",
       "        text-align: right;\n",
       "    }\n",
       "</style>\n",
       "<table border=\"1\" class=\"dataframe\">\n",
       "  <thead>\n",
       "    <tr style=\"text-align: right;\">\n",
       "      <th></th>\n",
       "      <th>product_id</th>\n",
       "      <th>product_name</th>\n",
       "      <th>aisle</th>\n",
       "      <th>department</th>\n",
       "      <th>number_of_orders</th>\n",
       "    </tr>\n",
       "  </thead>\n",
       "  <tbody>\n",
       "    <tr>\n",
       "      <td>0</td>\n",
       "      <td>1</td>\n",
       "      <td>Chocolate Sandwich Cookies</td>\n",
       "      <td>cookies cakes</td>\n",
       "      <td>snacks</td>\n",
       "      <td>1852</td>\n",
       "    </tr>\n",
       "    <tr>\n",
       "      <td>1</td>\n",
       "      <td>78</td>\n",
       "      <td>Nutter Butter Cookie Bites Go-Pak</td>\n",
       "      <td>cookies cakes</td>\n",
       "      <td>snacks</td>\n",
       "      <td>11</td>\n",
       "    </tr>\n",
       "    <tr>\n",
       "      <td>2</td>\n",
       "      <td>102</td>\n",
       "      <td>Danish Butter Cookies</td>\n",
       "      <td>cookies cakes</td>\n",
       "      <td>snacks</td>\n",
       "      <td>185</td>\n",
       "    </tr>\n",
       "    <tr>\n",
       "      <td>3</td>\n",
       "      <td>172</td>\n",
       "      <td>Gluten Free All Natural Chocolate Chip Cookies</td>\n",
       "      <td>cookies cakes</td>\n",
       "      <td>snacks</td>\n",
       "      <td>97</td>\n",
       "    </tr>\n",
       "    <tr>\n",
       "      <td>4</td>\n",
       "      <td>285</td>\n",
       "      <td>Mini Nilla Wafers Munch Pack</td>\n",
       "      <td>cookies cakes</td>\n",
       "      <td>snacks</td>\n",
       "      <td>156</td>\n",
       "    </tr>\n",
       "  </tbody>\n",
       "</table>\n",
       "</div>"
      ],
      "text/plain": [
       "   product_id                                    product_name          aisle  \\\n",
       "0           1                      Chocolate Sandwich Cookies  cookies cakes   \n",
       "1          78               Nutter Butter Cookie Bites Go-Pak  cookies cakes   \n",
       "2         102                           Danish Butter Cookies  cookies cakes   \n",
       "3         172  Gluten Free All Natural Chocolate Chip Cookies  cookies cakes   \n",
       "4         285                    Mini Nilla Wafers Munch Pack  cookies cakes   \n",
       "\n",
       "  department  number_of_orders  \n",
       "0     snacks              1852  \n",
       "1     snacks                11  \n",
       "2     snacks               185  \n",
       "3     snacks                97  \n",
       "4     snacks               156  "
      ]
     },
     "execution_count": 19,
     "metadata": {},
     "output_type": "execute_result"
    }
   ],
   "source": [
    "products_litteral = pd.merge(products_litteral, number_of_order_per_product, on='product_id')\n",
    "products_litteral.head()"
   ]
  },
  {
   "cell_type": "markdown",
   "metadata": {},
   "source": [
    "**Number of orders per product**"
   ]
  },
  {
   "cell_type": "markdown",
   "metadata": {},
   "source": [
    "# Try on Amazon dataset"
   ]
  },
  {
   "cell_type": "markdown",
   "metadata": {},
   "source": [
    "**Amazon dataset** : _metadata_ and _reviews_ of Grocery and Gourmet Food products : https://cseweb.ucsd.edu/~jmcauley/datasets.html?fbclid=IwAR39s5O83nqUYkRBD4jol3OFu0FmcH-4dCzUtSjutOsmSd9LMZOHSGGtNxw#amazon_reviews\n"
   ]
  },
  {
   "cell_type": "code",
   "execution_count": 20,
   "metadata": {},
   "outputs": [
    {
     "data": {
      "text/html": [
       "<div>\n",
       "<style scoped>\n",
       "    .dataframe tbody tr th:only-of-type {\n",
       "        vertical-align: middle;\n",
       "    }\n",
       "\n",
       "    .dataframe tbody tr th {\n",
       "        vertical-align: top;\n",
       "    }\n",
       "\n",
       "    .dataframe thead th {\n",
       "        text-align: right;\n",
       "    }\n",
       "</style>\n",
       "<table border=\"1\" class=\"dataframe\">\n",
       "  <thead>\n",
       "    <tr style=\"text-align: right;\">\n",
       "      <th></th>\n",
       "      <th>product_id</th>\n",
       "      <th>product_name</th>\n",
       "      <th>aisle</th>\n",
       "      <th>department</th>\n",
       "      <th>number_of_orders</th>\n",
       "    </tr>\n",
       "  </thead>\n",
       "  <tbody>\n",
       "    <tr>\n",
       "      <td>0</td>\n",
       "      <td>1</td>\n",
       "      <td>Chocolate Sandwich Cookies</td>\n",
       "      <td>cookies cakes</td>\n",
       "      <td>snacks</td>\n",
       "      <td>1852</td>\n",
       "    </tr>\n",
       "    <tr>\n",
       "      <td>1</td>\n",
       "      <td>78</td>\n",
       "      <td>Nutter Butter Cookie Bites Go-Pak</td>\n",
       "      <td>cookies cakes</td>\n",
       "      <td>snacks</td>\n",
       "      <td>11</td>\n",
       "    </tr>\n",
       "    <tr>\n",
       "      <td>2</td>\n",
       "      <td>102</td>\n",
       "      <td>Danish Butter Cookies</td>\n",
       "      <td>cookies cakes</td>\n",
       "      <td>snacks</td>\n",
       "      <td>185</td>\n",
       "    </tr>\n",
       "    <tr>\n",
       "      <td>3</td>\n",
       "      <td>172</td>\n",
       "      <td>Gluten Free All Natural Chocolate Chip Cookies</td>\n",
       "      <td>cookies cakes</td>\n",
       "      <td>snacks</td>\n",
       "      <td>97</td>\n",
       "    </tr>\n",
       "    <tr>\n",
       "      <td>4</td>\n",
       "      <td>285</td>\n",
       "      <td>Mini Nilla Wafers Munch Pack</td>\n",
       "      <td>cookies cakes</td>\n",
       "      <td>snacks</td>\n",
       "      <td>156</td>\n",
       "    </tr>\n",
       "  </tbody>\n",
       "</table>\n",
       "</div>"
      ],
      "text/plain": [
       "   product_id                                    product_name          aisle  \\\n",
       "0           1                      Chocolate Sandwich Cookies  cookies cakes   \n",
       "1          78               Nutter Butter Cookie Bites Go-Pak  cookies cakes   \n",
       "2         102                           Danish Butter Cookies  cookies cakes   \n",
       "3         172  Gluten Free All Natural Chocolate Chip Cookies  cookies cakes   \n",
       "4         285                    Mini Nilla Wafers Munch Pack  cookies cakes   \n",
       "\n",
       "  department  number_of_orders  \n",
       "0     snacks              1852  \n",
       "1     snacks                11  \n",
       "2     snacks               185  \n",
       "3     snacks                97  \n",
       "4     snacks               156  "
      ]
     },
     "execution_count": 20,
     "metadata": {},
     "output_type": "execute_result"
    }
   ],
   "source": [
    "products_litteral.head()"
   ]
  },
  {
   "cell_type": "code",
   "execution_count": 23,
   "metadata": {},
   "outputs": [
    {
     "name": "stdout",
     "output_type": "stream",
     "text": [
      "+--------------------+--------------------+----------+--------------+--------------------+----+--------------------+-------+-------+----+--------------------+--------+------+--------------------+------------+-----+--------------------+\n",
      "|            also_buy|           also_view|      asin|         brand|            category|date|         description|details|feature| fit|               image|main_cat| price|                rank|similar_item|tech1|               title|\n",
      "+--------------------+--------------------+----------+--------------+--------------------+----+--------------------+-------+-------+----+--------------------+--------+------+--------------------+------------+-----+--------------------+\n",
      "|                null|[B0000D9MYM, B000...|0681727810|Ariola Imports|[Grocery & Gourme...|null|[BEEMSTER GOUDA C...|   null|   null|null|                null| Grocery|$41.91|165,181inGroceryG...|        null| null|Beemster Gouda - ...|\n",
      "|[B01898YHXK, B01B...|                null|0853347867|          null|[Grocery & Gourme...|null|[Shipped from UK,...|   null|   null|null|[https://images-n...| Grocery|  null|315,867inGroceryG...|        null| null|Trim Healthy Mama...|\n",
      "+--------------------+--------------------+----------+--------------+--------------------+----+--------------------+-------+-------+----+--------------------+--------+------+--------------------+------------+-----+--------------------+\n",
      "only showing top 2 rows\n",
      "\n"
     ]
    }
   ],
   "source": [
    "Amazon_meta = spark.read.json(\"data/meta_Grocery_and_Gourmet_Food.json.gz\")\n",
    "#Amazon_meta = reload2('Amazon_meta.parquet', Amazon_meta)\n",
    "Amazon_meta.show(2)"
   ]
  },
  {
   "cell_type": "code",
   "execution_count": 24,
   "metadata": {},
   "outputs": [],
   "source": [
    "Amazon_meta_light = Amazon_meta.drop('also_view','description','details','feature','fit', 'image','similar_item', 'tech1')\n",
    "Amazon_meta_light = reload2('Amazon_meta_light.parquet', Amazon_meta_light)"
   ]
  },
  {
   "cell_type": "code",
   "execution_count": 25,
   "metadata": {},
   "outputs": [
    {
     "name": "stdout",
     "output_type": "stream",
     "text": [
      "root\n",
      " |-- also_buy: array (nullable = true)\n",
      " |    |-- element: string (containsNull = true)\n",
      " |-- asin: string (nullable = true)\n",
      " |-- brand: string (nullable = true)\n",
      " |-- category: array (nullable = true)\n",
      " |    |-- element: string (containsNull = true)\n",
      " |-- date: string (nullable = true)\n",
      " |-- main_cat: string (nullable = true)\n",
      " |-- price: string (nullable = true)\n",
      " |-- rank: string (nullable = true)\n",
      " |-- title: string (nullable = true)\n",
      "\n"
     ]
    }
   ],
   "source": [
    "Amazon_meta_light.printSchema()"
   ]
  },
  {
   "cell_type": "code",
   "execution_count": 26,
   "metadata": {},
   "outputs": [
    {
     "name": "stdout",
     "output_type": "stream",
     "text": [
      "['Grocery & Gourmet Food', 'Dairy, Cheese & Eggs', 'Cheese', 'Gouda'] for main_cat Grocery\n",
      "['Grocery & Gourmet Food', 'Cooking & Baking', 'Sugar Substitutes', 'Xylitol'] for main_cat Grocery\n",
      "['Grocery & Gourmet Food', 'Cooking & Baking', 'Frosting, Icing & Decorations', 'Cake & Cupcake Toppers', 'Cake Toppers'] for main_cat Amazon Home\n",
      "['Grocery & Gourmet Food', 'Cooking & Baking', 'Frosting, Icing & Decorations', 'Cake & Cupcake Toppers', 'Cake Toppers'] for main_cat Amazon Home\n",
      "['Grocery & Gourmet Food', 'Cooking & Baking', 'Frosting, Icing & Decorations', 'Cake & Cupcake Toppers', 'Cake Toppers'] for main_cat Amazon Home\n",
      "['Grocery & Gourmet Food', 'Cooking & Baking', 'Frosting, Icing & Decorations', 'Cake & Cupcake Toppers', 'Cake Toppers'] for main_cat Amazon Home\n",
      "['Grocery & Gourmet Food', 'Cooking & Baking', 'Frosting, Icing & Decorations', 'Cake & Cupcake Toppers', 'Cake Toppers'] for main_cat Amazon Home\n",
      "['Grocery & Gourmet Food', 'Cooking & Baking', 'Frosting, Icing & Decorations', 'Cake & Cupcake Toppers', 'Cake Toppers'] for main_cat Amazon Home\n",
      "['Grocery & Gourmet Food', 'Cooking & Baking', 'Frosting, Icing & Decorations', 'Cake & Cupcake Toppers', 'Cake Toppers'] for main_cat Amazon Home\n",
      "['Grocery & Gourmet Food', 'Cooking & Baking', 'Frosting, Icing & Decorations', 'Cake & Cupcake Toppers', 'Cake Toppers'] for main_cat Amazon Home\n",
      "['Grocery & Gourmet Food', 'Beverages', 'Coffee, Tea & Cocoa', 'Tea', 'Black'] for main_cat Grocery\n",
      "['Grocery & Gourmet Food', 'Beverages', 'Coffee, Tea & Cocoa', 'Tea', 'Black'] for main_cat Grocery\n",
      "['Grocery & Gourmet Food', 'Beverages', 'Coffee, Tea & Cocoa', 'Tea', 'Tea Samplers'] for main_cat Grocery\n",
      "['Grocery & Gourmet Food', 'Canned, Jarred & Packaged Foods', 'Packaged Meals & Side Dishes', 'Indian Dishes'] for main_cat Grocery\n",
      "['Grocery & Gourmet Food', 'Canned, Jarred & Packaged Foods', 'Packaged Meals & Side Dishes', 'Indian Dishes'] for main_cat Grocery\n",
      "['Grocery & Gourmet Food', 'Beverages', 'Coffee, Tea & Cocoa', 'Coffee'] for main_cat Grocery\n",
      "['Grocery & Gourmet Food', 'Canned, Jarred & Packaged Foods', 'Packaged Meals & Side Dishes', 'Indian Dishes'] for main_cat Grocery\n",
      "['Grocery & Gourmet Food', 'Canned, Jarred & Packaged Foods', 'Meat, Poultry & Seafood', 'Seafood', 'Tuna Fish'] for main_cat Grocery\n",
      "['Grocery & Gourmet Food', 'Breads & Bakery', 'Cakes'] for main_cat Grocery\n",
      "['Grocery & Gourmet Food', 'Frozen', 'Ice Cream & Novelties'] for main_cat Health & Personal Care\n"
     ]
    }
   ],
   "source": [
    "for row in Amazon_meta_light.take(20):\n",
    "    print(row.category, 'for main_cat', row.main_cat)"
   ]
  },
  {
   "cell_type": "code",
   "execution_count": 27,
   "metadata": {},
   "outputs": [
    {
     "name": "stdout",
     "output_type": "stream",
     "text": [
      "Iguana Mean Green Jalapeno Pepper Sauce, 5 oz bottle | ['Grocery & Gourmet Food', 'Sauces, Gravies & Marinades', 'Hot Sauce']\n"
     ]
    }
   ],
   "source": [
    "for row in Amazon_meta_light.filter(udf(lambda x: x=='Iguana Mean Green Jalapeno Pepper Sauce, 5 oz bottle', sql.types.BooleanType())('title')).take(10):\n",
    "    print(row.title, row.category, sep=' | ')"
   ]
  },
  {
   "cell_type": "code",
   "execution_count": 29,
   "metadata": {},
   "outputs": [
    {
     "ename": "KeyboardInterrupt",
     "evalue": "",
     "output_type": "error",
     "traceback": [
      "\u001b[0;31m---------------------------------------------------------------------------\u001b[0m",
      "\u001b[0;31mKeyboardInterrupt\u001b[0m                         Traceback (most recent call last)",
      "\u001b[0;32m<ipython-input-29-76840c5c6570>\u001b[0m in \u001b[0;36m<module>\u001b[0;34m\u001b[0m\n\u001b[0;32m----> 1\u001b[0;31m \u001b[0mAmazon_reviews\u001b[0m \u001b[0;34m=\u001b[0m \u001b[0mspark\u001b[0m\u001b[0;34m.\u001b[0m\u001b[0mread\u001b[0m\u001b[0;34m.\u001b[0m\u001b[0mjson\u001b[0m\u001b[0;34m(\u001b[0m\u001b[0;34m\"data/Grocery_and_Gourmet_Food.json.gz\"\u001b[0m\u001b[0;34m)\u001b[0m\u001b[0;34m\u001b[0m\u001b[0;34m\u001b[0m\u001b[0m\n\u001b[0m\u001b[1;32m      2\u001b[0m \u001b[0;31m#Amazon_reviews = reload2('Amazon_reviews.parquet', Amazon_reviews)\u001b[0m\u001b[0;34m\u001b[0m\u001b[0;34m\u001b[0m\u001b[0;34m\u001b[0m\u001b[0m\n\u001b[1;32m      3\u001b[0m \u001b[0mAmazon_reviews\u001b[0m\u001b[0;34m.\u001b[0m\u001b[0mshow\u001b[0m\u001b[0;34m(\u001b[0m\u001b[0;36m2\u001b[0m\u001b[0;34m)\u001b[0m\u001b[0;34m\u001b[0m\u001b[0;34m\u001b[0m\u001b[0m\n",
      "\u001b[0;32m~/applications/miniconda3/envs/ada/lib/python3.6/site-packages/pyspark/sql/readwriter.py\u001b[0m in \u001b[0;36mjson\u001b[0;34m(self, path, schema, primitivesAsString, prefersDecimal, allowComments, allowUnquotedFieldNames, allowSingleQuotes, allowNumericLeadingZero, allowBackslashEscapingAnyCharacter, mode, columnNameOfCorruptRecord, dateFormat, timestampFormat, multiLine, allowUnquotedControlChars, lineSep, samplingRatio, dropFieldIfAllNull, encoding)\u001b[0m\n\u001b[1;32m    272\u001b[0m             \u001b[0mpath\u001b[0m \u001b[0;34m=\u001b[0m \u001b[0;34m[\u001b[0m\u001b[0mpath\u001b[0m\u001b[0;34m]\u001b[0m\u001b[0;34m\u001b[0m\u001b[0;34m\u001b[0m\u001b[0m\n\u001b[1;32m    273\u001b[0m         \u001b[0;32mif\u001b[0m \u001b[0mtype\u001b[0m\u001b[0;34m(\u001b[0m\u001b[0mpath\u001b[0m\u001b[0;34m)\u001b[0m \u001b[0;34m==\u001b[0m \u001b[0mlist\u001b[0m\u001b[0;34m:\u001b[0m\u001b[0;34m\u001b[0m\u001b[0;34m\u001b[0m\u001b[0m\n\u001b[0;32m--> 274\u001b[0;31m             \u001b[0;32mreturn\u001b[0m \u001b[0mself\u001b[0m\u001b[0;34m.\u001b[0m\u001b[0m_df\u001b[0m\u001b[0;34m(\u001b[0m\u001b[0mself\u001b[0m\u001b[0;34m.\u001b[0m\u001b[0m_jreader\u001b[0m\u001b[0;34m.\u001b[0m\u001b[0mjson\u001b[0m\u001b[0;34m(\u001b[0m\u001b[0mself\u001b[0m\u001b[0;34m.\u001b[0m\u001b[0m_spark\u001b[0m\u001b[0;34m.\u001b[0m\u001b[0m_sc\u001b[0m\u001b[0;34m.\u001b[0m\u001b[0m_jvm\u001b[0m\u001b[0;34m.\u001b[0m\u001b[0mPythonUtils\u001b[0m\u001b[0;34m.\u001b[0m\u001b[0mtoSeq\u001b[0m\u001b[0;34m(\u001b[0m\u001b[0mpath\u001b[0m\u001b[0;34m)\u001b[0m\u001b[0;34m)\u001b[0m\u001b[0;34m)\u001b[0m\u001b[0;34m\u001b[0m\u001b[0;34m\u001b[0m\u001b[0m\n\u001b[0m\u001b[1;32m    275\u001b[0m         \u001b[0;32melif\u001b[0m \u001b[0misinstance\u001b[0m\u001b[0;34m(\u001b[0m\u001b[0mpath\u001b[0m\u001b[0;34m,\u001b[0m \u001b[0mRDD\u001b[0m\u001b[0;34m)\u001b[0m\u001b[0;34m:\u001b[0m\u001b[0;34m\u001b[0m\u001b[0;34m\u001b[0m\u001b[0m\n\u001b[1;32m    276\u001b[0m             \u001b[0;32mdef\u001b[0m \u001b[0mfunc\u001b[0m\u001b[0;34m(\u001b[0m\u001b[0miterator\u001b[0m\u001b[0;34m)\u001b[0m\u001b[0;34m:\u001b[0m\u001b[0;34m\u001b[0m\u001b[0;34m\u001b[0m\u001b[0m\n",
      "\u001b[0;32m~/applications/miniconda3/envs/ada/lib/python3.6/site-packages/py4j/java_gateway.py\u001b[0m in \u001b[0;36m__call__\u001b[0;34m(self, *args)\u001b[0m\n\u001b[1;32m   1253\u001b[0m             \u001b[0mproto\u001b[0m\u001b[0;34m.\u001b[0m\u001b[0mEND_COMMAND_PART\u001b[0m\u001b[0;34m\u001b[0m\u001b[0;34m\u001b[0m\u001b[0m\n\u001b[1;32m   1254\u001b[0m \u001b[0;34m\u001b[0m\u001b[0m\n\u001b[0;32m-> 1255\u001b[0;31m         \u001b[0manswer\u001b[0m \u001b[0;34m=\u001b[0m \u001b[0mself\u001b[0m\u001b[0;34m.\u001b[0m\u001b[0mgateway_client\u001b[0m\u001b[0;34m.\u001b[0m\u001b[0msend_command\u001b[0m\u001b[0;34m(\u001b[0m\u001b[0mcommand\u001b[0m\u001b[0;34m)\u001b[0m\u001b[0;34m\u001b[0m\u001b[0;34m\u001b[0m\u001b[0m\n\u001b[0m\u001b[1;32m   1256\u001b[0m         return_value = get_return_value(\n\u001b[1;32m   1257\u001b[0m             answer, self.gateway_client, self.target_id, self.name)\n",
      "\u001b[0;32m~/applications/miniconda3/envs/ada/lib/python3.6/site-packages/py4j/java_gateway.py\u001b[0m in \u001b[0;36msend_command\u001b[0;34m(self, command, retry, binary)\u001b[0m\n\u001b[1;32m    983\u001b[0m         \u001b[0mconnection\u001b[0m \u001b[0;34m=\u001b[0m \u001b[0mself\u001b[0m\u001b[0;34m.\u001b[0m\u001b[0m_get_connection\u001b[0m\u001b[0;34m(\u001b[0m\u001b[0;34m)\u001b[0m\u001b[0;34m\u001b[0m\u001b[0;34m\u001b[0m\u001b[0m\n\u001b[1;32m    984\u001b[0m         \u001b[0;32mtry\u001b[0m\u001b[0;34m:\u001b[0m\u001b[0;34m\u001b[0m\u001b[0;34m\u001b[0m\u001b[0m\n\u001b[0;32m--> 985\u001b[0;31m             \u001b[0mresponse\u001b[0m \u001b[0;34m=\u001b[0m \u001b[0mconnection\u001b[0m\u001b[0;34m.\u001b[0m\u001b[0msend_command\u001b[0m\u001b[0;34m(\u001b[0m\u001b[0mcommand\u001b[0m\u001b[0;34m)\u001b[0m\u001b[0;34m\u001b[0m\u001b[0;34m\u001b[0m\u001b[0m\n\u001b[0m\u001b[1;32m    986\u001b[0m             \u001b[0;32mif\u001b[0m \u001b[0mbinary\u001b[0m\u001b[0;34m:\u001b[0m\u001b[0;34m\u001b[0m\u001b[0;34m\u001b[0m\u001b[0m\n\u001b[1;32m    987\u001b[0m                 \u001b[0;32mreturn\u001b[0m \u001b[0mresponse\u001b[0m\u001b[0;34m,\u001b[0m \u001b[0mself\u001b[0m\u001b[0;34m.\u001b[0m\u001b[0m_create_connection_guard\u001b[0m\u001b[0;34m(\u001b[0m\u001b[0mconnection\u001b[0m\u001b[0;34m)\u001b[0m\u001b[0;34m\u001b[0m\u001b[0;34m\u001b[0m\u001b[0m\n",
      "\u001b[0;32m~/applications/miniconda3/envs/ada/lib/python3.6/site-packages/py4j/java_gateway.py\u001b[0m in \u001b[0;36msend_command\u001b[0;34m(self, command)\u001b[0m\n\u001b[1;32m   1150\u001b[0m \u001b[0;34m\u001b[0m\u001b[0m\n\u001b[1;32m   1151\u001b[0m         \u001b[0;32mtry\u001b[0m\u001b[0;34m:\u001b[0m\u001b[0;34m\u001b[0m\u001b[0;34m\u001b[0m\u001b[0m\n\u001b[0;32m-> 1152\u001b[0;31m             \u001b[0manswer\u001b[0m \u001b[0;34m=\u001b[0m \u001b[0msmart_decode\u001b[0m\u001b[0;34m(\u001b[0m\u001b[0mself\u001b[0m\u001b[0;34m.\u001b[0m\u001b[0mstream\u001b[0m\u001b[0;34m.\u001b[0m\u001b[0mreadline\u001b[0m\u001b[0;34m(\u001b[0m\u001b[0;34m)\u001b[0m\u001b[0;34m[\u001b[0m\u001b[0;34m:\u001b[0m\u001b[0;34m-\u001b[0m\u001b[0;36m1\u001b[0m\u001b[0;34m]\u001b[0m\u001b[0;34m)\u001b[0m\u001b[0;34m\u001b[0m\u001b[0;34m\u001b[0m\u001b[0m\n\u001b[0m\u001b[1;32m   1153\u001b[0m             \u001b[0mlogger\u001b[0m\u001b[0;34m.\u001b[0m\u001b[0mdebug\u001b[0m\u001b[0;34m(\u001b[0m\u001b[0;34m\"Answer received: {0}\"\u001b[0m\u001b[0;34m.\u001b[0m\u001b[0mformat\u001b[0m\u001b[0;34m(\u001b[0m\u001b[0manswer\u001b[0m\u001b[0;34m)\u001b[0m\u001b[0;34m)\u001b[0m\u001b[0;34m\u001b[0m\u001b[0;34m\u001b[0m\u001b[0m\n\u001b[1;32m   1154\u001b[0m             \u001b[0;32mif\u001b[0m \u001b[0manswer\u001b[0m\u001b[0;34m.\u001b[0m\u001b[0mstartswith\u001b[0m\u001b[0;34m(\u001b[0m\u001b[0mproto\u001b[0m\u001b[0;34m.\u001b[0m\u001b[0mRETURN_MESSAGE\u001b[0m\u001b[0;34m)\u001b[0m\u001b[0;34m:\u001b[0m\u001b[0;34m\u001b[0m\u001b[0;34m\u001b[0m\u001b[0m\n",
      "\u001b[0;32m~/applications/miniconda3/envs/ada/lib/python3.6/socket.py\u001b[0m in \u001b[0;36mreadinto\u001b[0;34m(self, b)\u001b[0m\n\u001b[1;32m    584\u001b[0m         \u001b[0;32mwhile\u001b[0m \u001b[0;32mTrue\u001b[0m\u001b[0;34m:\u001b[0m\u001b[0;34m\u001b[0m\u001b[0;34m\u001b[0m\u001b[0m\n\u001b[1;32m    585\u001b[0m             \u001b[0;32mtry\u001b[0m\u001b[0;34m:\u001b[0m\u001b[0;34m\u001b[0m\u001b[0;34m\u001b[0m\u001b[0m\n\u001b[0;32m--> 586\u001b[0;31m                 \u001b[0;32mreturn\u001b[0m \u001b[0mself\u001b[0m\u001b[0;34m.\u001b[0m\u001b[0m_sock\u001b[0m\u001b[0;34m.\u001b[0m\u001b[0mrecv_into\u001b[0m\u001b[0;34m(\u001b[0m\u001b[0mb\u001b[0m\u001b[0;34m)\u001b[0m\u001b[0;34m\u001b[0m\u001b[0;34m\u001b[0m\u001b[0m\n\u001b[0m\u001b[1;32m    587\u001b[0m             \u001b[0;32mexcept\u001b[0m \u001b[0mtimeout\u001b[0m\u001b[0;34m:\u001b[0m\u001b[0;34m\u001b[0m\u001b[0;34m\u001b[0m\u001b[0m\n\u001b[1;32m    588\u001b[0m                 \u001b[0mself\u001b[0m\u001b[0;34m.\u001b[0m\u001b[0m_timeout_occurred\u001b[0m \u001b[0;34m=\u001b[0m \u001b[0;32mTrue\u001b[0m\u001b[0;34m\u001b[0m\u001b[0;34m\u001b[0m\u001b[0m\n",
      "\u001b[0;31mKeyboardInterrupt\u001b[0m: "
     ]
    }
   ],
   "source": [
    "#Amazon_reviews = spark.read.json(\"data/Grocery_and_Gourmet_Food.json.gz\")\n",
    "#Amazon_reviews = reload2('Amazon_reviews.parquet', Amazon_reviews)\n",
    "#Amazon_reviews.show(2)"
   ]
  },
  {
   "cell_type": "code",
   "execution_count": null,
   "metadata": {},
   "outputs": [],
   "source": [
    "#Amazon_reviews.printSchema()"
   ]
  },
  {
   "cell_type": "markdown",
   "metadata": {},
   "source": [
    "**Connect the two datasets**"
   ]
  },
  {
   "cell_type": "markdown",
   "metadata": {},
   "source": [
    "Use only a sample of the all Amazon datasets for the tests"
   ]
  },
  {
   "cell_type": "code",
   "execution_count": 30,
   "metadata": {},
   "outputs": [],
   "source": [
    "Amazon1 = Amazon_meta_light.sample(False, 0.1)\n",
    "Amazon1 = Amazon1.filter(~F.col('title').contains('{'))"
   ]
  },
  {
   "cell_type": "code",
   "execution_count": 31,
   "metadata": {},
   "outputs": [
    {
     "data": {
      "text/plain": [
       "28177"
      ]
     },
     "execution_count": 31,
     "metadata": {},
     "output_type": "execute_result"
    }
   ],
   "source": [
    "Amazon1.count() #number of rows in this test sample Amazon dataset"
   ]
  },
  {
   "cell_type": "code",
   "execution_count": 32,
   "metadata": {},
   "outputs": [],
   "source": [
    "products_lit_spark = spark.createDataFrame(products_litteral)#.limit(10000) #convert Instacart panda df to spark df\n",
    "products_lit_spark = products_lit_spark.withColumn('product_name', F.regexp_replace('product_name', '\\\\\\\"', ''))\n",
    "products_lit_spark = reload2('products_lit_spark.parquet', products_lit_spark)"
   ]
  },
  {
   "cell_type": "code",
   "execution_count": 33,
   "metadata": {},
   "outputs": [
    {
     "data": {
      "text/plain": [
       "48422"
      ]
     },
     "execution_count": 33,
     "metadata": {},
     "output_type": "execute_result"
    }
   ],
   "source": [
    "products_lit_spark.count()"
   ]
  },
  {
   "cell_type": "code",
   "execution_count": 34,
   "metadata": {},
   "outputs": [
    {
     "name": "stdout",
     "output_type": "stream",
     "text": [
      "+----------+--------------------+-----+----------+----------------+\n",
      "|product_id|        product_name|aisle|department|number_of_orders|\n",
      "+----------+--------------------+-----+----------+----------------+\n",
      "|     36629|Lucky Irish Break...|  tea| beverages|               9|\n",
      "|     36638|Scottish Breakfas...|  tea| beverages|              85|\n",
      "|     36694|White Tea Unsweet...|  tea| beverages|              28|\n",
      "|     36771|    Twig Kukicha Tea|  tea| beverages|              62|\n",
      "|     36890|Healthy Cycle Her...|  tea| beverages|              18|\n",
      "|     36891|Superfruit Pomegr...|  tea| beverages|               5|\n",
      "|     36902|RX Stress Herbal ...|  tea| beverages|              22|\n",
      "|     36951|   Organic White Tea|  tea| beverages|               6|\n",
      "|     37071|Herbal Tea, Caffe...|  tea| beverages|              41|\n",
      "|     37102|Honey Lemon Ginse...|  tea| beverages|              18|\n",
      "|     37118|Peach, Natural Bl...|  tea| beverages|              24|\n",
      "|     37154|Herbal Tea, Lemon...|  tea| beverages|               3|\n",
      "|     37175|Organic Gelatiniz...|  tea| beverages|              85|\n",
      "|     37188|Organic Lori's Le...|  tea| beverages|            1630|\n",
      "|     37210|Organic Mint Gree...|  tea| beverages|               7|\n",
      "|     37399|Pure Leaf Lemon I...|  tea| beverages|               9|\n",
      "|     37420|Gingerbread Spice...|  tea| beverages|              33|\n",
      "|     37440|Ginger & Turmeric...|  tea| beverages|              70|\n",
      "|     37487|Pure Leaf Unsweet...|  tea| beverages|             239|\n",
      "|     37612|Organic Cleanse H...|  tea| beverages|              22|\n",
      "+----------+--------------------+-----+----------+----------------+\n",
      "only showing top 20 rows\n",
      "\n"
     ]
    }
   ],
   "source": [
    "products_lit_spark.show()"
   ]
  },
  {
   "cell_type": "code",
   "execution_count": 35,
   "metadata": {},
   "outputs": [
    {
     "name": "stdout",
     "output_type": "stream",
     "text": [
      "Beemster Gouda - Aged 18/24 Months - App. 1.5 Lbs\n",
      "Trim Healthy Mama Xylitol\n",
      "Letter C - Swarovski Crystal Monogram Wedding Cake Topper Letter\n",
      "Letter H - Swarovski Crystal Monogram Wedding Cake Topper Letter\n",
      "Letter S - Swarovski Crystal Monogram Wedding Cake Topper Letter\n",
      "Letter J - Swarovski Crystal Monogram Wedding Cake Topper Letter\n",
      "1 X Fully Covered in Crystal Monogram Wedding Cake Topper Letter - Letter O\n",
      "Fully Covered in Crystal Monogram Wedding Cake Topper Letter - Letter R\n",
      "Letter L - Swarovski Crystal Monogram Wedding Cake Topper Letter\n",
      "Fully Covered in Crystal Monogram Wedding Cake Topper Letter - Letter C\n",
      "\n",
      "Lucky Irish Breakfast Pot Of Gold Tea\n",
      "Scottish Breakfast Tea\n",
      "White Tea Unsweetened Hint O'Mint\n",
      "Twig Kukicha Tea\n",
      "Healthy Cycle Herbal Tea Bags, Caffeine Free\n",
      "Superfruit Pomegranate Green Tea\n",
      "RX Stress Herbal Iced Tea\n",
      "Organic White Tea\n",
      "Herbal Tea, Caffeine Free, True Blueberry\n",
      "Honey Lemon Ginseng Green Tea Bags\n"
     ]
    }
   ],
   "source": [
    "for row in Amazon_meta_light.take(10):\n",
    "    print(row.title)\n",
    "print()\n",
    "for row in products_lit_spark.take(10):\n",
    "    print(row.product_name)"
   ]
  },
  {
   "cell_type": "markdown",
   "metadata": {},
   "source": [
    "**first try** Try to join by the name of the products "
   ]
  },
  {
   "cell_type": "code",
   "execution_count": 36,
   "metadata": {},
   "outputs": [],
   "source": [
    "df = Amazon1.join(products_lit_spark, F.col('title')== F.col('product_name'))"
   ]
  },
  {
   "cell_type": "code",
   "execution_count": 37,
   "metadata": {},
   "outputs": [
    {
     "data": {
      "text/plain": [
       "28"
      ]
     },
     "execution_count": 37,
     "metadata": {},
     "output_type": "execute_result"
    }
   ],
   "source": [
    "df.count()"
   ]
  },
  {
   "cell_type": "markdown",
   "metadata": {},
   "source": [
    "Not working, never more than a few fits (1 or 2) over the 2876 Amazon reviews and 49688 Instacart products"
   ]
  },
  {
   "cell_type": "markdown",
   "metadata": {},
   "source": [
    "**second try** Try to join on : if Instacart name is in the Amazon title"
   ]
  },
  {
   "cell_type": "markdown",
   "metadata": {},
   "source": [
    "Weird associations (still because of the non specific Instacart title). I think that is because I have a little Amazon sample, otherwise it would just drop almost every row"
   ]
  },
  {
   "cell_type": "markdown",
   "metadata": {},
   "source": [
    "**Third try** : only join the categories "
   ]
  },
  {
   "cell_type": "code",
   "execution_count": 38,
   "metadata": {},
   "outputs": [],
   "source": [
    "Amazon3 = Amazon1.select('title','category')"
   ]
  },
  {
   "cell_type": "code",
   "execution_count": 39,
   "metadata": {},
   "outputs": [],
   "source": [
    "Amazon3_cat_exploded = Amazon3.select('title', F.explode('category').alias('category'))\n",
    "Amazon3_cat_exploded = Amazon3_cat_exploded.filter(udf(lambda x: x!='Grocery & Gourmet Food', sql.types.BooleanType())('category'))\n",
    "\n",
    "Amazon3_cat_exploded = reload2('Amazon3_cat_exploded.parquet', Amazon3_cat_exploded)"
   ]
  },
  {
   "cell_type": "code",
   "execution_count": 40,
   "metadata": {},
   "outputs": [
    {
     "name": "stdout",
     "output_type": "stream",
     "text": [
      "+--------------------+--------------------+\n",
      "|               title|            category|\n",
      "+--------------------+--------------------+\n",
      "|Frontier Co-op Or...|Herbs, Spices & S...|\n",
      "|Frontier Co-op Or...|Single Herbs & Sp...|\n",
      "|Frontier Co-op Or...|              Cloves|\n",
      "|Frontier Pumpkin ...|Herbs, Spices & S...|\n",
      "|Frontier Pumpkin ...|Mixed Spices & Se...|\n",
      "+--------------------+--------------------+\n",
      "only showing top 5 rows\n",
      "\n"
     ]
    }
   ],
   "source": [
    "Amazon3_cat_exploded.show(5)"
   ]
  },
  {
   "cell_type": "code",
   "execution_count": 41,
   "metadata": {},
   "outputs": [
    {
     "name": "stdout",
     "output_type": "stream",
     "text": [
      "root\n",
      " |-- title: string (nullable = true)\n",
      " |-- category: string (nullable = true)\n",
      "\n",
      "root\n",
      " |-- product_id: long (nullable = true)\n",
      " |-- product_name: string (nullable = true)\n",
      " |-- aisle: string (nullable = true)\n",
      " |-- department: string (nullable = true)\n",
      " |-- number_of_orders: long (nullable = true)\n",
      "\n"
     ]
    }
   ],
   "source": [
    "Amazon3_cat_exploded.printSchema()\n",
    "products_lit_spark.printSchema()"
   ]
  },
  {
   "cell_type": "code",
   "execution_count": 42,
   "metadata": {},
   "outputs": [],
   "source": [
    "df3 = Amazon3_cat_exploded.join(products_lit_spark, products_lit_spark.aisle==Amazon3_cat_exploded.category)"
   ]
  },
  {
   "cell_type": "code",
   "execution_count": 43,
   "metadata": {},
   "outputs": [
    {
     "data": {
      "text/plain": [
       "0"
      ]
     },
     "execution_count": 43,
     "metadata": {},
     "output_type": "execute_result"
    }
   ],
   "source": [
    "df3.count()"
   ]
  },
  {
   "cell_type": "markdown",
   "metadata": {},
   "source": [
    "Not the same exact names of categories, so nto working"
   ]
  },
  {
   "cell_type": "code",
   "execution_count": 44,
   "metadata": {},
   "outputs": [
    {
     "data": {
      "text/plain": [
       "983"
      ]
     },
     "execution_count": 44,
     "metadata": {},
     "output_type": "execute_result"
    }
   ],
   "source": [
    "len(Amazon3_cat_exploded.select('category').distinct().collect())"
   ]
  },
  {
   "cell_type": "markdown",
   "metadata": {},
   "source": [
    "There are too many categories for us to pair them by hand."
   ]
  },
  {
   "cell_type": "markdown",
   "metadata": {},
   "source": [
    "**fourth try** : joindre les categories Amazon et les aisles Instacart avec des mots en commun"
   ]
  },
  {
   "cell_type": "code",
   "execution_count": 45,
   "metadata": {},
   "outputs": [
    {
     "name": "stdout",
     "output_type": "stream",
     "text": [
      "+----------+--------------------+-----+----------+----------------+------+------+\n",
      "|product_id|        product_name|aisle|department|number_of_orders|aisle1|aisle2|\n",
      "+----------+--------------------+-----+----------+----------------+------+------+\n",
      "|     36629|Lucky Irish Break...|  tea| beverages|               9|   tea|  null|\n",
      "|     36638|Scottish Breakfas...|  tea| beverages|              85|   tea|  null|\n",
      "|     36694|White Tea Unsweet...|  tea| beverages|              28|   tea|  null|\n",
      "|     36771|    Twig Kukicha Tea|  tea| beverages|              62|   tea|  null|\n",
      "|     36890|Healthy Cycle Her...|  tea| beverages|              18|   tea|  null|\n",
      "|     36891|Superfruit Pomegr...|  tea| beverages|               5|   tea|  null|\n",
      "|     36902|RX Stress Herbal ...|  tea| beverages|              22|   tea|  null|\n",
      "|     36951|   Organic White Tea|  tea| beverages|               6|   tea|  null|\n",
      "|     37071|Herbal Tea, Caffe...|  tea| beverages|              41|   tea|  null|\n",
      "|     37102|Honey Lemon Ginse...|  tea| beverages|              18|   tea|  null|\n",
      "|     37118|Peach, Natural Bl...|  tea| beverages|              24|   tea|  null|\n",
      "|     37154|Herbal Tea, Lemon...|  tea| beverages|               3|   tea|  null|\n",
      "|     37175|Organic Gelatiniz...|  tea| beverages|              85|   tea|  null|\n",
      "|     37188|Organic Lori's Le...|  tea| beverages|            1630|   tea|  null|\n",
      "|     37210|Organic Mint Gree...|  tea| beverages|               7|   tea|  null|\n",
      "|     37399|Pure Leaf Lemon I...|  tea| beverages|               9|   tea|  null|\n",
      "|     37420|Gingerbread Spice...|  tea| beverages|              33|   tea|  null|\n",
      "|     37440|Ginger & Turmeric...|  tea| beverages|              70|   tea|  null|\n",
      "|     37487|Pure Leaf Unsweet...|  tea| beverages|             239|   tea|  null|\n",
      "|     37612|Organic Cleanse H...|  tea| beverages|              22|   tea|  null|\n",
      "+----------+--------------------+-----+----------+----------------+------+------+\n",
      "only showing top 20 rows\n",
      "\n",
      "+----------+--------------------+-----+----------+----------------+-----------+\n",
      "|product_id|        product_name|aisle|department|number_of_orders|aisle_words|\n",
      "+----------+--------------------+-----+----------+----------------+-----------+\n",
      "|     36629|Lucky Irish Break...|  tea| beverages|               9|      [tea]|\n",
      "|     36638|Scottish Breakfas...|  tea| beverages|              85|      [tea]|\n",
      "|     36694|White Tea Unsweet...|  tea| beverages|              28|      [tea]|\n",
      "|     36771|    Twig Kukicha Tea|  tea| beverages|              62|      [tea]|\n",
      "|     36890|Healthy Cycle Her...|  tea| beverages|              18|      [tea]|\n",
      "|     36891|Superfruit Pomegr...|  tea| beverages|               5|      [tea]|\n",
      "|     36902|RX Stress Herbal ...|  tea| beverages|              22|      [tea]|\n",
      "|     36951|   Organic White Tea|  tea| beverages|               6|      [tea]|\n",
      "|     37071|Herbal Tea, Caffe...|  tea| beverages|              41|      [tea]|\n",
      "|     37102|Honey Lemon Ginse...|  tea| beverages|              18|      [tea]|\n",
      "|     37118|Peach, Natural Bl...|  tea| beverages|              24|      [tea]|\n",
      "|     37154|Herbal Tea, Lemon...|  tea| beverages|               3|      [tea]|\n",
      "|     37175|Organic Gelatiniz...|  tea| beverages|              85|      [tea]|\n",
      "|     37188|Organic Lori's Le...|  tea| beverages|            1630|      [tea]|\n",
      "|     37210|Organic Mint Gree...|  tea| beverages|               7|      [tea]|\n",
      "|     37399|Pure Leaf Lemon I...|  tea| beverages|               9|      [tea]|\n",
      "|     37420|Gingerbread Spice...|  tea| beverages|              33|      [tea]|\n",
      "|     37440|Ginger & Turmeric...|  tea| beverages|              70|      [tea]|\n",
      "|     37487|Pure Leaf Unsweet...|  tea| beverages|             239|      [tea]|\n",
      "|     37612|Organic Cleanse H...|  tea| beverages|              22|      [tea]|\n",
      "+----------+--------------------+-----+----------+----------------+-----------+\n",
      "only showing top 20 rows\n",
      "\n"
     ]
    }
   ],
   "source": [
    "#separate Instacart aisle name, because names are too specific (to match cookies cakes with snack cakes for instance)\n",
    "split_col = split(products_lit_spark['aisle'], ' ')\n",
    "split_aisle = products_lit_spark.withColumn('aisle1', split_col.getItem(0))\n",
    "split_aisle = split_aisle.withColumn('aisle2', split_col.getItem(1))\n",
    "split_aisle = reload2('split_aisle.parquet', split_aisle)\n",
    "split_aisle.show()\n",
    "split_aisles = products_lit_spark.withColumn('aisle_words', split_col)\n",
    "split_aisles = reload2('split_aisles.parquet', split_aisles)\n",
    "split_aisles.show()"
   ]
  },
  {
   "cell_type": "code",
   "execution_count": 46,
   "metadata": {},
   "outputs": [],
   "source": [
    "#see if aisle words are included in the category name Amazon \n",
    "df4 = Amazon3_cat_exploded.select('category').distinct().join(split_aisle.select('aisle1', 'aisle2').distinct(), F.col('category').contains(F.col('aisle1')) | F.col('category').contains(F.col('aisle2')))\n",
    "df4 = reload2('df4.parquet', df4)"
   ]
  },
  {
   "cell_type": "code",
   "execution_count": 47,
   "metadata": {},
   "outputs": [
    {
     "name": "stdout",
     "output_type": "stream",
     "text": [
      "+--------------------+--------+-----------+\n",
      "|            category|  aisle1|     aisle2|\n",
      "+--------------------+--------+-----------+\n",
      "|This brown sugar ...|   first|        aid|\n",
      "|This brown sugar ...|     red|      wines|\n",
      "|This brown sugar ...|    more|  household|\n",
      "|-Irish Coffee Fud...|     eye|        ear|\n",
      "|-Irish Coffee Fud...|     soy|lactosefree|\n",
      "|-Irish Coffee Fud...|    nuts|      seeds|\n",
      "|-Irish Coffee Fud...|    milk|       null|\n",
      "|20 easy prefilled...|    eggs|       null|\n",
      "|20 easy prefilled...|   candy|  chocolate|\n",
      "|To best care for ...|  facial|       care|\n",
      "|To best care for ...|   water|    seltzer|\n",
      "|To best care for ...|    skin|       care|\n",
      "|To best care for ...|     dry|      pasta|\n",
      "|To best care for ...|    hair|       care|\n",
      "|To best care for ...|feminine|       care|\n",
      "|To best care for ...|    cold|        flu|\n",
      "|Animal fans will ...|    eggs|       null|\n",
      "|Powdered Drink Mi...|     red|      wines|\n",
      "|2 bags of edible ...|   trash|       bags|\n",
      "|2 bags of edible ...|   trail|        mix|\n",
      "+--------------------+--------+-----------+\n",
      "only showing top 20 rows\n",
      "\n",
      "This brown sugar keeps the raw ingredient without refinement in order to keep more vitamin and Mineral Substance, authentic traditional brown sugar has to be stewed slowly by the firewood. The duration and degree of heating of stewing brown sugar should be paid great attention. If the stewing period lasts one more minute, then the surface of brown sugar cant be lumps; if the stewing period lastes one less minute, then the sweetness of the brown sugar will not be enough\n",
      "This brown sugar keeps the raw ingredient without refinement in order to keep more vitamin and Mineral Substance, authentic traditional brown sugar has to be stewed slowly by the firewood. The duration and degree of heating of stewing brown sugar should be paid great attention. If the stewing period lasts one more minute, then the surface of brown sugar cant be lumps; if the stewing period lastes one less minute, then the sweetness of the brown sugar will not be enough\n",
      "This brown sugar keeps the raw ingredient without refinement in order to keep more vitamin and Mineral Substance, authentic traditional brown sugar has to be stewed slowly by the firewood. The duration and degree of heating of stewing brown sugar should be paid great attention. If the stewing period lasts one more minute, then the surface of brown sugar cant be lumps; if the stewing period lastes one less minute, then the sweetness of the brown sugar will not be enough\n",
      "-Irish Coffee Fudge -Individually wrapped -Kate Kearney -Contains milk & may contain traces of nuts -soya & gluten\n",
      "-Irish Coffee Fudge -Individually wrapped -Kate Kearney -Contains milk & may contain traces of nuts -soya & gluten\n",
      "-Irish Coffee Fudge -Individually wrapped -Kate Kearney -Contains milk & may contain traces of nuts -soya & gluten\n",
      "-Irish Coffee Fudge -Individually wrapped -Kate Kearney -Contains milk & may contain traces of nuts -soya & gluten\n",
      "20 easy prefilled Easter eggs with 3 candy assortments including Brach's Jellybeans and Chewy Lemonheads\n",
      "20 easy prefilled Easter eggs with 3 candy assortments including Brach's Jellybeans and Chewy Lemonheads\n",
      "To best care for printed apparel: Wash in cold water, Hang to dry, Do not feed after midnight.\n",
      "To best care for printed apparel: Wash in cold water, Hang to dry, Do not feed after midnight.\n",
      "To best care for printed apparel: Wash in cold water, Hang to dry, Do not feed after midnight.\n",
      "To best care for printed apparel: Wash in cold water, Hang to dry, Do not feed after midnight.\n",
      "To best care for printed apparel: Wash in cold water, Hang to dry, Do not feed after midnight.\n",
      "To best care for printed apparel: Wash in cold water, Hang to dry, Do not feed after midnight.\n",
      "To best care for printed apparel: Wash in cold water, Hang to dry, Do not feed after midnight.\n",
      "Animal fans will be thrilled with Easter eggs themed with fun tigers, elephants, hippos, and monkeys!\n",
      "Powdered Drink Mixes & Flavorings\n",
      "2 bags of edible Easter grass in blueberry and green apple flavors. Enough to fill 2 small Easter baskets or mix flavors to fill 1 large Easter basket!\n",
      "2 bags of edible Easter grass in blueberry and green apple flavors. Enough to fill 2 small Easter baskets or mix flavors to fill 1 large Easter basket!\n"
     ]
    }
   ],
   "source": [
    "df4.show(20)\n",
    "for row in df4.take(20):\n",
    "    print(row.category)"
   ]
  },
  {
   "cell_type": "markdown",
   "metadata": {},
   "source": [
    "ça ne marche pas du tout : il faut faire matcher les mots entier, pas juste \"contains\" !"
   ]
  },
  {
   "cell_type": "code",
   "execution_count": 48,
   "metadata": {},
   "outputs": [],
   "source": [
    "#avec pyspark, necessité de passer par les fonctions python udf\n",
    "mots_udf = udf(lambda x: list(set(re.compile(\"\\\\W+\").split(x))), sql.types.ArrayType(sql.types.StringType()))"
   ]
  },
  {
   "cell_type": "code",
   "execution_count": 49,
   "metadata": {},
   "outputs": [],
   "source": [
    "Amazon4 = Amazon3_cat_exploded.withColumn('mots', mots_udf(Amazon3_cat_exploded.category))\n",
    "Amazon4 = reload2('Amazon4.parquet', Amazon4)"
   ]
  },
  {
   "cell_type": "code",
   "execution_count": 50,
   "metadata": {},
   "outputs": [
    {
     "name": "stdout",
     "output_type": "stream",
     "text": [
      "+--------------------+--------------------+--------------------+\n",
      "|               title|            category|                mots|\n",
      "+--------------------+--------------------+--------------------+\n",
      "|Frontier Co-op Or...|Herbs, Spices & S...|[Herbs, Spices, S...|\n",
      "|Frontier Co-op Or...|Single Herbs & Sp...|[Herbs, Spices, S...|\n",
      "|Frontier Co-op Or...|              Cloves|            [Cloves]|\n",
      "|Frontier Pumpkin ...|Herbs, Spices & S...|[Herbs, Spices, S...|\n",
      "|Frontier Pumpkin ...|Mixed Spices & Se...|[Seasonings, Spic...|\n",
      "+--------------------+--------------------+--------------------+\n",
      "only showing top 5 rows\n",
      "\n"
     ]
    }
   ],
   "source": [
    "Amazon4.show(5)"
   ]
  },
  {
   "cell_type": "code",
   "execution_count": 51,
   "metadata": {},
   "outputs": [],
   "source": [
    "#see if aisle words are included in the category name Amazon \n",
    "#df4_2 = Amazon4.select('mots').distinct().join(split_aisle.select('aisle1', 'aisle2').distinct(), F.array_contains('mots', 'aisle1') or F.array_contains('mots', 'aisle2'))\n",
    "\n",
    "contains_udf = udf(lambda x,y: F.array_contains(x, y), sql.types.BooleanType())\n",
    "\n",
    "#df4_2 = Amazon4.select('mots').distinct().join(split_aisle.select('aisle1', 'aisle2').distinct(), contains_udf(Amazon4.mots, split_aisle.aisle1))\n",
    "#df4_2 = reload('df4_2.parquet', df4_2)\n",
    "#df4_2.show()\n",
    "#testdf = Amazon4.withColumn('contains', contains_udf(Amazon4.mots, split_aisle.aisle1))"
   ]
  },
  {
   "cell_type": "code",
   "execution_count": 52,
   "metadata": {},
   "outputs": [],
   "source": [
    "#df?? = Amazon3_cat_exploded.join(products_lit_spark, products_lit_spark.aisle==Amazon3_cat_exploded.category)"
   ]
  },
  {
   "cell_type": "markdown",
   "metadata": {},
   "source": [
    "**Essayons de regarder comment se passe le join sur les noms**"
   ]
  },
  {
   "cell_type": "code",
   "execution_count": 53,
   "metadata": {},
   "outputs": [
    {
     "name": "stdout",
     "output_type": "stream",
     "text": [
      "28177\n",
      "28109\n",
      "['', '14', 'Mango', 'Langers', 'Lite', 'Fresca', 'Ounce', 'Pack', '12', 'Aqua', 'of', 'Juice']\n",
      "['', '3', '1oz', 'Mars', 'in', 'Bag', '88gr', 'Maltesers']\n",
      "['', '3', 'Blend', 'Nguyen', 'Pack', 'Premium', 'Oz', 'of', '15', 'Trung']\n",
      "['', '3', 'Pepper', 'Habanero', 'Jerky', 'Ounce', 'with', '4', 'Package', 'Kickin', 'Pack', 'Beef', 'of', 'Ass']\n",
      "['', '32', 'of', 'Red', 'Ounce', 'Pack', '12', 'Fine', 'Burghul', 'Ziyad']\n",
      "['', '365', 'Mayonnaise', 'Pack', 'Everyday', '12', 'Organic', 'of', 'Value']\n",
      "['', '5', '3', 'St', 'Organics', 's', '1', 'Bundle', 'Tin', 'of', 'Spearmints', 'Claire', 'oz']\n",
      "['', '5', 'Chocolate', '3', 'Black', 'Mix', 'Ounce', 'Hot', 'Pack', '4', 'Organic', 'Canisters', 'of', 'Green']\n",
      "['', '5', 'Chocolate', 'Imported', '750', 'Duca', 'Riserva', 'Dark', 'Panettone', 'Chip', '26', 'Ounces', 'grams', 'Italy', 'from']\n",
      "['', '5', 'Fruit', 'Marzipan', 'Assortment', 'Oz', '8']\n"
     ]
    }
   ],
   "source": [
    "Amazon_title_as_words = Amazon1.withColumn('title_words', mots_udf('title'))\n",
    "print(Amazon_title_as_words.count())\n",
    "Amazon_title_as_words = Amazon_title_as_words.withColumn('str_wds', F.col('title_words').cast('string'))\n",
    "Amazon_title_as_words = Amazon_title_as_words.dropDuplicates(subset=['str_wds']).drop('str_wds')\n",
    "print(Amazon_title_as_words.count())\n",
    "Amazon_title_as_words = reload2('Amazon_title_as_words.parquet', Amazon_title_as_words)\n",
    "for row in Amazon_title_as_words.take(10):\n",
    "    print(row.title_words)"
   ]
  },
  {
   "cell_type": "code",
   "execution_count": 54,
   "metadata": {},
   "outputs": [
    {
     "name": "stdout",
     "output_type": "stream",
     "text": [
      "48422\n",
      "47125\n",
      "+----------+--------------------+--------------------+---------------+----------------+--------------------+\n",
      "|product_id|        product_name|               aisle|     department|number_of_orders|          name_words|\n",
      "+----------+--------------------+--------------------+---------------+----------------+--------------------+\n",
      "|     35417| Reduced Fat Milk 2%|                milk|     dairy eggs|            2268|[, Fat, 2, Milk, ...|\n",
      "|     14214|Gentle Iron 28mg ...|vitamins supplements|  personal care|               7|[28mg, Gentle, Ir...|\n",
      "|     29847|Wrigley's 5 React...|            mint gum|         snacks|              18|[5, Mint, Unique,...|\n",
      "|     42502|ProActive Health ...|       dog food care|           pets|             161|[Adult, Food, Pro...|\n",
      "|     19942|Aged Balsamic Vin...|       oils vinegars|         pantry|              43|[Aged, Modena, Of...|\n",
      "|      9960|Moving And Storag...|      more household|      household|              34|[And, Moving, Tap...|\n",
      "|      3912|Advanced Solid Od...|          deodorants|  personal care|              11|[Anti, Deodorant,...|\n",
      "|     48173|Juices To Go Appl...|       juice nectars|      beverages|              89|[Apple, Go, Juice...|\n",
      "|     17212|      Bacon Scramble|    frozen breakfast|         frozen|              59|   [Bacon, Scramble]|\n",
      "|     49260|Organic Purely Pe...|                 tea|      beverages|            1182|[Bags, Purely, Te...|\n",
      "|     30478|Organic Raw Walnu...| energy granola bars|         snacks|              75|[Bar, Banana, Pro...|\n",
      "|     48834|Lemon Bar Fruit &...| energy granola bars|         snacks|              58|[Bar, Bars, Fruit...|\n",
      "|     26491|Full Size Milk Ch...|     candy chocolate|         snacks|             101|[Bar, Chocolate, ...|\n",
      "|     30708|Milk Chocolate Wi...|     candy chocolate|         snacks|              16|[Bar, Chocolate, ...|\n",
      "|     12114|Buffalo Meat Bar ...|       popcorn jerky|         snacks|              33|[Bar, Cranberries...|\n",
      "|     14025|     Almond Oat Bars| energy granola bars|         snacks|             116| [Bars, Almond, Oat]|\n",
      "|      5029|Chocolate Chip Wi...|       ice cream ice|         frozen|              54|[Bean, Chocolate,...|\n",
      "|     32717|         Baked Beans|  canned meals beans|   canned goods|            4693|      [Beans, Baked]|\n",
      "|     22389|     Dry Black Beans|  canned meals beans|   canned goods|              59| [Beans, Black, Dry]|\n",
      "|     19812|Brown Rice & Blac...|grains rice dried...|dry goods pasta|              71|[Beans, Rice, Bla...|\n",
      "|     34365|        Beef Oxtails|        meat counter|   meat seafood|              42|     [Beef, Oxtails]|\n",
      "|     44908|               Beets|    fresh vegetables|        produce|             128|             [Beets]|\n",
      "|     49542|Grapefruit Bergam...|               other|          other|               3|[Bergamot, Foamin...|\n",
      "|     41809|Crunchy Sunflower...|            crackers|         snacks|             267|[Bites, Pepper, S...|\n",
      "|     34184|Organic Apples & ...|   baby food formula|         babies|              15|[Blueberries, Bab...|\n",
      "|      7391|        Beef Bologna|          lunch meat|           deli|             807|     [Bologna, Beef]|\n",
      "|     15238|Organic Bourbon V...|protein meal repl...|  personal care|              11|[Bourbon, Protein...|\n",
      "|     48119|Old-Fashioned Swe...|pickled goods olives|         pantry|             266|[Bread, Fashioned...|\n",
      "|     41277|        French Bread|               bread|         bakery|            1200|     [Bread, French]|\n",
      "|     16788|    Hearty Rye Bread|               bread|         bakery|              50|[Bread, Rye, Hearty]|\n",
      "|     22398|Natural Harvest 1...|               bread|         bakery|              16|[Bread, Whole, Gr...|\n",
      "|     23879|Applewood Smoked ...|          lunch meat|           deli|            3732|[Breast, Applewoo...|\n",
      "|     26074|Turkey Brine Seas...|   spices seasonings|         pantry|               6|[Brine, Seasoning...|\n",
      "|     42662|Brooklyn Bred Bis...|               bread|         bakery|              23|[Buns, Bred, Broo...|\n",
      "|      3826|Hemp & Greens Burger|frozen vegan vege...|         frozen|             441|[Burger, Hemp, Gr...|\n",
      "|     22114|Organic Garden He...|frozen vegan vege...|         frozen|             306|[Burgers, Garden,...|\n",
      "|     40854|Tequila Salsa Med...|preserved dips sp...|         pantry|              20|[Burn, Tequila, M...|\n",
      "|     49502|Sweet Cream Unsal...|     packaged cheese|     dairy eggs|              29|[Butter, Cream, U...|\n",
      "|     40013| Chicken Caesar Wrap|      prepared meals|           deli|             247|[Caesar, Wrap, Ch...|\n",
      "|     13256|          Cappuccino| energy granola bars|         snacks|             140|        [Cappuccino]|\n",
      "|     26021| Caramel Nut Brownie| energy granola bars|         snacks|             918|[Caramel, Nut, Br...|\n",
      "|      5742|Caramel Flavored ...|  ice cream toppings|         snacks|             166|[Caramel, Topping...|\n",
      "|     49444|Daily Moisture Re...|           hair care|  personal care|               9|[Care, Renewal, f...|\n",
      "|       238|Alpha-Bits Multig...|              cereal|      breakfast|              26|[Cereal, Bits, Mu...|\n",
      "|     11539|Chipotle Cheddar ...|      prepared meals|           deli|               4|[Cheddar, Cheese,...|\n",
      "|     28855|Organic 100% Juic...|       juice nectars|      beverages|              21|[Cherry, Black, O...|\n",
      "|     33409|Sugar Free Cherry...|doughs gelatins b...|         pantry|              20|[Cherry, Sugar, G...|\n",
      "|     15300|Hot Red Chile Enc...|        latino foods|  international|              65|[Chile, Red, Sauc...|\n",
      "|     31793|Organic Chili Powder|   spices seasonings|         pantry|             314|[Chili, Powder, O...|\n",
      "|     20994|            Chinotto|water seltzer spa...|      beverages|              49|          [Chinotto]|\n",
      "|     49524|Zero Non-Chlorine...|             laundry|      household|             428|[Chlorine, Non, B...|\n",
      "|     15315|Brownie Mix Milk ...|doughs gelatins b...|         pantry|              36|[Chocolate, Famil...|\n",
      "|      6720|White Chocolate C...|  baking ingredients|         pantry|              52|[Chocolate, White...|\n",
      "|     41921| Frozen Mango Chunks|      frozen produce|         frozen|             448|[Chunks, Mango, F...|\n",
      "|     34754|Ponzu Citrus Seas...|         asian foods|  international|             114|[Citrus, Sauce, D...|\n",
      "|     22655|Summer Citrus Sce...|   cleaning products|      household|             368|[Citrus, Summer, ...|\n",
      "|      9446|Classic White Des...|plates bowls cups...|      household|              29|[Classic, Plate, ...|\n",
      "|     12218| Classic Wheat Bread|               bread|         bakery|            3026|[Classic, Wheat, ...|\n",
      "|     39603|Leather Cleaner &...|   cleaning products|      household|              21|[Cleaner, Leather...|\n",
      "|     31989|with Bleach Powde...|   cleaning products|      household|              74|[Cleanser, Powder...|\n",
      "|      8098|Seasoned Collard ...|canned jarred veg...|   canned goods|              94|[Collard, Seasone...|\n",
      "|      2746|Organic Multi Col...|      frozen produce|         frozen|              41|[Color, Carrots, ...|\n",
      "|     41428|Chicken Broth Liq...| soup broth bouillon|   canned goods|              42|[Concentrate, Bro...|\n",
      "|     12712|Mega Moist Condit...|           hair care|  personal care|              62|[Conditioner, Meg...|\n",
      "|     44779|Carb Smart Vanill...|       ice cream ice|         frozen|             116|[Cream, Smart, Ba...|\n",
      "|     41026|Organic Natural C...| soup broth bouillon|   canned goods|             445|[Creamy, Garden, ...|\n",
      "|     38615|Cheese & Garlic T...|salad dressing to...|         pantry|             214|[Croutons, Texas,...|\n",
      "|     43021|Antiperspirant/De...|          deodorants|  personal care|              16|[Deodorant, Clear...|\n",
      "|     39289|Medium Designer H...|      more household|      household|              10|[Designer, Hook, ...|\n",
      "|     20992|Ultra Antibacteri...|     dish detergents|      household|               7|[Dish, Blossom, L...|\n",
      "|     30778|Ultra Original Sc...|     dish detergents|      household|             385|[Dish, Original, ...|\n",
      "|     46204|Double Chocolate ...|       ice cream ice|         frozen|             187|[Double, Sandwich...|\n",
      "|      7228|Organic Italian D...|salad dressing to...|         pantry|            1805|[Dressing, Organi...|\n",
      "|     43763|Dressing & Sandwi...|             spreads|         pantry|               9|[Dressing, Sandwi...|\n",
      "|     35277|Balsamic Vinaigre...|salad dressing to...|         pantry|             198|[Dressing, Vinaig...|\n",
      "|     11266|        Dried Mangos|nuts seeds dried ...|         snacks|            4081|     [Dried, Mangos]|\n",
      "|     41432|Duck & Sweet Pota...|       dog food care|           pets|              32|[Duck, Potato, Fo...|\n",
      "|     29950|Spicy Uncured Bac...|    frozen breakfast|         frozen|             608|[Egg, Burrito, Po...|\n",
      "|     39021|Large Elbow Macaroni|           dry pasta|dry goods pasta|             447|[Elbow, Macaroni,...|\n",
      "|      6916|Fresh Scentsation...|   cleaning products|      household|              27|[Eliminator, Scen...|\n",
      "|     17552|Maximum Itchy Eye...|        eye ear care|  personal care|              19|[Eye, Maximum, Re...|\n",
      "|     10902|Kosher Reduced Fa...|hot dogs bacon sa...|   meat seafood|             739|[Fat, Kosher, Bee...|\n",
      "|     15142|Low Fat Milk With...|                milk|     dairy eggs|              11|[Fat, Milk, Vitam...|\n",
      "|     34812|   Light Feta Cheese|     packaged cheese|     dairy eggs|              52|[Feta, Light, Che...|\n",
      "|     24806|       Black Fig Bar|     candy chocolate|         snacks|              17|   [Fig, Bar, Black]|\n",
      "|      4497|Pasta Sides Chick...|       instant foods|dry goods pasta|             358|[Flavor, Pasta, S...|\n",
      "|     18047|    Premium Dog Food|       dog food care|           pets|               3|[Food, Premium, Dog]|\n",
      "|     31252|Fat Free Refried ...|  canned meals beans|   canned goods|             154|[Free, Beans, Fat...|\n",
      "|     34868|V Fusion Pineappl...|       juice nectars|      beverages|              31|[Fruit, Strawberr...|\n",
      "|      1176|  Garlic Texas Toast|frozen breads doughs|         frozen|             881|[Garlic, Texas, T...|\n",
      "|      9012|Gluten Free Kale ...|               bread|         bakery|              42|[Gluten, Kale, Fr...|\n",
      "|     13524|Gluten Free Plain...|frozen breads doughs|         frozen|             859|[Gluten, Plain, F...|\n",
      "|     29069|    Parmesan Gnocchi|         fresh pasta|dry goods pasta|              57| [Gnocchi, Parmesan]|\n",
      "|     10515|100% Pure Organic...|honeys syrups nec...|         pantry|              32|[Grade, Syrup, Pu...|\n",
      "|     33589|G2 Grape Sports D...|energy sports drinks|      beverages|            1886|[Grape, G2, Sport...|\n",
      "|     21804|Organic Roast Tur...|      prepared meals|           deli|             168|[Gravy, Roast, Or...|\n",
      "|     11674|Toothpaste, Fluor...|        oral hygiene|  personal care|              40|[Great, Toothpast...|\n",
      "|     30078|Salt Free  Chicke...|   spices seasonings|         pantry|              21|[Grilling, Chicke...|\n",
      "|     37757|Fresh Ground Crun...|             spreads|         pantry|              45|[Ground, Peanut, ...|\n",
      "|     21848|Grove Made Orange...|        refrigerated|      beverages|              70|[Grove, Juice, Ma...|\n",
      "|     12197|Wax Strips, Face ...|         shave needs|  personal care|              29|[Hair, Types, Fac...|\n",
      "|     33161|  Deviled Ham Spread| canned meat seafood|   canned goods|             103|[Ham, Deviled, Sp...|\n",
      "|     36388|      Hardwood Bacon|hot dogs bacon sa...|   meat seafood|              32|   [Hardwood, Bacon]|\n",
      "|     48692|Almond Hazelnut C...|              coffee|      beverages|              78|[Hazelnut, Creame...|\n",
      "|     22452|Toothbrushes, Sof...|        oral hygiene|  personal care|             152|[Head, Pack, Full...|\n",
      "|     17633|Sliced Heirloom P...|packaged vegetabl...|        produce|              31|[Heirloom, Mushro...|\n",
      "|     25647|     Heirloom Tomato|    fresh vegetables|        produce|            5158|  [Heirloom, Tomato]|\n",
      "|     27807|Homestyle Beef Sk...|        frozen meals|         frozen|               5|[Homestyle, Beef,...|\n",
      "|     49419|    Organic Horchata|        refrigerated|      beverages|               7| [Horchata, Organic]|\n",
      "|     32562|Vanilla Ice Cream...|       ice cream ice|         frozen|             573|[Ice, Cookies, Cr...|\n",
      "|     11567|Chocolate Fudge I...|       ice cream ice|         frozen|              33|[Ice, Fudge, Choc...|\n",
      "|     14007|Fructis® Sleek & ...|           hair care|  personal care|              34|[Intensely, Cream...|\n",
      "|     21905|Irish Breakfast B...|                 tea|      beverages|              18|[Irish, Tea, Brea...|\n",
      "|      6044|       Island Fruits|nuts seeds dried ...|         snacks|              11|    [Island, Fruits]|\n",
      "|     17239|Smoky Jerky Snack...|       dog food care|           pets|              25|[Jerky, Treats, S...|\n",
      "|     24387|Chunk Pineapple I...|canned fruit appl...|   canned goods|              38|[Juice, Chunk, Pi...|\n",
      "|     22947|Lactose Free Blue...|              yogurt|     dairy eggs|            1314|[Kefir, Acai, Lac...|\n",
      "|     24110|Blasted Chocolate...|     candy chocolate|         snacks|               6|[Krispies, Rice, ...|\n",
      "|     39186|Compostable Lawn ...|   trash bags liners|      household|              99|[Leaf, Lawn, Bags...|\n",
      "|     32334|Lightdays® Regula...|       feminine care|  personal care|              71|[Lightdays, Panti...|\n",
      "|     39768|Rescue Natural Sl...|               other|          other|              25|[Liquid, Melts, R...|\n",
      "|      9612|Rice, Long Grain ...|grains rice dried...|dry goods pasta|              21|[Long, Wild, Rice...|\n",
      "|     30852|Bareskin Premium ...|               other|          other|              38|[Lubricant, Condo...|\n",
      "|     30875|Macaroni & Cheese...|        frozen meals|         frozen|             125|[Macaroni, Chedda...|\n",
      "|     21268|Mango Yogurt Smoo...|              yogurt|     dairy eggs|              56|[Mango, Yogurt, S...|\n",
      "|     18921|       Medjoul Dates|nuts seeds dried ...|         snacks|               8|    [Medjoul, Dates]|\n",
      "|     14568|Melatonin 2.5 Mg ...|               other|          other|              46|[Melatonin, 5, Mg...|\n",
      "|     49069|Mint Chocolate Quark|              yogurt|     dairy eggs|              16|[Mint, Chocolate,...|\n",
      "|      4086|                Mint|         fresh herbs|        produce|           10347|              [Mint]|\n",
      "|     37549|  Chocolate Cake Mix|doughs gelatins b...|         pantry|             119|[Mix, Cake, Choco...|\n",
      "|     17941|Organic Smooth & ...|         shave needs|  personal care|               6|[Moisturizing, Li...|\n",
      "|     29952|Paleo English Muf...|    breakfast bakery|         bakery|             544|[Muffins, English...|\n",
      "|      4796|Baby Portabella M...|    fresh vegetables|        produce|            5671|[Mushrooms, Porta...|\n",
      "|      5553|Restaurante Style...|      chips pretzels|         snacks|               9|[Nacho, Style, Ch...|\n",
      "|     28264|Spicy Kimchi Nood...|         asian foods|  international|             194|[Noodle, Kimchi, ...|\n",
      "|     38848|Spicy Chicken Fla...|       instant foods|dry goods pasta|              81|[Noodles, Big, Ch...|\n",
      "|     47660|Milk Chocolate Nu...|protein meal repl...|  personal care|             552|[Nutrition, Milk,...|\n",
      "|     34614| Pure Olive Oil Soap|                soap|  personal care|             218|[Oil, Olive, Soap...|\n",
      "|     21611|Hair Styling Wax,...|           hair care|  personal care|              10|[Oil, Styling, Ke...|\n",
      "|     47077|All-In-One Nutrit...|protein meal repl...|  personal care|             124|[One, In, Shake, ...|\n",
      "|     27400|Organic Whole Cloves|   spices seasonings|         pantry|             295|[Organic, Whole, ...|\n",
      "|      9670|Classic Original ...|         facial care|  personal care|              82|[Original, Classi...|\n",
      "|      5004|Original Regular ...|       feminine care|  personal care|              24|[Original, Scent,...|\n",
      "|     40166|        Palak Paneer|      frozen produce|         frozen|             182|     [Palak, Paneer]|\n",
      "|     21560|  Cut Hearts Of Palm|prepared soups sa...|           deli|            3669|[Palm, Hearts, Cu...|\n",
      "|     38596|Part Skim Ricotta...|other creams cheeses|     dairy eggs|            3948|[Part, Skim, Rico...|\n",
      "|     45121|100% All Natural ...|             spreads|         pantry|              64|[Peanut, Crunchy,...|\n",
      "|     44160|Balanced Breaks G...|     packaged cheese|     dairy eggs|              25|[Peanuts, Cheese,...|\n",
      "|      6779|Traditional Favor...|         pasta sauce|dry goods pasta|             285|[Peppers, Favorit...|\n",
      "|     40557|          Rice Pilaf|       instant foods|dry goods pasta|             476|       [Pilaf, Rice]|\n",
      "|     29506|          Pita Bread|tortillas flat bread|         bakery|            1907|       [Pita, Bread]|\n",
      "|      4675|Boniato Sweet Potato|    fresh vegetables|        produce|            1808|[Potato, Boniato,...|\n",
      "|     12766|Chunky Chicken Br...| soup broth bouillon|   canned goods|             134|[Potato, Cheese, ...|\n",
      "|     23822|Sweet Potato & Ch...|   baby food formula|         babies|            1412|[Potato, Chicken,...|\n",
      "|      9605|         Reese Puffs|              cereal|      breakfast|             848|      [Puffs, Reese]|\n",
      "|      3595|Queso Quesadilla ...|     packaged cheese|     dairy eggs|              49|[Quesadilla, Part...|\n",
      "|     19366|Sprouted Organic ...|    breakfast bakery|         bakery|            3568|[Raisin, Sprouted...|\n",
      "|      2208|Granola With Raisins|              cereal|      breakfast|               4|[Raisins, Granola...|\n",
      "|     29774|Simply Soleil Dis...|         shave needs|  personal care|              16|[Razors, Simply, ...|\n",
      "|     20741|Pasteurized Real ...|                eggs|     dairy eggs|              82|[Real, Product, E...|\n",
      "|     20203|Professional Flos...|        oral hygiene|  personal care|               8|[Refill, Professi...|\n",
      "|     23250|Ultimate Flora RT...|           digestion|  personal care|             172|[Release, Capsule...|\n",
      "|     39813|Rice Sea Salt & P...|            crackers|         snacks|              62|[Rice, Pepper, Se...|\n",
      "|     18110|Rice Crackers Sesame|            crackers|         snacks|             231|[Rice, Sesame, Cr...|\n",
      "|      3977|Whole Milk Ricott...|     packaged cheese|     dairy eggs|             892|[Ricotta, Whole, ...|\n",
      "|     24522|Traditional Mediu...|              coffee|      beverages|              14|[Roast, Medium, C...|\n",
      "|     20530|Oven Roasted Whit...|          lunch meat|           deli|             136|[Roasted, Oven, T...|\n",
      "|     24029|Whisker Lickin's ...|       cat food care|           pets|              17|[Salmon, Lickin, ...|\n",
      "|     27817|  Fresh Medium Salsa|fresh dips tapenades|           deli|            1291|[Salsa, Medium, F...|\n",
      "|     34091|Medium Guajillo R...|preserved dips sp...|         pantry|             209|[Salsa, Roasted, ...|\n",
      "|     43681|Medium Roasted Ga...|        latino foods|  international|              64|[Salsa, Serrano, ...|\n",
      "|     35024|      Ice Cream Salt|   spices seasonings|         pantry|              37|  [Salt, Ice, Cream]|\n",
      "|     22179|       Seasoned Salt|   spices seasonings|         pantry|             106|    [Salt, Seasoned]|\n",
      "|     20007|Fresh Rocket Pest...|         pasta sauce|dry goods pasta|             216|[Sauce, Pesto, Ro...|\n",
      "|     16805|Fresh Orange Scen...|air fresheners ca...|      household|             101|[Scented, Fresh, ...|\n",
      "|     45473|       Hemp Seed Oil|vitamins supplements|  personal care|              16|   [Seed, Oil, Hemp]|\n",
      "|     28903|Gourmet Selection...|              coffee|      beverages|              44|[Selections, Gour...|\n",
      "|     23260|Sensitive Skin Bo...|                soap|  personal care|              27|[Sensitive, Bodyw...|\n",
      "|     32344|Scalp Rescue Shampoo|           hair care|  personal care|              18|[Shampoo, Rescue,...|\n",
      "|     37693|Classic Blend Veg...|     packaged cheese|     dairy eggs|             474|[Shreds, Vegan, C...|\n",
      "|     32325|Slow Churned  Car...|       ice cream ice|         frozen|             194|[Slow, Cream, Chu...|\n",
      "|     33458|Slow Roasted Sesa...|frozen vegan vege...|         frozen|             245|[Slow, n, Sesame,...|\n",
      "|      1258|Maple Almond Snac...|refrigerated pudd...|     dairy eggs|              72|[Snack, Maple, Al...|\n",
      "|     19315|Nut Mix Bhuja Snacks| trail mix snack mix|         snacks|              33|[Snacks, Bhuja, M...|\n",
      "|     30720|     Sugar Snap Peas|    fresh vegetables|        produce|           14120| [Snap, Sugar, Peas]|\n",
      "|     10850|Kids Sniffles 'n ...|    cold flu allergy|  personal care|              19|[Sneezes, Sniffle...|\n",
      "|     39934|    Green Apple Soda|         soft drinks|      beverages|               8|[Soda, Green, Apple]|\n",
      "|     10874|Zero Calorie Lemo...|         soft drinks|      beverages|             994|[Soda, Zero, Lime...|\n",
      "|     36208|Southern Butter P...|       ice cream ice|         frozen|              79|[Southern, Butter...|\n",
      "|     48128|Organic Montebell...|           dry pasta|dry goods pasta|             199|[Spaghetti, Monte...|\n",
      "|      2971|Mandarin Orange E...|water seltzer spa...|      beverages|             469|[Sparkling, Essen...|\n",
      "|     22793|Lentil Chips, Spi...|      chips pretzels|         snacks|             409|[Spicy, Lentil, C...|\n",
      "|     35645|   Rise Sports Drink|energy sports drinks|      beverages|               8|[Sports, Rise, Dr...|\n",
      "|     39290|Cafe Steamer Swee...|        frozen meals|         frozen|              47|[Steamer, Chicken...|\n",
      "|      6749|Clasico Dark Roas...|              coffee|      beverages|              61|[Sticks, Clasico,...|\n",
      "|     48784|Lightly Breaded F...|        kosher foods|  international|            1368|[Sticks, Lightly,...|\n",
      "|     17964|Healthy Kids Orga...|   baby food formula|         babies|             168|[Strawberry, Shak...|\n",
      "|     49535|Special K Strawbe...|protein meal repl...|  personal care|              30|[Strawberry, Shak...|\n",
      "|     37967|Strawberry from C...|       juice nectars|      beverages|               5|[Strawberry, from...|\n",
      "|     32531|Italian Style Bee...| frozen meat seafood|         frozen|               8|[Style, Thin, Sli...|\n",
      "|     29294|  Italian Style Wrap|      prepared meals|           deli|               7|[Style, Wrap, Ita...|\n",
      "|       747|   Xylitol Sweetener|  baking ingredients|         pantry|             265|[Sweetener, Xylitol]|\n",
      "|      3474|Shredded Beef Taq...|frozen appetizers...|         frozen|             111|[Taquitos, Beef, ...|\n",
      "|     13557|Decaffeinated Gre...|                 tea|      beverages|              38|[Tea, Bags, Decaf...|\n",
      "|     11355|Organic Cup of Ca...|                 tea|      beverages|              53|[Tea, Calm, Organ...|\n",
      "|     27481|Pomegranate Lemon...|                 tea|      beverages|              32|[Tea, Lemonade, P...|\n",
      "|     48661|        Turkey Jerky|       popcorn jerky|         snacks|              43|     [Turkey, Jerky]|\n",
      "|     21354|              Turner|    kitchen supplies|      household|              11|            [Turner]|\n",
      "|     33180|Roasted Twig Kuki...|         asian foods|  international|              64|[Twig, Tea, Kukic...|\n",
      "|     27080|   Strawberry Twists|     candy chocolate|         snacks|             220|[Twists, Strawberry]|\n",
      "|     17921|    Udon Wheat Pasta|         asian foods|  international|              99|[Udon, Pasta, Wheat]|\n",
      "|     19306|Unfiltered Ginger...|         soft drinks|      beverages|              49|[Unfiltered, with...|\n",
      "|      3059|Italian Bread Uns...|               bread|         bakery|              13|[Unseeded, Bread,...|\n",
      "|     20494|Prefilled Applica...|       feminine care|  personal care|              18|[Vaginal, Prefill...|\n",
      "|     29718|Variety Snaps Lit...|       dog food care|           pets|              55|[Variety, Bites, ...|\n",
      "|      3492|Prime Cuts in Gra...|       dog food care|           pets|              12|[Variety, Wet, Fo...|\n",
      "|     28468|Veggie Canadian B...|tofu meat alterna...|           deli|              98|[Veggie, Canadian...|\n",
      "|      6052|Eggo Chocolate Ch...|    frozen breakfast|         frozen|            3268|[Waffles, Chip, C...|\n",
      "|     18781|Vanilla Whey Protein|protein meal repl...|  personal care|              38|[Whey, Protein, V...|\n",
      "|     12325|100% Whole Wheat ...|        frozen pizza|         frozen|             312|[Whole, Wheat, 10...|\n",
      "|       774|Organic 100% Whol...|           dry pasta|dry goods pasta|              27|[Whole, Wheat, Ri...|\n",
      "|     48432|Country Inn Chick...|       instant foods|dry goods pasta|              13|[Wild, Rice, Coun...|\n",
      "|     48592|Organic Yogurt, V...|              yogurt|     dairy eggs|              54|[Yogurt, Organic,...|\n",
      "|     37845|Natural Just Spin...|   baby food formula|         babies|              68|[Zucchini, 2, Sta...|\n",
      "|     21924|Vareniki w/ Potat...|frozen appetizers...|         frozen|              19|[w, Vareniki, Pot...|\n",
      "|     21688|Puree, World Food...|   baby food formula|         babies|              23|[, Mushrooms, Wor...|\n",
      "|     46821|Allergy 24 Hour 1...|    cold flu allergy|  personal care|              66|[24, Allergy, 10m...|\n",
      "|     18397|24 Hour Allergy D...|    cold flu allergy|  personal care|              76|[24, Allergy, Dis...|\n",
      "|      1745|30 minute Marinad...|marinades meat pr...|         pantry|              23|[30, Honey, minut...|\n",
      "|      7124|Spaghetti & Meatb...|  canned meals beans|   canned goods|               9|[4, Meatballs, PK...|\n",
      "|     18344|Smoothers Conceal...|              beauty|  personal care|               6|[705, Concealer, ...|\n",
      "|     43097|Seriously Sharp P...|     packaged cheese|     dairy eggs|              27|[Aged, Cheddar, C...|\n",
      "|     43357|Natural Sliced Al...|nuts seeds dried ...|         snacks|              16|[Almonds, Natural...|\n",
      "|     30177|Ashwagandha Anti-...|               other|          other|              17|[Anti, Stress, Ca...|\n",
      "|     34611|Gummy Bears Whole...|vitamins supplements|  personal care|               8|[Antioxidants, Gu...|\n",
      "|      1374|Organic Hass Avoc...|    fresh vegetables|        produce|            2174|[Avocado, Hass, O...|\n",
      "|     24475|First Carrots Bab...|   baby food formula|         babies|             232|[Baby, Carrots, F...|\n",
      "|     42832|       Classic Bacon|hot dogs bacon sa...|   meat seafood|             702|    [Bacon, Classic]|\n",
      "|     29977|  Bacon Style Slices|tofu meat alterna...|           deli|               9|[Bacon, Style, Sl...|\n",
      "|     30693|Herbal Tea, Organ...|                 tea|      beverages|              60|[Bags, Herbal, Te...|\n",
      "|      2097|Gallon Size Value...|        food storage|      household|             243|[Bags, Size, Pack...|\n",
      "|     35982|Tall Kitchen Draw...|   trash bags liners|      household|             468|[Bags, Trash, Dra...|\n",
      "|     34747|The Hulk Banana C...|    breakfast bakery|         bakery|              50|[Banana, Spirulin...|\n",
      "|     18154| Vanilla Almond Bars| energy granola bars|         snacks|               4|[Bars, Almond, Va...|\n",
      "|     37461|Pomodoro Basilico...|         pasta sauce|dry goods pasta|             112|[Basilico, Pomodo...|\n",
      "|      1332|Gluten-Free Veget...|frozen vegan vege...|         frozen|              72|[Bean, Burrito, C...|\n",
      "|     27152|  Jelly Beans, Sours|     candy chocolate|         snacks|               9|[Beans, Jelly, So...|\n",
      "|     49171|Organic Berry Ber...| energy granola bars|         snacks|             242|[Berry, Organic, ...|\n",
      "|     31593|Wheat Toddler Bis...|   baby food formula|         babies|               8|[Biscuits, Wheat,...|\n",
      "|     17712|Beef Jerky Bold F...|       popcorn jerky|         snacks|             114|[Bite, Jerky, Bol...|\n",
      "|     30265|Decaf House Blend...|              coffee|      beverages|             427|[Blend, Cups, Hou...|\n",
      "|     27918|Blueberry Acidoph...|           digestion|  personal care|              35|[Blueberry, Acido...|\n",
      "|      8147|Syrup, Wild Maine...|honeys syrups nec...|         pantry|              25|[Blueberry, Wild,...|\n",
      "|     14937|Re-Fresh Body Spr...|          deodorants|  personal care|              14|[Body, Palm, Tree...|\n",
      "|     36945| Sponge Bottle Brush|    baby accessories|         babies|              94|[Bottle, Brush, S...|\n",
      "|     10343|Teriyaki Chicken ...|        frozen meals|         frozen|            2696|[Bowl, Teriyaki, ...|\n",
      "|     44513|Jewish Pumpernick...|               bread|         bakery|               9|[Bread, Jewish, D...|\n",
      "|     18298| Gourmet Brining Bag|        food storage|      household|              12|[Brining, Gourmet...|\n",
      "|     22766|Fresh Broccoli Fl...|    fresh vegetables|        produce|              40|[Broccoli, Floret...|\n",
      "|      1370|Peanut Butter Cho...|     candy chocolate|         snacks|              11|[Butter, Peanut, ...|\n",
      "|     10376|Organic Caraway S...|   spices seasonings|         pantry|             134|[Caraway, Organic...|\n",
      "|     26079|        Carrot Juice|        refrigerated|      beverages|             406|     [Carrot, Juice]|\n",
      "|     37705|     Carrot Kombucha|        refrigerated|      beverages|             107|  [Carrot, Kombucha]|\n",
      "|     30704|Riverstone Chardo...|         white wines|        alcohol|             147|[Chardonnay, Rive...|\n",
      "|     17667|Light Fantastic C...|salad dressing to...|         pantry|               9|[Cheese, Dressing...|\n",
      "|      6087|   Fresh Goat Cheese|     packaged cheese|     dairy eggs|            1726|[Cheese, Goat, Fr...|\n",
      "|     22526|Italian Blend Shr...|     packaged cheese|     dairy eggs|             377|[Cheese, Italian,...|\n",
      "|      6615|   Mozzarella Cheese|     packaged cheese|     dairy eggs|            6558|[Cheese, Mozzarella]|\n",
      "|       307|Precious Mozzarel...|     packaged cheese|     dairy eggs|             251|[Cheese, Precious...|\n",
      "|     16893|   Soft Cream Cheese|other creams cheeses|     dairy eggs|             386|[Cheese, Soft, Cr...|\n",
      "|     22924|Cherry Lime Energ...|energy sports drinks|      beverages|              66|[Cherry, Tab, Lim...|\n",
      "|      3580|Breaded Chicken N...|        frozen meals|         frozen|               5|[Chicken, Nuggets...|\n",
      "|     33994|50% Less Sodium C...|  canned meals beans|   canned goods|              52|[Chili, Less, Bea...|\n",
      "|     33213|Chili with Pinto ...|  canned meals beans|   canned goods|               4|[Chili, Spices, B...|\n",
      "|     40769|Beef Jerky, Premi...|       popcorn jerky|         snacks|               3|[Chili, Steak, Pe...|\n",
      "|     37835|Chlorine Free Ver...|             laundry|      household|             357|[Chlorine, Remove...|\n",
      "|     22369|Dairy-Free Chocol...|     soy lactosefree|     dairy eggs|             645|[Chocolate, Dairy...|\n",
      "|     48759|Fiber One Chocola...| energy granola bars|         snacks|              34|[Chocolate, One, ...|\n",
      "|     13716|Rich Milk Chocola...|breakfast bars pa...|      breakfast|             492|[Chocolate, Rich,...|\n",
      "|      3774|NUT-rition Chocol...|nuts seeds dried ...|         snacks|             146|[Chocolate, ritio...|\n",
      "|     33491|Shake & Spoon Cho...|salad dressing to...|         pantry|              26|[Chopped, Pecans,...|\n",
      "|      6394|Go Chu Jang Sweet...|         asian foods|  international|              40|[Chu, Sauce, Jang...|\n",
      "|     17172|Concord Grape Fru...|        refrigerated|      beverages|              98|[Cocktail, Grape,...|\n",
      "|     11724|       Refreshe Cola|         soft drinks|      beverages|              46|    [Cola, Refreshe]|\n",
      "|     12725|Number 4 Vim and ...|       juice nectars|      beverages|               8|[Cold, Vigor, Pre...|\n",
      "|     39034|Organic Community...|                 tea|      beverages|              14|[Community, Tea, ...|\n",
      "|     45038|Pledge FloorCare ...|   cleaning products|      household|               8|[Concentrated, Pl...|\n",
      "|     20539|Healthy Kids Chic...| soup broth bouillon|   canned goods|              29|[Condensed, Alpha...|\n",
      "|     19826|Scalp Rescue Cond...|           hair care|  personal care|              13|[Conditioner, Res...|\n",
      "|     43644|          Corn Grits|hot cereal pancak...|      breakfast|             631|       [Corn, Grits]|\n",
      "|     24893|Organic Creamy Sw...| soup broth bouillon|   canned goods|             131|[Creamy, Soup, Pe...|\n",
      "|     34622|    Vanilla Cupcakes|     bakery desserts|         bakery|            1203| [Cupcakes, Vanilla]|\n",
      "|      3324|     Diablo Cabernet|           red wines|        alcohol|              69|  [Diablo, Cabernet]|\n",
      "|      2182| Angus Beef Hot Dogs|hot dogs bacon sa...|   meat seafood|              14|[Dogs, Angus, Bee...|\n",
      "|     11591|            Epa Xtra|vitamins supplements|  personal care|               7|         [Epa, Xtra]|\n",
      "|      5768|Acetaminophen Ext...|muscles joints pa...|  personal care|              16|[Extra, Acetamino...|\n",
      "|     23859|             Falafel|               other|          other|             124|           [Falafel]|\n",
      "|     18224|Organic Low Fat P...|              yogurt|     dairy eggs|            1812|[Fat, Plain, Yogu...|\n",
      "|     17718|Bin No. 27 Finest...|               other|          other|               4|[Finest, Reserve,...|\n",
      "|     45258|      Parsley Flakes|   spices seasonings|         pantry|             552|   [Flakes, Parsley]|\n",
      "+----------+--------------------+--------------------+---------------+----------------+--------------------+\n",
      "only showing top 300 rows\n",
      "\n"
     ]
    }
   ],
   "source": [
    "# we consider that products whose name is only one word are not precise enough (eg 'Water')\n",
    "products_words = products_lit_spark.withColumn('name_words', mots_udf('product_name'))\n",
    "print(products_words.count())\n",
    "products_words = products_words.withColumn('str_wds', F.col('name_words').cast('string'))\n",
    "products_words = products_words.dropDuplicates(subset=['str_wds']).drop('str_wds')\n",
    "print(products_words.count())\n",
    "\n",
    "products_words.show(300)"
   ]
  },
  {
   "cell_type": "code",
   "execution_count": 55,
   "metadata": {},
   "outputs": [],
   "source": [
    "len_filter = udf(lambda x: len(x) == 1, sql.types.BooleanType())"
   ]
  },
  {
   "cell_type": "code",
   "execution_count": 56,
   "metadata": {},
   "outputs": [
    {
     "name": "stdout",
     "output_type": "stream",
     "text": [
      "+----------+--------------------+--------------------+-------------+----------------+--------------------+\n",
      "|product_id|        product_name|               aisle|   department|number_of_orders|          name_words|\n",
      "+----------+--------------------+--------------------+-------------+----------------+--------------------+\n",
      "|     37281|White & Dark in R...| frozen meat seafood|       frozen|               4|[, 2115, White, T...|\n",
      "|       716|Mouthwash Clean M...|        oral hygiene|personal care|              48|[, Mint, Mouthwas...|\n",
      "|     48444|Tofu, Medium Firm...|tofu meat alterna...|         deli|             173|[, Tofu, Medium, ...|\n",
      "|     41554|Ken Davis 2 Carb ...|             spreads|       pantry|              14|[2, Carb, Ken, Cl...|\n",
      "|      4903|2 In 1 Ocean Lift...|           hair care|personal care|              20|[2, Lift, 1, Ocea...|\n",
      "|      6421|4.5 Oz. Special K...|            crackers|       snacks|               7|[5, Chips, Popcor...|\n",
      "|     22895|         Quantum 9 V|      more household|    household|              13|     [9, V, Quantum]|\n",
      "|     37087|Volume Triple Act...|           hair care|personal care|               7|[Action, Volume, ...|\n",
      "|     39680|AdvanceCare Oral ...|   baby food formula|       babies|             382|[AdvanceCare, Che...|\n",
      "|     40836|      Anaheim Pepper|    fresh vegetables|      produce|            1306|   [Anaheim, Pepper]|\n",
      "|     36532|Pieces And Stems ...|canned jarred veg...| canned goods|              28|[And, Mushrooms, ...|\n",
      "|     30013|Organic Asian Ble...|packaged vegetabl...|      produce|             174|[Asian, Vegetable...|\n",
      "|      6690|      Assorted Bites|     candy chocolate|       snacks|              91|   [Assorted, Bites]|\n",
      "|     29834|Organic Pear, Kal...|   baby food formula|       babies|              71|[Baby, 2, Stage, ...|\n",
      "|     42345|Baby Food Pouch -...|   baby food formula|       babies|            1506|[Baby, Food, Bean...|\n",
      "|     43834|Moisturizing Baby...| baby bath body care|       babies|              10|[Baby, Moisturizi...|\n",
      "|     22685|All Natural Bacon...|       popcorn jerky|       snacks|              68|[Bacon, All, Natu...|\n",
      "|     11283|Caffeine Free Man...|                 tea|    beverages|              18|[Bags, Herbal, Sp...|\n",
      "|     21969|Lactation Support...|vitamins supplements|personal care|               5|[Bags, Herbal, Sy...|\n",
      "|      2477|Organic Bananas S...|   baby food formula|       babies|             196|[Bananas, Baby, 2...|\n",
      "+----------+--------------------+--------------------+-------------+----------------+--------------------+\n",
      "only showing top 20 rows\n",
      "\n"
     ]
    }
   ],
   "source": [
    "real_products = products_words.filter(~len_filter('name_words'))\n",
    "real_products = reload2('real_products.parquet', real_products)\n",
    "real_products.show()"
   ]
  },
  {
   "cell_type": "code",
   "execution_count": 57,
   "metadata": {},
   "outputs": [],
   "source": [
    "match_udf = udf(lambda title, name, titles, names: name in title and all(w in x for w in y), sql.types.BooleanType())"
   ]
  },
  {
   "cell_type": "code",
   "execution_count": 58,
   "metadata": {},
   "outputs": [],
   "source": [
    "spark.conf.set(\"spark.sql.crossJoin.enabled\", True)\n",
    "#df_withwords = Amazon_title_as_words.join(real_products, match_udf('title', 'product_name', 'title_words', 'name_words'))\n",
    "#df_withwords = reload('df_withwords.parquet', df_withwords, True)\n",
    "#df_withwords.show()"
   ]
  },
  {
   "cell_type": "code",
   "execution_count": 59,
   "metadata": {},
   "outputs": [
    {
     "name": "stdout",
     "output_type": "stream",
     "text": [
      "^(.* )?{}( .*)?$\n",
      "^(.* )?Re Al( .*)?$\n"
     ]
    }
   ],
   "source": [
    "real_word_pattern = r'^(.* )?{}( .*)?$'\n",
    "print(real_word_pattern)\n",
    "print(real_word_pattern.format('Re Al'))\n",
    "def myudffun(title, name):\n",
    "    pattern = real_word_pattern.format(name)\n",
    "    try:\n",
    "        res = re.match(real_word_pattern.format(name), title)\n",
    "    except:\n",
    "        return name, title\n",
    "    return res is not None\n",
    "    \n",
    "#match_udf2 = udf(lambda title, name: re.match(real_word_pattern.format(name), title)!=None, sql.types.BooleanType())\n",
    "match_udf2 = udf(myudffun, sql.types.BooleanType())\n"
   ]
  },
  {
   "cell_type": "code",
   "execution_count": 5,
   "metadata": {},
   "outputs": [],
   "source": [
    "#Amazon_expl = Amazon_title_as_words.withColumn('title_word', F.explode('title_words').alias('title_word'))\n",
    "Amazon_expl = reload2('Amazon_expl.parquet', True)"
   ]
  },
  {
   "cell_type": "code",
   "execution_count": 6,
   "metadata": {},
   "outputs": [
    {
     "ename": "NameError",
     "evalue": "name 'Amazon_title_as_words' is not defined",
     "output_type": "error",
     "traceback": [
      "\u001b[0;31m---------------------------------------------------------------------------\u001b[0m",
      "\u001b[0;31mNameError\u001b[0m                                 Traceback (most recent call last)",
      "\u001b[0;32m<ipython-input-6-247bde8150b7>\u001b[0m in \u001b[0;36m<module>\u001b[0;34m\u001b[0m\n\u001b[0;32m----> 1\u001b[0;31m \u001b[0;32mfor\u001b[0m \u001b[0mrow\u001b[0m \u001b[0;32min\u001b[0m \u001b[0mAmazon_title_as_words\u001b[0m\u001b[0;34m.\u001b[0m\u001b[0mfilter\u001b[0m\u001b[0;34m(\u001b[0m\u001b[0mF\u001b[0m\u001b[0;34m.\u001b[0m\u001b[0mcol\u001b[0m\u001b[0;34m(\u001b[0m\u001b[0;34m'title'\u001b[0m\u001b[0;34m)\u001b[0m\u001b[0;34m==\u001b[0m\u001b[0;34m'Traverse Bay Fruit Chocolate Covered Dried Cherries, 2 Pound'\u001b[0m\u001b[0;34m)\u001b[0m\u001b[0;34m.\u001b[0m\u001b[0mtake\u001b[0m\u001b[0;34m(\u001b[0m\u001b[0;36m50\u001b[0m\u001b[0;34m)\u001b[0m\u001b[0;34m:\u001b[0m\u001b[0;34m\u001b[0m\u001b[0;34m\u001b[0m\u001b[0m\n\u001b[0m\u001b[1;32m      2\u001b[0m     \u001b[0mprint\u001b[0m\u001b[0;34m(\u001b[0m\u001b[0mrow\u001b[0m\u001b[0;34m.\u001b[0m\u001b[0mtitle\u001b[0m\u001b[0;34m,\u001b[0m \u001b[0mrow\u001b[0m\u001b[0;34m.\u001b[0m\u001b[0mtitle_words\u001b[0m\u001b[0;34m)\u001b[0m\u001b[0;34m\u001b[0m\u001b[0;34m\u001b[0m\u001b[0m\n",
      "\u001b[0;31mNameError\u001b[0m: name 'Amazon_title_as_words' is not defined"
     ]
    }
   ],
   "source": [
    "for row in Amazon_title_as_words.filter(F.col('title')=='Traverse Bay Fruit Chocolate Covered Dried Cherries, 2 Pound').take(50):\n",
    "    print(row.title, row.title_words)"
   ]
  },
  {
   "cell_type": "code",
   "execution_count": 6,
   "metadata": {},
   "outputs": [],
   "source": [
    "#products_expl = real_products.withColumn('name_word', F.explode('name_words').alias('name_word'))\n",
    "products_expl = reload2('products_expl.parquet', True)"
   ]
  },
  {
   "cell_type": "code",
   "execution_count": 7,
   "metadata": {},
   "outputs": [
    {
     "name": "stdout",
     "output_type": "stream",
     "text": [
      "+--------+----------+---------------+--------------------+----+--------+-----+--------------------+--------------------+--------------------+----------+----------+--------------------+--------------------+-------------+----------------+--------------------+---------+\n",
      "|also_buy|      asin|          brand|            category|date|main_cat|price|                rank|               title|         title_words|title_word|product_id|        product_name|               aisle|   department|number_of_orders|          name_words|name_word|\n",
      "+--------+----------+---------------+--------------------+----+--------+-----+--------------------+--------------------+--------------------+----------+----------+--------------------+--------------------+-------------+----------------+--------------------+---------+\n",
      "|    null|B004U7UG30|123 Gluten Free|[Grocery & Gourme...|null| Grocery| null|911,709inGroceryG...|123 Gluten Free D...|[, 123, of, 72, B...|          |     19209|Onion Bagels, 6 P...|    breakfast bakery|       bakery|             579|[, Bagels, Sliced...|         |\n",
      "|    null|B004U7UG30|123 Gluten Free|[Grocery & Gourme...|null| Grocery| null|911,709inGroceryG...|123 Gluten Free D...|[, 123, of, 72, B...|          |     30832|Halloween Charact...|     candy chocolate|       snacks|               9|[, Halloween, Cha...|         |\n",
      "|    null|B004U7UG30|123 Gluten Free|[Grocery & Gourme...|null| Grocery| null|911,709inGroceryG...|123 Gluten Free D...|[, 123, of, 72, B...|          |     19506|Easy Find Lids Co...|        food storage|    household|              30|[, Find, 7, Lids,...|         |\n",
      "|    null|B004U7UG30|123 Gluten Free|[Grocery & Gourme...|null| Grocery| null|911,709inGroceryG...|123 Gluten Free D...|[, 123, of, 72, B...|          |     12188|Daily Facial Mois...|         facial care|personal care|               4|[, Daily, SPF, Mo...|         |\n",
      "|    null|B004U7UG30|123 Gluten Free|[Grocery & Gourme...|null| Grocery| null|911,709inGroceryG...|123 Gluten Free D...|[, 123, of, 72, B...|          |     24117|Potato Chips Ched...|      chips pretzels|       snacks|             857|[, Chips, Cream, ...|         |\n",
      "|    null|B004U7UG30|123 Gluten Free|[Grocery & Gourme...|null| Grocery| null|911,709inGroceryG...|123 Gluten Free D...|[, 123, of, 72, B...|          |      2330|          Prostate +|vitamins supplements|personal care|               5|        [, Prostate]|         |\n",
      "|    null|B004U7UG30|123 Gluten Free|[Grocery & Gourme...|null| Grocery| null|911,709inGroceryG...|123 Gluten Free D...|[, 123, of, 72, B...|          |     21954|    Bamboo Plates 9\\|plates bowls cups...|    household|               7|[, Bamboo, 9, Pla...|         |\n",
      "|    null|B004U7UG30|123 Gluten Free|[Grocery & Gourme...|null| Grocery| null|911,709inGroceryG...|123 Gluten Free D...|[, 123, of, 72, B...|          |     10496|Transparent Tape ...|      more household|    household|               5|[, 2, 1, Transpar...|         |\n",
      "|    null|B004U7UG30|123 Gluten Free|[Grocery & Gourme...|null| Grocery| null|911,709inGroceryG...|123 Gluten Free D...|[, 123, of, 72, B...|          |     27419|Daily Deep Condit...|           hair care|personal care|             123|[, Deep, Daily, T...|         |\n",
      "|    null|B004U7UG30|123 Gluten Free|[Grocery & Gourme...|null| Grocery| null|911,709inGroceryG...|123 Gluten Free D...|[, 123, of, 72, B...|          |       930|ULTRACLEAN™ Cool ...|        oral hygiene|personal care|             196|[, Mint, Cool, UL...|         |\n",
      "|    null|B004U7UG30|123 Gluten Free|[Grocery & Gourme...|null| Grocery| null|911,709inGroceryG...|123 Gluten Free D...|[, 123, of, 72, B...|          |      2158|#2 Cone White Cof...|              coffee|    beverages|              13|[, 2, White, Cone...|         |\n",
      "|    null|B004U7UG30|123 Gluten Free|[Grocery & Gourme...|null| Grocery| null|911,709inGroceryG...|123 Gluten Free D...|[, 123, of, 72, B...|          |     35638|          Marrobone®|       dog food care|         pets|               5|       [, Marrobone]|         |\n",
      "|    null|B004U7UG30|123 Gluten Free|[Grocery & Gourme...|null| Grocery| null|911,709inGroceryG...|123 Gluten Free D...|[, 123, of, 72, B...|          |     26218|Gourmet  Fruit Bu...|     candy chocolate|       snacks|              16|[, Gourmet, Jelly...|         |\n",
      "|    null|B004U7UG30|123 Gluten Free|[Grocery & Gourme...|null| Grocery| null|911,709inGroceryG...|123 Gluten Free D...|[, 123, of, 72, B...|          |      8061| Pineapple Yogurt 2%|              yogurt|   dairy eggs|            2029|[, Yogurt, Pineap...|         |\n",
      "|    null|B004U7UG30|123 Gluten Free|[Grocery & Gourme...|null| Grocery| null|911,709inGroceryG...|123 Gluten Free D...|[, 123, of, 72, B...|          |     23546|Royal Jelly in Ho...|vitamins supplements|personal care|              13|[10, , Jelly, Roy...|         |\n",
      "|    null|B004U7UG30|123 Gluten Free|[Grocery & Gourme...|null| Grocery| null|911,709inGroceryG...|123 Gluten Free D...|[, 123, of, 72, B...|          |     48931|Hydrogen Peroxide 3%|           first aid|personal care|             300|[, Hydrogen, Pero...|         |\n",
      "|    null|B004U7UG30|123 Gluten Free|[Grocery & Gourme...|null| Grocery| null|911,709inGroceryG...|123 Gluten Free D...|[, 123, of, 72, B...|          |     14369|Arctic Cod Liver ...|vitamins supplements|personal care|              10|[Oil, , Great, Co...|         |\n",
      "|    null|B004U7UG30|123 Gluten Free|[Grocery & Gourme...|null| Grocery| null|911,709inGroceryG...|123 Gluten Free D...|[, 123, of, 72, B...|          |     19442|100% Pure Tangeri...|air fresheners ca...|    household|              19|[Oil, , Pure, Che...|         |\n",
      "|    null|B004U7UG30|123 Gluten Free|[Grocery & Gourme...|null| Grocery| null|911,709inGroceryG...|123 Gluten Free D...|[, 123, of, 72, B...|          |     45129|Whole Wheat Wraps...|tortillas flat bread|       bakery|              69|[, Whole, Wheat, ...|         |\n",
      "|    null|B004U7UG30|123 Gluten Free|[Grocery & Gourme...|null| Grocery| null|911,709inGroceryG...|123 Gluten Free D...|[, 123, of, 72, B...|          |     41204|Lightup Timer Too...|        oral hygiene|personal care|              42|[, 2, Lightup, Ti...|         |\n",
      "+--------+----------+---------------+--------------------+----+--------+-----+--------------------+--------------------+--------------------+----------+----------+--------------------+--------------------+-------------+----------------+--------------------+---------+\n",
      "only showing top 20 rows\n",
      "\n"
     ]
    }
   ],
   "source": [
    "df_withwords3 = Amazon_expl.join(products_expl, Amazon_expl.title_word==products_expl.name_word)\n",
    "#df_withwords3 = reload2('df_withwords3.parquet', df_withwords3)\n",
    "df_withwords3.show()"
   ]
  },
  {
   "cell_type": "code",
   "execution_count": 8,
   "metadata": {},
   "outputs": [],
   "source": [
    "regrouped = df_withwords3.groupBy(['product_name', 'title']).agg(F.count('title_word').alias('nb_common_words'), F.collect_set('name_words').getItem(0).alias('name_words'))\n",
    "#regrouped = reload2('regrouped.parquet', regrouped)\n",
    "#regrouped.show()"
   ]
  },
  {
   "cell_type": "code",
   "execution_count": 9,
   "metadata": {},
   "outputs": [
    {
     "ename": "Py4JJavaError",
     "evalue": "An error occurred while calling o60.showString.\n: org.apache.spark.SparkException: Job aborted due to stage failure: Task 1 in stage 5.0 failed 1 times, most recent failure: Lost task 1.0 in stage 5.0 (TID 12, localhost, executor driver): java.lang.OutOfMemoryError: Java heap space\n\tat java.nio.HeapByteBuffer.<init>(HeapByteBuffer.java:57)\n\tat java.nio.ByteBuffer.allocate(ByteBuffer.java:335)\n\tat org.apache.spark.io.ReadAheadInputStream.<init>(ReadAheadInputStream.java:105)\n\tat org.apache.spark.util.collection.unsafe.sort.UnsafeSorterSpillReader.<init>(UnsafeSorterSpillReader.java:81)\n\tat org.apache.spark.util.collection.unsafe.sort.UnsafeSorterSpillWriter.getReader(UnsafeSorterSpillWriter.java:156)\n\tat org.apache.spark.util.collection.unsafe.sort.UnsafeExternalSorter.getSortedIterator(UnsafeExternalSorter.java:477)\n\tat org.apache.spark.sql.execution.UnsafeKVExternalSorter.sortedIterator(UnsafeKVExternalSorter.java:204)\n\tat org.apache.spark.sql.execution.aggregate.SortBasedAggregator$$anon$1.<init>(ObjectAggregationIterator.scala:240)\n\tat org.apache.spark.sql.execution.aggregate.SortBasedAggregator.destructiveIterator(ObjectAggregationIterator.scala:239)\n\tat org.apache.spark.sql.execution.aggregate.ObjectAggregationIterator.processInputs(ObjectAggregationIterator.scala:198)\n\tat org.apache.spark.sql.execution.aggregate.ObjectAggregationIterator.<init>(ObjectAggregationIterator.scala:78)\n\tat org.apache.spark.sql.execution.aggregate.ObjectHashAggregateExec$$anonfun$doExecute$1$$anonfun$2.apply(ObjectHashAggregateExec.scala:114)\n\tat org.apache.spark.sql.execution.aggregate.ObjectHashAggregateExec$$anonfun$doExecute$1$$anonfun$2.apply(ObjectHashAggregateExec.scala:105)\n\tat org.apache.spark.rdd.RDD$$anonfun$mapPartitionsWithIndexInternal$1$$anonfun$12.apply(RDD.scala:823)\n\tat org.apache.spark.rdd.RDD$$anonfun$mapPartitionsWithIndexInternal$1$$anonfun$12.apply(RDD.scala:823)\n\tat org.apache.spark.rdd.MapPartitionsRDD.compute(MapPartitionsRDD.scala:52)\n\tat org.apache.spark.rdd.RDD.computeOrReadCheckpoint(RDD.scala:324)\n\tat org.apache.spark.rdd.RDD.iterator(RDD.scala:288)\n\tat org.apache.spark.rdd.MapPartitionsRDD.compute(MapPartitionsRDD.scala:52)\n\tat org.apache.spark.rdd.RDD.computeOrReadCheckpoint(RDD.scala:324)\n\tat org.apache.spark.rdd.RDD.iterator(RDD.scala:288)\n\tat org.apache.spark.scheduler.ShuffleMapTask.runTask(ShuffleMapTask.scala:99)\n\tat org.apache.spark.scheduler.ShuffleMapTask.runTask(ShuffleMapTask.scala:55)\n\tat org.apache.spark.scheduler.Task.run(Task.scala:123)\n\tat org.apache.spark.executor.Executor$TaskRunner$$anonfun$10.apply(Executor.scala:408)\n\tat org.apache.spark.util.Utils$.tryWithSafeFinally(Utils.scala:1360)\n\tat org.apache.spark.executor.Executor$TaskRunner.run(Executor.scala:414)\n\tat java.util.concurrent.ThreadPoolExecutor.runWorker(ThreadPoolExecutor.java:1149)\n\tat java.util.concurrent.ThreadPoolExecutor$Worker.run(ThreadPoolExecutor.java:624)\n\tat java.lang.Thread.run(Thread.java:748)\n\nDriver stacktrace:\n\tat org.apache.spark.scheduler.DAGScheduler.org$apache$spark$scheduler$DAGScheduler$$failJobAndIndependentStages(DAGScheduler.scala:1889)\n\tat org.apache.spark.scheduler.DAGScheduler$$anonfun$abortStage$1.apply(DAGScheduler.scala:1877)\n\tat org.apache.spark.scheduler.DAGScheduler$$anonfun$abortStage$1.apply(DAGScheduler.scala:1876)\n\tat scala.collection.mutable.ResizableArray$class.foreach(ResizableArray.scala:59)\n\tat scala.collection.mutable.ArrayBuffer.foreach(ArrayBuffer.scala:48)\n\tat org.apache.spark.scheduler.DAGScheduler.abortStage(DAGScheduler.scala:1876)\n\tat org.apache.spark.scheduler.DAGScheduler$$anonfun$handleTaskSetFailed$1.apply(DAGScheduler.scala:926)\n\tat org.apache.spark.scheduler.DAGScheduler$$anonfun$handleTaskSetFailed$1.apply(DAGScheduler.scala:926)\n\tat scala.Option.foreach(Option.scala:257)\n\tat org.apache.spark.scheduler.DAGScheduler.handleTaskSetFailed(DAGScheduler.scala:926)\n\tat org.apache.spark.scheduler.DAGSchedulerEventProcessLoop.doOnReceive(DAGScheduler.scala:2110)\n\tat org.apache.spark.scheduler.DAGSchedulerEventProcessLoop.onReceive(DAGScheduler.scala:2059)\n\tat org.apache.spark.scheduler.DAGSchedulerEventProcessLoop.onReceive(DAGScheduler.scala:2048)\n\tat org.apache.spark.util.EventLoop$$anon$1.run(EventLoop.scala:49)\n\tat org.apache.spark.scheduler.DAGScheduler.runJob(DAGScheduler.scala:737)\n\tat org.apache.spark.SparkContext.runJob(SparkContext.scala:2061)\n\tat org.apache.spark.SparkContext.runJob(SparkContext.scala:2082)\n\tat org.apache.spark.SparkContext.runJob(SparkContext.scala:2101)\n\tat org.apache.spark.sql.execution.SparkPlan.executeTake(SparkPlan.scala:365)\n\tat org.apache.spark.sql.execution.CollectLimitExec.executeCollect(limit.scala:38)\n\tat org.apache.spark.sql.Dataset.org$apache$spark$sql$Dataset$$collectFromPlan(Dataset.scala:3389)\n\tat org.apache.spark.sql.Dataset$$anonfun$head$1.apply(Dataset.scala:2550)\n\tat org.apache.spark.sql.Dataset$$anonfun$head$1.apply(Dataset.scala:2550)\n\tat org.apache.spark.sql.Dataset$$anonfun$52.apply(Dataset.scala:3370)\n\tat org.apache.spark.sql.execution.SQLExecution$$anonfun$withNewExecutionId$1.apply(SQLExecution.scala:78)\n\tat org.apache.spark.sql.execution.SQLExecution$.withSQLConfPropagated(SQLExecution.scala:125)\n\tat org.apache.spark.sql.execution.SQLExecution$.withNewExecutionId(SQLExecution.scala:73)\n\tat org.apache.spark.sql.Dataset.withAction(Dataset.scala:3369)\n\tat org.apache.spark.sql.Dataset.head(Dataset.scala:2550)\n\tat org.apache.spark.sql.Dataset.take(Dataset.scala:2764)\n\tat org.apache.spark.sql.Dataset.getRows(Dataset.scala:254)\n\tat org.apache.spark.sql.Dataset.showString(Dataset.scala:291)\n\tat sun.reflect.NativeMethodAccessorImpl.invoke0(Native Method)\n\tat sun.reflect.NativeMethodAccessorImpl.invoke(NativeMethodAccessorImpl.java:62)\n\tat sun.reflect.DelegatingMethodAccessorImpl.invoke(DelegatingMethodAccessorImpl.java:43)\n\tat java.lang.reflect.Method.invoke(Method.java:498)\n\tat py4j.reflection.MethodInvoker.invoke(MethodInvoker.java:244)\n\tat py4j.reflection.ReflectionEngine.invoke(ReflectionEngine.java:357)\n\tat py4j.Gateway.invoke(Gateway.java:282)\n\tat py4j.commands.AbstractCommand.invokeMethod(AbstractCommand.java:132)\n\tat py4j.commands.CallCommand.execute(CallCommand.java:79)\n\tat py4j.GatewayConnection.run(GatewayConnection.java:238)\n\tat java.lang.Thread.run(Thread.java:748)\nCaused by: java.lang.OutOfMemoryError: Java heap space\n\tat java.nio.HeapByteBuffer.<init>(HeapByteBuffer.java:57)\n\tat java.nio.ByteBuffer.allocate(ByteBuffer.java:335)\n\tat org.apache.spark.io.ReadAheadInputStream.<init>(ReadAheadInputStream.java:105)\n\tat org.apache.spark.util.collection.unsafe.sort.UnsafeSorterSpillReader.<init>(UnsafeSorterSpillReader.java:81)\n\tat org.apache.spark.util.collection.unsafe.sort.UnsafeSorterSpillWriter.getReader(UnsafeSorterSpillWriter.java:156)\n\tat org.apache.spark.util.collection.unsafe.sort.UnsafeExternalSorter.getSortedIterator(UnsafeExternalSorter.java:477)\n\tat org.apache.spark.sql.execution.UnsafeKVExternalSorter.sortedIterator(UnsafeKVExternalSorter.java:204)\n\tat org.apache.spark.sql.execution.aggregate.SortBasedAggregator$$anon$1.<init>(ObjectAggregationIterator.scala:240)\n\tat org.apache.spark.sql.execution.aggregate.SortBasedAggregator.destructiveIterator(ObjectAggregationIterator.scala:239)\n\tat org.apache.spark.sql.execution.aggregate.ObjectAggregationIterator.processInputs(ObjectAggregationIterator.scala:198)\n\tat org.apache.spark.sql.execution.aggregate.ObjectAggregationIterator.<init>(ObjectAggregationIterator.scala:78)\n\tat org.apache.spark.sql.execution.aggregate.ObjectHashAggregateExec$$anonfun$doExecute$1$$anonfun$2.apply(ObjectHashAggregateExec.scala:114)\n\tat org.apache.spark.sql.execution.aggregate.ObjectHashAggregateExec$$anonfun$doExecute$1$$anonfun$2.apply(ObjectHashAggregateExec.scala:105)\n\tat org.apache.spark.rdd.RDD$$anonfun$mapPartitionsWithIndexInternal$1$$anonfun$12.apply(RDD.scala:823)\n\tat org.apache.spark.rdd.RDD$$anonfun$mapPartitionsWithIndexInternal$1$$anonfun$12.apply(RDD.scala:823)\n\tat org.apache.spark.rdd.MapPartitionsRDD.compute(MapPartitionsRDD.scala:52)\n\tat org.apache.spark.rdd.RDD.computeOrReadCheckpoint(RDD.scala:324)\n\tat org.apache.spark.rdd.RDD.iterator(RDD.scala:288)\n\tat org.apache.spark.rdd.MapPartitionsRDD.compute(MapPartitionsRDD.scala:52)\n\tat org.apache.spark.rdd.RDD.computeOrReadCheckpoint(RDD.scala:324)\n\tat org.apache.spark.rdd.RDD.iterator(RDD.scala:288)\n\tat org.apache.spark.scheduler.ShuffleMapTask.runTask(ShuffleMapTask.scala:99)\n\tat org.apache.spark.scheduler.ShuffleMapTask.runTask(ShuffleMapTask.scala:55)\n\tat org.apache.spark.scheduler.Task.run(Task.scala:123)\n\tat org.apache.spark.executor.Executor$TaskRunner$$anonfun$10.apply(Executor.scala:408)\n\tat org.apache.spark.util.Utils$.tryWithSafeFinally(Utils.scala:1360)\n\tat org.apache.spark.executor.Executor$TaskRunner.run(Executor.scala:414)\n\tat java.util.concurrent.ThreadPoolExecutor.runWorker(ThreadPoolExecutor.java:1149)\n\tat java.util.concurrent.ThreadPoolExecutor$Worker.run(ThreadPoolExecutor.java:624)\n\t... 1 more\n",
     "output_type": "error",
     "traceback": [
      "\u001b[0;31m---------------------------------------------------------------------------\u001b[0m",
      "\u001b[0;31mPy4JJavaError\u001b[0m                             Traceback (most recent call last)",
      "\u001b[0;32m<ipython-input-9-1d55a2be6404>\u001b[0m in \u001b[0;36m<module>\u001b[0;34m\u001b[0m\n\u001b[1;32m      2\u001b[0m \u001b[0mfull_match\u001b[0m \u001b[0;34m=\u001b[0m \u001b[0mregrouped\u001b[0m\u001b[0;34m.\u001b[0m\u001b[0mfilter\u001b[0m\u001b[0;34m(\u001b[0m\u001b[0mfull_match_udf\u001b[0m\u001b[0;34m(\u001b[0m\u001b[0;34m'nb_common_words'\u001b[0m\u001b[0;34m,\u001b[0m \u001b[0;34m'name_words'\u001b[0m\u001b[0;34m)\u001b[0m\u001b[0;34m)\u001b[0m\u001b[0;34m\u001b[0m\u001b[0;34m\u001b[0m\u001b[0m\n\u001b[1;32m      3\u001b[0m \u001b[0;31m#full_match = reload2('full_match.parquet', full_match)\u001b[0m\u001b[0;34m\u001b[0m\u001b[0;34m\u001b[0m\u001b[0;34m\u001b[0m\u001b[0m\n\u001b[0;32m----> 4\u001b[0;31m \u001b[0mfull_match\u001b[0m\u001b[0;34m.\u001b[0m\u001b[0mshow\u001b[0m\u001b[0;34m(\u001b[0m\u001b[0;34m)\u001b[0m\u001b[0;34m\u001b[0m\u001b[0;34m\u001b[0m\u001b[0m\n\u001b[0m\u001b[1;32m      5\u001b[0m \u001b[0;32mfor\u001b[0m \u001b[0mrow\u001b[0m \u001b[0;32min\u001b[0m \u001b[0mfull_match\u001b[0m\u001b[0;34m.\u001b[0m\u001b[0mtake\u001b[0m\u001b[0;34m(\u001b[0m\u001b[0;36m100\u001b[0m\u001b[0;34m)\u001b[0m\u001b[0;34m:\u001b[0m\u001b[0;34m\u001b[0m\u001b[0;34m\u001b[0m\u001b[0m\n\u001b[1;32m      6\u001b[0m     \u001b[0mprint\u001b[0m\u001b[0;34m(\u001b[0m\u001b[0mrow\u001b[0m\u001b[0;34m.\u001b[0m\u001b[0mproduct_name\u001b[0m\u001b[0;34m,\u001b[0m \u001b[0;34m': '\u001b[0m\u001b[0;34m,\u001b[0m \u001b[0mrow\u001b[0m\u001b[0;34m.\u001b[0m\u001b[0mtitle\u001b[0m\u001b[0;34m,\u001b[0m \u001b[0;34m'\\n'\u001b[0m\u001b[0;34m,\u001b[0m \u001b[0mrow\u001b[0m\u001b[0;34m.\u001b[0m\u001b[0mname_words\u001b[0m\u001b[0;34m,\u001b[0m \u001b[0;34m' |-| '\u001b[0m\u001b[0;34m,\u001b[0m \u001b[0mrow\u001b[0m\u001b[0;34m.\u001b[0m\u001b[0mnb_common_words\u001b[0m\u001b[0;34m,\u001b[0m \u001b[0;34m'\\n'\u001b[0m\u001b[0;34m+\u001b[0m\u001b[0;34m'_'\u001b[0m\u001b[0;34m*\u001b[0m\u001b[0;36m100\u001b[0m\u001b[0;34m+\u001b[0m\u001b[0;34m'\\n'\u001b[0m\u001b[0;34m)\u001b[0m\u001b[0;34m\u001b[0m\u001b[0;34m\u001b[0m\u001b[0m\n",
      "\u001b[0;32m~/applications/miniconda3/envs/ada/lib/python3.6/site-packages/pyspark/sql/dataframe.py\u001b[0m in \u001b[0;36mshow\u001b[0;34m(self, n, truncate, vertical)\u001b[0m\n\u001b[1;32m    378\u001b[0m         \"\"\"\n\u001b[1;32m    379\u001b[0m         \u001b[0;32mif\u001b[0m \u001b[0misinstance\u001b[0m\u001b[0;34m(\u001b[0m\u001b[0mtruncate\u001b[0m\u001b[0;34m,\u001b[0m \u001b[0mbool\u001b[0m\u001b[0;34m)\u001b[0m \u001b[0;32mand\u001b[0m \u001b[0mtruncate\u001b[0m\u001b[0;34m:\u001b[0m\u001b[0;34m\u001b[0m\u001b[0;34m\u001b[0m\u001b[0m\n\u001b[0;32m--> 380\u001b[0;31m             \u001b[0mprint\u001b[0m\u001b[0;34m(\u001b[0m\u001b[0mself\u001b[0m\u001b[0;34m.\u001b[0m\u001b[0m_jdf\u001b[0m\u001b[0;34m.\u001b[0m\u001b[0mshowString\u001b[0m\u001b[0;34m(\u001b[0m\u001b[0mn\u001b[0m\u001b[0;34m,\u001b[0m \u001b[0;36m20\u001b[0m\u001b[0;34m,\u001b[0m \u001b[0mvertical\u001b[0m\u001b[0;34m)\u001b[0m\u001b[0;34m)\u001b[0m\u001b[0;34m\u001b[0m\u001b[0;34m\u001b[0m\u001b[0m\n\u001b[0m\u001b[1;32m    381\u001b[0m         \u001b[0;32melse\u001b[0m\u001b[0;34m:\u001b[0m\u001b[0;34m\u001b[0m\u001b[0;34m\u001b[0m\u001b[0m\n\u001b[1;32m    382\u001b[0m             \u001b[0mprint\u001b[0m\u001b[0;34m(\u001b[0m\u001b[0mself\u001b[0m\u001b[0;34m.\u001b[0m\u001b[0m_jdf\u001b[0m\u001b[0;34m.\u001b[0m\u001b[0mshowString\u001b[0m\u001b[0;34m(\u001b[0m\u001b[0mn\u001b[0m\u001b[0;34m,\u001b[0m \u001b[0mint\u001b[0m\u001b[0;34m(\u001b[0m\u001b[0mtruncate\u001b[0m\u001b[0;34m)\u001b[0m\u001b[0;34m,\u001b[0m \u001b[0mvertical\u001b[0m\u001b[0;34m)\u001b[0m\u001b[0;34m)\u001b[0m\u001b[0;34m\u001b[0m\u001b[0;34m\u001b[0m\u001b[0m\n",
      "\u001b[0;32m~/applications/miniconda3/envs/ada/lib/python3.6/site-packages/py4j/java_gateway.py\u001b[0m in \u001b[0;36m__call__\u001b[0;34m(self, *args)\u001b[0m\n\u001b[1;32m   1255\u001b[0m         \u001b[0manswer\u001b[0m \u001b[0;34m=\u001b[0m \u001b[0mself\u001b[0m\u001b[0;34m.\u001b[0m\u001b[0mgateway_client\u001b[0m\u001b[0;34m.\u001b[0m\u001b[0msend_command\u001b[0m\u001b[0;34m(\u001b[0m\u001b[0mcommand\u001b[0m\u001b[0;34m)\u001b[0m\u001b[0;34m\u001b[0m\u001b[0;34m\u001b[0m\u001b[0m\n\u001b[1;32m   1256\u001b[0m         return_value = get_return_value(\n\u001b[0;32m-> 1257\u001b[0;31m             answer, self.gateway_client, self.target_id, self.name)\n\u001b[0m\u001b[1;32m   1258\u001b[0m \u001b[0;34m\u001b[0m\u001b[0m\n\u001b[1;32m   1259\u001b[0m         \u001b[0;32mfor\u001b[0m \u001b[0mtemp_arg\u001b[0m \u001b[0;32min\u001b[0m \u001b[0mtemp_args\u001b[0m\u001b[0;34m:\u001b[0m\u001b[0;34m\u001b[0m\u001b[0;34m\u001b[0m\u001b[0m\n",
      "\u001b[0;32m~/applications/miniconda3/envs/ada/lib/python3.6/site-packages/pyspark/sql/utils.py\u001b[0m in \u001b[0;36mdeco\u001b[0;34m(*a, **kw)\u001b[0m\n\u001b[1;32m     61\u001b[0m     \u001b[0;32mdef\u001b[0m \u001b[0mdeco\u001b[0m\u001b[0;34m(\u001b[0m\u001b[0;34m*\u001b[0m\u001b[0ma\u001b[0m\u001b[0;34m,\u001b[0m \u001b[0;34m**\u001b[0m\u001b[0mkw\u001b[0m\u001b[0;34m)\u001b[0m\u001b[0;34m:\u001b[0m\u001b[0;34m\u001b[0m\u001b[0;34m\u001b[0m\u001b[0m\n\u001b[1;32m     62\u001b[0m         \u001b[0;32mtry\u001b[0m\u001b[0;34m:\u001b[0m\u001b[0;34m\u001b[0m\u001b[0;34m\u001b[0m\u001b[0m\n\u001b[0;32m---> 63\u001b[0;31m             \u001b[0;32mreturn\u001b[0m \u001b[0mf\u001b[0m\u001b[0;34m(\u001b[0m\u001b[0;34m*\u001b[0m\u001b[0ma\u001b[0m\u001b[0;34m,\u001b[0m \u001b[0;34m**\u001b[0m\u001b[0mkw\u001b[0m\u001b[0;34m)\u001b[0m\u001b[0;34m\u001b[0m\u001b[0;34m\u001b[0m\u001b[0m\n\u001b[0m\u001b[1;32m     64\u001b[0m         \u001b[0;32mexcept\u001b[0m \u001b[0mpy4j\u001b[0m\u001b[0;34m.\u001b[0m\u001b[0mprotocol\u001b[0m\u001b[0;34m.\u001b[0m\u001b[0mPy4JJavaError\u001b[0m \u001b[0;32mas\u001b[0m \u001b[0me\u001b[0m\u001b[0;34m:\u001b[0m\u001b[0;34m\u001b[0m\u001b[0;34m\u001b[0m\u001b[0m\n\u001b[1;32m     65\u001b[0m             \u001b[0ms\u001b[0m \u001b[0;34m=\u001b[0m \u001b[0me\u001b[0m\u001b[0;34m.\u001b[0m\u001b[0mjava_exception\u001b[0m\u001b[0;34m.\u001b[0m\u001b[0mtoString\u001b[0m\u001b[0;34m(\u001b[0m\u001b[0;34m)\u001b[0m\u001b[0;34m\u001b[0m\u001b[0;34m\u001b[0m\u001b[0m\n",
      "\u001b[0;32m~/applications/miniconda3/envs/ada/lib/python3.6/site-packages/py4j/protocol.py\u001b[0m in \u001b[0;36mget_return_value\u001b[0;34m(answer, gateway_client, target_id, name)\u001b[0m\n\u001b[1;32m    326\u001b[0m                 raise Py4JJavaError(\n\u001b[1;32m    327\u001b[0m                     \u001b[0;34m\"An error occurred while calling {0}{1}{2}.\\n\"\u001b[0m\u001b[0;34m.\u001b[0m\u001b[0;34m\u001b[0m\u001b[0;34m\u001b[0m\u001b[0m\n\u001b[0;32m--> 328\u001b[0;31m                     format(target_id, \".\", name), value)\n\u001b[0m\u001b[1;32m    329\u001b[0m             \u001b[0;32melse\u001b[0m\u001b[0;34m:\u001b[0m\u001b[0;34m\u001b[0m\u001b[0;34m\u001b[0m\u001b[0m\n\u001b[1;32m    330\u001b[0m                 raise Py4JError(\n",
      "\u001b[0;31mPy4JJavaError\u001b[0m: An error occurred while calling o60.showString.\n: org.apache.spark.SparkException: Job aborted due to stage failure: Task 1 in stage 5.0 failed 1 times, most recent failure: Lost task 1.0 in stage 5.0 (TID 12, localhost, executor driver): java.lang.OutOfMemoryError: Java heap space\n\tat java.nio.HeapByteBuffer.<init>(HeapByteBuffer.java:57)\n\tat java.nio.ByteBuffer.allocate(ByteBuffer.java:335)\n\tat org.apache.spark.io.ReadAheadInputStream.<init>(ReadAheadInputStream.java:105)\n\tat org.apache.spark.util.collection.unsafe.sort.UnsafeSorterSpillReader.<init>(UnsafeSorterSpillReader.java:81)\n\tat org.apache.spark.util.collection.unsafe.sort.UnsafeSorterSpillWriter.getReader(UnsafeSorterSpillWriter.java:156)\n\tat org.apache.spark.util.collection.unsafe.sort.UnsafeExternalSorter.getSortedIterator(UnsafeExternalSorter.java:477)\n\tat org.apache.spark.sql.execution.UnsafeKVExternalSorter.sortedIterator(UnsafeKVExternalSorter.java:204)\n\tat org.apache.spark.sql.execution.aggregate.SortBasedAggregator$$anon$1.<init>(ObjectAggregationIterator.scala:240)\n\tat org.apache.spark.sql.execution.aggregate.SortBasedAggregator.destructiveIterator(ObjectAggregationIterator.scala:239)\n\tat org.apache.spark.sql.execution.aggregate.ObjectAggregationIterator.processInputs(ObjectAggregationIterator.scala:198)\n\tat org.apache.spark.sql.execution.aggregate.ObjectAggregationIterator.<init>(ObjectAggregationIterator.scala:78)\n\tat org.apache.spark.sql.execution.aggregate.ObjectHashAggregateExec$$anonfun$doExecute$1$$anonfun$2.apply(ObjectHashAggregateExec.scala:114)\n\tat org.apache.spark.sql.execution.aggregate.ObjectHashAggregateExec$$anonfun$doExecute$1$$anonfun$2.apply(ObjectHashAggregateExec.scala:105)\n\tat org.apache.spark.rdd.RDD$$anonfun$mapPartitionsWithIndexInternal$1$$anonfun$12.apply(RDD.scala:823)\n\tat org.apache.spark.rdd.RDD$$anonfun$mapPartitionsWithIndexInternal$1$$anonfun$12.apply(RDD.scala:823)\n\tat org.apache.spark.rdd.MapPartitionsRDD.compute(MapPartitionsRDD.scala:52)\n\tat org.apache.spark.rdd.RDD.computeOrReadCheckpoint(RDD.scala:324)\n\tat org.apache.spark.rdd.RDD.iterator(RDD.scala:288)\n\tat org.apache.spark.rdd.MapPartitionsRDD.compute(MapPartitionsRDD.scala:52)\n\tat org.apache.spark.rdd.RDD.computeOrReadCheckpoint(RDD.scala:324)\n\tat org.apache.spark.rdd.RDD.iterator(RDD.scala:288)\n\tat org.apache.spark.scheduler.ShuffleMapTask.runTask(ShuffleMapTask.scala:99)\n\tat org.apache.spark.scheduler.ShuffleMapTask.runTask(ShuffleMapTask.scala:55)\n\tat org.apache.spark.scheduler.Task.run(Task.scala:123)\n\tat org.apache.spark.executor.Executor$TaskRunner$$anonfun$10.apply(Executor.scala:408)\n\tat org.apache.spark.util.Utils$.tryWithSafeFinally(Utils.scala:1360)\n\tat org.apache.spark.executor.Executor$TaskRunner.run(Executor.scala:414)\n\tat java.util.concurrent.ThreadPoolExecutor.runWorker(ThreadPoolExecutor.java:1149)\n\tat java.util.concurrent.ThreadPoolExecutor$Worker.run(ThreadPoolExecutor.java:624)\n\tat java.lang.Thread.run(Thread.java:748)\n\nDriver stacktrace:\n\tat org.apache.spark.scheduler.DAGScheduler.org$apache$spark$scheduler$DAGScheduler$$failJobAndIndependentStages(DAGScheduler.scala:1889)\n\tat org.apache.spark.scheduler.DAGScheduler$$anonfun$abortStage$1.apply(DAGScheduler.scala:1877)\n\tat org.apache.spark.scheduler.DAGScheduler$$anonfun$abortStage$1.apply(DAGScheduler.scala:1876)\n\tat scala.collection.mutable.ResizableArray$class.foreach(ResizableArray.scala:59)\n\tat scala.collection.mutable.ArrayBuffer.foreach(ArrayBuffer.scala:48)\n\tat org.apache.spark.scheduler.DAGScheduler.abortStage(DAGScheduler.scala:1876)\n\tat org.apache.spark.scheduler.DAGScheduler$$anonfun$handleTaskSetFailed$1.apply(DAGScheduler.scala:926)\n\tat org.apache.spark.scheduler.DAGScheduler$$anonfun$handleTaskSetFailed$1.apply(DAGScheduler.scala:926)\n\tat scala.Option.foreach(Option.scala:257)\n\tat org.apache.spark.scheduler.DAGScheduler.handleTaskSetFailed(DAGScheduler.scala:926)\n\tat org.apache.spark.scheduler.DAGSchedulerEventProcessLoop.doOnReceive(DAGScheduler.scala:2110)\n\tat org.apache.spark.scheduler.DAGSchedulerEventProcessLoop.onReceive(DAGScheduler.scala:2059)\n\tat org.apache.spark.scheduler.DAGSchedulerEventProcessLoop.onReceive(DAGScheduler.scala:2048)\n\tat org.apache.spark.util.EventLoop$$anon$1.run(EventLoop.scala:49)\n\tat org.apache.spark.scheduler.DAGScheduler.runJob(DAGScheduler.scala:737)\n\tat org.apache.spark.SparkContext.runJob(SparkContext.scala:2061)\n\tat org.apache.spark.SparkContext.runJob(SparkContext.scala:2082)\n\tat org.apache.spark.SparkContext.runJob(SparkContext.scala:2101)\n\tat org.apache.spark.sql.execution.SparkPlan.executeTake(SparkPlan.scala:365)\n\tat org.apache.spark.sql.execution.CollectLimitExec.executeCollect(limit.scala:38)\n\tat org.apache.spark.sql.Dataset.org$apache$spark$sql$Dataset$$collectFromPlan(Dataset.scala:3389)\n\tat org.apache.spark.sql.Dataset$$anonfun$head$1.apply(Dataset.scala:2550)\n\tat org.apache.spark.sql.Dataset$$anonfun$head$1.apply(Dataset.scala:2550)\n\tat org.apache.spark.sql.Dataset$$anonfun$52.apply(Dataset.scala:3370)\n\tat org.apache.spark.sql.execution.SQLExecution$$anonfun$withNewExecutionId$1.apply(SQLExecution.scala:78)\n\tat org.apache.spark.sql.execution.SQLExecution$.withSQLConfPropagated(SQLExecution.scala:125)\n\tat org.apache.spark.sql.execution.SQLExecution$.withNewExecutionId(SQLExecution.scala:73)\n\tat org.apache.spark.sql.Dataset.withAction(Dataset.scala:3369)\n\tat org.apache.spark.sql.Dataset.head(Dataset.scala:2550)\n\tat org.apache.spark.sql.Dataset.take(Dataset.scala:2764)\n\tat org.apache.spark.sql.Dataset.getRows(Dataset.scala:254)\n\tat org.apache.spark.sql.Dataset.showString(Dataset.scala:291)\n\tat sun.reflect.NativeMethodAccessorImpl.invoke0(Native Method)\n\tat sun.reflect.NativeMethodAccessorImpl.invoke(NativeMethodAccessorImpl.java:62)\n\tat sun.reflect.DelegatingMethodAccessorImpl.invoke(DelegatingMethodAccessorImpl.java:43)\n\tat java.lang.reflect.Method.invoke(Method.java:498)\n\tat py4j.reflection.MethodInvoker.invoke(MethodInvoker.java:244)\n\tat py4j.reflection.ReflectionEngine.invoke(ReflectionEngine.java:357)\n\tat py4j.Gateway.invoke(Gateway.java:282)\n\tat py4j.commands.AbstractCommand.invokeMethod(AbstractCommand.java:132)\n\tat py4j.commands.CallCommand.execute(CallCommand.java:79)\n\tat py4j.GatewayConnection.run(GatewayConnection.java:238)\n\tat java.lang.Thread.run(Thread.java:748)\nCaused by: java.lang.OutOfMemoryError: Java heap space\n\tat java.nio.HeapByteBuffer.<init>(HeapByteBuffer.java:57)\n\tat java.nio.ByteBuffer.allocate(ByteBuffer.java:335)\n\tat org.apache.spark.io.ReadAheadInputStream.<init>(ReadAheadInputStream.java:105)\n\tat org.apache.spark.util.collection.unsafe.sort.UnsafeSorterSpillReader.<init>(UnsafeSorterSpillReader.java:81)\n\tat org.apache.spark.util.collection.unsafe.sort.UnsafeSorterSpillWriter.getReader(UnsafeSorterSpillWriter.java:156)\n\tat org.apache.spark.util.collection.unsafe.sort.UnsafeExternalSorter.getSortedIterator(UnsafeExternalSorter.java:477)\n\tat org.apache.spark.sql.execution.UnsafeKVExternalSorter.sortedIterator(UnsafeKVExternalSorter.java:204)\n\tat org.apache.spark.sql.execution.aggregate.SortBasedAggregator$$anon$1.<init>(ObjectAggregationIterator.scala:240)\n\tat org.apache.spark.sql.execution.aggregate.SortBasedAggregator.destructiveIterator(ObjectAggregationIterator.scala:239)\n\tat org.apache.spark.sql.execution.aggregate.ObjectAggregationIterator.processInputs(ObjectAggregationIterator.scala:198)\n\tat org.apache.spark.sql.execution.aggregate.ObjectAggregationIterator.<init>(ObjectAggregationIterator.scala:78)\n\tat org.apache.spark.sql.execution.aggregate.ObjectHashAggregateExec$$anonfun$doExecute$1$$anonfun$2.apply(ObjectHashAggregateExec.scala:114)\n\tat org.apache.spark.sql.execution.aggregate.ObjectHashAggregateExec$$anonfun$doExecute$1$$anonfun$2.apply(ObjectHashAggregateExec.scala:105)\n\tat org.apache.spark.rdd.RDD$$anonfun$mapPartitionsWithIndexInternal$1$$anonfun$12.apply(RDD.scala:823)\n\tat org.apache.spark.rdd.RDD$$anonfun$mapPartitionsWithIndexInternal$1$$anonfun$12.apply(RDD.scala:823)\n\tat org.apache.spark.rdd.MapPartitionsRDD.compute(MapPartitionsRDD.scala:52)\n\tat org.apache.spark.rdd.RDD.computeOrReadCheckpoint(RDD.scala:324)\n\tat org.apache.spark.rdd.RDD.iterator(RDD.scala:288)\n\tat org.apache.spark.rdd.MapPartitionsRDD.compute(MapPartitionsRDD.scala:52)\n\tat org.apache.spark.rdd.RDD.computeOrReadCheckpoint(RDD.scala:324)\n\tat org.apache.spark.rdd.RDD.iterator(RDD.scala:288)\n\tat org.apache.spark.scheduler.ShuffleMapTask.runTask(ShuffleMapTask.scala:99)\n\tat org.apache.spark.scheduler.ShuffleMapTask.runTask(ShuffleMapTask.scala:55)\n\tat org.apache.spark.scheduler.Task.run(Task.scala:123)\n\tat org.apache.spark.executor.Executor$TaskRunner$$anonfun$10.apply(Executor.scala:408)\n\tat org.apache.spark.util.Utils$.tryWithSafeFinally(Utils.scala:1360)\n\tat org.apache.spark.executor.Executor$TaskRunner.run(Executor.scala:414)\n\tat java.util.concurrent.ThreadPoolExecutor.runWorker(ThreadPoolExecutor.java:1149)\n\tat java.util.concurrent.ThreadPoolExecutor$Worker.run(ThreadPoolExecutor.java:624)\n\t... 1 more\n"
     ]
    }
   ],
   "source": [
    "full_match_udf = udf(lambda nb, name_words: len(name_words)==nb, sql.types.BooleanType())\n",
    "full_match = regrouped.filter(full_match_udf('nb_common_words', 'name_words'))\n",
    "#full_match = reload2('full_match.parquet', full_match)\n",
    "full_match.show()\n",
    "for row in full_match.take(100):\n",
    "    print(row.product_name, ': ', row.title, '\\n', row.name_words, ' |-| ', row.nb_common_words, '\\n'+'_'*100+'\\n')"
   ]
  },
  {
   "cell_type": "code",
   "execution_count": 11,
   "metadata": {},
   "outputs": [],
   "source": [
    "# pb: Traverse Bay Fruit Chocolate Covered Dried Cherries, 2 Pound"
   ]
  },
  {
   "cell_type": "code",
   "execution_count": null,
   "metadata": {},
   "outputs": [],
   "source": [
    "name_in_title3 = full_match.groupBy('product_name').agg(F.collect_list('title').alias('titles'), F.count('title').alias('nb_titles'))\n",
    "#name_in_title3 = reload2('name_in_title3.parquet', name_in_title3)\n",
    "name_in_title3.show()\n",
    "for row in name_in_title3.take(100):\n",
    "    print(row.product_name, ': ', row.titles, '\\n')"
   ]
  },
  {
   "cell_type": "code",
   "execution_count": null,
   "metadata": {},
   "outputs": [],
   "source": [
    "unique_match3 = name_in_title3.filter(len_filter('titles'))\n",
    "unique_match3 = reload2('unique_match3.parquet', unique_match3)\n",
    "for row in unique_match3.take(100):\n",
    "    print(row.product_name, ': ', row.titles, '\\n')"
   ]
  },
  {
   "cell_type": "code",
   "execution_count": null,
   "metadata": {},
   "outputs": [],
   "source": [
    "#for row in df_withwords2.take(50):\n",
    "#    print(row.product_name, 'matched to', row.title)"
   ]
  },
  {
   "cell_type": "code",
   "execution_count": null,
   "metadata": {},
   "outputs": [],
   "source": [
    "real_products.count()"
   ]
  },
  {
   "cell_type": "code",
   "execution_count": null,
   "metadata": {},
   "outputs": [],
   "source": [
    "unique_match3.count()"
   ]
  },
  {
   "cell_type": "code",
   "execution_count": null,
   "metadata": {},
   "outputs": [],
   "source": []
  }
 ],
 "metadata": {
  "kernelspec": {
   "display_name": "Python 3",
   "language": "python",
   "name": "python3"
  },
  "language_info": {
   "codemirror_mode": {
    "name": "ipython",
    "version": 3
   },
   "file_extension": ".py",
   "mimetype": "text/x-python",
   "name": "python",
   "nbconvert_exporter": "python",
   "pygments_lexer": "ipython3",
   "version": "3.6.9"
  }
 },
 "nbformat": 4,
 "nbformat_minor": 4
}
