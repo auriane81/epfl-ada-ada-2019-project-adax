{
 "cells": [
  {
   "cell_type": "code",
   "execution_count": 27,
   "metadata": {},
   "outputs": [],
   "source": [
    "%matplotlib inline\n",
    "import pandas as pd\n",
    "import numpy as np\n",
    "import re\n",
    "import matplotlib.pyplot as plt\n",
    "import gzip\n",
    "import copy\n",
    "from pyspark.sql.functions import pandas_udf, PandasUDFType\n",
    "from pyspark.sql.functions import udf\n",
    "from pyspark.sql.types import LongType\n",
    "from pyspark.sql.functions import split"
   ]
  },
  {
   "cell_type": "code",
   "execution_count": 103,
   "metadata": {},
   "outputs": [],
   "source": [
    "import pyspark.sql as sql\n",
    "import pyspark.sql.functions as F\n",
    "from pyspark import SparkContext"
   ]
  },
  {
   "cell_type": "code",
   "execution_count": 108,
   "metadata": {},
   "outputs": [],
   "source": [
    "import os\n",
    "\n",
    "def reload(filename, df, force_rewrite=False):\n",
    "    '''Returns the dataframe stored in filename (located in data/saved), if it exists. Else, it writes the dataframe in filename and immediately reads it.'''\n",
    "    filename = os.path.join('data', 'saved', filename)\n",
    "    if os.path.exists(filename) and not force_rewrite :\n",
    "        return spark.read.parquet(filename)\n",
    "    else :\n",
    "        df.write.mode('overwrite').parquet(filename)\n",
    "        return spark.read.parquet(filename)"
   ]
  },
  {
   "cell_type": "markdown",
   "metadata": {},
   "source": [
    "# Import the datasets "
   ]
  },
  {
   "cell_type": "markdown",
   "metadata": {},
   "source": [
    "**Instacart datasets** (provided) : https://www.instacart.com/datasets/grocery-shopping-2017 . After loading the datasets, we verified if there were any missing values"
   ]
  },
  {
   "cell_type": "code",
   "execution_count": 29,
   "metadata": {},
   "outputs": [
    {
     "data": {
      "text/html": [
       "<div>\n",
       "<style scoped>\n",
       "    .dataframe tbody tr th:only-of-type {\n",
       "        vertical-align: middle;\n",
       "    }\n",
       "\n",
       "    .dataframe tbody tr th {\n",
       "        vertical-align: top;\n",
       "    }\n",
       "\n",
       "    .dataframe thead th {\n",
       "        text-align: right;\n",
       "    }\n",
       "</style>\n",
       "<table border=\"1\" class=\"dataframe\">\n",
       "  <thead>\n",
       "    <tr style=\"text-align: right;\">\n",
       "      <th></th>\n",
       "      <th>product_id</th>\n",
       "      <th>product_name</th>\n",
       "      <th>aisle_id</th>\n",
       "      <th>department_id</th>\n",
       "    </tr>\n",
       "  </thead>\n",
       "  <tbody>\n",
       "    <tr>\n",
       "      <td>0</td>\n",
       "      <td>1</td>\n",
       "      <td>Chocolate Sandwich Cookies</td>\n",
       "      <td>61</td>\n",
       "      <td>19</td>\n",
       "    </tr>\n",
       "    <tr>\n",
       "      <td>1</td>\n",
       "      <td>2</td>\n",
       "      <td>All-Seasons Salt</td>\n",
       "      <td>104</td>\n",
       "      <td>13</td>\n",
       "    </tr>\n",
       "    <tr>\n",
       "      <td>2</td>\n",
       "      <td>3</td>\n",
       "      <td>Robust Golden Unsweetened Oolong Tea</td>\n",
       "      <td>94</td>\n",
       "      <td>7</td>\n",
       "    </tr>\n",
       "    <tr>\n",
       "      <td>3</td>\n",
       "      <td>4</td>\n",
       "      <td>Smart Ones Classic Favorites Mini Rigatoni Wit...</td>\n",
       "      <td>38</td>\n",
       "      <td>1</td>\n",
       "    </tr>\n",
       "    <tr>\n",
       "      <td>4</td>\n",
       "      <td>5</td>\n",
       "      <td>Green Chile Anytime Sauce</td>\n",
       "      <td>5</td>\n",
       "      <td>13</td>\n",
       "    </tr>\n",
       "  </tbody>\n",
       "</table>\n",
       "</div>"
      ],
      "text/plain": [
       "   product_id                                       product_name  aisle_id  \\\n",
       "0           1                         Chocolate Sandwich Cookies        61   \n",
       "1           2                                   All-Seasons Salt       104   \n",
       "2           3               Robust Golden Unsweetened Oolong Tea        94   \n",
       "3           4  Smart Ones Classic Favorites Mini Rigatoni Wit...        38   \n",
       "4           5                          Green Chile Anytime Sauce         5   \n",
       "\n",
       "   department_id  \n",
       "0             19  \n",
       "1             13  \n",
       "2              7  \n",
       "3              1  \n",
       "4             13  "
      ]
     },
     "execution_count": 29,
     "metadata": {},
     "output_type": "execute_result"
    }
   ],
   "source": [
    "products = pd.read_csv('data/products.csv', sep=',')\n",
    "products.head()"
   ]
  },
  {
   "cell_type": "code",
   "execution_count": 30,
   "metadata": {},
   "outputs": [
    {
     "data": {
      "text/plain": [
       "False"
      ]
     },
     "execution_count": 30,
     "metadata": {},
     "output_type": "execute_result"
    }
   ],
   "source": [
    "products.isnull().values.any()"
   ]
  },
  {
   "cell_type": "code",
   "execution_count": 31,
   "metadata": {},
   "outputs": [
    {
     "data": {
      "text/html": [
       "<div>\n",
       "<style scoped>\n",
       "    .dataframe tbody tr th:only-of-type {\n",
       "        vertical-align: middle;\n",
       "    }\n",
       "\n",
       "    .dataframe tbody tr th {\n",
       "        vertical-align: top;\n",
       "    }\n",
       "\n",
       "    .dataframe thead th {\n",
       "        text-align: right;\n",
       "    }\n",
       "</style>\n",
       "<table border=\"1\" class=\"dataframe\">\n",
       "  <thead>\n",
       "    <tr style=\"text-align: right;\">\n",
       "      <th></th>\n",
       "      <th>aisle_id</th>\n",
       "      <th>aisle</th>\n",
       "    </tr>\n",
       "  </thead>\n",
       "  <tbody>\n",
       "    <tr>\n",
       "      <td>0</td>\n",
       "      <td>1</td>\n",
       "      <td>prepared soups salads</td>\n",
       "    </tr>\n",
       "    <tr>\n",
       "      <td>1</td>\n",
       "      <td>2</td>\n",
       "      <td>specialty cheeses</td>\n",
       "    </tr>\n",
       "    <tr>\n",
       "      <td>2</td>\n",
       "      <td>3</td>\n",
       "      <td>energy granola bars</td>\n",
       "    </tr>\n",
       "    <tr>\n",
       "      <td>3</td>\n",
       "      <td>4</td>\n",
       "      <td>instant foods</td>\n",
       "    </tr>\n",
       "    <tr>\n",
       "      <td>4</td>\n",
       "      <td>5</td>\n",
       "      <td>marinades meat preparation</td>\n",
       "    </tr>\n",
       "  </tbody>\n",
       "</table>\n",
       "</div>"
      ],
      "text/plain": [
       "   aisle_id                       aisle\n",
       "0         1       prepared soups salads\n",
       "1         2           specialty cheeses\n",
       "2         3         energy granola bars\n",
       "3         4               instant foods\n",
       "4         5  marinades meat preparation"
      ]
     },
     "execution_count": 31,
     "metadata": {},
     "output_type": "execute_result"
    }
   ],
   "source": [
    "aisles = pd.read_csv('data/aisles.csv', sep=',')\n",
    "aisles.head()"
   ]
  },
  {
   "cell_type": "code",
   "execution_count": 32,
   "metadata": {},
   "outputs": [
    {
     "data": {
      "text/plain": [
       "False"
      ]
     },
     "execution_count": 32,
     "metadata": {},
     "output_type": "execute_result"
    }
   ],
   "source": [
    "aisles.isnull().values.any()"
   ]
  },
  {
   "cell_type": "code",
   "execution_count": 33,
   "metadata": {},
   "outputs": [
    {
     "data": {
      "text/html": [
       "<div>\n",
       "<style scoped>\n",
       "    .dataframe tbody tr th:only-of-type {\n",
       "        vertical-align: middle;\n",
       "    }\n",
       "\n",
       "    .dataframe tbody tr th {\n",
       "        vertical-align: top;\n",
       "    }\n",
       "\n",
       "    .dataframe thead th {\n",
       "        text-align: right;\n",
       "    }\n",
       "</style>\n",
       "<table border=\"1\" class=\"dataframe\">\n",
       "  <thead>\n",
       "    <tr style=\"text-align: right;\">\n",
       "      <th></th>\n",
       "      <th>department_id</th>\n",
       "      <th>department</th>\n",
       "    </tr>\n",
       "  </thead>\n",
       "  <tbody>\n",
       "    <tr>\n",
       "      <td>0</td>\n",
       "      <td>1</td>\n",
       "      <td>frozen</td>\n",
       "    </tr>\n",
       "    <tr>\n",
       "      <td>1</td>\n",
       "      <td>2</td>\n",
       "      <td>other</td>\n",
       "    </tr>\n",
       "    <tr>\n",
       "      <td>2</td>\n",
       "      <td>3</td>\n",
       "      <td>bakery</td>\n",
       "    </tr>\n",
       "    <tr>\n",
       "      <td>3</td>\n",
       "      <td>4</td>\n",
       "      <td>produce</td>\n",
       "    </tr>\n",
       "    <tr>\n",
       "      <td>4</td>\n",
       "      <td>5</td>\n",
       "      <td>alcohol</td>\n",
       "    </tr>\n",
       "  </tbody>\n",
       "</table>\n",
       "</div>"
      ],
      "text/plain": [
       "   department_id department\n",
       "0              1     frozen\n",
       "1              2      other\n",
       "2              3     bakery\n",
       "3              4    produce\n",
       "4              5    alcohol"
      ]
     },
     "execution_count": 33,
     "metadata": {},
     "output_type": "execute_result"
    }
   ],
   "source": [
    "departments = pd.read_csv('data/departments.csv', sep=',')\n",
    "departments.head()"
   ]
  },
  {
   "cell_type": "code",
   "execution_count": 34,
   "metadata": {},
   "outputs": [
    {
     "data": {
      "text/plain": [
       "False"
      ]
     },
     "execution_count": 34,
     "metadata": {},
     "output_type": "execute_result"
    }
   ],
   "source": [
    "departments.isnull().values.any()"
   ]
  },
  {
   "cell_type": "code",
   "execution_count": 35,
   "metadata": {},
   "outputs": [
    {
     "data": {
      "text/html": [
       "<div>\n",
       "<style scoped>\n",
       "    .dataframe tbody tr th:only-of-type {\n",
       "        vertical-align: middle;\n",
       "    }\n",
       "\n",
       "    .dataframe tbody tr th {\n",
       "        vertical-align: top;\n",
       "    }\n",
       "\n",
       "    .dataframe thead th {\n",
       "        text-align: right;\n",
       "    }\n",
       "</style>\n",
       "<table border=\"1\" class=\"dataframe\">\n",
       "  <thead>\n",
       "    <tr style=\"text-align: right;\">\n",
       "      <th></th>\n",
       "      <th>order_id</th>\n",
       "      <th>user_id</th>\n",
       "      <th>eval_set</th>\n",
       "      <th>order_number</th>\n",
       "      <th>order_dow</th>\n",
       "      <th>order_hour_of_day</th>\n",
       "      <th>days_since_prior_order</th>\n",
       "    </tr>\n",
       "  </thead>\n",
       "  <tbody>\n",
       "    <tr>\n",
       "      <td>0</td>\n",
       "      <td>2539329</td>\n",
       "      <td>1</td>\n",
       "      <td>prior</td>\n",
       "      <td>1</td>\n",
       "      <td>2</td>\n",
       "      <td>8</td>\n",
       "      <td>NaN</td>\n",
       "    </tr>\n",
       "    <tr>\n",
       "      <td>1</td>\n",
       "      <td>2398795</td>\n",
       "      <td>1</td>\n",
       "      <td>prior</td>\n",
       "      <td>2</td>\n",
       "      <td>3</td>\n",
       "      <td>7</td>\n",
       "      <td>15.0</td>\n",
       "    </tr>\n",
       "    <tr>\n",
       "      <td>2</td>\n",
       "      <td>473747</td>\n",
       "      <td>1</td>\n",
       "      <td>prior</td>\n",
       "      <td>3</td>\n",
       "      <td>3</td>\n",
       "      <td>12</td>\n",
       "      <td>21.0</td>\n",
       "    </tr>\n",
       "    <tr>\n",
       "      <td>3</td>\n",
       "      <td>2254736</td>\n",
       "      <td>1</td>\n",
       "      <td>prior</td>\n",
       "      <td>4</td>\n",
       "      <td>4</td>\n",
       "      <td>7</td>\n",
       "      <td>29.0</td>\n",
       "    </tr>\n",
       "    <tr>\n",
       "      <td>4</td>\n",
       "      <td>431534</td>\n",
       "      <td>1</td>\n",
       "      <td>prior</td>\n",
       "      <td>5</td>\n",
       "      <td>4</td>\n",
       "      <td>15</td>\n",
       "      <td>28.0</td>\n",
       "    </tr>\n",
       "  </tbody>\n",
       "</table>\n",
       "</div>"
      ],
      "text/plain": [
       "   order_id  user_id eval_set  order_number  order_dow  order_hour_of_day  \\\n",
       "0   2539329        1    prior             1          2                  8   \n",
       "1   2398795        1    prior             2          3                  7   \n",
       "2    473747        1    prior             3          3                 12   \n",
       "3   2254736        1    prior             4          4                  7   \n",
       "4    431534        1    prior             5          4                 15   \n",
       "\n",
       "   days_since_prior_order  \n",
       "0                     NaN  \n",
       "1                    15.0  \n",
       "2                    21.0  \n",
       "3                    29.0  \n",
       "4                    28.0  "
      ]
     },
     "execution_count": 35,
     "metadata": {},
     "output_type": "execute_result"
    }
   ],
   "source": [
    "orders = pd.read_csv('data/orders.csv', sep=',')\n",
    "orders.head()"
   ]
  },
  {
   "cell_type": "code",
   "execution_count": 36,
   "metadata": {},
   "outputs": [
    {
     "data": {
      "text/plain": [
       "True"
      ]
     },
     "execution_count": 36,
     "metadata": {},
     "output_type": "execute_result"
    }
   ],
   "source": [
    "orders.isnull().values.sum()==orders['days_since_prior_order'].isnull().values.sum()"
   ]
  },
  {
   "cell_type": "markdown",
   "metadata": {},
   "source": [
    "The missing values in _orders_ correspond to the date of \"previous order\", when it happens to be the first one."
   ]
  },
  {
   "cell_type": "code",
   "execution_count": 37,
   "metadata": {},
   "outputs": [
    {
     "data": {
      "text/html": [
       "<div>\n",
       "<style scoped>\n",
       "    .dataframe tbody tr th:only-of-type {\n",
       "        vertical-align: middle;\n",
       "    }\n",
       "\n",
       "    .dataframe tbody tr th {\n",
       "        vertical-align: top;\n",
       "    }\n",
       "\n",
       "    .dataframe thead th {\n",
       "        text-align: right;\n",
       "    }\n",
       "</style>\n",
       "<table border=\"1\" class=\"dataframe\">\n",
       "  <thead>\n",
       "    <tr style=\"text-align: right;\">\n",
       "      <th></th>\n",
       "      <th>order_id</th>\n",
       "      <th>product_id</th>\n",
       "      <th>add_to_cart_order</th>\n",
       "      <th>reordered</th>\n",
       "    </tr>\n",
       "  </thead>\n",
       "  <tbody>\n",
       "    <tr>\n",
       "      <td>0</td>\n",
       "      <td>2</td>\n",
       "      <td>33120</td>\n",
       "      <td>1</td>\n",
       "      <td>1</td>\n",
       "    </tr>\n",
       "    <tr>\n",
       "      <td>1</td>\n",
       "      <td>2</td>\n",
       "      <td>28985</td>\n",
       "      <td>2</td>\n",
       "      <td>1</td>\n",
       "    </tr>\n",
       "    <tr>\n",
       "      <td>2</td>\n",
       "      <td>2</td>\n",
       "      <td>9327</td>\n",
       "      <td>3</td>\n",
       "      <td>0</td>\n",
       "    </tr>\n",
       "    <tr>\n",
       "      <td>3</td>\n",
       "      <td>2</td>\n",
       "      <td>45918</td>\n",
       "      <td>4</td>\n",
       "      <td>1</td>\n",
       "    </tr>\n",
       "    <tr>\n",
       "      <td>4</td>\n",
       "      <td>2</td>\n",
       "      <td>30035</td>\n",
       "      <td>5</td>\n",
       "      <td>0</td>\n",
       "    </tr>\n",
       "  </tbody>\n",
       "</table>\n",
       "</div>"
      ],
      "text/plain": [
       "   order_id  product_id  add_to_cart_order  reordered\n",
       "0         2       33120                  1          1\n",
       "1         2       28985                  2          1\n",
       "2         2        9327                  3          0\n",
       "3         2       45918                  4          1\n",
       "4         2       30035                  5          0"
      ]
     },
     "execution_count": 37,
     "metadata": {},
     "output_type": "execute_result"
    }
   ],
   "source": [
    "history = pd.read_csv('data/order_products__prior.csv', sep=',')\n",
    "history.head()"
   ]
  },
  {
   "cell_type": "code",
   "execution_count": 38,
   "metadata": {},
   "outputs": [
    {
     "data": {
      "text/plain": [
       "False"
      ]
     },
     "execution_count": 38,
     "metadata": {},
     "output_type": "execute_result"
    }
   ],
   "source": [
    "history.isnull().values.any()"
   ]
  },
  {
   "cell_type": "markdown",
   "metadata": {},
   "source": [
    "There are no unexpected missing values in any of the Instacart datasets."
   ]
  },
  {
   "cell_type": "markdown",
   "metadata": {},
   "source": [
    "**Create a dataset with all useful information gathered : products_litteral**"
   ]
  },
  {
   "cell_type": "markdown",
   "metadata": {},
   "source": [
    "Add the names of the aisle and department in the _products_ dataset, instead of the ID, by merging the datasets :"
   ]
  },
  {
   "cell_type": "code",
   "execution_count": 39,
   "metadata": {},
   "outputs": [
    {
     "data": {
      "text/html": [
       "<div>\n",
       "<style scoped>\n",
       "    .dataframe tbody tr th:only-of-type {\n",
       "        vertical-align: middle;\n",
       "    }\n",
       "\n",
       "    .dataframe tbody tr th {\n",
       "        vertical-align: top;\n",
       "    }\n",
       "\n",
       "    .dataframe thead th {\n",
       "        text-align: right;\n",
       "    }\n",
       "</style>\n",
       "<table border=\"1\" class=\"dataframe\">\n",
       "  <thead>\n",
       "    <tr style=\"text-align: right;\">\n",
       "      <th></th>\n",
       "      <th>product_id</th>\n",
       "      <th>product_name</th>\n",
       "      <th>aisle</th>\n",
       "      <th>department</th>\n",
       "    </tr>\n",
       "  </thead>\n",
       "  <tbody>\n",
       "    <tr>\n",
       "      <td>0</td>\n",
       "      <td>1</td>\n",
       "      <td>Chocolate Sandwich Cookies</td>\n",
       "      <td>cookies cakes</td>\n",
       "      <td>snacks</td>\n",
       "    </tr>\n",
       "    <tr>\n",
       "      <td>1</td>\n",
       "      <td>78</td>\n",
       "      <td>Nutter Butter Cookie Bites Go-Pak</td>\n",
       "      <td>cookies cakes</td>\n",
       "      <td>snacks</td>\n",
       "    </tr>\n",
       "    <tr>\n",
       "      <td>2</td>\n",
       "      <td>102</td>\n",
       "      <td>Danish Butter Cookies</td>\n",
       "      <td>cookies cakes</td>\n",
       "      <td>snacks</td>\n",
       "    </tr>\n",
       "    <tr>\n",
       "      <td>3</td>\n",
       "      <td>172</td>\n",
       "      <td>Gluten Free All Natural Chocolate Chip Cookies</td>\n",
       "      <td>cookies cakes</td>\n",
       "      <td>snacks</td>\n",
       "    </tr>\n",
       "    <tr>\n",
       "      <td>4</td>\n",
       "      <td>285</td>\n",
       "      <td>Mini Nilla Wafers Munch Pack</td>\n",
       "      <td>cookies cakes</td>\n",
       "      <td>snacks</td>\n",
       "    </tr>\n",
       "  </tbody>\n",
       "</table>\n",
       "</div>"
      ],
      "text/plain": [
       "   product_id                                    product_name          aisle  \\\n",
       "0           1                      Chocolate Sandwich Cookies  cookies cakes   \n",
       "1          78               Nutter Butter Cookie Bites Go-Pak  cookies cakes   \n",
       "2         102                           Danish Butter Cookies  cookies cakes   \n",
       "3         172  Gluten Free All Natural Chocolate Chip Cookies  cookies cakes   \n",
       "4         285                    Mini Nilla Wafers Munch Pack  cookies cakes   \n",
       "\n",
       "  department  \n",
       "0     snacks  \n",
       "1     snacks  \n",
       "2     snacks  \n",
       "3     snacks  \n",
       "4     snacks  "
      ]
     },
     "execution_count": 39,
     "metadata": {},
     "output_type": "execute_result"
    }
   ],
   "source": [
    "products_litteral = pd.merge(pd.merge(products, aisles, on='aisle_id'), departments, on='department_id').drop(['aisle_id', 'department_id'], axis=1)\n",
    "products_litteral.head()"
   ]
  },
  {
   "cell_type": "markdown",
   "metadata": {},
   "source": [
    "**Remove 'missing' values**"
   ]
  },
  {
   "cell_type": "code",
   "execution_count": 40,
   "metadata": {},
   "outputs": [
    {
     "data": {
      "text/html": [
       "<div>\n",
       "<style scoped>\n",
       "    .dataframe tbody tr th:only-of-type {\n",
       "        vertical-align: middle;\n",
       "    }\n",
       "\n",
       "    .dataframe tbody tr th {\n",
       "        vertical-align: top;\n",
       "    }\n",
       "\n",
       "    .dataframe thead th {\n",
       "        text-align: right;\n",
       "    }\n",
       "</style>\n",
       "<table border=\"1\" class=\"dataframe\">\n",
       "  <thead>\n",
       "    <tr style=\"text-align: right;\">\n",
       "      <th></th>\n",
       "      <th>product_id</th>\n",
       "      <th>product_name</th>\n",
       "      <th>aisle</th>\n",
       "      <th>department</th>\n",
       "    </tr>\n",
       "  </thead>\n",
       "  <tbody>\n",
       "    <tr>\n",
       "      <td>42813</td>\n",
       "      <td>38</td>\n",
       "      <td>Ultra Antibacterial Dish Liquid</td>\n",
       "      <td>missing</td>\n",
       "      <td>missing</td>\n",
       "    </tr>\n",
       "    <tr>\n",
       "      <td>42814</td>\n",
       "      <td>72</td>\n",
       "      <td>Organic Honeycrisp Apples</td>\n",
       "      <td>missing</td>\n",
       "      <td>missing</td>\n",
       "    </tr>\n",
       "    <tr>\n",
       "      <td>42815</td>\n",
       "      <td>110</td>\n",
       "      <td>Uncured Turkey Bologna</td>\n",
       "      <td>missing</td>\n",
       "      <td>missing</td>\n",
       "    </tr>\n",
       "    <tr>\n",
       "      <td>42816</td>\n",
       "      <td>297</td>\n",
       "      <td>Write Bros Ball Point Pens, Cap-Pen, Medium (1...</td>\n",
       "      <td>missing</td>\n",
       "      <td>missing</td>\n",
       "    </tr>\n",
       "    <tr>\n",
       "      <td>42817</td>\n",
       "      <td>417</td>\n",
       "      <td>Classics Baby Binks Easter Chocolate Bunny</td>\n",
       "      <td>missing</td>\n",
       "      <td>missing</td>\n",
       "    </tr>\n",
       "    <tr>\n",
       "      <td>42818</td>\n",
       "      <td>437</td>\n",
       "      <td>Strawberry Cheesecake Nonfat Yogurt</td>\n",
       "      <td>missing</td>\n",
       "      <td>missing</td>\n",
       "    </tr>\n",
       "    <tr>\n",
       "      <td>42819</td>\n",
       "      <td>440</td>\n",
       "      <td>Crossovers Olive Thyme Almond</td>\n",
       "      <td>missing</td>\n",
       "      <td>missing</td>\n",
       "    </tr>\n",
       "    <tr>\n",
       "      <td>42820</td>\n",
       "      <td>472</td>\n",
       "      <td>Fancy Diced Hot Chilies</td>\n",
       "      <td>missing</td>\n",
       "      <td>missing</td>\n",
       "    </tr>\n",
       "    <tr>\n",
       "      <td>42821</td>\n",
       "      <td>491</td>\n",
       "      <td>Pompelmo Water</td>\n",
       "      <td>missing</td>\n",
       "      <td>missing</td>\n",
       "    </tr>\n",
       "    <tr>\n",
       "      <td>42822</td>\n",
       "      <td>556</td>\n",
       "      <td>Bake &amp; Break Cheese Garlic Loaf</td>\n",
       "      <td>missing</td>\n",
       "      <td>missing</td>\n",
       "    </tr>\n",
       "    <tr>\n",
       "      <td>42823</td>\n",
       "      <td>562</td>\n",
       "      <td>Traditional Tartar Sauce</td>\n",
       "      <td>missing</td>\n",
       "      <td>missing</td>\n",
       "    </tr>\n",
       "    <tr>\n",
       "      <td>42824</td>\n",
       "      <td>614</td>\n",
       "      <td>Plain Dairy-Free Probiotic Drinkable Cashewgurt</td>\n",
       "      <td>missing</td>\n",
       "      <td>missing</td>\n",
       "    </tr>\n",
       "    <tr>\n",
       "      <td>42825</td>\n",
       "      <td>624</td>\n",
       "      <td>Chub Chorizo</td>\n",
       "      <td>missing</td>\n",
       "      <td>missing</td>\n",
       "    </tr>\n",
       "    <tr>\n",
       "      <td>42826</td>\n",
       "      <td>690</td>\n",
       "      <td>Vegetable Hearty Garden Soup</td>\n",
       "      <td>missing</td>\n",
       "      <td>missing</td>\n",
       "    </tr>\n",
       "    <tr>\n",
       "      <td>42827</td>\n",
       "      <td>768</td>\n",
       "      <td>Nacho Grain-Free Tortilla Chips</td>\n",
       "      <td>missing</td>\n",
       "      <td>missing</td>\n",
       "    </tr>\n",
       "    <tr>\n",
       "      <td>42828</td>\n",
       "      <td>804</td>\n",
       "      <td>Ratatouille</td>\n",
       "      <td>missing</td>\n",
       "      <td>missing</td>\n",
       "    </tr>\n",
       "    <tr>\n",
       "      <td>42829</td>\n",
       "      <td>891</td>\n",
       "      <td>Liquid Water Enhance Ice Van Java</td>\n",
       "      <td>missing</td>\n",
       "      <td>missing</td>\n",
       "    </tr>\n",
       "    <tr>\n",
       "      <td>42830</td>\n",
       "      <td>991</td>\n",
       "      <td>Red Sweet Mini Pepper</td>\n",
       "      <td>missing</td>\n",
       "      <td>missing</td>\n",
       "    </tr>\n",
       "    <tr>\n",
       "      <td>42831</td>\n",
       "      <td>1019</td>\n",
       "      <td>Spicy Bbq Chicken Soup</td>\n",
       "      <td>missing</td>\n",
       "      <td>missing</td>\n",
       "    </tr>\n",
       "    <tr>\n",
       "      <td>42832</td>\n",
       "      <td>1055</td>\n",
       "      <td>Naturals Grilled Chicken Nugget</td>\n",
       "      <td>missing</td>\n",
       "      <td>missing</td>\n",
       "    </tr>\n",
       "    <tr>\n",
       "      <td>42833</td>\n",
       "      <td>1218</td>\n",
       "      <td>Buffalo Style Chicken Wrap</td>\n",
       "      <td>missing</td>\n",
       "      <td>missing</td>\n",
       "    </tr>\n",
       "    <tr>\n",
       "      <td>42834</td>\n",
       "      <td>1283</td>\n",
       "      <td>Organic Edamame &amp; Mung Bean Fettuccine</td>\n",
       "      <td>missing</td>\n",
       "      <td>missing</td>\n",
       "    </tr>\n",
       "    <tr>\n",
       "      <td>42835</td>\n",
       "      <td>1302</td>\n",
       "      <td>Natural Orange Flavor Liquid Sublingual Melatonin</td>\n",
       "      <td>missing</td>\n",
       "      <td>missing</td>\n",
       "    </tr>\n",
       "    <tr>\n",
       "      <td>42836</td>\n",
       "      <td>1387</td>\n",
       "      <td>White Apple Cauliflower &amp; Leek Organic Baby Food</td>\n",
       "      <td>missing</td>\n",
       "      <td>missing</td>\n",
       "    </tr>\n",
       "    <tr>\n",
       "      <td>42837</td>\n",
       "      <td>1548</td>\n",
       "      <td>Organic Vanilla Soy Milk</td>\n",
       "      <td>missing</td>\n",
       "      <td>missing</td>\n",
       "    </tr>\n",
       "    <tr>\n",
       "      <td>42838</td>\n",
       "      <td>1562</td>\n",
       "      <td>Yellow Easter Basket Cakes</td>\n",
       "      <td>missing</td>\n",
       "      <td>missing</td>\n",
       "    </tr>\n",
       "    <tr>\n",
       "      <td>42839</td>\n",
       "      <td>1715</td>\n",
       "      <td>Organic Honey Balsamic Dressing &amp; Marinade</td>\n",
       "      <td>missing</td>\n",
       "      <td>missing</td>\n",
       "    </tr>\n",
       "    <tr>\n",
       "      <td>42840</td>\n",
       "      <td>1718</td>\n",
       "      <td>Broccoli Rabe Rapini Bag</td>\n",
       "      <td>missing</td>\n",
       "      <td>missing</td>\n",
       "    </tr>\n",
       "    <tr>\n",
       "      <td>42841</td>\n",
       "      <td>1742</td>\n",
       "      <td>Onion Crispbread</td>\n",
       "      <td>missing</td>\n",
       "      <td>missing</td>\n",
       "    </tr>\n",
       "    <tr>\n",
       "      <td>42842</td>\n",
       "      <td>1798</td>\n",
       "      <td>Paso Robles Cabernet Sauvignon</td>\n",
       "      <td>missing</td>\n",
       "      <td>missing</td>\n",
       "    </tr>\n",
       "    <tr>\n",
       "      <td>42843</td>\n",
       "      <td>1859</td>\n",
       "      <td>Chocolate Covered Peanuts</td>\n",
       "      <td>missing</td>\n",
       "      <td>missing</td>\n",
       "    </tr>\n",
       "    <tr>\n",
       "      <td>42844</td>\n",
       "      <td>1961</td>\n",
       "      <td>Kombucha Beet</td>\n",
       "      <td>missing</td>\n",
       "      <td>missing</td>\n",
       "    </tr>\n",
       "    <tr>\n",
       "      <td>42845</td>\n",
       "      <td>2032</td>\n",
       "      <td>Chocolate Fudge Brownie Slices Ice Cream</td>\n",
       "      <td>missing</td>\n",
       "      <td>missing</td>\n",
       "    </tr>\n",
       "    <tr>\n",
       "      <td>42846</td>\n",
       "      <td>2082</td>\n",
       "      <td>Organic Valencia Orange</td>\n",
       "      <td>missing</td>\n",
       "      <td>missing</td>\n",
       "    </tr>\n",
       "    <tr>\n",
       "      <td>42847</td>\n",
       "      <td>2134</td>\n",
       "      <td>Count Chocula Cereal</td>\n",
       "      <td>missing</td>\n",
       "      <td>missing</td>\n",
       "    </tr>\n",
       "    <tr>\n",
       "      <td>42848</td>\n",
       "      <td>2162</td>\n",
       "      <td>Organic Wild Rumpus Avocado Babyfood</td>\n",
       "      <td>missing</td>\n",
       "      <td>missing</td>\n",
       "    </tr>\n",
       "    <tr>\n",
       "      <td>42849</td>\n",
       "      <td>2198</td>\n",
       "      <td>Cold Brew Baridi Black</td>\n",
       "      <td>missing</td>\n",
       "      <td>missing</td>\n",
       "    </tr>\n",
       "    <tr>\n",
       "      <td>42850</td>\n",
       "      <td>2265</td>\n",
       "      <td>Lime Grain-Free Tortilla Chips</td>\n",
       "      <td>missing</td>\n",
       "      <td>missing</td>\n",
       "    </tr>\n",
       "    <tr>\n",
       "      <td>42851</td>\n",
       "      <td>2335</td>\n",
       "      <td>Organic Chopped BBQ Ranch Salad Kit</td>\n",
       "      <td>missing</td>\n",
       "      <td>missing</td>\n",
       "    </tr>\n",
       "    <tr>\n",
       "      <td>42852</td>\n",
       "      <td>2371</td>\n",
       "      <td>Natural Uncured Beef Hot Dog</td>\n",
       "      <td>missing</td>\n",
       "      <td>missing</td>\n",
       "    </tr>\n",
       "    <tr>\n",
       "      <td>42853</td>\n",
       "      <td>2375</td>\n",
       "      <td>Three Cheese Pizza Pocket</td>\n",
       "      <td>missing</td>\n",
       "      <td>missing</td>\n",
       "    </tr>\n",
       "    <tr>\n",
       "      <td>42854</td>\n",
       "      <td>2384</td>\n",
       "      <td>Spicy Peanut Chicken &amp; Broccolli</td>\n",
       "      <td>missing</td>\n",
       "      <td>missing</td>\n",
       "    </tr>\n",
       "    <tr>\n",
       "      <td>42855</td>\n",
       "      <td>2507</td>\n",
       "      <td>Savory Garlic &amp; Herb Jack Snack Cheese</td>\n",
       "      <td>missing</td>\n",
       "      <td>missing</td>\n",
       "    </tr>\n",
       "    <tr>\n",
       "      <td>42856</td>\n",
       "      <td>2554</td>\n",
       "      <td>Snacking Lupini Beans Hot Pepper</td>\n",
       "      <td>missing</td>\n",
       "      <td>missing</td>\n",
       "    </tr>\n",
       "    <tr>\n",
       "      <td>42857</td>\n",
       "      <td>2557</td>\n",
       "      <td>Touch Of Phlly Shredded Sharp Cheddar Cheese</td>\n",
       "      <td>missing</td>\n",
       "      <td>missing</td>\n",
       "    </tr>\n",
       "    <tr>\n",
       "      <td>42858</td>\n",
       "      <td>2577</td>\n",
       "      <td>2% Milk Fat Creamy Small Curd Cottage Cheese</td>\n",
       "      <td>missing</td>\n",
       "      <td>missing</td>\n",
       "    </tr>\n",
       "    <tr>\n",
       "      <td>42859</td>\n",
       "      <td>2592</td>\n",
       "      <td>Maple Almond Bar</td>\n",
       "      <td>missing</td>\n",
       "      <td>missing</td>\n",
       "    </tr>\n",
       "    <tr>\n",
       "      <td>42860</td>\n",
       "      <td>2608</td>\n",
       "      <td>Taste Of Asia Tonkotsu Pork</td>\n",
       "      <td>missing</td>\n",
       "      <td>missing</td>\n",
       "    </tr>\n",
       "    <tr>\n",
       "      <td>42861</td>\n",
       "      <td>2673</td>\n",
       "      <td>Stage 2 Just Pinapple Pear Avocado Baby Food</td>\n",
       "      <td>missing</td>\n",
       "      <td>missing</td>\n",
       "    </tr>\n",
       "    <tr>\n",
       "      <td>42862</td>\n",
       "      <td>2687</td>\n",
       "      <td>Face &amp; Body Charcoal Soap Bar</td>\n",
       "      <td>missing</td>\n",
       "      <td>missing</td>\n",
       "    </tr>\n",
       "  </tbody>\n",
       "</table>\n",
       "</div>"
      ],
      "text/plain": [
       "       product_id                                       product_name    aisle  \\\n",
       "42813          38                    Ultra Antibacterial Dish Liquid  missing   \n",
       "42814          72                          Organic Honeycrisp Apples  missing   \n",
       "42815         110                             Uncured Turkey Bologna  missing   \n",
       "42816         297  Write Bros Ball Point Pens, Cap-Pen, Medium (1...  missing   \n",
       "42817         417         Classics Baby Binks Easter Chocolate Bunny  missing   \n",
       "42818         437                Strawberry Cheesecake Nonfat Yogurt  missing   \n",
       "42819         440                      Crossovers Olive Thyme Almond  missing   \n",
       "42820         472                            Fancy Diced Hot Chilies  missing   \n",
       "42821         491                                     Pompelmo Water  missing   \n",
       "42822         556                    Bake & Break Cheese Garlic Loaf  missing   \n",
       "42823         562                           Traditional Tartar Sauce  missing   \n",
       "42824         614    Plain Dairy-Free Probiotic Drinkable Cashewgurt  missing   \n",
       "42825         624                                       Chub Chorizo  missing   \n",
       "42826         690                       Vegetable Hearty Garden Soup  missing   \n",
       "42827         768                    Nacho Grain-Free Tortilla Chips  missing   \n",
       "42828         804                                        Ratatouille  missing   \n",
       "42829         891                  Liquid Water Enhance Ice Van Java  missing   \n",
       "42830         991                              Red Sweet Mini Pepper  missing   \n",
       "42831        1019                             Spicy Bbq Chicken Soup  missing   \n",
       "42832        1055                    Naturals Grilled Chicken Nugget  missing   \n",
       "42833        1218                         Buffalo Style Chicken Wrap  missing   \n",
       "42834        1283             Organic Edamame & Mung Bean Fettuccine  missing   \n",
       "42835        1302  Natural Orange Flavor Liquid Sublingual Melatonin  missing   \n",
       "42836        1387   White Apple Cauliflower & Leek Organic Baby Food  missing   \n",
       "42837        1548                           Organic Vanilla Soy Milk  missing   \n",
       "42838        1562                         Yellow Easter Basket Cakes  missing   \n",
       "42839        1715         Organic Honey Balsamic Dressing & Marinade  missing   \n",
       "42840        1718                           Broccoli Rabe Rapini Bag  missing   \n",
       "42841        1742                                   Onion Crispbread  missing   \n",
       "42842        1798                     Paso Robles Cabernet Sauvignon  missing   \n",
       "42843        1859                          Chocolate Covered Peanuts  missing   \n",
       "42844        1961                                      Kombucha Beet  missing   \n",
       "42845        2032           Chocolate Fudge Brownie Slices Ice Cream  missing   \n",
       "42846        2082                            Organic Valencia Orange  missing   \n",
       "42847        2134                               Count Chocula Cereal  missing   \n",
       "42848        2162               Organic Wild Rumpus Avocado Babyfood  missing   \n",
       "42849        2198                             Cold Brew Baridi Black  missing   \n",
       "42850        2265                     Lime Grain-Free Tortilla Chips  missing   \n",
       "42851        2335                Organic Chopped BBQ Ranch Salad Kit  missing   \n",
       "42852        2371                       Natural Uncured Beef Hot Dog  missing   \n",
       "42853        2375                          Three Cheese Pizza Pocket  missing   \n",
       "42854        2384                   Spicy Peanut Chicken & Broccolli  missing   \n",
       "42855        2507             Savory Garlic & Herb Jack Snack Cheese  missing   \n",
       "42856        2554                   Snacking Lupini Beans Hot Pepper  missing   \n",
       "42857        2557       Touch Of Phlly Shredded Sharp Cheddar Cheese  missing   \n",
       "42858        2577       2% Milk Fat Creamy Small Curd Cottage Cheese  missing   \n",
       "42859        2592                                   Maple Almond Bar  missing   \n",
       "42860        2608                        Taste Of Asia Tonkotsu Pork  missing   \n",
       "42861        2673       Stage 2 Just Pinapple Pear Avocado Baby Food  missing   \n",
       "42862        2687                      Face & Body Charcoal Soap Bar  missing   \n",
       "\n",
       "      department  \n",
       "42813    missing  \n",
       "42814    missing  \n",
       "42815    missing  \n",
       "42816    missing  \n",
       "42817    missing  \n",
       "42818    missing  \n",
       "42819    missing  \n",
       "42820    missing  \n",
       "42821    missing  \n",
       "42822    missing  \n",
       "42823    missing  \n",
       "42824    missing  \n",
       "42825    missing  \n",
       "42826    missing  \n",
       "42827    missing  \n",
       "42828    missing  \n",
       "42829    missing  \n",
       "42830    missing  \n",
       "42831    missing  \n",
       "42832    missing  \n",
       "42833    missing  \n",
       "42834    missing  \n",
       "42835    missing  \n",
       "42836    missing  \n",
       "42837    missing  \n",
       "42838    missing  \n",
       "42839    missing  \n",
       "42840    missing  \n",
       "42841    missing  \n",
       "42842    missing  \n",
       "42843    missing  \n",
       "42844    missing  \n",
       "42845    missing  \n",
       "42846    missing  \n",
       "42847    missing  \n",
       "42848    missing  \n",
       "42849    missing  \n",
       "42850    missing  \n",
       "42851    missing  \n",
       "42852    missing  \n",
       "42853    missing  \n",
       "42854    missing  \n",
       "42855    missing  \n",
       "42856    missing  \n",
       "42857    missing  \n",
       "42858    missing  \n",
       "42859    missing  \n",
       "42860    missing  \n",
       "42861    missing  \n",
       "42862    missing  "
      ]
     },
     "execution_count": 40,
     "metadata": {},
     "output_type": "execute_result"
    }
   ],
   "source": [
    "missing = products_litteral[(products_litteral.department =='missing') | (products_litteral.aisle=='missing')]\n",
    "missing.head(50)"
   ]
  },
  {
   "cell_type": "markdown",
   "metadata": {},
   "source": [
    "We can see many products don't have any name for the aisle and/or department"
   ]
  },
  {
   "cell_type": "code",
   "execution_count": 41,
   "metadata": {},
   "outputs": [
    {
     "name": "stdout",
     "output_type": "stream",
     "text": [
      "There are 1258 products with 'missing' aisle/department. This represent 2.5% of the products.\n"
     ]
    }
   ],
   "source": [
    "print(\"There are %d products with 'missing' aisle/department. This represent %0.1f%% of the products.\" %(missing.shape[0], missing.shape[0]/products_litteral.shape[0]*100))"
   ]
  },
  {
   "cell_type": "markdown",
   "metadata": {},
   "source": [
    "The unlabelled products seem to come from many different categories, and represent a small fraction of our dataset. We decided to simply remove them."
   ]
  },
  {
   "cell_type": "code",
   "execution_count": 42,
   "metadata": {},
   "outputs": [],
   "source": [
    "products_litteral = products_litteral.drop(missing.index)"
   ]
  },
  {
   "cell_type": "markdown",
   "metadata": {},
   "source": [
    "# First Statistical analysis"
   ]
  },
  {
   "cell_type": "markdown",
   "metadata": {},
   "source": [
    "**Number of products per Aisle and Department**"
   ]
  },
  {
   "cell_type": "markdown",
   "metadata": {},
   "source": [
    "Visualize the products per aisle and per department to detect any inconsistency"
   ]
  },
  {
   "cell_type": "code",
   "execution_count": 43,
   "metadata": {},
   "outputs": [],
   "source": [
    "per_dpt=products_litteral[['product_id', 'department']].groupby('department').count().sort_values(by='product_id', ascending=False)"
   ]
  },
  {
   "cell_type": "code",
   "execution_count": 44,
   "metadata": {},
   "outputs": [
    {
     "data": {
      "text/plain": [
       "Text(0, 0.5, 'Departments')"
      ]
     },
     "execution_count": 44,
     "metadata": {},
     "output_type": "execute_result"
    },
    {
     "data": {
      "image/png": "[encoded data removed]",
      "text/plain": [
       "<Figure size 432x288 with 1 Axes>"
      ]
     },
     "metadata": {
      "needs_background": "light"
     },
     "output_type": "display_data"
    }
   ],
   "source": [
    "ax = per_dpt.plot(kind='barh')\n",
    "ax.set_xlabel('#Products')\n",
    "ax.set_ylabel('Departments')"
   ]
  },
  {
   "cell_type": "code",
   "execution_count": 45,
   "metadata": {},
   "outputs": [
    {
     "data": {
      "text/html": [
       "<div>\n",
       "<style scoped>\n",
       "    .dataframe tbody tr th:only-of-type {\n",
       "        vertical-align: middle;\n",
       "    }\n",
       "\n",
       "    .dataframe tbody tr th {\n",
       "        vertical-align: top;\n",
       "    }\n",
       "\n",
       "    .dataframe thead th {\n",
       "        text-align: right;\n",
       "    }\n",
       "</style>\n",
       "<table border=\"1\" class=\"dataframe\">\n",
       "  <thead>\n",
       "    <tr style=\"text-align: right;\">\n",
       "      <th></th>\n",
       "      <th>product_id</th>\n",
       "    </tr>\n",
       "    <tr>\n",
       "      <th>department</th>\n",
       "      <th></th>\n",
       "    </tr>\n",
       "  </thead>\n",
       "  <tbody>\n",
       "    <tr>\n",
       "      <td>personal care</td>\n",
       "      <td>6563</td>\n",
       "    </tr>\n",
       "    <tr>\n",
       "      <td>snacks</td>\n",
       "      <td>6264</td>\n",
       "    </tr>\n",
       "    <tr>\n",
       "      <td>pantry</td>\n",
       "      <td>5371</td>\n",
       "    </tr>\n",
       "    <tr>\n",
       "      <td>beverages</td>\n",
       "      <td>4365</td>\n",
       "    </tr>\n",
       "    <tr>\n",
       "      <td>frozen</td>\n",
       "      <td>4007</td>\n",
       "    </tr>\n",
       "  </tbody>\n",
       "</table>\n",
       "</div>"
      ],
      "text/plain": [
       "               product_id\n",
       "department               \n",
       "personal care        6563\n",
       "snacks               6264\n",
       "pantry               5371\n",
       "beverages            4365\n",
       "frozen               4007"
      ]
     },
     "execution_count": 45,
     "metadata": {},
     "output_type": "execute_result"
    }
   ],
   "source": [
    "per_dpt.head()"
   ]
  },
  {
   "cell_type": "markdown",
   "metadata": {},
   "source": [
    "The 'personal care' department has the most choice of products, jsut followed by the 'snacks' one."
   ]
  },
  {
   "cell_type": "code",
   "execution_count": 46,
   "metadata": {},
   "outputs": [],
   "source": [
    "per_aisle=products_litteral[['product_id', 'aisle']].groupby('aisle').count().sort_values(by='product_id', ascending=False)"
   ]
  },
  {
   "cell_type": "code",
   "execution_count": 47,
   "metadata": {},
   "outputs": [
    {
     "data": {
      "image/png": "[encoded data removed]",
      "text/plain": [
       "<Figure size 1440x2880 with 1 Axes>"
      ]
     },
     "metadata": {
      "needs_background": "light"
     },
     "output_type": "display_data"
    }
   ],
   "source": [
    "ax = per_aisle.plot(kind='barh', figsize=(20,40))\n",
    "ax.set_ylabel('#Products')\n",
    "ax.set_xlabel('Aisles')\n",
    "plt.show()"
   ]
  },
  {
   "cell_type": "code",
   "execution_count": 48,
   "metadata": {},
   "outputs": [
    {
     "data": {
      "text/html": [
       "<div>\n",
       "<style scoped>\n",
       "    .dataframe tbody tr th:only-of-type {\n",
       "        vertical-align: middle;\n",
       "    }\n",
       "\n",
       "    .dataframe tbody tr th {\n",
       "        vertical-align: top;\n",
       "    }\n",
       "\n",
       "    .dataframe thead th {\n",
       "        text-align: right;\n",
       "    }\n",
       "</style>\n",
       "<table border=\"1\" class=\"dataframe\">\n",
       "  <thead>\n",
       "    <tr style=\"text-align: right;\">\n",
       "      <th></th>\n",
       "      <th>product_id</th>\n",
       "    </tr>\n",
       "    <tr>\n",
       "      <th>aisle</th>\n",
       "      <th></th>\n",
       "    </tr>\n",
       "  </thead>\n",
       "  <tbody>\n",
       "    <tr>\n",
       "      <td>candy chocolate</td>\n",
       "      <td>1246</td>\n",
       "    </tr>\n",
       "    <tr>\n",
       "      <td>ice cream ice</td>\n",
       "      <td>1091</td>\n",
       "    </tr>\n",
       "    <tr>\n",
       "      <td>vitamins supplements</td>\n",
       "      <td>1038</td>\n",
       "    </tr>\n",
       "    <tr>\n",
       "      <td>yogurt</td>\n",
       "      <td>1026</td>\n",
       "    </tr>\n",
       "    <tr>\n",
       "      <td>chips pretzels</td>\n",
       "      <td>989</td>\n",
       "    </tr>\n",
       "  </tbody>\n",
       "</table>\n",
       "</div>"
      ],
      "text/plain": [
       "                      product_id\n",
       "aisle                           \n",
       "candy chocolate             1246\n",
       "ice cream ice               1091\n",
       "vitamins supplements        1038\n",
       "yogurt                      1026\n",
       "chips pretzels               989"
      ]
     },
     "execution_count": 48,
     "metadata": {},
     "output_type": "execute_result"
    }
   ],
   "source": [
    "per_aisle.head()"
   ]
  },
  {
   "cell_type": "markdown",
   "metadata": {},
   "source": [
    "'Candy chocolate' and 'ice cream ice' contains the most numerous choice of products. We can see none of the 10 first aisles is in the 'Personal care' departement. Thus this department contains the most products because it contains a diverse choice of aisles of products, not one aisle with many products, as 'Snacks'."
   ]
  },
  {
   "cell_type": "markdown",
   "metadata": {},
   "source": [
    "**Number of orders**"
   ]
  },
  {
   "cell_type": "markdown",
   "metadata": {},
   "source": [
    "Let's complete our 'useful' dataset with the informtion about the number of orders per product"
   ]
  },
  {
   "cell_type": "code",
   "execution_count": 49,
   "metadata": {},
   "outputs": [
    {
     "data": {
      "text/html": [
       "<div>\n",
       "<style scoped>\n",
       "    .dataframe tbody tr th:only-of-type {\n",
       "        vertical-align: middle;\n",
       "    }\n",
       "\n",
       "    .dataframe tbody tr th {\n",
       "        vertical-align: top;\n",
       "    }\n",
       "\n",
       "    .dataframe thead th {\n",
       "        text-align: right;\n",
       "    }\n",
       "</style>\n",
       "<table border=\"1\" class=\"dataframe\">\n",
       "  <thead>\n",
       "    <tr style=\"text-align: right;\">\n",
       "      <th></th>\n",
       "      <th>number_of_orders</th>\n",
       "    </tr>\n",
       "    <tr>\n",
       "      <th>product_id</th>\n",
       "      <th></th>\n",
       "    </tr>\n",
       "  </thead>\n",
       "  <tbody>\n",
       "    <tr>\n",
       "      <td>24852</td>\n",
       "      <td>472565</td>\n",
       "    </tr>\n",
       "    <tr>\n",
       "      <td>13176</td>\n",
       "      <td>379450</td>\n",
       "    </tr>\n",
       "    <tr>\n",
       "      <td>21137</td>\n",
       "      <td>264683</td>\n",
       "    </tr>\n",
       "    <tr>\n",
       "      <td>21903</td>\n",
       "      <td>241921</td>\n",
       "    </tr>\n",
       "    <tr>\n",
       "      <td>47209</td>\n",
       "      <td>213584</td>\n",
       "    </tr>\n",
       "  </tbody>\n",
       "</table>\n",
       "</div>"
      ],
      "text/plain": [
       "            number_of_orders\n",
       "product_id                  \n",
       "24852                 472565\n",
       "13176                 379450\n",
       "21137                 264683\n",
       "21903                 241921\n",
       "47209                 213584"
      ]
     },
     "execution_count": 49,
     "metadata": {},
     "output_type": "execute_result"
    }
   ],
   "source": [
    "number_of_order_per_product = history[['order_id','product_id']].groupby('product_id').count().sort_values(by='order_id', ascending=False)\n",
    "number_of_order_per_product = number_of_order_per_product.rename(columns={\"order_id\" : \"number_of_orders\"})\n",
    "number_of_order_per_product.head()"
   ]
  },
  {
   "cell_type": "code",
   "execution_count": 50,
   "metadata": {},
   "outputs": [
    {
     "data": {
      "text/html": [
       "<div>\n",
       "<style scoped>\n",
       "    .dataframe tbody tr th:only-of-type {\n",
       "        vertical-align: middle;\n",
       "    }\n",
       "\n",
       "    .dataframe tbody tr th {\n",
       "        vertical-align: top;\n",
       "    }\n",
       "\n",
       "    .dataframe thead th {\n",
       "        text-align: right;\n",
       "    }\n",
       "</style>\n",
       "<table border=\"1\" class=\"dataframe\">\n",
       "  <thead>\n",
       "    <tr style=\"text-align: right;\">\n",
       "      <th></th>\n",
       "      <th>product_id</th>\n",
       "      <th>product_name</th>\n",
       "      <th>aisle</th>\n",
       "      <th>department</th>\n",
       "    </tr>\n",
       "  </thead>\n",
       "  <tbody>\n",
       "    <tr>\n",
       "      <td>0</td>\n",
       "      <td>1</td>\n",
       "      <td>Chocolate Sandwich Cookies</td>\n",
       "      <td>cookies cakes</td>\n",
       "      <td>snacks</td>\n",
       "    </tr>\n",
       "    <tr>\n",
       "      <td>1</td>\n",
       "      <td>78</td>\n",
       "      <td>Nutter Butter Cookie Bites Go-Pak</td>\n",
       "      <td>cookies cakes</td>\n",
       "      <td>snacks</td>\n",
       "    </tr>\n",
       "    <tr>\n",
       "      <td>2</td>\n",
       "      <td>102</td>\n",
       "      <td>Danish Butter Cookies</td>\n",
       "      <td>cookies cakes</td>\n",
       "      <td>snacks</td>\n",
       "    </tr>\n",
       "    <tr>\n",
       "      <td>3</td>\n",
       "      <td>172</td>\n",
       "      <td>Gluten Free All Natural Chocolate Chip Cookies</td>\n",
       "      <td>cookies cakes</td>\n",
       "      <td>snacks</td>\n",
       "    </tr>\n",
       "    <tr>\n",
       "      <td>4</td>\n",
       "      <td>285</td>\n",
       "      <td>Mini Nilla Wafers Munch Pack</td>\n",
       "      <td>cookies cakes</td>\n",
       "      <td>snacks</td>\n",
       "    </tr>\n",
       "  </tbody>\n",
       "</table>\n",
       "</div>"
      ],
      "text/plain": [
       "   product_id                                    product_name          aisle  \\\n",
       "0           1                      Chocolate Sandwich Cookies  cookies cakes   \n",
       "1          78               Nutter Butter Cookie Bites Go-Pak  cookies cakes   \n",
       "2         102                           Danish Butter Cookies  cookies cakes   \n",
       "3         172  Gluten Free All Natural Chocolate Chip Cookies  cookies cakes   \n",
       "4         285                    Mini Nilla Wafers Munch Pack  cookies cakes   \n",
       "\n",
       "  department  \n",
       "0     snacks  \n",
       "1     snacks  \n",
       "2     snacks  \n",
       "3     snacks  \n",
       "4     snacks  "
      ]
     },
     "execution_count": 50,
     "metadata": {},
     "output_type": "execute_result"
    }
   ],
   "source": [
    "products_litteral.head()"
   ]
  },
  {
   "cell_type": "code",
   "execution_count": 53,
   "metadata": {},
   "outputs": [
    {
     "data": {
      "text/html": [
       "<div>\n",
       "<style scoped>\n",
       "    .dataframe tbody tr th:only-of-type {\n",
       "        vertical-align: middle;\n",
       "    }\n",
       "\n",
       "    .dataframe tbody tr th {\n",
       "        vertical-align: top;\n",
       "    }\n",
       "\n",
       "    .dataframe thead th {\n",
       "        text-align: right;\n",
       "    }\n",
       "</style>\n",
       "<table border=\"1\" class=\"dataframe\">\n",
       "  <thead>\n",
       "    <tr style=\"text-align: right;\">\n",
       "      <th></th>\n",
       "      <th>number_of_orders</th>\n",
       "    </tr>\n",
       "    <tr>\n",
       "      <th>product_id</th>\n",
       "      <th></th>\n",
       "    </tr>\n",
       "  </thead>\n",
       "  <tbody>\n",
       "    <tr>\n",
       "      <td>24852</td>\n",
       "      <td>472565</td>\n",
       "    </tr>\n",
       "    <tr>\n",
       "      <td>13176</td>\n",
       "      <td>379450</td>\n",
       "    </tr>\n",
       "    <tr>\n",
       "      <td>21137</td>\n",
       "      <td>264683</td>\n",
       "    </tr>\n",
       "    <tr>\n",
       "      <td>21903</td>\n",
       "      <td>241921</td>\n",
       "    </tr>\n",
       "    <tr>\n",
       "      <td>47209</td>\n",
       "      <td>213584</td>\n",
       "    </tr>\n",
       "  </tbody>\n",
       "</table>\n",
       "</div>"
      ],
      "text/plain": [
       "            number_of_orders\n",
       "product_id                  \n",
       "24852                 472565\n",
       "13176                 379450\n",
       "21137                 264683\n",
       "21903                 241921\n",
       "47209                 213584"
      ]
     },
     "execution_count": 53,
     "metadata": {},
     "output_type": "execute_result"
    }
   ],
   "source": [
    "number_of_order_per_product.head()"
   ]
  },
  {
   "cell_type": "code",
   "execution_count": 55,
   "metadata": {},
   "outputs": [
    {
     "data": {
      "text/html": [
       "<div>\n",
       "<style scoped>\n",
       "    .dataframe tbody tr th:only-of-type {\n",
       "        vertical-align: middle;\n",
       "    }\n",
       "\n",
       "    .dataframe tbody tr th {\n",
       "        vertical-align: top;\n",
       "    }\n",
       "\n",
       "    .dataframe thead th {\n",
       "        text-align: right;\n",
       "    }\n",
       "</style>\n",
       "<table border=\"1\" class=\"dataframe\">\n",
       "  <thead>\n",
       "    <tr style=\"text-align: right;\">\n",
       "      <th></th>\n",
       "      <th>product_id</th>\n",
       "      <th>product_name</th>\n",
       "      <th>aisle</th>\n",
       "      <th>department</th>\n",
       "      <th>number_of_orders</th>\n",
       "    </tr>\n",
       "  </thead>\n",
       "  <tbody>\n",
       "    <tr>\n",
       "      <td>0</td>\n",
       "      <td>1</td>\n",
       "      <td>Chocolate Sandwich Cookies</td>\n",
       "      <td>cookies cakes</td>\n",
       "      <td>snacks</td>\n",
       "      <td>1852</td>\n",
       "    </tr>\n",
       "    <tr>\n",
       "      <td>1</td>\n",
       "      <td>78</td>\n",
       "      <td>Nutter Butter Cookie Bites Go-Pak</td>\n",
       "      <td>cookies cakes</td>\n",
       "      <td>snacks</td>\n",
       "      <td>11</td>\n",
       "    </tr>\n",
       "    <tr>\n",
       "      <td>2</td>\n",
       "      <td>102</td>\n",
       "      <td>Danish Butter Cookies</td>\n",
       "      <td>cookies cakes</td>\n",
       "      <td>snacks</td>\n",
       "      <td>185</td>\n",
       "    </tr>\n",
       "    <tr>\n",
       "      <td>3</td>\n",
       "      <td>172</td>\n",
       "      <td>Gluten Free All Natural Chocolate Chip Cookies</td>\n",
       "      <td>cookies cakes</td>\n",
       "      <td>snacks</td>\n",
       "      <td>97</td>\n",
       "    </tr>\n",
       "    <tr>\n",
       "      <td>4</td>\n",
       "      <td>285</td>\n",
       "      <td>Mini Nilla Wafers Munch Pack</td>\n",
       "      <td>cookies cakes</td>\n",
       "      <td>snacks</td>\n",
       "      <td>156</td>\n",
       "    </tr>\n",
       "  </tbody>\n",
       "</table>\n",
       "</div>"
      ],
      "text/plain": [
       "   product_id                                    product_name          aisle  \\\n",
       "0           1                      Chocolate Sandwich Cookies  cookies cakes   \n",
       "1          78               Nutter Butter Cookie Bites Go-Pak  cookies cakes   \n",
       "2         102                           Danish Butter Cookies  cookies cakes   \n",
       "3         172  Gluten Free All Natural Chocolate Chip Cookies  cookies cakes   \n",
       "4         285                    Mini Nilla Wafers Munch Pack  cookies cakes   \n",
       "\n",
       "  department  number_of_orders  \n",
       "0     snacks              1852  \n",
       "1     snacks                11  \n",
       "2     snacks               185  \n",
       "3     snacks                97  \n",
       "4     snacks               156  "
      ]
     },
     "execution_count": 55,
     "metadata": {},
     "output_type": "execute_result"
    }
   ],
   "source": [
    "products_litteral = pd.merge(products_litteral, number_of_order_per_product, on='product_id')\n",
    "products_litteral.head()"
   ]
  },
  {
   "cell_type": "markdown",
   "metadata": {},
   "source": [
    "**Number of orders per product**"
   ]
  },
  {
   "cell_type": "code",
   "execution_count": 56,
   "metadata": {},
   "outputs": [
    {
     "data": {
      "text/html": [
       "<div>\n",
       "<style scoped>\n",
       "    .dataframe tbody tr th:only-of-type {\n",
       "        vertical-align: middle;\n",
       "    }\n",
       "\n",
       "    .dataframe tbody tr th {\n",
       "        vertical-align: top;\n",
       "    }\n",
       "\n",
       "    .dataframe thead th {\n",
       "        text-align: right;\n",
       "    }\n",
       "</style>\n",
       "<table border=\"1\" class=\"dataframe\">\n",
       "  <thead>\n",
       "    <tr style=\"text-align: right;\">\n",
       "      <th></th>\n",
       "      <th>product_id</th>\n",
       "      <th>product_name</th>\n",
       "      <th>aisle</th>\n",
       "      <th>department</th>\n",
       "      <th>number_of_orders</th>\n",
       "    </tr>\n",
       "  </thead>\n",
       "  <tbody>\n",
       "    <tr>\n",
       "      <td>42491</td>\n",
       "      <td>24852</td>\n",
       "      <td>Banana</td>\n",
       "      <td>fresh fruits</td>\n",
       "      <td>produce</td>\n",
       "      <td>472565</td>\n",
       "    </tr>\n",
       "    <tr>\n",
       "      <td>42399</td>\n",
       "      <td>13176</td>\n",
       "      <td>Bag of Organic Bananas</td>\n",
       "      <td>fresh fruits</td>\n",
       "      <td>produce</td>\n",
       "      <td>379450</td>\n",
       "    </tr>\n",
       "    <tr>\n",
       "      <td>42466</td>\n",
       "      <td>21137</td>\n",
       "      <td>Organic Strawberries</td>\n",
       "      <td>fresh fruits</td>\n",
       "      <td>produce</td>\n",
       "      <td>264683</td>\n",
       "    </tr>\n",
       "    <tr>\n",
       "      <td>41417</td>\n",
       "      <td>21903</td>\n",
       "      <td>Organic Baby Spinach</td>\n",
       "      <td>packaged vegetables fruits</td>\n",
       "      <td>produce</td>\n",
       "      <td>241921</td>\n",
       "    </tr>\n",
       "    <tr>\n",
       "      <td>42662</td>\n",
       "      <td>47209</td>\n",
       "      <td>Organic Hass Avocado</td>\n",
       "      <td>fresh fruits</td>\n",
       "      <td>produce</td>\n",
       "      <td>213584</td>\n",
       "    </tr>\n",
       "  </tbody>\n",
       "</table>\n",
       "</div>"
      ],
      "text/plain": [
       "       product_id            product_name                       aisle  \\\n",
       "42491       24852                  Banana                fresh fruits   \n",
       "42399       13176  Bag of Organic Bananas                fresh fruits   \n",
       "42466       21137    Organic Strawberries                fresh fruits   \n",
       "41417       21903    Organic Baby Spinach  packaged vegetables fruits   \n",
       "42662       47209    Organic Hass Avocado                fresh fruits   \n",
       "\n",
       "      department  number_of_orders  \n",
       "42491    produce            472565  \n",
       "42399    produce            379450  \n",
       "42466    produce            264683  \n",
       "41417    produce            241921  \n",
       "42662    produce            213584  "
      ]
     },
     "execution_count": 56,
     "metadata": {},
     "output_type": "execute_result"
    }
   ],
   "source": [
    "products_litteral.sort_values(by='number_of_orders', ascending=False).head()"
   ]
  },
  {
   "cell_type": "markdown",
   "metadata": {},
   "source": [
    "# Try on Amazon dataset"
   ]
  },
  {
   "cell_type": "markdown",
   "metadata": {},
   "source": [
    "**Amazon dataset** : _metadata_ and _reviews_ of Grocery and Gourmet Food products : https://cseweb.ucsd.edu/~jmcauley/datasets.html?fbclid=IwAR39s5O83nqUYkRBD4jol3OFu0FmcH-4dCzUtSjutOsmSd9LMZOHSGGtNxw#amazon_reviews\n"
   ]
  },
  {
   "cell_type": "code",
   "execution_count": 216,
   "metadata": {},
   "outputs": [
    {
     "data": {
      "text/html": [
       "<div>\n",
       "<style scoped>\n",
       "    .dataframe tbody tr th:only-of-type {\n",
       "        vertical-align: middle;\n",
       "    }\n",
       "\n",
       "    .dataframe tbody tr th {\n",
       "        vertical-align: top;\n",
       "    }\n",
       "\n",
       "    .dataframe thead th {\n",
       "        text-align: right;\n",
       "    }\n",
       "</style>\n",
       "<table border=\"1\" class=\"dataframe\">\n",
       "  <thead>\n",
       "    <tr style=\"text-align: right;\">\n",
       "      <th></th>\n",
       "      <th>product_id</th>\n",
       "      <th>product_name</th>\n",
       "      <th>aisle</th>\n",
       "      <th>department</th>\n",
       "      <th>number_of_orders</th>\n",
       "    </tr>\n",
       "  </thead>\n",
       "  <tbody>\n",
       "    <tr>\n",
       "      <td>0</td>\n",
       "      <td>1</td>\n",
       "      <td>Chocolate Sandwich Cookies</td>\n",
       "      <td>cookies cakes</td>\n",
       "      <td>snacks</td>\n",
       "      <td>1852</td>\n",
       "    </tr>\n",
       "    <tr>\n",
       "      <td>1</td>\n",
       "      <td>78</td>\n",
       "      <td>Nutter Butter Cookie Bites Go-Pak</td>\n",
       "      <td>cookies cakes</td>\n",
       "      <td>snacks</td>\n",
       "      <td>11</td>\n",
       "    </tr>\n",
       "    <tr>\n",
       "      <td>2</td>\n",
       "      <td>102</td>\n",
       "      <td>Danish Butter Cookies</td>\n",
       "      <td>cookies cakes</td>\n",
       "      <td>snacks</td>\n",
       "      <td>185</td>\n",
       "    </tr>\n",
       "    <tr>\n",
       "      <td>3</td>\n",
       "      <td>172</td>\n",
       "      <td>Gluten Free All Natural Chocolate Chip Cookies</td>\n",
       "      <td>cookies cakes</td>\n",
       "      <td>snacks</td>\n",
       "      <td>97</td>\n",
       "    </tr>\n",
       "    <tr>\n",
       "      <td>4</td>\n",
       "      <td>285</td>\n",
       "      <td>Mini Nilla Wafers Munch Pack</td>\n",
       "      <td>cookies cakes</td>\n",
       "      <td>snacks</td>\n",
       "      <td>156</td>\n",
       "    </tr>\n",
       "  </tbody>\n",
       "</table>\n",
       "</div>"
      ],
      "text/plain": [
       "   product_id                                    product_name          aisle  \\\n",
       "0           1                      Chocolate Sandwich Cookies  cookies cakes   \n",
       "1          78               Nutter Butter Cookie Bites Go-Pak  cookies cakes   \n",
       "2         102                           Danish Butter Cookies  cookies cakes   \n",
       "3         172  Gluten Free All Natural Chocolate Chip Cookies  cookies cakes   \n",
       "4         285                    Mini Nilla Wafers Munch Pack  cookies cakes   \n",
       "\n",
       "  department  number_of_orders  \n",
       "0     snacks              1852  \n",
       "1     snacks                11  \n",
       "2     snacks               185  \n",
       "3     snacks                97  \n",
       "4     snacks               156  "
      ]
     },
     "execution_count": 216,
     "metadata": {},
     "output_type": "execute_result"
    }
   ],
   "source": [
    "products_litteral.head()"
   ]
  },
  {
   "cell_type": "code",
   "execution_count": 217,
   "metadata": {},
   "outputs": [],
   "source": [
    "spark = SparkSession.builder.getOrCreate()\n",
    "sc = spark.sparkContext"
   ]
  },
  {
   "cell_type": "code",
   "execution_count": 218,
   "metadata": {},
   "outputs": [
    {
     "name": "stdout",
     "output_type": "stream",
     "text": [
      "+--------------------+--------------------+----------+--------------+--------------------+----+--------------------+-------+-------+----+--------------------+--------+------+--------------------+------------+-----+--------------------+\n",
      "|            also_buy|           also_view|      asin|         brand|            category|date|         description|details|feature| fit|               image|main_cat| price|                rank|similar_item|tech1|               title|\n",
      "+--------------------+--------------------+----------+--------------+--------------------+----+--------------------+-------+-------+----+--------------------+--------+------+--------------------+------------+-----+--------------------+\n",
      "|                null|[B0000D9MYM, B000...|0681727810|Ariola Imports|[Grocery & Gourme...|null|[BEEMSTER GOUDA C...|   null|   null|null|                null| Grocery|$41.91|165,181inGroceryG...|        null| null|Beemster Gouda - ...|\n",
      "|[B01898YHXK, B01B...|                null|0853347867|          null|[Grocery & Gourme...|null|[Shipped from UK,...|   null|   null|null|[https://images-n...| Grocery|  null|315,867inGroceryG...|        null| null|Trim Healthy Mama...|\n",
      "+--------------------+--------------------+----------+--------------+--------------------+----+--------------------+-------+-------+----+--------------------+--------+------+--------------------+------------+-----+--------------------+\n",
      "only showing top 2 rows\n",
      "\n"
     ]
    }
   ],
   "source": [
    "Amazon_meta = spark.read.json(\"data/meta_Grocery_and_Gourmet_Food.json.gz\")\n",
    "#Amazon_meta = reload('Amazon_meta.parquet', Amazon_meta)\n",
    "Amazon_meta.show(2)"
   ]
  },
  {
   "cell_type": "code",
   "execution_count": 219,
   "metadata": {},
   "outputs": [],
   "source": [
    "Amazon_meta_light = Amazon_meta.drop('also_view','description','details','feature','fit', 'image','similar_item', 'tech1')\n",
    "Amazon_meta_light = reload('Amazon_meta_light.parquet', Amazon_meta_light)"
   ]
  },
  {
   "cell_type": "code",
   "execution_count": 220,
   "metadata": {},
   "outputs": [
    {
     "name": "stdout",
     "output_type": "stream",
     "text": [
      "root\n",
      " |-- also_buy: array (nullable = true)\n",
      " |    |-- element: string (containsNull = true)\n",
      " |-- asin: string (nullable = true)\n",
      " |-- brand: string (nullable = true)\n",
      " |-- category: array (nullable = true)\n",
      " |    |-- element: string (containsNull = true)\n",
      " |-- date: string (nullable = true)\n",
      " |-- main_cat: string (nullable = true)\n",
      " |-- price: string (nullable = true)\n",
      " |-- rank: string (nullable = true)\n",
      " |-- title: string (nullable = true)\n",
      "\n"
     ]
    }
   ],
   "source": [
    "Amazon_meta_light.printSchema()"
   ]
  },
  {
   "cell_type": "code",
   "execution_count": 221,
   "metadata": {},
   "outputs": [
    {
     "name": "stdout",
     "output_type": "stream",
     "text": [
      "['Grocery & Gourmet Food', 'Dairy, Cheese & Eggs', 'Cheese', 'Gouda'] for main_cat Grocery\n",
      "['Grocery & Gourmet Food', 'Cooking & Baking', 'Sugar Substitutes', 'Xylitol'] for main_cat Grocery\n",
      "['Grocery & Gourmet Food', 'Cooking & Baking', 'Frosting, Icing & Decorations', 'Cake & Cupcake Toppers', 'Cake Toppers'] for main_cat Amazon Home\n",
      "['Grocery & Gourmet Food', 'Cooking & Baking', 'Frosting, Icing & Decorations', 'Cake & Cupcake Toppers', 'Cake Toppers'] for main_cat Amazon Home\n",
      "['Grocery & Gourmet Food', 'Cooking & Baking', 'Frosting, Icing & Decorations', 'Cake & Cupcake Toppers', 'Cake Toppers'] for main_cat Amazon Home\n",
      "['Grocery & Gourmet Food', 'Cooking & Baking', 'Frosting, Icing & Decorations', 'Cake & Cupcake Toppers', 'Cake Toppers'] for main_cat Amazon Home\n",
      "['Grocery & Gourmet Food', 'Cooking & Baking', 'Frosting, Icing & Decorations', 'Cake & Cupcake Toppers', 'Cake Toppers'] for main_cat Amazon Home\n",
      "['Grocery & Gourmet Food', 'Cooking & Baking', 'Frosting, Icing & Decorations', 'Cake & Cupcake Toppers', 'Cake Toppers'] for main_cat Amazon Home\n",
      "['Grocery & Gourmet Food', 'Cooking & Baking', 'Frosting, Icing & Decorations', 'Cake & Cupcake Toppers', 'Cake Toppers'] for main_cat Amazon Home\n",
      "['Grocery & Gourmet Food', 'Cooking & Baking', 'Frosting, Icing & Decorations', 'Cake & Cupcake Toppers', 'Cake Toppers'] for main_cat Amazon Home\n",
      "['Grocery & Gourmet Food', 'Beverages', 'Coffee, Tea & Cocoa', 'Tea', 'Black'] for main_cat Grocery\n",
      "['Grocery & Gourmet Food', 'Beverages', 'Coffee, Tea & Cocoa', 'Tea', 'Black'] for main_cat Grocery\n",
      "['Grocery & Gourmet Food', 'Beverages', 'Coffee, Tea & Cocoa', 'Tea', 'Tea Samplers'] for main_cat Grocery\n",
      "['Grocery & Gourmet Food', 'Canned, Jarred & Packaged Foods', 'Packaged Meals & Side Dishes', 'Indian Dishes'] for main_cat Grocery\n",
      "['Grocery & Gourmet Food', 'Canned, Jarred & Packaged Foods', 'Packaged Meals & Side Dishes', 'Indian Dishes'] for main_cat Grocery\n",
      "['Grocery & Gourmet Food', 'Beverages', 'Coffee, Tea & Cocoa', 'Coffee'] for main_cat Grocery\n",
      "['Grocery & Gourmet Food', 'Canned, Jarred & Packaged Foods', 'Packaged Meals & Side Dishes', 'Indian Dishes'] for main_cat Grocery\n",
      "['Grocery & Gourmet Food', 'Canned, Jarred & Packaged Foods', 'Meat, Poultry & Seafood', 'Seafood', 'Tuna Fish'] for main_cat Grocery\n",
      "['Grocery & Gourmet Food', 'Breads & Bakery', 'Cakes'] for main_cat Grocery\n",
      "['Grocery & Gourmet Food', 'Frozen', 'Ice Cream & Novelties'] for main_cat Health & Personal Care\n"
     ]
    }
   ],
   "source": [
    "for row in Amazon_meta_light.take(20):\n",
    "    print(row.category, 'for main_cat', row.main_cat)"
   ]
  },
  {
   "cell_type": "code",
   "execution_count": 222,
   "metadata": {},
   "outputs": [
    {
     "name": "stdout",
     "output_type": "stream",
     "text": [
      "Iguana Mean Green Jalapeno Pepper Sauce, 5 oz bottle | ['Grocery & Gourmet Food', 'Sauces, Gravies & Marinades', 'Hot Sauce']\n"
     ]
    }
   ],
   "source": [
    "for row in Amazon_meta_light.filter(udf(lambda x: x=='Iguana Mean Green Jalapeno Pepper Sauce, 5 oz bottle', sql.types.BooleanType())('title')).take(10):\n",
    "    print(row.title, row.category, sep=' | ')"
   ]
  },
  {
   "cell_type": "code",
   "execution_count": 223,
   "metadata": {},
   "outputs": [
    {
     "name": "stdout",
     "output_type": "stream",
     "text": [
      "+----------+-----+-------+--------------------+-----------+--------------+------------+-----+--------------+--------------+--------+----+\n",
      "|      asin|image|overall|          reviewText| reviewTime|    reviewerID|reviewerName|style|       summary|unixReviewTime|verified|vote|\n",
      "+----------+-----+-------+--------------------+-----------+--------------+------------+-----+--------------+--------------+--------+----+\n",
      "|1888861614| null|    5.0|Very pleased with...| 06 4, 2013| ALP49FBWT4I7V|        Lori| null|       Love it|    1370304000|    true|null|\n",
      "|1888861614| null|    4.0|Very nicely craft...|05 23, 2014|A1KPIZOCLB9FZ8|  BK Shopper| null|Nice but small|    1400803200|    true|null|\n",
      "+----------+-----+-------+--------------------+-----------+--------------+------------+-----+--------------+--------------+--------+----+\n",
      "only showing top 2 rows\n",
      "\n"
     ]
    }
   ],
   "source": [
    "Amazon_reviews = spark.read.json(\"data/Grocery_and_Gourmet_Food.json.gz\")\n",
    "#Amazon_reviews = reload('Amazon_reviews.parquet', Amazon_reviews)\n",
    "Amazon_reviews.show(2)"
   ]
  },
  {
   "cell_type": "code",
   "execution_count": 224,
   "metadata": {},
   "outputs": [
    {
     "name": "stdout",
     "output_type": "stream",
     "text": [
      "root\n",
      " |-- asin: string (nullable = true)\n",
      " |-- image: array (nullable = true)\n",
      " |    |-- element: string (containsNull = true)\n",
      " |-- overall: double (nullable = true)\n",
      " |-- reviewText: string (nullable = true)\n",
      " |-- reviewTime: string (nullable = true)\n",
      " |-- reviewerID: string (nullable = true)\n",
      " |-- reviewerName: string (nullable = true)\n",
      " |-- style: struct (nullable = true)\n",
      " |    |-- Color:: string (nullable = true)\n",
      " |    |-- Design:: string (nullable = true)\n",
      " |    |-- Display Height:: string (nullable = true)\n",
      " |    |-- Edition:: string (nullable = true)\n",
      " |    |-- Flavor Name:: string (nullable = true)\n",
      " |    |-- Flavor:: string (nullable = true)\n",
      " |    |-- Format:: string (nullable = true)\n",
      " |    |-- Item Display Weight:: string (nullable = true)\n",
      " |    |-- Item Package Quantity:: string (nullable = true)\n",
      " |    |-- Material Type:: string (nullable = true)\n",
      " |    |-- Material:: string (nullable = true)\n",
      " |    |-- Number of Items:: string (nullable = true)\n",
      " |    |-- Package Quantity:: string (nullable = true)\n",
      " |    |-- Package Type:: string (nullable = true)\n",
      " |    |-- Product Packaging:: string (nullable = true)\n",
      " |    |-- Scent Name:: string (nullable = true)\n",
      " |    |-- Size Name:: string (nullable = true)\n",
      " |    |-- Size:: string (nullable = true)\n",
      " |    |-- Style Name:: string (nullable = true)\n",
      " |    |-- Style:: string (nullable = true)\n",
      " |    |-- Team Name:: string (nullable = true)\n",
      " |    |-- Unit Count:: string (nullable = true)\n",
      " |-- summary: string (nullable = true)\n",
      " |-- unixReviewTime: long (nullable = true)\n",
      " |-- verified: boolean (nullable = true)\n",
      " |-- vote: string (nullable = true)\n",
      "\n"
     ]
    }
   ],
   "source": [
    "Amazon_reviews.printSchema()"
   ]
  },
  {
   "cell_type": "markdown",
   "metadata": {},
   "source": [
    "**Connect the two datasets**"
   ]
  },
  {
   "cell_type": "markdown",
   "metadata": {},
   "source": [
    "Use only a sample of the all Amazon datasets for the tests"
   ]
  },
  {
   "cell_type": "code",
   "execution_count": 225,
   "metadata": {},
   "outputs": [],
   "source": [
    "Amazon1=Amazon_meta_light.sample(False, 0.001)"
   ]
  },
  {
   "cell_type": "code",
   "execution_count": 226,
   "metadata": {},
   "outputs": [
    {
     "data": {
      "text/plain": [
       "246"
      ]
     },
     "execution_count": 226,
     "metadata": {},
     "output_type": "execute_result"
    }
   ],
   "source": [
    "Amazon1.count() #number of rows in this test sample Amazon dataset"
   ]
  },
  {
   "cell_type": "code",
   "execution_count": 227,
   "metadata": {},
   "outputs": [],
   "source": [
    "products_lit_spark = spark.createDataFrame(products_litteral) #convert Instacart panda df to spark df\n",
    "products_lit_spark = reload('products_lit_spark.parquet', products_lit_spark)"
   ]
  },
  {
   "cell_type": "code",
   "execution_count": 228,
   "metadata": {},
   "outputs": [
    {
     "data": {
      "text/plain": [
       "48422"
      ]
     },
     "execution_count": 228,
     "metadata": {},
     "output_type": "execute_result"
    }
   ],
   "source": [
    "products_lit_spark.count()"
   ]
  },
  {
   "cell_type": "code",
   "execution_count": 229,
   "metadata": {},
   "outputs": [
    {
     "name": "stdout",
     "output_type": "stream",
     "text": [
      "+----------+--------------------+-----+----------+----------------+\n",
      "|product_id|        product_name|aisle|department|number_of_orders|\n",
      "+----------+--------------------+-----+----------+----------------+\n",
      "|     36629|Lucky Irish Break...|  tea| beverages|               9|\n",
      "|     36638|Scottish Breakfas...|  tea| beverages|              85|\n",
      "|     36694|White Tea Unsweet...|  tea| beverages|              28|\n",
      "|     36771|    Twig Kukicha Tea|  tea| beverages|              62|\n",
      "|     36890|Healthy Cycle Her...|  tea| beverages|              18|\n",
      "|     36891|Superfruit Pomegr...|  tea| beverages|               5|\n",
      "|     36902|RX Stress Herbal ...|  tea| beverages|              22|\n",
      "|     36951|   Organic White Tea|  tea| beverages|               6|\n",
      "|     37071|Herbal Tea, Caffe...|  tea| beverages|              41|\n",
      "|     37102|Honey Lemon Ginse...|  tea| beverages|              18|\n",
      "|     37118|Peach, Natural Bl...|  tea| beverages|              24|\n",
      "|     37154|Herbal Tea, Lemon...|  tea| beverages|               3|\n",
      "|     37175|Organic Gelatiniz...|  tea| beverages|              85|\n",
      "|     37188|Organic Lori's Le...|  tea| beverages|            1630|\n",
      "|     37210|Organic Mint Gree...|  tea| beverages|               7|\n",
      "|     37399|Pure Leaf Lemon I...|  tea| beverages|               9|\n",
      "|     37420|Gingerbread Spice...|  tea| beverages|              33|\n",
      "|     37440|Ginger & Turmeric...|  tea| beverages|              70|\n",
      "|     37487|Pure Leaf Unsweet...|  tea| beverages|             239|\n",
      "|     37612|Organic Cleanse H...|  tea| beverages|              22|\n",
      "+----------+--------------------+-----+----------+----------------+\n",
      "only showing top 20 rows\n",
      "\n"
     ]
    }
   ],
   "source": [
    "products_lit_spark.show()"
   ]
  },
  {
   "cell_type": "code",
   "execution_count": 230,
   "metadata": {},
   "outputs": [
    {
     "name": "stdout",
     "output_type": "stream",
     "text": [
      "Beemster Gouda - Aged 18/24 Months - App. 1.5 Lbs\n",
      "Trim Healthy Mama Xylitol\n",
      "Letter C - Swarovski Crystal Monogram Wedding Cake Topper Letter\n",
      "Letter H - Swarovski Crystal Monogram Wedding Cake Topper Letter\n",
      "Letter S - Swarovski Crystal Monogram Wedding Cake Topper Letter\n",
      "Letter J - Swarovski Crystal Monogram Wedding Cake Topper Letter\n",
      "1 X Fully Covered in Crystal Monogram Wedding Cake Topper Letter - Letter O\n",
      "Fully Covered in Crystal Monogram Wedding Cake Topper Letter - Letter R\n",
      "Letter L - Swarovski Crystal Monogram Wedding Cake Topper Letter\n",
      "Fully Covered in Crystal Monogram Wedding Cake Topper Letter - Letter C\n",
      "\n",
      "Lucky Irish Breakfast Pot Of Gold Tea\n",
      "Scottish Breakfast Tea\n",
      "White Tea Unsweetened Hint O'Mint\n",
      "Twig Kukicha Tea\n",
      "Healthy Cycle Herbal Tea Bags, Caffeine Free\n",
      "Superfruit Pomegranate Green Tea\n",
      "RX Stress Herbal Iced Tea\n",
      "Organic White Tea\n",
      "Herbal Tea, Caffeine Free, True Blueberry\n",
      "Honey Lemon Ginseng Green Tea Bags\n"
     ]
    }
   ],
   "source": [
    "for row in Amazon_meta_light.take(10):\n",
    "    print(row.title)\n",
    "print()\n",
    "for row in products_lit_spark.take(10):\n",
    "    print(row.product_name)"
   ]
  },
  {
   "cell_type": "markdown",
   "metadata": {},
   "source": [
    "**first try** Try to join by the name of the products "
   ]
  },
  {
   "cell_type": "code",
   "execution_count": 231,
   "metadata": {},
   "outputs": [],
   "source": [
    "df = Amazon1.join(products_lit_spark, col('title')== col('product_name'))"
   ]
  },
  {
   "cell_type": "code",
   "execution_count": 232,
   "metadata": {},
   "outputs": [
    {
     "data": {
      "text/plain": [
       "0"
      ]
     },
     "execution_count": 232,
     "metadata": {},
     "output_type": "execute_result"
    }
   ],
   "source": [
    "df.count()"
   ]
  },
  {
   "cell_type": "markdown",
   "metadata": {},
   "source": [
    "Not working, never more than a few fits (1 or 2) over the 2876 Amazon reviews and 49688 Instacart products"
   ]
  },
  {
   "cell_type": "markdown",
   "metadata": {},
   "source": [
    "**second try** Try to join on : if Instacart name is in the Amazon title"
   ]
  },
  {
   "cell_type": "code",
   "execution_count": 233,
   "metadata": {},
   "outputs": [],
   "source": [
    "df = Amazon1.join(products_lit_spark, col('title').contains(col('product_name')))"
   ]
  },
  {
   "cell_type": "code",
   "execution_count": 234,
   "metadata": {},
   "outputs": [
    {
     "name": "stdout",
     "output_type": "stream",
     "text": [
      "+--------------------+----------+----------+--------------------+----+--------------------+----------------+--------------------+--------------------+----------+--------------------+--------------------+----------+----------------+\n",
      "|            also_buy|      asin|     brand|            category|date|            main_cat|           price|                rank|               title|product_id|        product_name|               aisle|department|number_of_orders|\n",
      "+--------------------+----------+----------+--------------------+----+--------------------+----------------+--------------------+--------------------+----------+--------------------+--------------------+----------+----------------+\n",
      "|                null|B016S9JGSS|  Ringtons|[Grocery & Gourme...|null|             Grocery|           $7.95|106,471inGroceryG...|Ringtons Tea, Ken...|     40059|            Tea Bags|                 tea| beverages|               4|\n",
      "|                null|B01ENEWCB8|NUTRIHERBS|[Grocery & Gourme...|null|Health & Personal...|            null|852,483inHealthHo...|Cayenne Pepper Te...|     40059|            Tea Bags|                 tea| beverages|               4|\n",
      "|                null|B00MWXJPA4|     evian|[Grocery & Gourme...|null|             Grocery|$13.68 - $255.68|142,404inSportsOu...|evian Natural Spr...|      5428|             1 Liter|water seltzer spa...| beverages|            4080|\n",
      "|                null|B00MWXJPA4|     evian|[Grocery & Gourme...|null|             Grocery|$13.68 - $255.68|142,404inSportsOu...|evian Natural Spr...|      8859|Natural Spring Water|water seltzer spa...| beverages|           19518|\n",
      "|                null|B00MWXJPA4|     evian|[Grocery & Gourme...|null|             Grocery|$13.68 - $255.68|142,404inSportsOu...|evian Natural Spr...|     19660|        Spring Water|water seltzer spa...| beverages|           56087|\n",
      "|[B003QQ4BP0, B003...|B00KPVJYME|   Perrier|[Grocery & Gourme...|null|             Grocery|          $16.88|13,593inGroceryGo...|Perrier Sparkling...|     22802|       Mineral Water|water seltzer spa...| beverages|            5936|\n",
      "|[B01L8LG6MU, B00P...|B00099XMHA|  StarKist|[Grocery & Gourme...|null|             Grocery|            null|41,145inGroceryGo...|Starkist Chunk Li...|     25466|               Water|water seltzer spa...| beverages|           13494|\n",
      "|[B004748F2A, B004...|B00CNVJCSA|    evamor|[Grocery & Gourme...|null|             Grocery|          $25.48|71,196inGroceryGo...|Evamor - Water Ar...|     25466|               Water|water seltzer spa...| beverages|           13494|\n",
      "|[B003QQ4BP0, B003...|B00KPVJYME|   Perrier|[Grocery & Gourme...|null|             Grocery|          $16.88|13,593inGroceryGo...|Perrier Sparkling...|     25466|               Water|water seltzer spa...| beverages|           13494|\n",
      "|                null|B00MWXJPA4|     evian|[Grocery & Gourme...|null|             Grocery|$13.68 - $255.68|142,404inSportsOu...|evian Natural Spr...|     25466|               Water|water seltzer spa...| beverages|           13494|\n",
      "+--------------------+----------+----------+--------------------+----+--------------------+----------------+--------------------+--------------------+----------+--------------------+--------------------+----------+----------------+\n",
      "only showing top 10 rows\n",
      "\n"
     ]
    }
   ],
   "source": [
    "df.show(10)"
   ]
  },
  {
   "cell_type": "markdown",
   "metadata": {},
   "source": [
    "It is impossible to link by name because actually, the Instacart dataset doesn't reference precise products but generic names (no brands)"
   ]
  },
  {
   "cell_type": "code",
   "execution_count": 235,
   "metadata": {},
   "outputs": [
    {
     "name": "stdout",
     "output_type": "stream",
     "text": [
      "Tea Bags paired with Ringtons Tea, Kenyan Gold, 50 Black Tea Bags\n",
      "Tea Bags paired with Cayenne Pepper Tea Bags Afternoon Tea Blend With A Hint Of Cinnamon 50 Pack\n",
      "1 Liter paired with evian Natural Spring Water (One Case of 12 Individual Bottles, Each Bottle is 1 Liter) Naturally Filtered Spring Water in Large Bottles\n",
      "Natural Spring Water paired with evian Natural Spring Water (One Case of 12 Individual Bottles, Each Bottle is 1 Liter) Naturally Filtered Spring Water in Large Bottles\n",
      "Spring Water paired with evian Natural Spring Water (One Case of 12 Individual Bottles, Each Bottle is 1 Liter) Naturally Filtered Spring Water in Large Bottles\n",
      "Mineral Water paired with Perrier Sparkling Natural Mineral Water, Lime, 33.8-ounce Plastic Bottles (Pack of 12)\n",
      "Water paired with Starkist Chunk Light Tuna in Water, 12-Ounce Cans (Pack of 24)\n",
      "Water paired with Evamor - Water Artsn 12Pk20 Oz\n",
      "Water paired with Perrier Sparkling Natural Mineral Water, Lime, 33.8-ounce Plastic Bottles (Pack of 12)\n",
      "Water paired with evian Natural Spring Water (One Case of 12 Individual Bottles, Each Bottle is 1 Liter) Naturally Filtered Spring Water in Large Bottles\n"
     ]
    }
   ],
   "source": [
    "for row in df.take(10):\n",
    "    print(row.product_name, 'paired with', row.title)"
   ]
  },
  {
   "cell_type": "code",
   "execution_count": 236,
   "metadata": {},
   "outputs": [
    {
     "data": {
      "text/html": [
       "<div>\n",
       "<style scoped>\n",
       "    .dataframe tbody tr th:only-of-type {\n",
       "        vertical-align: middle;\n",
       "    }\n",
       "\n",
       "    .dataframe tbody tr th {\n",
       "        vertical-align: top;\n",
       "    }\n",
       "\n",
       "    .dataframe thead th {\n",
       "        text-align: right;\n",
       "    }\n",
       "</style>\n",
       "<table border=\"1\" class=\"dataframe\">\n",
       "  <thead>\n",
       "    <tr style=\"text-align: right;\">\n",
       "      <th></th>\n",
       "      <th>product_id</th>\n",
       "      <th>product_name</th>\n",
       "      <th>aisle</th>\n",
       "      <th>department</th>\n",
       "      <th>number_of_orders</th>\n",
       "    </tr>\n",
       "  </thead>\n",
       "  <tbody>\n",
       "    <tr>\n",
       "      <td>12363</td>\n",
       "      <td>40059</td>\n",
       "      <td>Tea Bags</td>\n",
       "      <td>tea</td>\n",
       "      <td>beverages</td>\n",
       "      <td>4</td>\n",
       "    </tr>\n",
       "  </tbody>\n",
       "</table>\n",
       "</div>"
      ],
      "text/plain": [
       "       product_id product_name aisle department  number_of_orders\n",
       "12363       40059     Tea Bags   tea  beverages                 4"
      ]
     },
     "execution_count": 236,
     "metadata": {},
     "output_type": "execute_result"
    }
   ],
   "source": [
    "products_litteral[products_litteral.product_name == 'Tea Bags'].head()"
   ]
  },
  {
   "cell_type": "code",
   "execution_count": 237,
   "metadata": {},
   "outputs": [
    {
     "name": "stdout",
     "output_type": "stream",
     "text": [
      "Iguana Mean Green Jalapeno Pepper Sauce, 5 oz bottle | ['Grocery & Gourmet Food', 'Sauces, Gravies & Marinades', 'Hot Sauce']\n"
     ]
    }
   ],
   "source": [
    "for row in Amazon1.filter(udf(lambda x: x=='Iguana Mean Green Jalapeno Pepper Sauce, 5 oz bottle', sql.types.BooleanType())('title')).take(10):\n",
    "    print(row.title, row.category, sep=' | ')"
   ]
  },
  {
   "cell_type": "markdown",
   "metadata": {},
   "source": [
    "There are too many lines : as the Instacart title is not specific enough, it links many Amazon product"
   ]
  },
  {
   "cell_type": "code",
   "execution_count": 238,
   "metadata": {},
   "outputs": [
    {
     "data": {
      "text/plain": [
       "433"
      ]
     },
     "execution_count": 238,
     "metadata": {},
     "output_type": "execute_result"
    }
   ],
   "source": [
    "df.count()"
   ]
  },
  {
   "cell_type": "code",
   "execution_count": 239,
   "metadata": {},
   "outputs": [
    {
     "name": "stdout",
     "output_type": "stream",
     "text": [
      "+--------------------+----------+-------------+--------------------+----+--------+------+--------------------+--------------------+----------+-------------+-----------------+----------+----------------+\n",
      "|            also_buy|      asin|        brand|            category|date|main_cat| price|                rank|               title|product_id| product_name|            aisle|department|number_of_orders|\n",
      "+--------------------+----------+-------------+--------------------+----+--------+------+--------------------+--------------------+----------+-------------+-----------------+----------+----------------+\n",
      "|[B003GYRNLQ, B00G...|B00B5CP0O8|        Royce|[Grocery & Gourme...|null| Grocery|$40.55|226,743inGroceryG...|Royce Pure Chocol...|     19567|        White|specialty cheeses|dairy eggs|              12|\n",
      "|                null|B00AAXJ7ZG|Betty Crocker|[Grocery & Gourme...|null| Grocery|$13.99|253,128inGroceryG...|Betty Crocker Pum...|      5052|Pumpkin Spice|spices seasonings|    pantry|              11|\n",
      "+--------------------+----------+-------------+--------------------+----+--------+------+--------------------+--------------------+----------+-------------+-----------------+----------+----------------+\n",
      "only showing top 2 rows\n",
      "\n"
     ]
    }
   ],
   "source": [
    "df.dropDuplicates(['title']).show(2)"
   ]
  },
  {
   "cell_type": "code",
   "execution_count": 240,
   "metadata": {},
   "outputs": [
    {
     "data": {
      "text/plain": [
       "193"
      ]
     },
     "execution_count": 240,
     "metadata": {},
     "output_type": "execute_result"
    }
   ],
   "source": [
    "df.dropDuplicates(['title']).count()"
   ]
  },
  {
   "cell_type": "markdown",
   "metadata": {},
   "source": [
    "Weird associations (still because of the non specific Instacart title). I think that is because I have a little Amazon sample, otherwise it would just drop almost every row"
   ]
  },
  {
   "cell_type": "markdown",
   "metadata": {},
   "source": [
    "**Third try** : only join the categories "
   ]
  },
  {
   "cell_type": "code",
   "execution_count": 241,
   "metadata": {},
   "outputs": [],
   "source": [
    "Amazon3 = Amazon1.select('title','category')"
   ]
  },
  {
   "cell_type": "code",
   "execution_count": 242,
   "metadata": {},
   "outputs": [],
   "source": [
    "Amazon3_cat_exploded = Amazon3.select('title', explode('category').alias('category'))\n",
    "Amazon3_cat_exploded = reload('Amazon3_cat_exploded.parquet', Amazon3_cat_exploded)"
   ]
  },
  {
   "cell_type": "code",
   "execution_count": 243,
   "metadata": {},
   "outputs": [
    {
     "name": "stdout",
     "output_type": "stream",
     "text": [
      "+--------------------+--------------------+\n",
      "|               title|            category|\n",
      "+--------------------+--------------------+\n",
      "|Maizena Corn Star...|Grocery & Gourmet...|\n",
      "|Maizena Corn Star...|    Cooking & Baking|\n",
      "|Maizena Corn Star...|          Thickeners|\n",
      "|Gourmet Peanut Br...|Grocery & Gourmet...|\n",
      "|Gourmet Peanut Br...|           Beverages|\n",
      "+--------------------+--------------------+\n",
      "only showing top 5 rows\n",
      "\n"
     ]
    }
   ],
   "source": [
    "Amazon3_cat_exploded.show(5)"
   ]
  },
  {
   "cell_type": "code",
   "execution_count": 244,
   "metadata": {},
   "outputs": [
    {
     "name": "stdout",
     "output_type": "stream",
     "text": [
      "root\n",
      " |-- title: string (nullable = true)\n",
      " |-- category: string (nullable = true)\n",
      "\n",
      "root\n",
      " |-- product_id: long (nullable = true)\n",
      " |-- product_name: string (nullable = true)\n",
      " |-- aisle: string (nullable = true)\n",
      " |-- department: string (nullable = true)\n",
      " |-- number_of_orders: long (nullable = true)\n",
      "\n"
     ]
    }
   ],
   "source": [
    "Amazon3_cat_exploded.printSchema()\n",
    "products_lit_spark.printSchema()"
   ]
  },
  {
   "cell_type": "code",
   "execution_count": 245,
   "metadata": {},
   "outputs": [],
   "source": [
    "df3 = Amazon3_cat_exploded.join(products_lit_spark, products_lit_spark.aisle==Amazon3_cat_exploded.category)"
   ]
  },
  {
   "cell_type": "code",
   "execution_count": 246,
   "metadata": {},
   "outputs": [
    {
     "data": {
      "text/plain": [
       "0"
      ]
     },
     "execution_count": 246,
     "metadata": {},
     "output_type": "execute_result"
    }
   ],
   "source": [
    "df3.count()"
   ]
  },
  {
   "cell_type": "markdown",
   "metadata": {},
   "source": [
    "Not the same exact names of categories, so nto working"
   ]
  },
  {
   "cell_type": "code",
   "execution_count": 247,
   "metadata": {},
   "outputs": [
    {
     "data": {
      "text/plain": [
       "216"
      ]
     },
     "execution_count": 247,
     "metadata": {},
     "output_type": "execute_result"
    }
   ],
   "source": [
    "len(Amazon3_cat_exploded.select('category').distinct().collect())"
   ]
  },
  {
   "cell_type": "markdown",
   "metadata": {},
   "source": [
    "There are too many categories for us to pair them by hand."
   ]
  },
  {
   "cell_type": "markdown",
   "metadata": {},
   "source": [
    "**fourth try** : joindre les categories Amazon et les aisles Instacart avec des mots en commun"
   ]
  },
  {
   "cell_type": "code",
   "execution_count": 248,
   "metadata": {},
   "outputs": [
    {
     "name": "stdout",
     "output_type": "stream",
     "text": [
      "+----------+--------------------+-----+----------+----------------+------+------+\n",
      "|product_id|        product_name|aisle|department|number_of_orders|aisle1|aisle2|\n",
      "+----------+--------------------+-----+----------+----------------+------+------+\n",
      "|     36629|Lucky Irish Break...|  tea| beverages|               9|   tea|  null|\n",
      "|     36638|Scottish Breakfas...|  tea| beverages|              85|   tea|  null|\n",
      "|     36694|White Tea Unsweet...|  tea| beverages|              28|   tea|  null|\n",
      "|     36771|    Twig Kukicha Tea|  tea| beverages|              62|   tea|  null|\n",
      "|     36890|Healthy Cycle Her...|  tea| beverages|              18|   tea|  null|\n",
      "|     36891|Superfruit Pomegr...|  tea| beverages|               5|   tea|  null|\n",
      "|     36902|RX Stress Herbal ...|  tea| beverages|              22|   tea|  null|\n",
      "|     36951|   Organic White Tea|  tea| beverages|               6|   tea|  null|\n",
      "|     37071|Herbal Tea, Caffe...|  tea| beverages|              41|   tea|  null|\n",
      "|     37102|Honey Lemon Ginse...|  tea| beverages|              18|   tea|  null|\n",
      "|     37118|Peach, Natural Bl...|  tea| beverages|              24|   tea|  null|\n",
      "|     37154|Herbal Tea, Lemon...|  tea| beverages|               3|   tea|  null|\n",
      "|     37175|Organic Gelatiniz...|  tea| beverages|              85|   tea|  null|\n",
      "|     37188|Organic Lori's Le...|  tea| beverages|            1630|   tea|  null|\n",
      "|     37210|Organic Mint Gree...|  tea| beverages|               7|   tea|  null|\n",
      "|     37399|Pure Leaf Lemon I...|  tea| beverages|               9|   tea|  null|\n",
      "|     37420|Gingerbread Spice...|  tea| beverages|              33|   tea|  null|\n",
      "|     37440|Ginger & Turmeric...|  tea| beverages|              70|   tea|  null|\n",
      "|     37487|Pure Leaf Unsweet...|  tea| beverages|             239|   tea|  null|\n",
      "|     37612|Organic Cleanse H...|  tea| beverages|              22|   tea|  null|\n",
      "+----------+--------------------+-----+----------+----------------+------+------+\n",
      "only showing top 20 rows\n",
      "\n"
     ]
    }
   ],
   "source": [
    "#separate Instacart aisle name, because names are too specific (to match cookies cakes with snack cakes for instance)\n",
    "split_col = split(products_lit_spark['aisle'], ' ')\n",
    "split_aisle = products_lit_spark.withColumn('aisle1', split_col.getItem(0))\n",
    "split_aisle = split_aisle.withColumn('aisle2', split_col.getItem(1))\n",
    "split_aisle = reload('split_aisle.parquet', split_aisle)\n",
    "split_aisle.show()"
   ]
  },
  {
   "cell_type": "code",
   "execution_count": 249,
   "metadata": {},
   "outputs": [],
   "source": [
    "#see if aisle words are included in the category name Amazon \n",
    "df4 = Amazon3_cat_exploded.select('category').distinct().join(split_aisle.select('aisle1', 'aisle2').distinct(), col('category').contains(col('aisle1')) | col('category').contains(col('aisle2')))\n",
    "df4 = reload('df4.parquet', df4)"
   ]
  },
  {
   "cell_type": "code",
   "execution_count": 250,
   "metadata": {},
   "outputs": [
    {
     "name": "stdout",
     "output_type": "stream",
     "text": [
      "+--------------------+------+------+\n",
      "|            category|aisle1|aisle2|\n",
      "+--------------------+------+------+\n",
      "|Mixed Spices & Se...|   ice| cream|\n",
      "|   Deli-Sliced Meats|   ice| cream|\n",
      "|       Grains & Rice|   ice| cream|\n",
      "|Herbs, Spices & S...|   ice| cream|\n",
      "|              Juices|   ice| cream|\n",
      "|Rice Cakes, Chips...|   ice| cream|\n",
      "|Dried Beans, Grai...|   ice| cream|\n",
      "|           Rice Milk|   ice| cream|\n",
      "|                Rice|   ice| cream|\n",
      "|            Licorice|   ice| cream|\n",
      "|     Sparkling Juice|   ice| cream|\n",
      "|Packaged & Sliced...|   ice| cream|\n",
      "|         Fruit Juice|   ice| cream|\n",
      "|Single Herbs & Sp...|   ice| cream|\n",
      "|      Flavored Water|   red| wines|\n",
      "|Canned, Jarred & ...|   red| wines|\n",
      "|Powdered Drink Mixes|   red| wines|\n",
      "|            Flavored|   red| wines|\n",
      "|       Flavored Salt|   red| wines|\n",
      "|Powdered Drink Mi...|   red| wines|\n",
      "+--------------------+------+------+\n",
      "only showing top 20 rows\n",
      "\n",
      "Mixed Spices & Seasonings\n",
      "Deli-Sliced Meats\n",
      "Grains & Rice\n",
      "Herbs, Spices & Seasonings\n",
      "Juices\n",
      "Rice Cakes, Chips & Crackers\n",
      "Dried Beans, Grains & Rice\n",
      "Rice Milk\n",
      "Rice\n",
      "Licorice\n",
      "Sparkling Juice\n",
      "Packaged & Sliced Deli Meats\n",
      "Fruit Juice\n",
      "Single Herbs & Spices\n",
      "Flavored Water\n",
      "Canned, Jarred & Packaged Foods\n",
      "Powdered Drink Mixes\n",
      "Flavored\n",
      "Flavored Salt\n",
      "Powdered Drink Mixes & Flavorings\n"
     ]
    }
   ],
   "source": [
    "df4.show(20)\n",
    "for row in df4.take(20):\n",
    "    print(row.category)"
   ]
  },
  {
   "cell_type": "markdown",
   "metadata": {},
   "source": [
    "ça ne marche pas du tout : il faut faire matcher les mots entier, pas juste \"contains\" !"
   ]
  },
  {
   "cell_type": "code",
   "execution_count": 257,
   "metadata": {},
   "outputs": [],
   "source": [
    "#avec pyspark, necessité de passer par les fonctions python udf\n",
    "mots_udf = udf(lambda x: re.compile(\"\\\\W+\").split(x), sql.types.ArrayType(sql.types.StringType()))"
   ]
  },
  {
   "cell_type": "code",
   "execution_count": 262,
   "metadata": {},
   "outputs": [],
   "source": [
    "Amazon4 = Amazon3_cat_exploded.withColumn('mots', mots_udf(Amazon3_cat_exploded.category))\n"
   ]
  },
  {
   "cell_type": "code",
   "execution_count": 263,
   "metadata": {},
   "outputs": [
    {
     "name": "stdout",
     "output_type": "stream",
     "text": [
      "+--------------------+--------------------+--------------------+\n",
      "|               title|            category|                mots|\n",
      "+--------------------+--------------------+--------------------+\n",
      "|Maizena Corn Star...|Grocery & Gourmet...|[Grocery, Gourmet...|\n",
      "|Maizena Corn Star...|    Cooking & Baking|   [Cooking, Baking]|\n",
      "|Maizena Corn Star...|          Thickeners|        [Thickeners]|\n",
      "|Gourmet Peanut Br...|Grocery & Gourmet...|[Grocery, Gourmet...|\n",
      "|Gourmet Peanut Br...|           Beverages|         [Beverages]|\n",
      "+--------------------+--------------------+--------------------+\n",
      "only showing top 5 rows\n",
      "\n"
     ]
    }
   ],
   "source": [
    "Amazon4.show(5)"
   ]
  },
  {
   "cell_type": "markdown",
   "metadata": {},
   "source": [
    "_Obviously, this fucntion doesn't work, but why ?? seems like something is \"too big\"..._"
   ]
  },
  {
   "cell_type": "code",
   "execution_count": null,
   "metadata": {},
   "outputs": [],
   "source": []
  },
  {
   "cell_type": "code",
   "execution_count": null,
   "metadata": {},
   "outputs": [],
   "source": []
  },
  {
   "cell_type": "code",
   "execution_count": null,
   "metadata": {},
   "outputs": [],
   "source": []
  }
 ],
 "metadata": {
  "kernelspec": {
   "display_name": "Python 3",
   "language": "python",
   "name": "python3"
  },
  "language_info": {
   "codemirror_mode": {
    "name": "ipython",
    "version": 3
   },
   "file_extension": ".py",
   "mimetype": "text/x-python",
   "name": "python",
   "nbconvert_exporter": "python",
   "pygments_lexer": "ipython3",
   "version": "3.6.9"
  }
 },
 "nbformat": 4,
 "nbformat_minor": 4
}
